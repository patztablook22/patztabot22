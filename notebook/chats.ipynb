{
 "cells": [
  {
   "cell_type": "code",
   "execution_count": 7,
   "id": "073129dc-dea1-441a-8f3b-7943127e7b74",
   "metadata": {},
   "outputs": [],
   "source": [
    "import sys, os\n",
    "import numpy as np\n",
    "import matplotlib.pyplot as plt\n",
    "import seaborn as sns\n",
    "import random\n",
    "import collections\n",
    "\n",
    "sys.path.append(\"../src/\")\n",
    "sys.path.append(\"../src/utils\")"
   ]
  },
  {
   "cell_type": "code",
   "execution_count": 8,
   "id": "1d3b4716-d5c2-4fd5-aa37-52966a13e79b",
   "metadata": {},
   "outputs": [
    {
     "name": "stdout",
     "output_type": "stream",
     "text": [
      "The autoreload extension is already loaded. To reload it, use:\n",
      "  %reload_ext autoreload\n"
     ]
    }
   ],
   "source": [
    "%load_ext autoreload\n",
    "%autoreload 1\n",
    "%aimport data"
   ]
  },
  {
   "cell_type": "code",
   "execution_count": 9,
   "id": "ed7595d7-0706-4ba2-b0ed-28975475e36c",
   "metadata": {},
   "outputs": [],
   "source": [
    "from general import *"
   ]
  },
  {
   "cell_type": "code",
   "execution_count": 10,
   "id": "16ab78a2-78b8-4d34-b8b0-33041536c7f9",
   "metadata": {},
   "outputs": [],
   "source": [
    "discord_path = '../data/social/discord/'\n",
    "facebook_paths = ['../data/social/facebook1/',\n",
    "                  '../data/social/facebook2/']\n",
    "instagram_path = ['../data/social/instagram/']"
   ]
  },
  {
   "cell_type": "code",
   "execution_count": 11,
   "id": "9d22a89f-98f2-47b8-9beb-a94964434bbf",
   "metadata": {},
   "outputs": [],
   "source": [
    "def load_all(loader, dir):\n",
    "    buff = []\n",
    "    if not os.path.isdir(dir): return buff\n",
    "    for i in os.listdir(dir):\n",
    "        buff.append(loader(dir + i))\n",
    "    return buff\n",
    "        \n",
    "\n",
    "chats = []\n",
    "chats += load_all(data.load_discord, discord_path)\n",
    "\n",
    "for fb in facebook_paths:\n",
    "    chats += load_all(data.load_messenger, fb + 'messages/inbox/')\n",
    "    chats += load_all(data.load_messenger, fb + 'messages/archived_threads/')\n",
    "    chats += load_all(data.load_messenger, fb + 'messages/e2ee_cutover/')\n",
    "    chats += load_all(data.load_messenger, fb + 'messages/filtered_threads/')\n",
    "\n",
    "original_chats = chats"
   ]
  },
  {
   "cell_type": "code",
   "execution_count": 12,
   "id": "cd2f46cd-982d-40dd-8d2c-a546e7702cf5",
   "metadata": {},
   "outputs": [
    {
     "data": {
      "text/plain": [
       "171"
      ]
     },
     "execution_count": 12,
     "metadata": {},
     "output_type": "execute_result"
    }
   ],
   "source": [
    "len(original_chats)"
   ]
  },
  {
   "cell_type": "code",
   "execution_count": 13,
   "id": "2a3edf2f-c48d-4b76-91d1-5b7b99d39ad9",
   "metadata": {},
   "outputs": [
    {
     "data": {
      "text/html": [
       "<table style=\"width: 100%\"><tr>\n",
       "                    <td style=\"vertical-align: top; white-space: nowrap; width: 10em; overflow: hidden; text-overflow: ellipsis\">jasaf3</td>\n",
       "                    <td style=\"text-align: left;\"><span style=\"white-space: pre\">source: https://www.ncbi.nlm.nih.gov/pmc/articles/PMC5332116/ </span></td></tr><tr>\n",
       "                    <td style=\"vertical-align: top; white-space: nowrap; width: 10em; overflow: hidden; text-overflow: ellipsis\">jasaf3</td>\n",
       "                    <td style=\"text-align: left;\"><span style=\"white-space: pre\">https://sciencebasedlife.wordpress.com/2012/03/30/why-do-witches-ride-broomsticks/ </span></td></tr><tr>\n",
       "                    <td style=\"vertical-align: top; white-space: nowrap; width: 10em; overflow: hidden; text-overflow: ellipsis\">jasaf3</td>\n",
       "                    <td style=\"text-align: left;\"><span style=\"white-space: pre\"> [image.png]</span><ul style=\"margin: 10px 0px 0px -13px; padding: 0px 0px 0px 10px; border-left: 3px solid grey\">\n",
       "                            <li style=\"display: inline\">❤️</li>\n",
       "                        </ul></td></tr><tr>\n",
       "                    <td style=\"vertical-align: top; white-space: nowrap; width: 10em; overflow: hidden; text-overflow: ellipsis\">patztablook22</td>\n",
       "                    <td style=\"text-align: left;\"><span style=\"white-space: pre\">based </span></td></tr><tr>\n",
       "                    <td style=\"vertical-align: top; white-space: nowrap; width: 10em; overflow: hidden; text-overflow: ellipsis\">patztablook22</td>\n",
       "                    <td style=\"text-align: left;\"><span style=\"white-space: pre\">we both know mathematicians are the divine race supreme </span><ul style=\"margin: 10px 0px 0px -13px; padding: 0px 0px 0px 10px; border-left: 3px solid grey\">\n",
       "                            <li style=\"display: inline\">👍</li>\n",
       "                        </ul></td></tr><tr>\n",
       "                    <td style=\"vertical-align: top; white-space: nowrap; width: 10em; overflow: hidden; text-overflow: ellipsis\">jasaf3</td>\n",
       "                    <td style=\"text-align: left;\"><span style=\"white-space: pre\">yes </span></td></tr><tr>\n",
       "                    <td style=\"vertical-align: top; white-space: nowrap; width: 10em; overflow: hidden; text-overflow: ellipsis\">jasaf3</td>\n",
       "                    <td style=\"text-align: left;\"><span style=\"white-space: pre\">this conversation is actually </span></td></tr><tr>\n",
       "                    <td style=\"vertical-align: top; white-space: nowrap; width: 10em; overflow: hidden; text-overflow: ellipsis\">jasaf3</td>\n",
       "                    <td style=\"text-align: left;\"><span style=\"white-space: pre\">about some dude putting maths under philosophy </span></td></tr><tr>\n",
       "                    <td style=\"vertical-align: top; white-space: nowrap; width: 10em; overflow: hidden; text-overflow: ellipsis\">jasaf3</td>\n",
       "                    <td style=\"text-align: left;\"><span style=\"white-space: pre\">and me disagreeing </span></td></tr><tr>\n",
       "                    <td style=\"vertical-align: top; white-space: nowrap; width: 10em; overflow: hidden; text-overflow: ellipsis\">jasaf3</td>\n",
       "                    <td style=\"text-align: left;\"><span style=\"white-space: pre\"> [image.png]</span><ul style=\"margin: 10px 0px 0px -13px; padding: 0px 0px 0px 10px; border-left: 3px solid grey\">\n",
       "                            <li style=\"display: inline\">❤️</li>\n",
       "                        </ul></td></tr></table>"
      ],
      "text/plain": [
       "<IPython.core.display.HTML object>"
      ]
     },
     "metadata": {},
     "output_type": "display_data"
    }
   ],
   "source": [
    "data.view_excerpt(original_chats[9])"
   ]
  },
  {
   "cell_type": "code",
   "execution_count": 14,
   "id": "b9fdf071-3321-4dc3-94dc-95a1c4953727",
   "metadata": {},
   "outputs": [
    {
     "name": "stdout",
     "output_type": "stream",
     "text": [
      "Total messages   516948\n",
      "Length/message   mean: 33.1, quantiles 10-50-90: 3.0 21.0 93.0\n",
      "With attachment  6.3%\n",
      "With reaction    14.2%\n",
      "Languages        en: 65%, cs: 26%, sk: 6%, de: 2%, ru: 0%\n",
      "Users            Patztablook TwentyTwo: 43%, Scanthning Brot: 14%, Marie Holá: 13%, jasaf3: 9%, patztablook22: 6%, Drew Mac: 3%, Jan Zasadil: 2%, : 2%\n"
     ]
    }
   ],
   "source": [
    "def info(chats):\n",
    "    all = [m for chat in chats for m in chat]\n",
    "    sample = np.random.choice(all, size=1000)\n",
    "    \n",
    "    lengths = [len(m.body) for m in all if len(m.body) != 0]\n",
    "    languages = collections.Counter(filter(lambda l: l is not None, data.get_languages(sample, languages=['en', 'cs', 'sk', 'ru', 'de'], threshold=0)))\n",
    "    users = collections.Counter(map(lambda m: m.user, all))\n",
    "    \n",
    "    print(\"Total messages  \", len(all))\n",
    "    print(\"Length/message  \", f\"mean: {np.mean(lengths):.1f}, quantiles 10-50-90: {np.quantile(lengths, 0.10)} {np.quantile(lengths, 0.50)} {np.quantile(lengths, 0.95)}\")\n",
    "    print(\"With attachment \", f\"{len([m for m in all if m.attachments]) / len(all) * 100:.1f}%\")\n",
    "    print(\"With reaction   \", f\"{len([m for m in all if m.reactions]) / len(all) * 100:.1f}%\")\n",
    "    print(\"Languages       \", ', '.join([f\"{l}: {round(f/languages.total()*100)}%\" for l,f in languages.most_common()]))\n",
    "    print(\"Users           \", ', '.join([f\"{u}: {round(f/users.total()*100)}%\" for u,f in users.most_common(8)]))\n",
    "\n",
    "info(original_chats)"
   ]
  },
  {
   "cell_type": "code",
   "execution_count": 16,
   "id": "cee9cbb0-6f15-4535-91fa-1f5e23ab19c6",
   "metadata": {},
   "outputs": [],
   "source": [
    "agents = [{'Patztablook TwentyTwo', 'patztablook22', 'patrik zavoral', 'patz'},\n",
    "          {'Scanthning Brot', 'jasaf3'},\n",
    "          {'Drew Mac'}]\n",
    "\n",
    "additional = ['Mank', 'Mari', 'Jáš', 'Sběratel']\n",
    "\n",
    "def rename(chats):\n",
    "    all = [m for chat in chats for m in chat]\n",
    "    users = data.get_users(all) + additional\n",
    "\n",
    "    result = []\n",
    "    for chat in chats:\n",
    "        users = data.get_users(chat)\n",
    "        for aa in agents:\n",
    "            relevant = len(aa.intersection(users)) > 0\n",
    "            if not relevant: continue\n",
    "            mapper = data.make_name_mapper(users, fixed={agent: 'p' for agent in aa})\n",
    "            result.append([data.change_names(m, mapper) for m in chat])\n",
    "            if False:\n",
    "                print('  ', 'users ', users)\n",
    "                print('  ', 'agents', aa)\n",
    "                print('=>', 'users ', data.get_users(result[-1]))\n",
    "                print()\n",
    "            \n",
    "    return result\n",
    "\n",
    "renamed_chats = rename(original_chats)"
   ]
  },
  {
   "cell_type": "code",
   "execution_count": 17,
   "id": "5523ff30-8252-4eef-98c6-e68ec68288cc",
   "metadata": {},
   "outputs": [
    {
     "name": "stdout",
     "output_type": "stream",
     "text": [
      "eta 1052 s\n",
      "eta 512 s\n",
      "eta 253 s\n",
      "eta 126 s\n",
      "eta 61 s\n",
      "eta 30 s\n",
      "eta 14 s\n"
     ]
    }
   ],
   "source": [
    "def censor(message):\n",
    "    def c(tag, pattern, replacer=None):\n",
    "        nonlocal message\n",
    "        message = data.censor(message, pattern, replacer=None, tag=tag)\n",
    "\n",
    "    def blacklist(pattern):\n",
    "        nonlocal message\n",
    "        message = data.censor(message, fr'(?s).*{pattern}.*', replacer=None, tag=pattern)\n",
    "\n",
    "    c('email', r'\\b[A-Za-z0-9._%+-]+@[A-Za-z0-9.-]+\\.[A-Z|a-z]{2,}\\b')\n",
    "    c('url',   r'\\b[A-Za-z0-9._%+-]+@[A-Za-z0-9.-]+\\.[A-Z|a-z]{2,}\\b|ftp:\\/\\/[A-Za-z0-9._%+-]+:[A-Za-z0-9._%+-]+@[A-Za-z0-9.-]+\\.[A-Z|a-z]{2,}\\b')\n",
    "    c('url',   r'http[s]?://(?:[a-zA-Z]|[0-9]|[$-_@.&#+~]|[!*\\\\(\\\\),]|(?:%[0-9a-fA-F][0-9a-fA-F]))+')\n",
    "    c('bank',  r'(\\d{1,6}-)?\\d{1,10}/\\d{4}')\n",
    "    c('phone', r'\\+?\\d[\\d -]{8,}\\d')\n",
    "    c('address', ['Třešňová', '914'])\n",
    "    c('birthday', ['23 dec', 'dec 23', 'december 23', '23 december', '23.', '23/'])\n",
    "\n",
    "    blacklist('satisfied with your genes')\n",
    "    blacklist('satisfied with ur genes')\n",
    "    blacklist('se svymi geny')\n",
    "    blacklist('se svými geny')\n",
    "    blacklist('popsal by ses')\n",
    "    blacklist('would you describe urself')\n",
    "    blacklist('left the group.')\n",
    "    blacklist('changed the group photo.')\n",
    "    blacklist('created the group.')\n",
    "    blacklist('started a call')\n",
    "    blacklist('the call ended')\n",
    "    blacklist('joined the call')\n",
    "    \n",
    "    return message\n",
    "\n",
    "censored_chats = llmap(censor, renamed_chats[:])"
   ]
  },
  {
   "cell_type": "code",
   "execution_count": 18,
   "id": "aafc5be0-8f1e-4b52-aa14-1bbfc5df498b",
   "metadata": {},
   "outputs": [
    {
     "data": {
      "text/html": [
       "<table style=\"width: 100%\"><tr>\n",
       "                    <td style=\"vertical-align: top; white-space: nowrap; width: 10em; overflow: hidden; text-overflow: ellipsis\">lori</td>\n",
       "                    <td style=\"text-align: left;\"><span style=\"white-space: pre\">Do you see botz channel? </span></td></tr><tr>\n",
       "                    <td style=\"vertical-align: top; white-space: nowrap; width: 10em; overflow: hidden; text-overflow: ellipsis\">p</td>\n",
       "                    <td style=\"text-align: left;\"><span style=\"white-space: pre\"><span style=\"background: rgba(255, 0, 0, 0.5)\">https://drive.google.com/file/d/1QHHjEAih13eGxsGOsvI4h637zp1XefNz/view</span> </span></td></tr><tr>\n",
       "                    <td style=\"vertical-align: top; white-space: nowrap; width: 10em; overflow: hidden; text-overflow: ellipsis\">lori</td>\n",
       "                    <td style=\"text-align: left;\"><span style=\"white-space: pre\"><span style=\"background: rgba(255, 0, 0, 0.5)\">https://tenor.com/view/epic-sax-guy-dance-thrust-gif-3538569</span> </span></td></tr><tr>\n",
       "                    <td style=\"vertical-align: top; white-space: nowrap; width: 10em; overflow: hidden; text-overflow: ellipsis\">p</td>\n",
       "                    <td style=\"text-align: left;\"><span style=\"white-space: pre\">xd </span></td></tr><tr>\n",
       "                    <td style=\"vertical-align: top; white-space: nowrap; width: 10em; overflow: hidden; text-overflow: ellipsis\">lori</td>\n",
       "                    <td style=\"text-align: left;\"><span style=\"white-space: pre\">Hodně nice </span></td></tr><tr>\n",
       "                    <td style=\"vertical-align: top; white-space: nowrap; width: 10em; overflow: hidden; text-overflow: ellipsis\">p</td>\n",
       "                    <td style=\"text-align: left;\"><span style=\"white-space: pre\">:3 </span></td></tr><tr>\n",
       "                    <td style=\"vertical-align: top; white-space: nowrap; width: 10em; overflow: hidden; text-overflow: ellipsis\">lori</td>\n",
       "                    <td style=\"text-align: left;\"><span style=\"white-space: pre\">Budu poslouchat místo spotify 😄 </span><ul style=\"margin: 10px 0px 0px -13px; padding: 0px 0px 0px 10px; border-left: 3px solid grey\">\n",
       "                            <li style=\"display: inline\">😮</li>\n",
       "                        </ul></td></tr><tr>\n",
       "                    <td style=\"vertical-align: top; white-space: nowrap; width: 10em; overflow: hidden; text-overflow: ellipsis\">lori</td>\n",
       "                    <td style=\"text-align: left;\"><span style=\"white-space: pre\">Chill af </span></td></tr><tr>\n",
       "                    <td style=\"vertical-align: top; white-space: nowrap; width: 10em; overflow: hidden; text-overflow: ellipsis\">lori</td>\n",
       "                    <td style=\"text-align: left;\"><span style=\"white-space: pre\"> [unknown.png]</span></td></tr><tr>\n",
       "                    <td style=\"vertical-align: top; white-space: nowrap; width: 10em; overflow: hidden; text-overflow: ellipsis\">lori</td>\n",
       "                    <td style=\"text-align: left;\"><span style=\"white-space: pre\">Aspoň mi nehrábne z práce 😄 </span></td></tr></table>"
      ],
      "text/plain": [
       "<IPython.core.display.HTML object>"
      ]
     },
     "metadata": {},
     "output_type": "display_data"
    }
   ],
   "source": [
    "i = range(len(censored_chats))\n",
    "i = 3\n",
    "if isinstance(i, int): i = [i]\n",
    "for j in i:\n",
    "    data.view_excerpt(censored_chats[j], \n",
    "                      # where=lambda m: 'would you describe urself' in m.body\n",
    "                      where=lambda m: m.issues\n",
    "                      # where=lambda m: 'group' in m.body\n",
    "                      )"
   ]
  },
  {
   "cell_type": "code",
   "execution_count": 19,
   "id": "bc78fb5e-87d9-49dc-aa62-09367816ac96",
   "metadata": {},
   "outputs": [
    {
     "name": "stdout",
     "output_type": "stream",
     "text": [
      "Censorship rate:\n",
      "0.030\n",
      "\n",
      "Censorship tags:\n",
      "url: 96.58%, phone: 1.6%, bank: 0.41%, left the group.: 0.37%, birthday: 0.25%, email: 0.18%, changed the group photo.: 0.14%, started a call: 0.13%, would you describe urself: 0.09%, satisfied with ur genes: 0.09%, created the group.: 0.06%, address: 0.03%, joined the call: 0.02%, the call ended: 0.02%, se svymi geny: 0.01%, popsal by ses: 0.0%\n"
     ]
    }
   ],
   "source": [
    "def censorship_info(chats):\n",
    "    all = [m for chat in chats for m in chat]\n",
    "    censorships = []\n",
    "    for m in all:\n",
    "        for issue in m.issues:\n",
    "            if issue.type == 'censor': censorships.append(issue.data['tag'])\n",
    "\n",
    "    counter = collections.Counter(censorships)\n",
    "    print(\"Censorship rate:\\n\" + f\"{round(len(censorships) / len(all), 3):.3f}\")\n",
    "    print()\n",
    "    print(\"Censorship tags:\\n\" + ', '.join([f\"{tag}: {round(100*count/counter.total(), 2)}%\" for tag, count in counter.most_common(20)]))\n",
    "\n",
    "censorship_info(censored_chats)"
   ]
  },
  {
   "cell_type": "code",
   "execution_count": 21,
   "id": "734dd2d9-24fe-4bda-b6cf-210f5bcb8aec",
   "metadata": {},
   "outputs": [
    {
     "name": "stdout",
     "output_type": "stream",
     "text": [
      "eta 55 s\n",
      "eta 27 s\n",
      "eta 13 s\n"
     ]
    }
   ],
   "source": [
    "agents = ['p']\n",
    "\n",
    "def enhance_actions(a):\n",
    "    a = data.add_control_actions(a, agents=agents, duration_limit=300, pause_limit=90, count_limit=7, idle_rate=1)\n",
    "    a = data.mask_actions(a, lambda i: i.user not in agents)\n",
    "    a = data.mask_actions(a, lambda i: i.type == 'attachment')\n",
    "    return a\n",
    "\n",
    "actions = lmap(data.chat_to_actions, censored_chats)\n",
    "actions = lmap(enhance_actions, actions)"
   ]
  },
  {
   "cell_type": "code",
   "execution_count": 42,
   "id": "7092a4b4-0fde-4bb8-9ae3-21732782d1f5",
   "metadata": {},
   "outputs": [
    {
     "name": "stdout",
     "output_type": "stream",
     "text": [
      "Total actions        1064757\n",
      "Agent actions        651609\n",
      "\n",
      "Agent action types   message: 55%, idle: 34%, reaction: 6%, attachment: 4%\n",
      "\n",
      "Agent messages details:\n",
      "  Length/message     mean: 33.9, quantiles 10-50-90: 3.0 21.0 96.0\n",
      "  Languages          en: 71%, cs: 16%, None: 7%, sk: 4%, de: 2%, ru: 0%\n"
     ]
    }
   ],
   "source": [
    "def info(actions):\n",
    "    agents = ['p']\n",
    "    all = [a for aa in actions for a in aa]\n",
    "    agent = lfilter(lambda a: a.user in agents, all)\n",
    "    msg = lfilter(lambda a: a.type == 'message', agent)\n",
    "    react = lfilter(lambda a: a.type == 'reaction', agent)\n",
    "    sample = np.random.choice(msg, size=1000)\n",
    "    \n",
    "    lengths = [len(m.data['body']) for m in msg if len(m.data['body']) != 0]\n",
    "    languages = collections.Counter(datasets.get_languages(datasets.actions_to_chat(sample), languages=['en', 'cs', 'sk', 'ru', 'de'], threshold=0))\n",
    "    agent_types = collections.Counter([a.type for a in agent])\n",
    "    \n",
    "    print(\"Total actions       \", len(all))\n",
    "    print(\"Agent actions       \", len(agent))\n",
    "    print()\n",
    "    print(\"Agent action types  \", ', '.join([f\"{t}: {round(100 * count/agent_types.total())}%\" for t, count in agent_types.most_common(len(agent_types))]))\n",
    "    print()\n",
    "    print(\"Agent messages details:\")\n",
    "    print(\"  Length/message    \", f\"mean: {np.mean(lengths):.1f}, quantiles 10-50-90: {np.quantile(lengths, 0.10)} {np.quantile(lengths, 0.50)} {np.quantile(lengths, 0.95)}\")\n",
    "    print(\"  Languages         \", ', '.join([f\"{l}: {round(f/languages.total()*100)}%\" for l,f in languages.most_common()]))\n",
    "    # print(\"Users           \", ', '.join([f\"{u}: {round(f*100)}%\" for u,f in sorted(users.items(), key=lambda i: -i[1])]))\n",
    "    \n",
    "\n",
    "info(actions)"
   ]
  },
  {
   "cell_type": "code",
   "execution_count": 89,
   "id": "48d6fa9b-177c-42a8-8aae-8a775dc5860e",
   "metadata": {},
   "outputs": [
    {
     "data": {
      "text/html": [
       "<pre style=\"color: grey; white-space: pre; width: 100%\"><span style=\"color: white\"><|message|>reiterating it with ur inner voice?<|endofaction|></pre>"
      ],
      "text/plain": [
       "<IPython.core.display.HTML object>"
      ]
     },
     "metadata": {},
     "output_type": "display_data"
    },
    {
     "data": {
      "text/html": [
       "<pre style=\"color: grey; white-space: pre; width: 100%\"><span style=\"color: white\"><|message|>just gazing at it?<|endofaction|></pre>"
      ],
      "text/plain": [
       "<IPython.core.display.HTML object>"
      ]
     },
     "metadata": {},
     "output_type": "display_data"
    },
    {
     "data": {
      "text/html": [
       "<pre style=\"color: grey; white-space: pre; width: 100%\"><span style=\"color: white\"><|message|>making up story?<|endofaction|><|endoftext|></pre>"
      ],
      "text/plain": [
       "<IPython.core.display.HTML object>"
      ]
     },
     "metadata": {},
     "output_type": "display_data"
    },
    {
     "data": {
      "text/html": [
       "<pre style=\"color: grey; white-space: pre; width: 100%\">Dana Anderson<|goes|><|message|>I would try to remember 6625 (w my inner voice) and then 662571 ...<|endofaction|></pre>"
      ],
      "text/plain": [
       "<IPython.core.display.HTML object>"
      ]
     },
     "metadata": {},
     "output_type": "display_data"
    },
    {
     "data": {
      "text/html": [
       "<pre style=\"color: grey; white-space: pre; width: 100%\"><span style=\"color: white\">p<|goes|><|message|>gotcha<|endofaction|></pre>"
      ],
      "text/plain": [
       "<IPython.core.display.HTML object>"
      ]
     },
     "metadata": {},
     "output_type": "display_data"
    },
    {
     "data": {
      "text/html": [
       "<pre style=\"color: grey; white-space: pre; width: 100%\"><span style=\"color: white\"><|message|>ty<|endofaction|><|endoftext|></pre>"
      ],
      "text/plain": [
       "<IPython.core.display.HTML object>"
      ]
     },
     "metadata": {},
     "output_type": "display_data"
    },
    {
     "data": {
      "text/html": [
       "<pre style=\"color: grey; white-space: pre; width: 100%\"><span style=\"color: white\">p<|goes|><|message|>Do i portray myself or have you ever regarded me to be a gay?<|endofaction|><|endoftext|></pre>"
      ],
      "text/plain": [
       "<IPython.core.display.HTML object>"
      ]
     },
     "metadata": {},
     "output_type": "display_data"
    },
    {
     "data": {
      "text/html": [
       "<pre style=\"color: grey; white-space: pre; width: 100%\">Dana Anderson<|goes|><|message|>Not really<|endofaction|></pre>"
      ],
      "text/plain": [
       "<IPython.core.display.HTML object>"
      ]
     },
     "metadata": {},
     "output_type": "display_data"
    },
    {
     "data": {
      "text/html": [
       "<pre style=\"color: grey; white-space: pre; width: 100%\"><span style=\"color: white\">p<|goes|><|message|>thanks<|endofaction|><|endoftext|></pre>"
      ],
      "text/plain": [
       "<IPython.core.display.HTML object>"
      ]
     },
     "metadata": {},
     "output_type": "display_data"
    },
    {
     "data": {
      "text/html": [
       "<pre style=\"color: grey; white-space: pre; width: 100%\"><span style=\"color: white\">p<|goes|><|message|></span>would you describe urself as...\n",
       "overall physically healthy?\n",
       "overall mentally healthy (no jokez)?\n",
       "intelligent (fluid... i.e. not knowledge, but cognition, i.e. solving etc.)?\n",
       "highly curious?\n",
       "extravert?\n",
       "creative?\n",
       "versatile considering e.g. hobbies?\n",
       "having a leading virtue which you nourish the most?\n",
       "knowing what the fuck do yo wanna do with your life?<span style=\"color: white\"><|endofaction|><|endoftext|></pre>"
      ],
      "text/plain": [
       "<IPython.core.display.HTML object>"
      ]
     },
     "metadata": {},
     "output_type": "display_data"
    },
    {
     "data": {
      "text/html": [
       "<pre style=\"color: grey; white-space: pre; width: 100%\"><span style=\"color: white\">p<|goes|><|message|></span>are you satisfied with ur genes? (0: no; 10: yes)<span style=\"color: white\"><|endofaction|></pre>"
      ],
      "text/plain": [
       "<IPython.core.display.HTML object>"
      ]
     },
     "metadata": {},
     "output_type": "display_data"
    },
    {
     "data": {
      "text/html": [
       "<pre style=\"color: grey; white-space: pre; width: 100%\"><|attachment|>74480704_447091032678501_434738303393071104_n_447090999345171.jpg<|endofaction|><|endoftext|></pre>"
      ],
      "text/plain": [
       "<IPython.core.display.HTML object>"
      ]
     },
     "metadata": {},
     "output_type": "display_data"
    },
    {
     "data": {
      "text/html": [
       "<pre style=\"color: grey; white-space: pre; width: 100%\">Dana Anderson<|goes|><|message|>6-7<|endofaction|></pre>"
      ],
      "text/plain": [
       "<IPython.core.display.HTML object>"
      ]
     },
     "metadata": {},
     "output_type": "display_data"
    },
    {
     "data": {
      "text/html": [
       "<pre style=\"color: grey; white-space: pre; width: 100%\"><span style=\"color: white\">p<|goes|><|idle|><|endofaction|><|endoftext|></pre>"
      ],
      "text/plain": [
       "<IPython.core.display.HTML object>"
      ]
     },
     "metadata": {},
     "output_type": "display_data"
    },
    {
     "data": {
      "text/html": [
       "<pre style=\"color: grey; white-space: pre; width: 100%\">Dana Anderson<|goes|><|message|>Will be the next question how am I satisfied w my 🍆? 😃<|endofaction|></pre>"
      ],
      "text/plain": [
       "<IPython.core.display.HTML object>"
      ]
     },
     "metadata": {},
     "output_type": "display_data"
    },
    {
     "data": {
      "text/html": [
       "<pre style=\"color: grey; white-space: pre; width: 100%\"><span style=\"color: white\">p<|goes|><|message|>yes<|endofaction|><|endoftext|></pre>"
      ],
      "text/plain": [
       "<IPython.core.display.HTML object>"
      ]
     },
     "metadata": {},
     "output_type": "display_data"
    },
    {
     "data": {
      "text/html": [
       "<pre style=\"color: grey; white-space: pre; width: 100%\"><span style=\"color: white\">p<|goes|><|message|>yes.<|endofaction|><|endoftext|></pre>"
      ],
      "text/plain": [
       "<IPython.core.display.HTML object>"
      ]
     },
     "metadata": {},
     "output_type": "display_data"
    },
    {
     "data": {
      "text/html": [
       "<pre style=\"color: grey; white-space: pre; width: 100%\"><span style=\"color: white\">p<|goes|><|message|>how fast does ur facial hair grow?<|endofaction|><|endoftext|></pre>"
      ],
      "text/plain": [
       "<IPython.core.display.HTML object>"
      ]
     },
     "metadata": {},
     "output_type": "display_data"
    },
    {
     "data": {
      "text/html": [
       "<pre style=\"color: grey; white-space: pre; width: 100%\"><span style=\"color: white\">p<|goes|><|message|>ru der?<|endofaction|><|endoftext|></pre>"
      ],
      "text/plain": [
       "<IPython.core.display.HTML object>"
      ]
     },
     "metadata": {},
     "output_type": "display_data"
    },
    {
     "data": {
      "text/html": [
       "<pre style=\"color: grey; white-space: pre; width: 100%\">Dana Anderson<|goes|><|message|>Ru der?<|endofaction|></pre>"
      ],
      "text/plain": [
       "<IPython.core.display.HTML object>"
      ]
     },
     "metadata": {},
     "output_type": "display_data"
    },
    {
     "data": {
      "text/html": [
       "<pre style=\"color: grey; white-space: pre; width: 100%\"><span style=\"color: white\">p<|goes|><|idle|><|endofaction|><|endoftext|></pre>"
      ],
      "text/plain": [
       "<IPython.core.display.HTML object>"
      ]
     },
     "metadata": {},
     "output_type": "display_data"
    },
    {
     "data": {
      "text/html": [
       "<pre style=\"color: grey; white-space: pre; width: 100%\">Dana Anderson<|goes|><|message|>And my facial hair grow slowly 👉🏻<|endofaction|></pre>"
      ],
      "text/plain": [
       "<IPython.core.display.HTML object>"
      ]
     },
     "metadata": {},
     "output_type": "display_data"
    },
    {
     "data": {
      "text/html": [
       "<pre style=\"color: grey; white-space: pre; width: 100%\"><span style=\"color: white\">p<|goes|><|idle|><|endofaction|><|endoftext|></pre>"
      ],
      "text/plain": [
       "<IPython.core.display.HTML object>"
      ]
     },
     "metadata": {},
     "output_type": "display_data"
    },
    {
     "data": {
      "text/html": [
       "<pre style=\"color: grey; white-space: pre; width: 100%\">Dana Anderson<|goes|><|attachment|>83494120_3009554842397111_9073943780960239616_n_3009554799063782.jpg<|endofaction|></pre>"
      ],
      "text/plain": [
       "<IPython.core.display.HTML object>"
      ]
     },
     "metadata": {},
     "output_type": "display_data"
    },
    {
     "data": {
      "text/html": [
       "<pre style=\"color: grey; white-space: pre; width: 100%\"><span style=\"color: white\">p<|goes|><|reaction|>😍<|endofaction|><|endoftext|></pre>"
      ],
      "text/plain": [
       "<IPython.core.display.HTML object>"
      ]
     },
     "metadata": {},
     "output_type": "display_data"
    },
    {
     "data": {
      "text/html": [
       "<pre style=\"color: grey; white-space: pre; width: 100%\">Dana Anderson<|goes|><|message|>Xoxo<|endofaction|></pre>"
      ],
      "text/plain": [
       "<IPython.core.display.HTML object>"
      ]
     },
     "metadata": {},
     "output_type": "display_data"
    },
    {
     "data": {
      "text/html": [
       "<pre style=\"color: grey; white-space: pre; width: 100%\"><span style=\"color: white\">p<|goes|><|message|>kdy a kde mate zitra sraz:<|endofaction|></pre>"
      ],
      "text/plain": [
       "<IPython.core.display.HTML object>"
      ]
     },
     "metadata": {},
     "output_type": "display_data"
    },
    {
     "data": {
      "text/html": [
       "<pre style=\"color: grey; white-space: pre; width: 100%\"><span style=\"color: white\"><|message|>?*<|endofaction|><|endoftext|></pre>"
      ],
      "text/plain": [
       "<IPython.core.display.HTML object>"
      ]
     },
     "metadata": {},
     "output_type": "display_data"
    },
    {
     "data": {
      "text/html": [
       "<pre style=\"color: grey; white-space: pre; width: 100%\">Dana Anderson<|goes|><|message|>My jdem ještě na tu přednášku do školy<|endofaction|></pre>"
      ],
      "text/plain": [
       "<IPython.core.display.HTML object>"
      ]
     },
     "metadata": {},
     "output_type": "display_data"
    },
    {
     "data": {
      "text/html": [
       "<pre style=\"color: grey; white-space: pre; width: 100%\"><span style=\"color: white\">p<|goes|><|message|>ik<|endofaction|><|endoftext|></pre>"
      ],
      "text/plain": [
       "<IPython.core.display.HTML object>"
      ]
     },
     "metadata": {},
     "output_type": "display_data"
    },
    {
     "data": {
      "text/html": [
       "<pre style=\"color: grey; white-space: pre; width: 100%\"><span style=\"color: white\">p<|goes|><|message|>a kdy tam planujete byt cca<|endofaction|><|endoftext|></pre>"
      ],
      "text/plain": [
       "<IPython.core.display.HTML object>"
      ]
     },
     "metadata": {},
     "output_type": "display_data"
    },
    {
     "data": {
      "text/html": [
       "<pre style=\"color: grey; white-space: pre; width: 100%\">Dana Anderson<|goes|><|message|>Nwm<|endofaction|></pre>"
      ],
      "text/plain": [
       "<IPython.core.display.HTML object>"
      ]
     },
     "metadata": {},
     "output_type": "display_data"
    },
    {
     "data": {
      "text/html": [
       "<pre style=\"color: grey; white-space: pre; width: 100%\"><span style=\"color: white\">p<|goes|><|message|>a na kterou jdete?<|endofaction|><|endoftext|></pre>"
      ],
      "text/plain": [
       "<IPython.core.display.HTML object>"
      ]
     },
     "metadata": {},
     "output_type": "display_data"
    },
    {
     "data": {
      "text/html": [
       "<pre style=\"color: grey; white-space: pre; width: 100%\">Dana Anderson<|goes|><|message|>Fel<|endofaction|></pre>"
      ],
      "text/plain": [
       "<IPython.core.display.HTML object>"
      ]
     },
     "metadata": {},
     "output_type": "display_data"
    },
    {
     "data": {
      "text/html": [
       "<pre style=\"color: grey; white-space: pre; width: 100%\"><span style=\"color: white\">p<|goes|><|message|>...<|endofaction|></pre>"
      ],
      "text/plain": [
       "<IPython.core.display.HTML object>"
      ]
     },
     "metadata": {},
     "output_type": "display_data"
    },
    {
     "data": {
      "text/html": [
       "<pre style=\"color: grey; white-space: pre; width: 100%\"><span style=\"color: white\"><|message|>jsou 2 imho<|endofaction|></pre>"
      ],
      "text/plain": [
       "<IPython.core.display.HTML object>"
      ]
     },
     "metadata": {},
     "output_type": "display_data"
    },
    {
     "data": {
      "text/html": [
       "<pre style=\"color: grey; white-space: pre; width: 100%\"><span style=\"color: white\"><|message|>karlak a dejvice<|endofaction|><|endoftext|></pre>"
      ],
      "text/plain": [
       "<IPython.core.display.HTML object>"
      ]
     },
     "metadata": {},
     "output_type": "display_data"
    },
    {
     "data": {
      "text/html": [
       "<pre style=\"color: grey; white-space: pre; width: 100%\">Dana Anderson<|goes|><|message|>Karlak<|endofaction|></pre>"
      ],
      "text/plain": [
       "<IPython.core.display.HTML object>"
      ]
     },
     "metadata": {},
     "output_type": "display_data"
    },
    {
     "data": {
      "text/html": [
       "<pre style=\"color: grey; white-space: pre; width: 100%\"><span style=\"color: white\">p<|goes|><|message|>ok<|endofaction|><|endoftext|></pre>"
      ],
      "text/plain": [
       "<IPython.core.display.HTML object>"
      ]
     },
     "metadata": {},
     "output_type": "display_data"
    },
    {
     "data": {
      "text/html": [
       "<pre style=\"color: grey; white-space: pre; width: 100%\">Dana Anderson<|goes|><|message|>Sup<|endofaction|></pre>"
      ],
      "text/plain": [
       "<IPython.core.display.HTML object>"
      ]
     },
     "metadata": {},
     "output_type": "display_data"
    },
    {
     "data": {
      "text/html": [
       "<pre style=\"color: grey; white-space: pre; width: 100%\"><span style=\"color: white\">p<|goes|><|idle|><|endofaction|><|endoftext|></pre>"
      ],
      "text/plain": [
       "<IPython.core.display.HTML object>"
      ]
     },
     "metadata": {},
     "output_type": "display_data"
    },
    {
     "data": {
      "text/html": [
       "<pre style=\"color: grey; white-space: pre; width: 100%\">Dana Anderson<|goes|><|message|>hele jaká fce je ten graf amplitudyna frekvenci<|endofaction|></pre>"
      ],
      "text/plain": [
       "<IPython.core.display.HTML object>"
      ]
     },
     "metadata": {},
     "output_type": "display_data"
    },
    {
     "data": {
      "text/html": [
       "<pre style=\"color: grey; white-space: pre; width: 100%\"><span style=\"color: white\">p<|goes|><|idle|><|endofaction|><|endoftext|></pre>"
      ],
      "text/plain": [
       "<IPython.core.display.HTML object>"
      ]
     },
     "metadata": {},
     "output_type": "display_data"
    },
    {
     "data": {
      "text/html": [
       "<pre style=\"color: grey; white-space: pre; width: 100%\">Dana Anderson<|goes|><|message|>?<|endofaction|></pre>"
      ],
      "text/plain": [
       "<IPython.core.display.HTML object>"
      ]
     },
     "metadata": {},
     "output_type": "display_data"
    },
    {
     "data": {
      "text/html": [
       "<pre style=\"color: grey; white-space: pre; width: 100%\"><span style=\"color: white\">p<|goes|><|message|>Im = Um / Z, kde Z je impedance (ta odmocnina), kde je promennou (uhlova) frekvence a vse ostatni jsou parametry<|endofaction|></pre>"
      ],
      "text/plain": [
       "<IPython.core.display.HTML object>"
      ]
     },
     "metadata": {},
     "output_type": "display_data"
    }
   ],
   "source": [
    "i = np.random.choice(len(actions))\n",
    "a = actions[i]\n",
    "j = np.random.choice(len(a))\n",
    "a = a[j:j+45]\n",
    "# datasets.simulate(a, sleep=0.1)\n",
    "\n",
    "for i in a:\n",
    "    s, m = datasets.action_to_string(i, return_mask=True)\n",
    "    datasets.view_masked(s, m)"
   ]
  },
  {
   "cell_type": "code",
   "execution_count": 90,
   "id": "eee3f286-2fef-41ef-9113-009b302fe1ff",
   "metadata": {},
   "outputs": [],
   "source": [
    "actions_path = '../data/actions.pkl'\n",
    "# pickle good enough, only around 50 MB\n",
    "\n",
    "import pickle\n",
    "with open(actions_path, 'wb') as f:\n",
    "    pickle.dump(actions, f)"
   ]
  }
 ],
 "metadata": {
  "kernelspec": {
   "display_name": "Python 3 (ipykernel)",
   "language": "python",
   "name": "python3"
  },
  "language_info": {
   "codemirror_mode": {
    "name": "ipython",
    "version": 3
   },
   "file_extension": ".py",
   "mimetype": "text/x-python",
   "name": "python",
   "nbconvert_exporter": "python",
   "pygments_lexer": "ipython3",
   "version": "3.12.2"
  }
 },
 "nbformat": 4,
 "nbformat_minor": 5
}
