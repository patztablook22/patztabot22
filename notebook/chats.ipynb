{
 "cells": [
  {
   "cell_type": "code",
   "execution_count": 17,
   "id": "073129dc-dea1-441a-8f3b-7943127e7b74",
   "metadata": {},
   "outputs": [],
   "source": [
    "import sys, os\n",
    "import numpy as np\n",
    "import matplotlib.pyplot as plt\n",
    "import seaborn as sns\n",
    "import random\n",
    "\n",
    "sys.path.append(\"../src/utils\")"
   ]
  },
  {
   "cell_type": "code",
   "execution_count": 18,
   "id": "1d3b4716-d5c2-4fd5-aa37-52966a13e79b",
   "metadata": {},
   "outputs": [
    {
     "name": "stdout",
     "output_type": "stream",
     "text": [
      "The autoreload extension is already loaded. To reload it, use:\n",
      "  %reload_ext autoreload\n"
     ]
    }
   ],
   "source": [
    "%load_ext autoreload\n",
    "%autoreload 1\n",
    "%aimport datasets"
   ]
  },
  {
   "cell_type": "code",
   "execution_count": 19,
   "id": "ed7595d7-0706-4ba2-b0ed-28975475e36c",
   "metadata": {},
   "outputs": [],
   "source": [
    "from general import *"
   ]
  },
  {
   "cell_type": "code",
   "execution_count": 20,
   "id": "16ab78a2-78b8-4d34-b8b0-33041536c7f9",
   "metadata": {},
   "outputs": [],
   "source": [
    "discord_path = '../data/social/discord/'\n",
    "facebook_paths = ['../data/social/facebook1/',\n",
    "                  '../data/social/facebook2/']\n",
    "instagram_path = ['../data/social/instagram/']"
   ]
  },
  {
   "cell_type": "code",
   "execution_count": 21,
   "id": "9d22a89f-98f2-47b8-9beb-a94964434bbf",
   "metadata": {},
   "outputs": [],
   "source": [
    "def load_all(loader, dir):\n",
    "    buff = []\n",
    "    if not os.path.isdir(dir): return buff\n",
    "    for i in os.listdir(dir):\n",
    "        buff.append(loader(dir + i))\n",
    "    return buff\n",
    "        \n",
    "\n",
    "chats = []\n",
    "chats += load_all(datasets.load_discord, discord_path)\n",
    "\n",
    "for fb in facebook_paths:\n",
    "    chats += load_all(datasets.load_messenger, fb + 'messages/inbox/')\n",
    "    chats += load_all(datasets.load_messenger, fb + 'messages/archived_threads/')\n",
    "    chats += load_all(datasets.load_messenger, fb + 'messages/e2ee_cutover/')\n",
    "    chats += load_all(datasets.load_messenger, fb + 'messages/filtered_threads/')\n",
    "\n",
    "original_chats = chats"
   ]
  },
  {
   "cell_type": "code",
   "execution_count": 22,
   "id": "cd2f46cd-982d-40dd-8d2c-a546e7702cf5",
   "metadata": {},
   "outputs": [
    {
     "data": {
      "text/plain": [
       "171"
      ]
     },
     "execution_count": 22,
     "metadata": {},
     "output_type": "execute_result"
    }
   ],
   "source": [
    "len(original_chats)"
   ]
  },
  {
   "cell_type": "code",
   "execution_count": 23,
   "id": "2a3edf2f-c48d-4b76-91d1-5b7b99d39ad9",
   "metadata": {},
   "outputs": [
    {
     "data": {
      "text/html": [
       "<table style=\"width: 100%\"><tr>\n",
       "                    <td style=\"vertical-align: top; white-space: nowrap; width: 10em; overflow: hidden; text-overflow: ellipsis\">jasaf3</td>\n",
       "                    <td style=\"text-align: left;\">But Bachelard works with this a bit better </td></tr><tr>\n",
       "                    <td style=\"vertical-align: top; white-space: nowrap; width: 10em; overflow: hidden; text-overflow: ellipsis\">jasaf3</td>\n",
       "                    <td style=\"text-align: left;\">also nope <ul style=\"margin: 10px 0px 0px -13px; padding: 0px 0px 0px 10px; border-left: 3px solid grey\">\n",
       "                            <li style=\"display: inline\">❤️</li>\n",
       "                        </ul></td></tr><tr>\n",
       "                    <td style=\"vertical-align: top; white-space: nowrap; width: 10em; overflow: hidden; text-overflow: ellipsis\">patztablook22</td>\n",
       "                    <td style=\"text-align: left;\">elaborate \\;) </td></tr><tr>\n",
       "                    <td style=\"vertical-align: top; white-space: nowrap; width: 10em; overflow: hidden; text-overflow: ellipsis\">jasaf3</td>\n",
       "                    <td style=\"text-align: left;\"> [image.png]</td></tr><tr>\n",
       "                    <td style=\"vertical-align: top; white-space: nowrap; width: 10em; overflow: hidden; text-overflow: ellipsis\">jasaf3</td>\n",
       "                    <td style=\"text-align: left;\">not that deep </td></tr><tr>\n",
       "                    <td style=\"vertical-align: top; white-space: nowrap; width: 10em; overflow: hidden; text-overflow: ellipsis\">jasaf3</td>\n",
       "                    <td style=\"text-align: left;\">Essentially </td></tr><tr>\n",
       "                    <td style=\"vertical-align: top; white-space: nowrap; width: 10em; overflow: hidden; text-overflow: ellipsis\">jasaf3</td>\n",
       "                    <td style=\"text-align: left;\">That's wrong </td></tr><tr>\n",
       "                    <td style=\"vertical-align: top; white-space: nowrap; width: 10em; overflow: hidden; text-overflow: ellipsis\">jasaf3</td>\n",
       "                    <td style=\"text-align: left;\">because </td></tr><tr>\n",
       "                    <td style=\"vertical-align: top; white-space: nowrap; width: 10em; overflow: hidden; text-overflow: ellipsis\">patztablook22</td>\n",
       "                    <td style=\"text-align: left;\">do me a favour and write the line of reasoning that connects that picture depicting which  people in average happen to work in which dsciplines with this </td></tr><tr>\n",
       "                    <td style=\"vertical-align: top; white-space: nowrap; width: 10em; overflow: hidden; text-overflow: ellipsis\">patztablook22</td>\n",
       "                    <td style=\"text-align: left;\">also fuck, it's 2 AM (BST) </td></tr></table>"
      ],
      "text/plain": [
       "<IPython.core.display.HTML object>"
      ]
     },
     "metadata": {},
     "output_type": "display_data"
    }
   ],
   "source": [
    "datasets.view_excerpt(original_chats[9])"
   ]
  },
  {
   "cell_type": "code",
   "execution_count": 24,
   "id": "b9fdf071-3321-4dc3-94dc-95a1c4953727",
   "metadata": {},
   "outputs": [
    {
     "name": "stdout",
     "output_type": "stream",
     "text": [
      "Total messages   516948\n",
      "Length/message   mean: 33.1, quantiles 10-50-90: 3.0 21.0 93.0\n",
      "With attachment  6.3%\n",
      "With reaction    14.2%\n",
      "Languages        en: 66%, cs: 26%, sk: 5%, de: 4%, ru: 0%\n",
      "Users            Patztablook TwentyTwo: 44%, Marie Holá: 14%, Scanthning Brot: 13%, jasaf3: 9%, patztablook22: 7%\n"
     ]
    }
   ],
   "source": [
    "def info(chats):\n",
    "    all = [m for chat in chats for m in chat]\n",
    "    sample = np.random.choice(all, size=1000)\n",
    "    \n",
    "    lengths = [len(m.body) for m in all if len(m.body) != 0]\n",
    "    languages = datasets.get_languages(sample, languages=['en', 'cs', 'sk', 'ru', 'de'], threshold=0)\n",
    "    users = datasets.get_users(sample, threshold=0.03)\n",
    "    \n",
    "    print(\"Total messages  \", len(all))\n",
    "    print(\"Length/message  \", f\"mean: {np.mean(lengths):.1f}, quantiles 10-50-90: {np.quantile(lengths, 0.10)} {np.quantile(lengths, 0.50)} {np.quantile(lengths, 0.95)}\")\n",
    "    print(\"With attachment \", f\"{len([m for m in all if m.attachments]) / len(all) * 100:.1f}%\")\n",
    "    print(\"With reaction   \", f\"{len([m for m in all if m.reactions]) / len(all) * 100:.1f}%\")\n",
    "    print(\"Languages       \", ', '.join([f\"{l}: {round(f*100)}%\" for l,f in sorted(languages.items(), key=lambda i: -i[1])]))\n",
    "    print(\"Users           \", ', '.join([f\"{u}: {round(f*100)}%\" for u,f in sorted(users.items(), key=lambda i: -i[1])]))\n",
    "\n",
    "info(original_chats)"
   ]
  },
  {
   "cell_type": "code",
   "execution_count": 25,
   "id": "cee9cbb0-6f15-4535-91fa-1f5e23ab19c6",
   "metadata": {},
   "outputs": [
    {
     "name": "stdout",
     "output_type": "stream",
     "text": [
      "eta 210 s\n",
      "eta 104 s\n",
      "eta 51 s\n",
      "eta 26 s\n",
      "eta 13 s\n"
     ]
    }
   ],
   "source": [
    "fixed = {'Patztablook TwentyTwo': 'p',\n",
    "         'patztablook22': 'p',\n",
    "         'patrik zavoral': 'p',\n",
    "         'patz': 'p'}\n",
    "\n",
    "additional = ['Mank', 'Mari', 'Jáš']\n",
    "\n",
    "def rename(chats):\n",
    "    all = [m for chat in chats for m in chat]\n",
    "    users = datasets.get_users_list(all) + additional\n",
    "    mapper = datasets.make_name_mapper(users, fixed=fixed)\n",
    "    # print(mapper)\n",
    "    \n",
    "    def renamer(chat):\n",
    "        return [datasets.change_names(m, mapper) for m in chat]\n",
    "    return lmap(renamer, chats)\n",
    "\n",
    "renamed_chats = rename(original_chats)"
   ]
  },
  {
   "cell_type": "code",
   "execution_count": 26,
   "id": "5523ff30-8252-4eef-98c6-e68ec68288cc",
   "metadata": {},
   "outputs": [
    {
     "name": "stdout",
     "output_type": "stream",
     "text": [
      "eta 80 s\n",
      "eta 40 s\n",
      "eta 20 s\n"
     ]
    }
   ],
   "source": [
    "def censor(message):\n",
    "    def c(tag, pattern, replacer=None):\n",
    "        nonlocal message\n",
    "        message = datasets.censor(message, pattern, replacer=None, tag=tag)\n",
    "\n",
    "    c('email', r'\\b[A-Za-z0-9._%+-]+@[A-Za-z0-9.-]+\\.[A-Z|a-z]{2,}\\b')\n",
    "    c('url',   r'\\b[A-Za-z0-9._%+-]+@[A-Za-z0-9.-]+\\.[A-Z|a-z]{2,}\\b|ftp:\\/\\/[A-Za-z0-9._%+-]+:[A-Za-z0-9._%+-]+@[A-Za-z0-9.-]+\\.[A-Z|a-z]{2,}\\b')\n",
    "    c('url',   r'http[s]?://(?:[a-zA-Z]|[0-9]|[$-_@.&#+~]|[!*\\\\(\\\\),]|(?:%[0-9a-fA-F][0-9a-fA-F]))+')\n",
    "    c('bank',  r'(\\d{1,6}-)?\\d{1,10}/\\d{4}')\n",
    "    c('phone', r'\\+?\\d[\\d -]{8,}\\d')\n",
    "    c('address', ['Třešňová', '914'])\n",
    "    c('birthday', ['23 dec', 'dec 23', 'december 23', '23 december', '23.', '23/'])\n",
    "    \n",
    "    return message\n",
    "\n",
    "censored_chats = llmap(censor, renamed_chats[:])"
   ]
  },
  {
   "cell_type": "code",
   "execution_count": 27,
   "id": "aafc5be0-8f1e-4b52-aa14-1bbfc5df498b",
   "metadata": {},
   "outputs": [
    {
     "data": {
      "text/html": [
       "<table style=\"width: 100%\"><tr>\n",
       "                    <td style=\"vertical-align: top; white-space: nowrap; width: 10em; overflow: hidden; text-overflow: ellipsis\">patrick</td>\n",
       "                    <td style=\"text-align: left;\">koncene poradne prochazim chaoticky systemy a uz ten pojem pobiram 😄 </td></tr><tr>\n",
       "                    <td style=\"vertical-align: top; white-space: nowrap; width: 10em; overflow: hidden; text-overflow: ellipsis\">patrick</td>\n",
       "                    <td style=\"text-align: left;\">krasne to souvisi s <span style=\"background: rgba(255, 0, 0, 0.5)\">https://www.youtube.com/watch?v=lveOu7jLNh0</span> </td></tr><tr>\n",
       "                    <td style=\"vertical-align: top; white-space: nowrap; width: 10em; overflow: hidden; text-overflow: ellipsis\">patrick</td>\n",
       "                    <td style=\"text-align: left;\">ktere zmensuji dimensionality </td></tr><tr>\n",
       "                    <td style=\"vertical-align: top; white-space: nowrap; width: 10em; overflow: hidden; text-overflow: ellipsis\">p</td>\n",
       "                    <td style=\"text-align: left;\">nice, to neznam </td></tr><tr>\n",
       "                    <td style=\"vertical-align: top; white-space: nowrap; width: 10em; overflow: hidden; text-overflow: ellipsis\">p</td>\n",
       "                    <td style=\"text-align: left;\">tohle mi zni iffy </td></tr><tr>\n",
       "                    <td style=\"vertical-align: top; white-space: nowrap; width: 10em; overflow: hidden; text-overflow: ellipsis\">p</td>\n",
       "                    <td style=\"text-align: left;\">imo obecne psychedelika zpusobuji abnormalni domnenky </td></tr><tr>\n",
       "                    <td style=\"vertical-align: top; white-space: nowrap; width: 10em; overflow: hidden; text-overflow: ellipsis\">p</td>\n",
       "                    <td style=\"text-align: left;\">casto \"uzaviraji kruhy\" a jine \"oteviraji\" </td></tr><tr>\n",
       "                    <td style=\"vertical-align: top; white-space: nowrap; width: 10em; overflow: hidden; text-overflow: ellipsis\">p</td>\n",
       "                    <td style=\"text-align: left;\">rozdily mezi konkretnimj psychedeliky rozhodne jsou tho </td></tr><tr>\n",
       "                    <td style=\"vertical-align: top; white-space: nowrap; width: 10em; overflow: hidden; text-overflow: ellipsis\">p</td>\n",
       "                    <td style=\"text-align: left;\">btw uz 4-5 mesicu jsem sober </td></tr><tr>\n",
       "                    <td style=\"vertical-align: top; white-space: nowrap; width: 10em; overflow: hidden; text-overflow: ellipsis\">p</td>\n",
       "                    <td style=\"text-align: left;\">a porad mam cas od casu flashbacks na tripy </td></tr></table>"
      ],
      "text/plain": [
       "<IPython.core.display.HTML object>"
      ]
     },
     "metadata": {},
     "output_type": "display_data"
    }
   ],
   "source": [
    "i = 1\n",
    "datasets.view_excerpt(censored_chats[i], where=lambda m: m.issues)"
   ]
  },
  {
   "cell_type": "code",
   "execution_count": 28,
   "id": "bf84e7dd-82cb-411d-abca-626d6e96f5f7",
   "metadata": {},
   "outputs": [
    {
     "name": "stdout",
     "output_type": "stream",
     "text": [
      "0\n"
     ]
    },
    {
     "data": {
      "text/html": [
       "<table style=\"width: 100%\"><tr>\n",
       "                    <td style=\"vertical-align: top; white-space: nowrap; width: 10em; overflow: hidden; text-overflow: ellipsis\">stepsanderse</td>\n",
       "                    <td style=\"text-align: left;\"> [Duino_54.m4a]</td></tr><tr>\n",
       "                    <td style=\"vertical-align: top; white-space: nowrap; width: 10em; overflow: hidden; text-overflow: ellipsis\">p</td>\n",
       "                    <td style=\"text-align: left;\"> [mari.mp3]</td></tr><tr>\n",
       "                    <td style=\"vertical-align: top; white-space: nowrap; width: 10em; overflow: hidden; text-overflow: ellipsis\">p</td>\n",
       "                    <td style=\"text-align: left;\"> [image.png]</td></tr><tr>\n",
       "                    <td style=\"vertical-align: top; white-space: nowrap; width: 10em; overflow: hidden; text-overflow: ellipsis\">p</td>\n",
       "                    <td style=\"text-align: left;\"> [image.png]</td></tr><tr>\n",
       "                    <td style=\"vertical-align: top; white-space: nowrap; width: 10em; overflow: hidden; text-overflow: ellipsis\">p</td>\n",
       "                    <td style=\"text-align: left;\"> [image.png]</td></tr><tr>\n",
       "                    <td style=\"vertical-align: top; white-space: nowrap; width: 10em; overflow: hidden; text-overflow: ellipsis\">p</td>\n",
       "                    <td style=\"text-align: left;\"> [image.png]</td></tr><tr>\n",
       "                    <td style=\"vertical-align: top; white-space: nowrap; width: 10em; overflow: hidden; text-overflow: ellipsis\">p</td>\n",
       "                    <td style=\"text-align: left;\">Chill Beats to Eat Spaghetti Aglio Olio to </td></tr><tr>\n",
       "                    <td style=\"vertical-align: top; white-space: nowrap; width: 10em; overflow: hidden; text-overflow: ellipsis\">stepsanderse</td>\n",
       "                    <td style=\"text-align: left;\">Zapomněl sis tu řasy 😦 </td></tr><tr>\n",
       "                    <td style=\"vertical-align: top; white-space: nowrap; width: 10em; overflow: hidden; text-overflow: ellipsis\">p</td>\n",
       "                    <td style=\"text-align: left;\">Neee </td></tr><tr>\n",
       "                    <td style=\"vertical-align: top; white-space: nowrap; width: 10em; overflow: hidden; text-overflow: ellipsis\">p</td>\n",
       "                    <td style=\"text-align: left;\">Přineseš do Prahy? </td></tr><tr>\n",
       "                    <td style=\"vertical-align: top; white-space: nowrap; width: 10em; overflow: hidden; text-overflow: ellipsis\">stepsanderse</td>\n",
       "                    <td style=\"text-align: left;\">Dovezu ti ji do Prahy <ul style=\"margin: 10px 0px 0px -13px; padding: 0px 0px 0px 10px; border-left: 3px solid grey\">\n",
       "                            <li style=\"display: inline\">❤️</li>\n",
       "                        </ul></td></tr><tr>\n",
       "                    <td style=\"vertical-align: top; white-space: nowrap; width: 10em; overflow: hidden; text-overflow: ellipsis\">stepsanderse</td>\n",
       "                    <td style=\"text-align: left;\">jo </td></tr><tr>\n",
       "                    <td style=\"vertical-align: top; white-space: nowrap; width: 10em; overflow: hidden; text-overflow: ellipsis\">p</td>\n",
       "                    <td style=\"text-align: left;\">Started a call that lasted 11 minutes. </td></tr><tr>\n",
       "                    <td style=\"vertical-align: top; white-space: nowrap; width: 10em; overflow: hidden; text-overflow: ellipsis\">p</td>\n",
       "                    <td style=\"text-align: left;\">zavolám znovu nějak nefunguje mic idk </td></tr><tr>\n",
       "                    <td style=\"vertical-align: top; white-space: nowrap; width: 10em; overflow: hidden; text-overflow: ellipsis\">p</td>\n",
       "                    <td style=\"text-align: left;\">zavolám přes messenger </td></tr><tr>\n",
       "                    <td style=\"vertical-align: top; white-space: nowrap; width: 10em; overflow: hidden; text-overflow: ellipsis\">p</td>\n",
       "                    <td style=\"text-align: left;\">Misho </td></tr><tr>\n",
       "                    <td style=\"vertical-align: top; white-space: nowrap; width: 10em; overflow: hidden; text-overflow: ellipsis\">p</td>\n",
       "                    <td style=\"text-align: left;\">Vyfoť mi pas pls </td></tr><tr>\n",
       "                    <td style=\"vertical-align: top; white-space: nowrap; width: 10em; overflow: hidden; text-overflow: ellipsis\">p</td>\n",
       "                    <td style=\"text-align: left;\">Je v ložnici vedle postele na tom prknu </td></tr><tr>\n",
       "                    <td style=\"vertical-align: top; white-space: nowrap; width: 10em; overflow: hidden; text-overflow: ellipsis\">stepsanderse</td>\n",
       "                    <td style=\"text-align: left;\">Tak jo </td></tr><tr>\n",
       "                    <td style=\"vertical-align: top; white-space: nowrap; width: 10em; overflow: hidden; text-overflow: ellipsis\">p</td>\n",
       "                    <td style=\"text-align: left;\">Lol </td></tr></table>"
      ],
      "text/plain": [
       "<IPython.core.display.HTML object>"
      ]
     },
     "metadata": {},
     "output_type": "display_data"
    }
   ],
   "source": [
    "chats = censored_chats\n",
    "i = np.random.choice(len(chats))\n",
    "print(i)\n",
    "datasets.view_excerpt(chats[i], n=20)"
   ]
  },
  {
   "cell_type": "code",
   "execution_count": 29,
   "id": "734dd2d9-24fe-4bda-b6cf-210f5bcb8aec",
   "metadata": {},
   "outputs": [
    {
     "name": "stdout",
     "output_type": "stream",
     "text": [
      "eta 21 s\n",
      "eta 10 s\n"
     ]
    }
   ],
   "source": [
    "def enhance_actions(a):\n",
    "    a = datasets.add_control_actions(a, users=['p'], duration_limit=300, pause_limit=90, count_limit=7)\n",
    "    a = datasets.mask_actions(a, lambda i: i.user in ['p'])\n",
    "    return a\n",
    "\n",
    "actions = lmap(datasets.chat_to_actions, censored_chats)\n",
    "actions = lmap(enhance_actions, actions)"
   ]
  },
  {
   "cell_type": "code",
   "execution_count": 30,
   "id": "7092a4b4-0fde-4bb8-9ae3-21732782d1f5",
   "metadata": {},
   "outputs": [
    {
     "name": "stdout",
     "output_type": "stream",
     "text": [
      "{'message', 'idle', 'reaction'}\n",
      "Total actions      728634\n",
      "Masked actions     422696\n",
      "Masked messages    253254\n",
      "\n",
      "Masked messages:\n",
      "  Length/message   mean: 27.7, quantiles 10-50-90: 3.0 19.0 80.0\n",
      "  Languages        en: 63%, cs: 26%, sk: 6%, de: 4%, ru: 0%\n",
      "  Reactions        13%\n"
     ]
    }
   ],
   "source": [
    "def info(actions):\n",
    "    all = [a for aa in actions for a in aa]\n",
    "    masked = lfilter(lambda a: a.data['mask_action'], all)\n",
    "    msg = lfilter(lambda a: a.type == 'message', masked)\n",
    "    react = lfilter(lambda a: a.type == 'reaction', masked)\n",
    "    sample = np.random.choice(msg, size=1000)\n",
    "    print(set([a.type for a in all]))\n",
    "    \n",
    "    lengths = [len(m.data['body']) for m in msg if len(m.data['body']) != 0]\n",
    "    languages = datasets.get_languages(datasets.actions_to_chat(sample), languages=['en', 'cs', 'sk', 'ru', 'de'], threshold=0)\n",
    "    # users = datasets.get_users(sample, threshold=0.03)\n",
    "    \n",
    "    print(\"Total actions     \", len(all))\n",
    "    print(\"Masked actions    \", len(masked))\n",
    "    print(\"Masked messages   \", len(msg))\n",
    "    print()\n",
    "    print(\"Masked messages:\")\n",
    "    print(\"  Length/message  \", f\"mean: {np.mean(lengths):.1f}, quantiles 10-50-90: {np.quantile(lengths, 0.10)} {np.quantile(lengths, 0.50)} {np.quantile(lengths, 0.95)}\")\n",
    "    print(\"  Languages       \", ', '.join([f\"{l}: {round(f*100)}%\" for l,f in sorted(languages.items(), key=lambda i: -i[1])]))\n",
    "    print(\"  Reactions       \", f\"{len(react) / len(msg) * 100:.0f}%\")\n",
    "    # print(\"Users           \", ', '.join([f\"{u}: {round(f*100)}%\" for u,f in sorted(users.items(), key=lambda i: -i[1])]))\n",
    "    \n",
    "\n",
    "info(actions)"
   ]
  },
  {
   "cell_type": "code",
   "execution_count": 31,
   "id": "48d6fa9b-177c-42a8-8aae-8a775dc5860e",
   "metadata": {},
   "outputs": [
    {
     "name": "stdout",
     "output_type": "stream",
     "text": [
      "\n"
     ]
    },
    {
     "data": {
      "text/html": [
       "<pre style=\"color: grey\">Susan Kline: Pokud si nespoustel rebuild na digitaloceanu tak nechapu jakto ze se to nahodilo</pre>"
      ],
      "text/plain": [
       "<IPython.core.display.HTML object>"
      ]
     },
     "metadata": {},
     "output_type": "display_data"
    },
    {
     "name": "stdout",
     "output_type": "stream",
     "text": [
      "\n"
     ]
    },
    {
     "data": {
      "text/html": [
       "<pre style=\"color: grey\"><span style=\"color: white\">p: </pre>"
      ],
      "text/plain": [
       "<IPython.core.display.HTML object>"
      ]
     },
     "metadata": {},
     "output_type": "display_data"
    },
    {
     "name": "stdout",
     "output_type": "stream",
     "text": [
      "\n"
     ]
    },
    {
     "data": {
      "text/html": [
       "<pre style=\"color: grey\">Susan Kline: mozna kdyz to stoji x hodin, tak se sam udela rebuild</pre>"
      ],
      "text/plain": [
       "<IPython.core.display.HTML object>"
      ]
     },
     "metadata": {},
     "output_type": "display_data"
    },
    {
     "name": "stdout",
     "output_type": "stream",
     "text": [
      "\n"
     ]
    },
    {
     "data": {
      "text/html": [
       "<pre style=\"color: grey\">Cynthia Morris: Nepouštěl</pre>"
      ],
      "text/plain": [
       "<IPython.core.display.HTML object>"
      ]
     },
     "metadata": {},
     "output_type": "display_data"
    },
    {
     "name": "stdout",
     "output_type": "stream",
     "text": [
      "\n"
     ]
    },
    {
     "data": {
      "text/html": [
       "<pre style=\"color: grey\">Susan Kline: <reacts> 😆</pre>"
      ],
      "text/plain": [
       "<IPython.core.display.HTML object>"
      ]
     },
     "metadata": {},
     "output_type": "display_data"
    }
   ],
   "source": [
    "i = np.random.choice(len(actions))\n",
    "a = actions[i]\n",
    "j = np.random.choice(len(a))\n",
    "a = a[j:j+5]\n",
    "# datasets.simulate(a, sleep=0.1)\n",
    "\n",
    "for i in a:\n",
    "    print()\n",
    "    s, m = datasets.action_to_string(i, return_mask=True)\n",
    "    datasets.view_masked(s, m)"
   ]
  },
  {
   "cell_type": "code",
   "execution_count": 32,
   "id": "eee3f286-2fef-41ef-9113-009b302fe1ff",
   "metadata": {},
   "outputs": [],
   "source": [
    "actions_path = '../data/actions.pkl'\n",
    "# pickle good enough, only around 50 MB\n",
    "\n",
    "import pickle\n",
    "with open(actions_path, 'wb') as f:\n",
    "    pickle.dump(actions, f)"
   ]
  }
 ],
 "metadata": {
  "kernelspec": {
   "display_name": "Python 3 (ipykernel)",
   "language": "python",
   "name": "python3"
  },
  "language_info": {
   "codemirror_mode": {
    "name": "ipython",
    "version": 3
   },
   "file_extension": ".py",
   "mimetype": "text/x-python",
   "name": "python",
   "nbconvert_exporter": "python",
   "pygments_lexer": "ipython3",
   "version": "3.12.2"
  }
 },
 "nbformat": 4,
 "nbformat_minor": 5
}
