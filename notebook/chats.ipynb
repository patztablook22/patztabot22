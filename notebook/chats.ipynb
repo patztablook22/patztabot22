{
 "cells": [
  {
   "cell_type": "code",
   "execution_count": 1,
   "id": "073129dc-dea1-441a-8f3b-7943127e7b74",
   "metadata": {},
   "outputs": [],
   "source": [
    "import sys, os\n",
    "import numpy as np\n",
    "import matplotlib.pyplot as plt\n",
    "import seaborn as sns\n",
    "import random\n",
    "import collections\n",
    "\n",
    "sys.path.append(\"../src/\")\n",
    "sys.path.append(\"../src/utils\")"
   ]
  },
  {
   "cell_type": "code",
   "execution_count": 2,
   "id": "1d3b4716-d5c2-4fd5-aa37-52966a13e79b",
   "metadata": {},
   "outputs": [],
   "source": [
    "%load_ext autoreload\n",
    "%autoreload 1\n",
    "%aimport datasets"
   ]
  },
  {
   "cell_type": "code",
   "execution_count": 3,
   "id": "ed7595d7-0706-4ba2-b0ed-28975475e36c",
   "metadata": {},
   "outputs": [],
   "source": [
    "from general import *"
   ]
  },
  {
   "cell_type": "code",
   "execution_count": 4,
   "id": "16ab78a2-78b8-4d34-b8b0-33041536c7f9",
   "metadata": {},
   "outputs": [],
   "source": [
    "discord_path = '../data/social/discord/'\n",
    "facebook_paths = ['../data/social/facebook1/',\n",
    "                  '../data/social/facebook2/']\n",
    "instagram_path = ['../data/social/instagram/']"
   ]
  },
  {
   "cell_type": "code",
   "execution_count": 5,
   "id": "9d22a89f-98f2-47b8-9beb-a94964434bbf",
   "metadata": {},
   "outputs": [],
   "source": [
    "def load_all(loader, dir):\n",
    "    buff = []\n",
    "    if not os.path.isdir(dir): return buff\n",
    "    for i in os.listdir(dir):\n",
    "        buff.append(loader(dir + i))\n",
    "    return buff\n",
    "        \n",
    "\n",
    "chats = []\n",
    "chats += load_all(datasets.load_discord, discord_path)\n",
    "\n",
    "for fb in facebook_paths:\n",
    "    chats += load_all(datasets.load_messenger, fb + 'messages/inbox/')\n",
    "    chats += load_all(datasets.load_messenger, fb + 'messages/archived_threads/')\n",
    "    chats += load_all(datasets.load_messenger, fb + 'messages/e2ee_cutover/')\n",
    "    chats += load_all(datasets.load_messenger, fb + 'messages/filtered_threads/')\n",
    "\n",
    "original_chats = chats"
   ]
  },
  {
   "cell_type": "code",
   "execution_count": 6,
   "id": "cd2f46cd-982d-40dd-8d2c-a546e7702cf5",
   "metadata": {},
   "outputs": [
    {
     "data": {
      "text/plain": [
       "171"
      ]
     },
     "execution_count": 6,
     "metadata": {},
     "output_type": "execute_result"
    }
   ],
   "source": [
    "len(original_chats)"
   ]
  },
  {
   "cell_type": "code",
   "execution_count": 7,
   "id": "2a3edf2f-c48d-4b76-91d1-5b7b99d39ad9",
   "metadata": {},
   "outputs": [
    {
     "data": {
      "text/html": [
       "<table style=\"width: 100%\"><tr>\n",
       "                    <td style=\"vertical-align: top; white-space: nowrap; width: 10em; overflow: hidden; text-overflow: ellipsis\">patztablook22</td>\n",
       "                    <td style=\"text-align: left;\"><span style=\"white-space: pre\">lol </span></td></tr><tr>\n",
       "                    <td style=\"vertical-align: top; white-space: nowrap; width: 10em; overflow: hidden; text-overflow: ellipsis\">jasaf3</td>\n",
       "                    <td style=\"text-align: left;\"><span style=\"white-space: pre\">My life and relation to reality is becoming exceedingly odd </span></td></tr><tr>\n",
       "                    <td style=\"vertical-align: top; white-space: nowrap; width: 10em; overflow: hidden; text-overflow: ellipsis\">jasaf3</td>\n",
       "                    <td style=\"text-align: left;\"><span style=\"white-space: pre\">Mental asylums seem like liminal spaces, however </span></td></tr><tr>\n",
       "                    <td style=\"vertical-align: top; white-space: nowrap; width: 10em; overflow: hidden; text-overflow: ellipsis\">jasaf3</td>\n",
       "                    <td style=\"text-align: left;\"><span style=\"white-space: pre\">They really want to keep the capacity at the minimum </span></td></tr><tr>\n",
       "                    <td style=\"vertical-align: top; white-space: nowrap; width: 10em; overflow: hidden; text-overflow: ellipsis\">jasaf3</td>\n",
       "                    <td style=\"text-align: left;\"><span style=\"white-space: pre\">So it's not a worthwhile cope </span></td></tr><tr>\n",
       "                    <td style=\"vertical-align: top; white-space: nowrap; width: 10em; overflow: hidden; text-overflow: ellipsis\">jasaf3</td>\n",
       "                    <td style=\"text-align: left;\"><span style=\"white-space: pre\">Do you think I have narcissism or asperger's syndrome? If not, do I have any other mental illness? If so, which one? </span></td></tr><tr>\n",
       "                    <td style=\"vertical-align: top; white-space: nowrap; width: 10em; overflow: hidden; text-overflow: ellipsis\">jasaf3</td>\n",
       "                    <td style=\"text-align: left;\"><span style=\"white-space: pre\">Then again, since the Colin DeYoung shift, there may not even be mental illnesses, he wants to fuse together his Cybernetic Big Five model with the next release of the DSM. </span></td></tr><tr>\n",
       "                    <td style=\"vertical-align: top; white-space: nowrap; width: 10em; overflow: hidden; text-overflow: ellipsis\">jasaf3</td>\n",
       "                    <td style=\"text-align: left;\"><span style=\"white-space: pre\">what a fucking chad </span></td></tr><tr>\n",
       "                    <td style=\"vertical-align: top; white-space: nowrap; width: 10em; overflow: hidden; text-overflow: ellipsis\">jasaf3</td>\n",
       "                    <td style=\"text-align: left;\"><span style=\"white-space: pre\">Hmm </span></td></tr><tr>\n",
       "                    <td style=\"vertical-align: top; white-space: nowrap; width: 10em; overflow: hidden; text-overflow: ellipsis\">jasaf3</td>\n",
       "                    <td style=\"text-align: left;\"><span style=\"white-space: pre\">How come you are so focused and work so hard in spite of your low conscientiousness? </span></td></tr></table>"
      ],
      "text/plain": [
       "<IPython.core.display.HTML object>"
      ]
     },
     "metadata": {},
     "output_type": "display_data"
    }
   ],
   "source": [
    "datasets.view_excerpt(original_chats[9])"
   ]
  },
  {
   "cell_type": "code",
   "execution_count": 8,
   "id": "b9fdf071-3321-4dc3-94dc-95a1c4953727",
   "metadata": {},
   "outputs": [
    {
     "name": "stdout",
     "output_type": "stream",
     "text": [
      "Total messages   516948\n",
      "Length/message   mean: 33.1, quantiles 10-50-90: 3.0 21.0 93.0\n",
      "With attachment  6.3%\n",
      "With reaction    14.2%\n",
      "Languages        en: 63%, cs: 27%, sk: 6%, de: 4%, ru: 0%\n",
      "Users            Patztablook TwentyTwo: 43%, Scanthning Brot: 14%, Marie Holá: 13%, jasaf3: 9%, patztablook22: 6%, Drew Mac: 3%, Jan Zasadil: 2%, : 2%\n"
     ]
    }
   ],
   "source": [
    "def info(chats):\n",
    "    all = [m for chat in chats for m in chat]\n",
    "    sample = np.random.choice(all, size=1000)\n",
    "    \n",
    "    lengths = [len(m.body) for m in all if len(m.body) != 0]\n",
    "    languages = collections.Counter(filter(lambda l: l is not None, datasets.get_languages(sample, languages=['en', 'cs', 'sk', 'ru', 'de'], threshold=0)))\n",
    "    users = collections.Counter(map(lambda m: m.user, all))\n",
    "    \n",
    "    print(\"Total messages  \", len(all))\n",
    "    print(\"Length/message  \", f\"mean: {np.mean(lengths):.1f}, quantiles 10-50-90: {np.quantile(lengths, 0.10)} {np.quantile(lengths, 0.50)} {np.quantile(lengths, 0.95)}\")\n",
    "    print(\"With attachment \", f\"{len([m for m in all if m.attachments]) / len(all) * 100:.1f}%\")\n",
    "    print(\"With reaction   \", f\"{len([m for m in all if m.reactions]) / len(all) * 100:.1f}%\")\n",
    "    print(\"Languages       \", ', '.join([f\"{l}: {round(f/languages.total()*100)}%\" for l,f in languages.most_common()]))\n",
    "    print(\"Users           \", ', '.join([f\"{u}: {round(f/users.total()*100)}%\" for u,f in users.most_common(8)]))\n",
    "\n",
    "info(original_chats)"
   ]
  },
  {
   "cell_type": "code",
   "execution_count": 9,
   "id": "cee9cbb0-6f15-4535-91fa-1f5e23ab19c6",
   "metadata": {},
   "outputs": [
    {
     "name": "stdout",
     "output_type": "stream",
     "text": [
      "   users  ['patztablook22', 'sberatelbananu']\n",
      "   agents {'patz', 'patztablook22', 'patrik zavoral', 'Patztablook TwentyTwo'}\n",
      "=> users  ['p', 'shannon']\n",
      "\n",
      "   users  ['burnytech', 'patztablook22']\n",
      "   agents {'patz', 'patztablook22', 'patrik zavoral', 'Patztablook TwentyTwo'}\n",
      "=> users  ['angela', 'p']\n",
      "\n",
      "   users  ['tlapik', 'patztablook22']\n",
      "   agents {'patz', 'patztablook22', 'patrik zavoral', 'Patztablook TwentyTwo'}\n",
      "=> users  ['p', 'darrell']\n",
      "\n",
      "   users  ['patztablook22', 'kotlin_enjoyer']\n",
      "   agents {'patz', 'patztablook22', 'patrik zavoral', 'Patztablook TwentyTwo'}\n",
      "=> users  ['p', 'francisco']\n",
      "\n",
      "   users  ['tamkish', 'patztablook22']\n",
      "   agents {'patz', 'patztablook22', 'patrik zavoral', 'Patztablook TwentyTwo'}\n",
      "=> users  ['p', 'david']\n",
      "\n",
      "   users  ['patztablook22', 'yuk1puk3z']\n",
      "   agents {'patz', 'patztablook22', 'patrik zavoral', 'Patztablook TwentyTwo'}\n",
      "=> users  ['andrea', 'p']\n",
      "\n",
      "   users  ['jasaf3', 'patztablook22', 'yuk1puk3z']\n",
      "   agents {'patz', 'patztablook22', 'patrik zavoral', 'Patztablook TwentyTwo'}\n",
      "=> users  ['jamie', 'p', 'mark']\n",
      "\n",
      "   users  ['jasaf3', 'patztablook22', 'yuk1puk3z']\n",
      "   agents {'jasaf3', 'Scanthning Brot'}\n",
      "=> users  ['p', 'tiffany', 'derrick']\n",
      "\n",
      "   users  ['patztablook22', '.herbertx']\n",
      "   agents {'patz', 'patztablook22', 'patrik zavoral', 'Patztablook TwentyTwo'}\n",
      "=> users  ['p', 'anita']\n",
      "\n",
      "   users  ['patztablook22', 'macromackerel']\n",
      "   agents {'patz', 'patztablook22', 'patrik zavoral', 'Patztablook TwentyTwo'}\n",
      "=> users  ['p', 'kimberly']\n",
      "\n",
      "   users  ['jasaf3', 'patztablook22']\n",
      "   agents {'patz', 'patztablook22', 'patrik zavoral', 'Patztablook TwentyTwo'}\n",
      "=> users  ['p', 'james']\n",
      "\n",
      "   users  ['jasaf3', 'patztablook22']\n",
      "   agents {'jasaf3', 'Scanthning Brot'}\n",
      "=> users  ['p', 'harold']\n",
      "\n",
      "   users  ['patztablook22', 'bender1']\n",
      "   agents {'patz', 'patztablook22', 'patrik zavoral', 'Patztablook TwentyTwo'}\n",
      "=> users  ['p', 'alexander']\n",
      "\n",
      "   users  ['patztablook22', 'utheraptor']\n",
      "   agents {'patz', 'patztablook22', 'patrik zavoral', 'Patztablook TwentyTwo'}\n",
      "=> users  ['p', 'kevin']\n",
      "\n",
      "   users  ['patztablook22', 'tha_jokar']\n",
      "   agents {'patz', 'patztablook22', 'patrik zavoral', 'Patztablook TwentyTwo'}\n",
      "=> users  ['p', 'elizabeth']\n",
      "\n",
      "   users  ['patztablook22', 'alphav.']\n",
      "   agents {'patz', 'patztablook22', 'patrik zavoral', 'Patztablook TwentyTwo'}\n",
      "=> users  ['p', 'tamara']\n",
      "\n",
      "   users  ['patztablook22', 'pheeck']\n",
      "   agents {'patz', 'patztablook22', 'patrik zavoral', 'Patztablook TwentyTwo'}\n",
      "=> users  ['p', 'bradley']\n",
      "\n",
      "   users  ['Patztablook TwentyTwo', 'Vojta Polena']\n",
      "   agents {'patz', 'patztablook22', 'patrik zavoral', 'Patztablook TwentyTwo'}\n",
      "=> users  ['p', 'James Barber']\n",
      "\n",
      "   users  ['Daniel Mahdal', 'Patztablook TwentyTwo']\n",
      "   agents {'patz', 'patztablook22', 'patrik zavoral', 'Patztablook TwentyTwo'}\n",
      "=> users  ['p', 'Amanda Cox']\n",
      "\n",
      "   users  ['Jan Vorel', 'Patztablook TwentyTwo']\n",
      "   agents {'patz', 'patztablook22', 'patrik zavoral', 'Patztablook TwentyTwo'}\n",
      "=> users  ['p', 'Jonathan Lee']\n",
      "\n",
      "   users  ['Josef Jon', 'Patztablook TwentyTwo']\n",
      "   agents {'patz', 'patztablook22', 'patrik zavoral', 'Patztablook TwentyTwo'}\n",
      "=> users  ['p', 'Morgan Gray']\n",
      "\n",
      "   users  ['Patztablook TwentyTwo', 'Vendy Růžičková']\n",
      "   agents {'patz', 'patztablook22', 'patrik zavoral', 'Patztablook TwentyTwo'}\n",
      "=> users  ['p', 'Linda Davis']\n",
      "\n",
      "   users  ['Kika Suváková', 'Patztablook TwentyTwo', 'Jakub Landsperský', 'Honza Škrabálek', 'Martin Kánássy']\n",
      "   agents {'patz', 'patztablook22', 'patrik zavoral', 'Patztablook TwentyTwo'}\n",
      "=> users  ['Melvin Webb DVM', 'Emily Wall', 'p', 'Bonnie Ramirez', 'Devin Navarro']\n",
      "\n",
      "   users  ['Patztablook TwentyTwo', 'Marie Holá']\n",
      "   agents {'patz', 'patztablook22', 'patrik zavoral', 'Patztablook TwentyTwo'}\n",
      "=> users  ['p', 'Tyler Perez']\n",
      "\n",
      "   users  ['Matu Mantalenka', 'Patztablook TwentyTwo']\n",
      "   agents {'patz', 'patztablook22', 'patrik zavoral', 'Patztablook TwentyTwo'}\n",
      "=> users  ['p', 'Jason Gonzalez']\n",
      "\n",
      "   users  ['Patztablook TwentyTwo', 'Tomáš Plhák']\n",
      "   agents {'patz', 'patztablook22', 'patrik zavoral', 'Patztablook TwentyTwo'}\n",
      "=> users  ['p', 'Jerry Duffy']\n",
      "\n",
      "   users  ['Adriana Schmotzerová', 'Patztablook TwentyTwo']\n",
      "   agents {'patz', 'patztablook22', 'patrik zavoral', 'Patztablook TwentyTwo'}\n",
      "=> users  ['p', 'Jeff Simmons']\n",
      "\n",
      "   users  ['David Lejdar', 'Patztablook TwentyTwo']\n",
      "   agents {'patz', 'patztablook22', 'patrik zavoral', 'Patztablook TwentyTwo'}\n",
      "=> users  ['p', 'Tara Hester']\n",
      "\n",
      "   users  ['Patztablook TwentyTwo', 'Klára Kučerová']\n",
      "   agents {'patz', 'patztablook22', 'patrik zavoral', 'Patztablook TwentyTwo'}\n",
      "=> users  ['p', 'Amanda Mills']\n",
      "\n",
      "   users  ['Patztablook TwentyTwo', 'Aneta Kahleová']\n",
      "   agents {'patz', 'patztablook22', 'patrik zavoral', 'Patztablook TwentyTwo'}\n",
      "=> users  ['Amanda Russo', 'p']\n",
      "\n",
      "   users  ['Jakub Čatloš', 'Patztablook TwentyTwo']\n",
      "   agents {'patz', 'patztablook22', 'patrik zavoral', 'Patztablook TwentyTwo'}\n",
      "=> users  ['p', 'Bridget Bird']\n",
      "\n",
      "   users  ['Patztablook TwentyTwo', 'Ondřej Smolík']\n",
      "   agents {'patz', 'patztablook22', 'patrik zavoral', 'Patztablook TwentyTwo'}\n",
      "=> users  ['p', 'Carl Randall']\n",
      "\n",
      "   users  ['Martin Picek', 'Patztablook TwentyTwo']\n",
      "   agents {'patz', 'patztablook22', 'patrik zavoral', 'Patztablook TwentyTwo'}\n",
      "=> users  ['p', 'Suzanne Alexander']\n",
      "\n",
      "   users  ['Filip Úradník', 'David Ryzák', 'Patztablook TwentyTwo', 'Petr Vincena', 'Martin Černý', 'Júlia Križanová', 'Richard Mužík']\n",
      "   agents {'patz', 'patztablook22', 'patrik zavoral', 'Patztablook TwentyTwo'}\n",
      "=> users  ['Lisa Ho', 'Erin Roberson', 'p', 'Mark Holloway', 'Kenneth Olson', 'Alexander Bryan', 'William Rivera']\n",
      "\n",
      "   users  ['Adam Švestka', 'Patztablook TwentyTwo']\n",
      "   agents {'patz', 'patztablook22', 'patrik zavoral', 'Patztablook TwentyTwo'}\n",
      "=> users  ['p', 'Kyle Robbins']\n",
      "\n",
      "   users  ['Katie Alzbeta Brown', 'Patztablook TwentyTwo']\n",
      "   agents {'patz', 'patztablook22', 'patrik zavoral', 'Patztablook TwentyTwo'}\n",
      "=> users  ['p', 'Jennifer Williams']\n",
      "\n",
      "   users  ['Vítek Matějíček', 'Patztablook TwentyTwo']\n",
      "   agents {'patz', 'patztablook22', 'patrik zavoral', 'Patztablook TwentyTwo'}\n",
      "=> users  ['p', 'Stephen Cook']\n",
      "\n",
      "   users  ['Kristýna Harvanová', 'Patztablook TwentyTwo']\n",
      "   agents {'patz', 'patztablook22', 'patrik zavoral', 'Patztablook TwentyTwo'}\n",
      "=> users  ['p', 'Jamie Mercer']\n",
      "\n",
      "   users  ['David Stern', 'Patztablook TwentyTwo']\n",
      "   agents {'patz', 'patztablook22', 'patrik zavoral', 'Patztablook TwentyTwo'}\n",
      "=> users  ['p', 'Julie Cook']\n",
      "\n",
      "   users  ['Patztablook TwentyTwo', 'Manka Roblíková']\n",
      "   agents {'patz', 'patztablook22', 'patrik zavoral', 'Patztablook TwentyTwo'}\n",
      "=> users  ['p', 'John Lopez']\n",
      "\n",
      "   users  ['Kuba Bartoněk', 'Patztablook TwentyTwo', 'Richard Kokštein', 'Vojta Pařil', 'Ondřej Chwiedziuk', 'David Lejdar']\n",
      "   agents {'patz', 'patztablook22', 'patrik zavoral', 'Patztablook TwentyTwo'}\n",
      "=> users  ['Chelsea Schwartz', 'p', 'Jennifer Ramos', 'Laurie Park', 'Kimberly Cooper', 'Lindsey Park']\n",
      "\n",
      "   users  ['Jan Vaniš', 'Patztablook TwentyTwo']\n",
      "   agents {'patz', 'patztablook22', 'patrik zavoral', 'Patztablook TwentyTwo'}\n",
      "=> users  ['p', 'Randall Gomez']\n",
      "\n",
      "   users  ['Patztablook TwentyTwo', 'Jakub Tichanek']\n",
      "   agents {'patz', 'patztablook22', 'patrik zavoral', 'Patztablook TwentyTwo'}\n",
      "=> users  ['p', 'Anna Curtis']\n",
      "\n",
      "   users  ['Patztablook TwentyTwo', 'Anna Gregušová']\n",
      "   agents {'patz', 'patztablook22', 'patrik zavoral', 'Patztablook TwentyTwo'}\n",
      "=> users  ['p', 'Michael Deleon']\n",
      "\n",
      "   users  ['Jiří Zavoral', 'Patztablook TwentyTwo']\n",
      "   agents {'patz', 'patztablook22', 'patrik zavoral', 'Patztablook TwentyTwo'}\n",
      "=> users  ['p', 'Alicia Young']\n",
      "\n",
      "   users  ['Jiří Vrba', 'Patztablook TwentyTwo']\n",
      "   agents {'patz', 'patztablook22', 'patrik zavoral', 'Patztablook TwentyTwo'}\n",
      "=> users  ['p', 'Victoria Carroll']\n",
      "\n",
      "   users  ['Jaroslav Žukov', 'Patztablook TwentyTwo']\n",
      "   agents {'patz', 'patztablook22', 'patrik zavoral', 'Patztablook TwentyTwo'}\n",
      "=> users  ['p', 'David Coffey']\n",
      "\n",
      "   users  ['Pája Holman', 'Adéla Karolína Žáčková', 'Petr Čaboun', 'Klára Grinerová', 'Adam Auerswald', 'Fanda Mlejnský', 'Matěj Renc', 'Jenda Nykrýn', 'Marťa Starýchfojtů', 'Roman Mikoláš', 'Tomáš Zobal', 'Alexander Terziev', 'Vašík Blackie Fencl', 'Ondřej Kunc', 'Veronika Musílková', 'Dominik Švarc', 'Jiří Hermann', 'Patztablook TwentyTwo', 'Jan Zasadil', 'Soňa Feskova', 'Lucie Marečková', 'Jocka Vidovičová', 'Vašek Belza', 'Klára Homolková', 'Adam Kobes', 'Lukáš Nedbálek', 'Filip Jakub', 'Štěpán Hanzálek', 'Jaromír Kadlčík', 'Tomáš Mazák', 'Tea Samouk', 'Daníček Pondělíček', 'Adam Dvořák', 'Marek Honsnejman']\n",
      "   agents {'patz', 'patztablook22', 'patrik zavoral', 'Patztablook TwentyTwo'}\n",
      "=> users  ['Grant Schmidt', 'Dale Mooney', 'Darlene Bolton', 'p', 'Joshua Hubbard', 'Margaret Brown', 'Debra Tyler', 'Mr. Robert Allen DDS', 'Tommy Gentry', 'Scott Martin', 'Kathryn Beasley', 'David Rojas', 'Alex Rodriguez', 'Robin Warren', 'Deborah Mejia', 'Virginia Shields', 'Shane Davis', 'Andrew Frazier', 'Patrick Ritter', 'Nicholas Anderson', 'Cindy Rosario', 'Carrie Rosario', 'Mrs. Ashley Krause', 'Vickie Brown', 'Brianna Mcdaniel', 'Anthony Cline', 'Allison Martin', 'Brad Lewis', 'Eric Allen', 'Jason Phillips', 'Shelby Hanson', 'Kevin Davis', 'John Henderson', 'Austin Ramirez']\n",
      "\n",
      "   users  ['Patztablook TwentyTwo']\n",
      "   agents {'patz', 'patztablook22', 'patrik zavoral', 'Patztablook TwentyTwo'}\n",
      "=> users  ['p']\n",
      "\n",
      "   users  ['Kryštof Bělka', 'Anežka Pokorná', 'Eliška Milá', 'Eliška Šišková', 'Michal Műller', 'Bibi Klementová', 'Kamil Krištof', 'Ondra Fiala', 'Martin Stýblo', 'Jakub Dýn', 'Patztablook TwentyTwo', 'Víťa Kojzar', 'Daniel Borýsek', 'Jan Čamr', 'Prokop Šenkyřík', 'Tomáš Vašata', 'Pavel Blažek', 'Michal Doležal', 'Johan von Sax']\n",
      "   agents {'patz', 'patztablook22', 'patrik zavoral', 'Patztablook TwentyTwo'}\n",
      "=> users  ['Timothy Dunlap', 'p', 'James Miller', 'Alicia Acosta', 'Jonathan Brown', 'Megan Shea', 'Andre Duran', 'Tiffany Hester', 'Lisa Hicks', 'Kaylee Woods', 'Jacqueline Clark', 'Lori Jonathan', 'Jonathan Perez', 'Oscar Randall', 'Terry Clark', 'Jonathan Faulkner', 'Robert Lawson', 'Thomas Reynolds', 'Kara Davis']\n",
      "\n",
      "   users  ['Kika Suváková', 'Patztablook TwentyTwo']\n",
      "   agents {'patz', 'patztablook22', 'patrik zavoral', 'Patztablook TwentyTwo'}\n",
      "=> users  ['p', 'Jimmy Lewis']\n",
      "\n",
      "   users  ['Patztablook TwentyTwo']\n",
      "   agents {'patz', 'patztablook22', 'patrik zavoral', 'Patztablook TwentyTwo'}\n",
      "=> users  ['p']\n",
      "\n",
      "   users  ['Patztablook TwentyTwo', 'Víťa Kojzar']\n",
      "   agents {'patz', 'patztablook22', 'patrik zavoral', 'Patztablook TwentyTwo'}\n",
      "=> users  ['p', 'Sylvia Jones']\n",
      "\n",
      "   users  ['Patztablook TwentyTwo', 'Filip Baader']\n",
      "   agents {'patz', 'patztablook22', 'patrik zavoral', 'Patztablook TwentyTwo'}\n",
      "=> users  ['p', 'Matthew Ferguson']\n",
      "\n",
      "   users  ['Filip Čacký', 'Patztablook TwentyTwo']\n",
      "   agents {'patz', 'patztablook22', 'patrik zavoral', 'Patztablook TwentyTwo'}\n",
      "=> users  ['p', 'Melissa Stafford']\n",
      "\n",
      "   users  ['Patztablook TwentyTwo', 'Robin Stringer']\n",
      "   agents {'patz', 'patztablook22', 'patrik zavoral', 'Patztablook TwentyTwo'}\n",
      "=> users  ['p', 'Mr. Thomas Johnson']\n",
      "\n",
      "   users  ['David Stern', 'Honza Feireisl', 'Filip Kastl', 'Patztablook TwentyTwo']\n",
      "   agents {'patz', 'patztablook22', 'patrik zavoral', 'Patztablook TwentyTwo'}\n",
      "=> users  ['p', 'Michael Kelly', 'Anthony Bradford', 'Brandon Cruz']\n",
      "\n",
      "   users  ['Patztablook TwentyTwo', 'Jakub Landsperský', 'Honza Škrabálek']\n",
      "   agents {'patz', 'patztablook22', 'patrik zavoral', 'Patztablook TwentyTwo'}\n",
      "=> users  ['p', 'Melinda Marshall', 'Ashley Baker']\n",
      "\n",
      "   users  ['Patztablook TwentyTwo', 'Tomáš Kadlec']\n",
      "   agents {'patz', 'patztablook22', 'patrik zavoral', 'Patztablook TwentyTwo'}\n",
      "=> users  ['p', 'Mariah Hamilton']\n",
      "\n",
      "   users  ['Richard Kokštein', 'Patztablook TwentyTwo']\n",
      "   agents {'patz', 'patztablook22', 'patrik zavoral', 'Patztablook TwentyTwo'}\n",
      "=> users  ['p', 'Tonya Cox']\n",
      "\n",
      "   users  ['Jakub Landsperský', 'Kika Suváková', 'Patztablook TwentyTwo', 'Adam Červenka']\n",
      "   agents {'patz', 'patztablook22', 'patrik zavoral', 'Patztablook TwentyTwo'}\n",
      "=> users  ['p', 'Jorge Davis', 'Paul Brooks', 'Robyn Henson']\n",
      "\n",
      "   users  ['Mára Neuman', 'Patztablook TwentyTwo']\n",
      "   agents {'patz', 'patztablook22', 'patrik zavoral', 'Patztablook TwentyTwo'}\n",
      "=> users  ['p', 'Jennifer Thomas']\n",
      "\n",
      "   users  ['Mikuláš Holý', 'Patztablook TwentyTwo']\n",
      "   agents {'patz', 'patztablook22', 'patrik zavoral', 'Patztablook TwentyTwo'}\n",
      "=> users  ['p', 'Kathy Smith']\n",
      "\n",
      "   users  ['Adam Zema', 'Kika Suváková', 'Martin Pacak', 'Patztablook TwentyTwo', 'Jakub Landsperský', 'Honza Škrabálek', 'Maroš Mešter', 'Miroslav Šimlaštík', 'Štěpán Adam Chovaneček', 'Ondřej Chwiedziuk', 'Martin Kánássy', 'Adéla Řezáčová']\n",
      "   agents {'patz', 'patztablook22', 'patrik zavoral', 'Patztablook TwentyTwo'}\n",
      "=> users  ['Tracey Lee', 'Brian Ryan', 'Mr. Steve Fitzpatrick', 'p', 'Elijah Roberts', 'Meagan King', 'Alexander Jensen', 'Rebecca Whitehead', 'Leah Whiteheads', 'Monique Pugh', 'Kimberly Wells', 'Bobby Nelson']\n",
      "\n",
      "   users  ['Patztablook TwentyTwo', 'Michal Zavoral']\n",
      "   agents {'patz', 'patztablook22', 'patrik zavoral', 'Patztablook TwentyTwo'}\n",
      "=> users  ['p', 'Matthew Strong']\n",
      "\n",
      "   users  ['Patrik Jones', 'Patztablook TwentyTwo']\n",
      "   agents {'patz', 'patztablook22', 'patrik zavoral', 'Patztablook TwentyTwo'}\n",
      "=> users  ['p', 'Angela Obrien']\n",
      "\n",
      "   users  ['Patztablook TwentyTwo', 'Malcolm Diene']\n",
      "   agents {'patz', 'patztablook22', 'patrik zavoral', 'Patztablook TwentyTwo'}\n",
      "=> users  ['p', 'Xavier Bentley']\n",
      "\n",
      "   users  ['Patztablook TwentyTwo', 'Adam Dvořák']\n",
      "   agents {'patz', 'patztablook22', 'patrik zavoral', 'Patztablook TwentyTwo'}\n",
      "=> users  ['p', 'James Hall']\n",
      "\n",
      "   users  ['Karin Zamrazilová', 'Patztablook TwentyTwo']\n",
      "   agents {'patz', 'patztablook22', 'patrik zavoral', 'Patztablook TwentyTwo'}\n",
      "=> users  ['Ashley Marshall', 'p']\n",
      "\n",
      "   users  ['Michael Ševčík', 'Patztablook TwentyTwo']\n",
      "   agents {'patz', 'patztablook22', 'patrik zavoral', 'Patztablook TwentyTwo'}\n",
      "=> users  ['p', 'Destiny Parker']\n",
      "\n",
      "   users  ['Sisi Štráchalová', 'Patztablook TwentyTwo']\n",
      "   agents {'patz', 'patztablook22', 'patrik zavoral', 'Patztablook TwentyTwo'}\n",
      "=> users  ['p', 'Rachael Dyer']\n",
      "\n",
      "   users  ['Patztablook TwentyTwo', 'Václav Svoboda']\n",
      "   agents {'patz', 'patztablook22', 'patrik zavoral', 'Patztablook TwentyTwo'}\n",
      "=> users  ['p', 'Margaret Wolfe']\n",
      "\n",
      "   users  ['Patztablook TwentyTwo', 'Martin Kánássy']\n",
      "   agents {'patz', 'patztablook22', 'patrik zavoral', 'Patztablook TwentyTwo'}\n",
      "=> users  ['p', 'David Hutchinson']\n",
      "\n",
      "   users  ['Jakub Bartuška', 'Karin Zamrazilová', 'Petra Janíčková', 'Monika Němcová', 'Mari Hejlova', 'Jan Zhouf', 'Sára Jirků', 'Eliška Kadubcová', 'Jan Dvořák', 'Honza Škrabálek', 'Káťa Sládková', 'Oliver Melicherčík', 'Peter Guba', 'Barbora Mudrova', 'Patztablook TwentyTwo', 'Anton Sverlov', 'Maria Orendacova', 'Ondřej Bečev', 'Jan Čapek', 'Alžběta Šrůtková', 'Ivana Dragonová', 'Adam Slavíček', 'Katarína Sokolová', 'Kuba Čapek', 'Hana Kalivodová', 'Nella Gondová', 'Libor Burian', 'Jakub Landsperský', 'Štěpán Jabůrek']\n",
      "   agents {'patz', 'patztablook22', 'patrik zavoral', 'Patztablook TwentyTwo'}\n",
      "=> users  ['Mary West', 'Tanya Gardner', 'James Ellis', 'Austin Smith', 'p', 'Matthew Navarro', 'Kyle Watson', 'Thomas Martinez', 'Samantha Chavez', 'Anthony Duran', 'Matthew Carter', 'Julia Gregory', 'Oscar Wiggins', 'Grace Reese', 'Michael Wright', 'Ronnie Mendoza', 'Mrs. Kendra Gordon', 'Jane Clarke', 'Michael Sanders', 'Mrs.a Coleman', 'Jonathan Williams Jr.', 'Mr. Tanyaio Reed', 'Caroline Duke', 'Teresa Ballard', 'Tyler Davis', 'Jessica Morrison', 'Hunter Cole', 'John Tucker', 'Brittney Walker']\n",
      "\n",
      "   users  ['Honza Feireisl', 'Patztablook TwentyTwo']\n",
      "   agents {'patz', 'patztablook22', 'patrik zavoral', 'Patztablook TwentyTwo'}\n",
      "=> users  ['p', 'Nathan Orozco']\n",
      "\n",
      "   users  ['Patztablook TwentyTwo', 'Jan Franěk']\n",
      "   agents {'patz', 'patztablook22', 'patrik zavoral', 'Patztablook TwentyTwo'}\n",
      "=> users  ['p', 'Jacob Greer']\n",
      "\n",
      "   users  ['Anna Dvořáková', 'Patztablook TwentyTwo']\n",
      "   agents {'patz', 'patztablook22', 'patrik zavoral', 'Patztablook TwentyTwo'}\n",
      "=> users  ['p', 'Jennifer Hughes']\n",
      "\n",
      "   users  ['Martina Zavoralová', 'Patztablook TwentyTwo']\n",
      "   agents {'patz', 'patztablook22', 'patrik zavoral', 'Patztablook TwentyTwo'}\n",
      "=> users  ['p', 'Kevin Koch']\n",
      "\n",
      "   users  ['Yulia Korotkova', 'Patztablook TwentyTwo']\n",
      "   agents {'patz', 'patztablook22', 'patrik zavoral', 'Patztablook TwentyTwo'}\n",
      "=> users  ['p', 'James Trevino']\n",
      "\n",
      "   users  ['Martin McNickle', 'Patztablook TwentyTwo']\n",
      "   agents {'patz', 'patztablook22', 'patrik zavoral', 'Patztablook TwentyTwo'}\n",
      "=> users  ['p', 'Logan Thomas']\n",
      "\n",
      "   users  ['Patztablook TwentyTwo']\n",
      "   agents {'patz', 'patztablook22', 'patrik zavoral', 'Patztablook TwentyTwo'}\n",
      "=> users  ['p']\n",
      "\n",
      "   users  ['Vojta Kotiš', 'Láďa Paur', 'Patztablook TwentyTwo', 'Filip Kastl']\n",
      "   agents {'patz', 'patztablook22', 'patrik zavoral', 'Patztablook TwentyTwo'}\n",
      "=> users  ['p', 'Kristina Walker', 'Crystal Watts', 'Carrie Nelson']\n",
      "\n",
      "   users  ['Patztablook TwentyTwo', 'Michal Zavoral']\n",
      "   agents {'patz', 'patztablook22', 'patrik zavoral', 'Patztablook TwentyTwo'}\n",
      "=> users  ['p', 'Chad Miller']\n",
      "\n",
      "   users  ['Patztablook TwentyTwo', 'Jenda Nykrýn']\n",
      "   agents {'patz', 'patztablook22', 'patrik zavoral', 'Patztablook TwentyTwo'}\n",
      "=> users  ['p', 'Jeffrey Lawrence']\n",
      "\n",
      "   users  ['Martin McNickle', 'Patztablook TwentyTwo', 'Drew Mac', 'Rawen Dorfin', 'Robin Stringer', 'Sigismund Häggkvist']\n",
      "   agents {'patz', 'patztablook22', 'patrik zavoral', 'Patztablook TwentyTwo'}\n",
      "=> users  ['Sarah Smith', 'p', 'Damon Houston', 'Nicholas Wilson', 'Michael Stevens', 'Brian Shaw']\n",
      "\n",
      "   users  ['Martin McNickle', 'Patztablook TwentyTwo', 'Drew Mac', 'Rawen Dorfin', 'Robin Stringer', 'Sigismund Häggkvist']\n",
      "   agents {'Drew Mac'}\n",
      "=> users  ['Curtis Allen', 'p', 'Felicia Mann', 'Heather Romero', 'Frank Watkins', 'Grace Mathews']\n",
      "\n",
      "   users  ['Sebastian Duarte', 'Patztablook TwentyTwo']\n",
      "   agents {'patz', 'patztablook22', 'patrik zavoral', 'Patztablook TwentyTwo'}\n",
      "=> users  ['p', 'Phillip Lee']\n",
      "\n",
      "   users  ['Pomat 794', 'Patztablook TwentyTwo']\n",
      "   agents {'patz', 'patztablook22', 'patrik zavoral', 'Patztablook TwentyTwo'}\n",
      "=> users  ['p', 'James Hahn Jr.']\n",
      "\n",
      "   users  ['', 'Patztablook TwentyTwo']\n",
      "   agents {'patz', 'patztablook22', 'patrik zavoral', 'Patztablook TwentyTwo'}\n",
      "=> users  ['p', 'vincent tanner']\n",
      "\n",
      "   users  ['Šimon Brecher', 'Patztablook TwentyTwo']\n",
      "   agents {'patz', 'patztablook22', 'patrik zavoral', 'Patztablook TwentyTwo'}\n",
      "=> users  ['p', 'Teresa Lee']\n",
      "\n",
      "   users  ['Fanda Mlejnský', 'Patztablook TwentyTwo']\n",
      "   agents {'patz', 'patztablook22', 'patrik zavoral', 'Patztablook TwentyTwo'}\n",
      "=> users  ['p', 'Amber Jones']\n",
      "\n",
      "   users  ['Pomat Pomat', 'Patztablook TwentyTwo']\n",
      "   agents {'patz', 'patztablook22', 'patrik zavoral', 'Patztablook TwentyTwo'}\n",
      "=> users  ['p', 'Patricia Wang']\n",
      "\n",
      "   users  ['Matěj Splavec', 'Patztablook TwentyTwo', 'Scanthning Brot']\n",
      "   agents {'patz', 'patztablook22', 'patrik zavoral', 'Patztablook TwentyTwo'}\n",
      "=> users  ['p', 'Brenda Thompson', 'Alexander Davis']\n",
      "\n",
      "   users  ['Matěj Splavec', 'Patztablook TwentyTwo', 'Scanthning Brot']\n",
      "   agents {'jasaf3', 'Scanthning Brot'}\n",
      "=> users  ['p', 'Matthew Maddox', 'Lindsay Jones']\n",
      "\n",
      "   users  ['Drew Mac', 'Patztablook TwentyTwo', 'Robin Stringer']\n",
      "   agents {'patz', 'patztablook22', 'patrik zavoral', 'Patztablook TwentyTwo'}\n",
      "=> users  ['p', 'Heather Hall', 'Jacqueline Watts']\n",
      "\n",
      "   users  ['Drew Mac', 'Patztablook TwentyTwo', 'Robin Stringer']\n",
      "   agents {'Drew Mac'}\n",
      "=> users  ['p', 'Brian Willis', 'Jennifer Carter']\n",
      "\n",
      "   users  ['Jiří Vrba', '', 'Patztablook TwentyTwo', 'Marie Holá']\n",
      "   agents {'patz', 'patztablook22', 'patrik zavoral', 'Patztablook TwentyTwo'}\n",
      "=> users  ['john bautista', 'p', 'Amber Holland', 'Charles Fernandez']\n",
      "\n",
      "   users  ['Patztablook TwentyTwo']\n",
      "   agents {'patz', 'patztablook22', 'patrik zavoral', 'Patztablook TwentyTwo'}\n",
      "=> users  ['p']\n",
      "\n",
      "   users  ['', 'Patztablook TwentyTwo']\n",
      "   agents {'patz', 'patztablook22', 'patrik zavoral', 'Patztablook TwentyTwo'}\n",
      "=> users  ['p', 'rebecca bush']\n",
      "\n",
      "   users  ['Vinicius Natan', 'Patztablook TwentyTwo']\n",
      "   agents {'patz', 'patztablook22', 'patrik zavoral', 'Patztablook TwentyTwo'}\n",
      "=> users  ['p', 'Judith Adkins']\n",
      "\n",
      "   users  ['Scanthning Brot']\n",
      "   agents {'jasaf3', 'Scanthning Brot'}\n",
      "=> users  ['p']\n",
      "\n",
      "   users  ['Patztablook TwentyTwo', 'Anthony Hani', 'Scanthning Brot']\n",
      "   agents {'patz', 'patztablook22', 'patrik zavoral', 'Patztablook TwentyTwo'}\n",
      "=> users  ['Holly Flores', 'p', 'Courtney Fuller']\n",
      "\n",
      "   users  ['Patztablook TwentyTwo', 'Anthony Hani', 'Scanthning Brot']\n",
      "   agents {'jasaf3', 'Scanthning Brot'}\n",
      "=> users  ['p', 'John Dickerson', 'Joel Smith']\n",
      "\n",
      "   users  ['Patztablook TwentyTwo', 'Adéla Karolína Žáčková']\n",
      "   agents {'patz', 'patztablook22', 'patrik zavoral', 'Patztablook TwentyTwo'}\n",
      "=> users  ['p', 'Jessica Crawford']\n",
      "\n",
      "   users  ['Patztablook TwentyTwo']\n",
      "   agents {'patz', 'patztablook22', 'patrik zavoral', 'Patztablook TwentyTwo'}\n",
      "=> users  ['p']\n",
      "\n",
      "   users  ['Patztablook TwentyTwo']\n",
      "   agents {'patz', 'patztablook22', 'patrik zavoral', 'Patztablook TwentyTwo'}\n",
      "=> users  ['p']\n",
      "\n",
      "   users  ['Patztablook TwentyTwo', 'Vojta Větrovec']\n",
      "   agents {'patz', 'patztablook22', 'patrik zavoral', 'Patztablook TwentyTwo'}\n",
      "=> users  ['Michael James', 'p']\n",
      "\n",
      "   users  ['Daníček Pondělíček', 'Patztablook TwentyTwo']\n",
      "   agents {'patz', 'patztablook22', 'patrik zavoral', 'Patztablook TwentyTwo'}\n",
      "=> users  ['p', 'Mark Johnson']\n",
      "\n",
      "   users  ['Marek Bláha', 'Jan Kotásek', 'Patztablook TwentyTwo', 'David Lovíšek', 'Tadeáš Cibulka', 'Aneta Špeldová', 'Filip Zoula', 'Šimon Vojtek', 'Milan Bubák', 'Vojta Větrovec', 'Josef Walek', 'Manka Roblíková', 'Filip Vencl']\n",
      "   agents {'patz', 'patztablook22', 'patrik zavoral', 'Patztablook TwentyTwo'}\n",
      "=> users  ['Benjamin Cervantes', 'Pamela Mclean', 'Jessica Cline', 'Nicholas Zimmerman', 'p', 'Benjamin Jackson', 'Michelle Steele MD', 'Crystal Espinoza', 'Jason Andersen', 'Jasmine Welch', 'Michael Barnes', 'Deanna Price', 'John Flynn']\n",
      "\n",
      "   users  ['Štěpán Hanzálek', 'Patztablook TwentyTwo']\n",
      "   agents {'patz', 'patztablook22', 'patrik zavoral', 'Patztablook TwentyTwo'}\n",
      "=> users  ['p', 'Jessica Rodriguez']\n",
      "\n",
      "   users  ['Adam Kobes', 'Patztablook TwentyTwo']\n",
      "   agents {'patz', 'patztablook22', 'patrik zavoral', 'Patztablook TwentyTwo'}\n",
      "=> users  ['p', 'Wendy Maldonado']\n",
      "\n",
      "   users  ['Jiří Hermann', 'Patztablook TwentyTwo']\n",
      "   agents {'patz', 'patztablook22', 'patrik zavoral', 'Patztablook TwentyTwo'}\n",
      "=> users  ['p', 'Dorothy Kelly']\n",
      "\n",
      "   users  ['Patztablook TwentyTwo', 'Scanthning Brot']\n",
      "   agents {'patz', 'patztablook22', 'patrik zavoral', 'Patztablook TwentyTwo'}\n",
      "=> users  ['p', 'David Graves']\n",
      "\n",
      "   users  ['Patztablook TwentyTwo', 'Scanthning Brot']\n",
      "   agents {'jasaf3', 'Scanthning Brot'}\n",
      "=> users  ['p', 'Jennifer Mendoza']\n",
      "\n",
      "   users  ['Ondřej Kunc', 'Patztablook TwentyTwo']\n",
      "   agents {'patz', 'patztablook22', 'patrik zavoral', 'Patztablook TwentyTwo'}\n",
      "=> users  ['p', 'Richard Munoz']\n",
      "\n",
      "   users  ['Petr Hošek', 'Patztablook TwentyTwo', 'Jan Zasadil', 'Malcolm Diene', 'Aneta Vejmělková', 'Lukáš Nedbálek', 'Anetka Nguyen', 'Petr Prajzler', 'Jocka Vidovičová', 'Fanda Mlejnský', 'Vojta Větrovec', 'Ondra Marek', 'Tea Samouk', 'Marťa Starýchfojtů']\n",
      "   agents {'patz', 'patztablook22', 'patrik zavoral', 'Patztablook TwentyTwo'}\n",
      "=> users  ['Sonya Perez', 'Kristopher Martin', 'Sara Tate', 'p', 'Mary Peck', 'Desiree Brown', 'James Mendoza', 'Amber Li', 'Mariah Jones', 'Michael Calhoun', 'Mackenzie Jensen', 'John Hubbard', 'Jason Williams', 'Cindy Pitts']\n",
      "\n",
      "   users  ['Patztablook TwentyTwo']\n",
      "   agents {'patz', 'patztablook22', 'patrik zavoral', 'Patztablook TwentyTwo'}\n",
      "=> users  ['p']\n",
      "\n",
      "   users  ['Vítek Matějíček', 'David Stern', 'Patztablook TwentyTwo', 'Filip Kastl']\n",
      "   agents {'patz', 'patztablook22', 'patrik zavoral', 'Patztablook TwentyTwo'}\n",
      "=> users  ['p', 'Casey Giles', 'Steven Zhang', 'Alec Valdez']\n",
      "\n",
      "   users  ['Patztablook TwentyTwo', 'Scanthning Brot']\n",
      "   agents {'patz', 'patztablook22', 'patrik zavoral', 'Patztablook TwentyTwo'}\n",
      "=> users  ['p', 'Darrell Weaver']\n",
      "\n",
      "   users  ['Patztablook TwentyTwo', 'Scanthning Brot']\n",
      "   agents {'jasaf3', 'Scanthning Brot'}\n",
      "=> users  ['p', 'Christopher Wood']\n",
      "\n",
      "   users  ['Pomat Pomat', 'Patztablook TwentyTwo']\n",
      "   agents {'patz', 'patztablook22', 'patrik zavoral', 'Patztablook TwentyTwo'}\n",
      "=> users  ['p', 'James Adams']\n",
      "\n",
      "   users  ['Kryštof Tahal', 'Robin Řádek', 'Jindřiška Holová', 'Jakub Ježek', 'Amélie Novotná', 'Kelli Moore', 'Vojta Větrovec', 'Jakub Tichanek', 'Marie Holá', 'Pavel Novotný', 'Patztablook TwentyTwo', 'Štěpán Chrast', 'Amy Stott', 'Yandere Yandere Nya', 'Adla Adélová', 'Filip Kučera', 'Rían Czerwinski', 'Anthony Hani', 'Matěj Splavec', 'Pomat 794', 'Adam Kobes', 'Jiří Podaný', 'Avery Autumn', 'Scanthning Brot', 'Larenz Blank', 'Taddeo Mancini']\n",
      "   agents {'patz', 'patztablook22', 'patrik zavoral', 'Patztablook TwentyTwo'}\n",
      "=> users  ['Jennifer King', 'Donald Smith', 'p', 'Amanda Dixon', 'Jennifer Clark', 'Justin Rivera', 'Mrs. Christine Lucero', 'Dr. Kenneth Horton', 'Dominique Dixon', 'Lisa Harris', 'Madison Gordon', 'Terry Gonzalez', 'Gilbert Carpenter', 'Carrie Blake', 'Patricia Atkinson', 'Mark Hamilton', 'Amanda Solis', 'Mr. Danny Smith', 'Michael Riley', 'Anne Solis', 'Nicole Gomez', 'Ashley Acosta', 'Kenneth Harris', 'Daniel Leach', 'Marc Harris', 'Nathan French']\n",
      "\n",
      "   users  ['Kryštof Tahal', 'Robin Řádek', 'Jindřiška Holová', 'Jakub Ježek', 'Amélie Novotná', 'Kelli Moore', 'Vojta Větrovec', 'Jakub Tichanek', 'Marie Holá', 'Pavel Novotný', 'Patztablook TwentyTwo', 'Štěpán Chrast', 'Amy Stott', 'Yandere Yandere Nya', 'Adla Adélová', 'Filip Kučera', 'Rían Czerwinski', 'Anthony Hani', 'Matěj Splavec', 'Pomat 794', 'Adam Kobes', 'Jiří Podaný', 'Avery Autumn', 'Scanthning Brot', 'Larenz Blank', 'Taddeo Mancini']\n",
      "   agents {'jasaf3', 'Scanthning Brot'}\n",
      "=> users  ['Jacob Rivera', 'Ashley Myers', 'p', 'Katherine Rodriguez', 'Matthew Skinner', 'Stepharringtone Campos', 'Angela Burch', 'Joseph Simon', 'Aaron Johnson', 'Wendy Farmer', 'Kelsey Reed', 'Marilyn Smith', 'Crystal Hooper', 'Hayley Pena', 'Michael Howell', 'Steven Johnson', 'Wanda Rubio', 'Willie Farmer', 'Dana Olson', 'Kayla Tran', 'Mark Franklin', 'Kimberly Harrington', 'Bkayla Clark', 'Ryan Dixon', 'Amanda Becker', 'Shannon Gardner']\n",
      "\n",
      "   users  ['Patztablook TwentyTwo', 'Marťa Starýchfojtů']\n",
      "   agents {'patz', 'patztablook22', 'patrik zavoral', 'Patztablook TwentyTwo'}\n",
      "=> users  ['p', 'Brandon Hines']\n",
      "\n",
      "   users  ['Patztablook TwentyTwo']\n",
      "   agents {'patz', 'patztablook22', 'patrik zavoral', 'Patztablook TwentyTwo'}\n",
      "=> users  ['p']\n",
      "\n",
      "   users  ['Karel Loula', 'Patztablook TwentyTwo', 'Katie Alzbeta Brown']\n",
      "   agents {'patz', 'patztablook22', 'patrik zavoral', 'Patztablook TwentyTwo'}\n",
      "=> users  ['p', 'Amanda Howard', 'Michelle Wong MD']\n",
      "\n",
      "   users  ['Patztablook TwentyTwo', 'David Stern', 'Vítek Matějíček', 'Honza Feireisl', 'Filip Kastl', 'Linda Kimrová', 'Klara Nieslaniková']\n",
      "   agents {'patz', 'patztablook22', 'patrik zavoral', 'Patztablook TwentyTwo'}\n",
      "=> users  ['Toni Todd', 'p', 'David Sharp', 'Kathryn Howard', 'Kaylee Mejia', 'Tracy Anderson', 'Emma Maynard']\n",
      "\n",
      "   users  ['Patztablook TwentyTwo', 'Jaroslav Žukov', 'David Stern', 'Vojta Polena', 'Vítek Matějíček', 'Honza Feireisl', 'Filip Kastl', 'Petr Martiš']\n",
      "   agents {'patz', 'patztablook22', 'patrik zavoral', 'Patztablook TwentyTwo'}\n",
      "=> users  ['Peter Adams', 'Justin Smith DDS', 'Edwin Gonzalez', 'p', 'Jeremy Evans', 'Jordan Clark', 'Jeremy Perry', 'Teresa Rodriguez']\n",
      "\n",
      "   users  ['Patztablook TwentyTwo', 'Petr Martiš']\n",
      "   agents {'patz', 'patztablook22', 'patrik zavoral', 'Patztablook TwentyTwo'}\n",
      "=> users  ['p', 'Loretta Cabrera']\n",
      "\n",
      "   users  ['Petr Čaboun', 'Patztablook TwentyTwo']\n",
      "   agents {'patz', 'patztablook22', 'patrik zavoral', 'Patztablook TwentyTwo'}\n",
      "=> users  ['p', 'William Townsend']\n",
      "\n",
      "   users  ['', 'Pomat 794', 'Stanislav Abrt', 'Patztablook TwentyTwo', 'Jan Pokorný', 'Jan Pitra', 'Jiří Podaný', 'Martin Hruška', 'Denis Vanin', 'Antonín Skal', 'Facebook User', 'Other user', 'Marie Holá']\n",
      "   agents {'patz', 'patztablook22', 'patrik zavoral', 'Patztablook TwentyTwo'}\n",
      "=> users  ['p', 'Susan Howell', 'Michael Curry', 'Kathy Parrish', 'Robert Lopez', 'Kenneth Krause', 'Courtney Harris', 'jessica williams', 'Brittany Krause', 'Timothy Moran', 'Nancy Allen', 'Christopher French', 'Matthew Alvarez']\n",
      "\n",
      "   users  ['Matouš Pikous', 'Patztablook TwentyTwo']\n",
      "   agents {'patz', 'patztablook22', 'patrik zavoral', 'Patztablook TwentyTwo'}\n",
      "=> users  ['p', 'Teresa Lewis']\n",
      "\n",
      "   users  ['', 'Jan Kotrč', 'Patztablook TwentyTwo', 'Malcolm Diene', 'Patrik Kabrna', 'Other user', 'Vincent Fournier']\n",
      "   agents {'patz', 'patztablook22', 'patrik zavoral', 'Patztablook TwentyTwo'}\n",
      "=> users  ['David Case', 'Michelle Rodriguez', 'p', 'Robert Hawkins', 'ryan garcia', 'David King', 'Linda Johnson']\n",
      "\n",
      "   users  ['Štof Žucha', 'Patztablook TwentyTwo']\n",
      "   agents {'patz', 'patztablook22', 'patrik zavoral', 'Patztablook TwentyTwo'}\n",
      "=> users  ['p', 'Mr. Christopher West']\n",
      "\n",
      "   users  ['Roman Mikoláš', 'Patztablook TwentyTwo']\n",
      "   agents {'patz', 'patztablook22', 'patrik zavoral', 'Patztablook TwentyTwo'}\n",
      "=> users  ['p', 'Walter Buckley']\n",
      "\n",
      "   users  ['Patztablook TwentyTwo', 'Other user']\n",
      "   agents {'patz', 'patztablook22', 'patrik zavoral', 'Patztablook TwentyTwo'}\n",
      "=> users  ['p', 'Shane Harris']\n",
      "\n",
      "   users  ['', 'Patztablook TwentyTwo']\n",
      "   agents {'patz', 'patztablook22', 'patrik zavoral', 'Patztablook TwentyTwo'}\n",
      "=> users  ['p', 'michelle robbins']\n",
      "\n",
      "   users  ['Patztablook TwentyTwo', 'Lenka Čermáková']\n",
      "   agents {'patz', 'patztablook22', 'patrik zavoral', 'Patztablook TwentyTwo'}\n",
      "=> users  ['p', 'Carolyn Doyle']\n",
      "\n",
      "   users  ['Patztablook TwentyTwo', 'Šimon Dutý']\n",
      "   agents {'patz', 'patztablook22', 'patrik zavoral', 'Patztablook TwentyTwo'}\n",
      "=> users  ['p', 'Martin Aguilar']\n",
      "\n",
      "   users  ['Amélie Novotná', 'Patztablook TwentyTwo']\n",
      "   agents {'patz', 'patztablook22', 'patrik zavoral', 'Patztablook TwentyTwo'}\n",
      "=> users  ['p', 'Alexis Reyes']\n",
      "\n",
      "   users  ['Rezi Cibiková', 'Patztablook TwentyTwo']\n",
      "   agents {'patz', 'patztablook22', 'patrik zavoral', 'Patztablook TwentyTwo'}\n",
      "=> users  ['p', 'Lisa Martinez']\n",
      "\n",
      "   users  ['Patztablook TwentyTwo', 'Vojtěch Fulka']\n",
      "   agents {'patz', 'patztablook22', 'patrik zavoral', 'Patztablook TwentyTwo'}\n",
      "=> users  ['p', 'William Gonzalez']\n",
      "\n",
      "   users  ['Erik Bordáč', 'Patztablook TwentyTwo']\n",
      "   agents {'patz', 'patztablook22', 'patrik zavoral', 'Patztablook TwentyTwo'}\n",
      "=> users  ['p', 'Robert Hamilton']\n",
      "\n",
      "   users  ['Patztablook TwentyTwo', 'Hana Zemanová']\n",
      "   agents {'patz', 'patztablook22', 'patrik zavoral', 'Patztablook TwentyTwo'}\n",
      "=> users  ['p', 'Michael Reed']\n",
      "\n",
      "   users  ['Patztablook TwentyTwo', 'Other user']\n",
      "   agents {'patz', 'patztablook22', 'patrik zavoral', 'Patztablook TwentyTwo'}\n",
      "=> users  ['p', 'Kayla Green']\n",
      "\n",
      "   users  ['Jiří Vrba', '', 'Patztablook TwentyTwo', 'Marie Holá']\n",
      "   agents {'patz', 'patztablook22', 'patrik zavoral', 'Patztablook TwentyTwo'}\n",
      "=> users  ['p', 'April Torres', 'Stephanie Lynch', 'amanda mitchell']\n",
      "\n",
      "   users  ['Patztablook TwentyTwo']\n",
      "   agents {'patz', 'patztablook22', 'patrik zavoral', 'Patztablook TwentyTwo'}\n",
      "=> users  ['p']\n",
      "\n",
      "   users  ['', 'Jan Kotrč', 'Patztablook TwentyTwo', 'Malcolm Diene', 'Marie Holá', 'Facebook User', 'Leonardo Mello', 'Jakub Tichanek', 'Audra Brown', 'Kaizo Sama', 'Other user', 'Vincent Fournier']\n",
      "   agents {'patz', 'patztablook22', 'patrik zavoral', 'Patztablook TwentyTwo'}\n",
      "=> users  ['Mary Wilson', 'Jennifer Ramirez', 'Roy Anderson MD', 'Tiffany Wood', 'Jose May', 'p', 'Richard Arnold', 'lauren williams', 'Stephanie Nelson', 'Alicia Lara', 'Rhonda Moses', 'Erin Mayer']\n",
      "\n",
      "   users  ['Patztablook TwentyTwo', 'Vincent Fournier']\n",
      "   agents {'patz', 'patztablook22', 'patrik zavoral', 'Patztablook TwentyTwo'}\n",
      "=> users  ['p', 'Steve Mccoy']\n",
      "\n",
      "   users  ['Patztablook TwentyTwo', 'Jan Zasadil']\n",
      "   agents {'patz', 'patztablook22', 'patrik zavoral', 'Patztablook TwentyTwo'}\n",
      "=> users  ['p', 'Norma Gonzales']\n",
      "\n",
      "   users  ['Roman Mikoláš', 'Patztablook TwentyTwo']\n",
      "   agents {'patz', 'patztablook22', 'patrik zavoral', 'Patztablook TwentyTwo'}\n",
      "=> users  ['p', 'Marilyn Johnson']\n",
      "\n",
      "   users  ['Miroslav Šimlaštík', 'Patztablook TwentyTwo']\n",
      "   agents {'patz', 'patztablook22', 'patrik zavoral', 'Patztablook TwentyTwo'}\n",
      "=> users  ['p', 'Leslie Guerrero']\n",
      "\n",
      "   users  ['Adam Rajsky', 'Patztablook TwentyTwo']\n",
      "   agents {'patz', 'patztablook22', 'patrik zavoral', 'Patztablook TwentyTwo'}\n",
      "=> users  ['p', 'Luis Hernandez']\n",
      "\n",
      "   users  ['Patztablook TwentyTwo', 'Filip Kastl']\n",
      "   agents {'patz', 'patztablook22', 'patrik zavoral', 'Patztablook TwentyTwo'}\n",
      "=> users  ['p', 'Christopher Stewart']\n",
      "\n",
      "   users  ['Patztablook TwentyTwo', 'Jakub Landsperský']\n",
      "   agents {'patz', 'patztablook22', 'patrik zavoral', 'Patztablook TwentyTwo'}\n",
      "=> users  ['p', 'Tanner Anderson']\n",
      "\n",
      "   users  ['Filip Radostný', 'Patztablook TwentyTwo']\n",
      "   agents {'patz', 'patztablook22', 'patrik zavoral', 'Patztablook TwentyTwo'}\n",
      "=> users  ['p', 'Donald Martin']\n",
      "\n",
      "   users  ['Sven Bernas', 'Patztablook TwentyTwo']\n",
      "   agents {'patz', 'patztablook22', 'patrik zavoral', 'Patztablook TwentyTwo'}\n",
      "=> users  ['p', 'Stephanie Jones']\n",
      "\n",
      "   users  ['Patztablook TwentyTwo', 'Lukáš Nedbálek']\n",
      "   agents {'patz', 'patztablook22', 'patrik zavoral', 'Patztablook TwentyTwo'}\n",
      "=> users  ['p', 'Matthew Clark']\n",
      "\n",
      "   users  ['Filip Úradník', 'Patztablook TwentyTwo']\n",
      "   agents {'patz', 'patztablook22', 'patrik zavoral', 'Patztablook TwentyTwo'}\n",
      "=> users  ['p', 'Kyle Hudson']\n",
      "\n",
      "   users  ['Patztablook TwentyTwo', 'Veronika Modrá']\n",
      "   agents {'patz', 'patztablook22', 'patrik zavoral', 'Patztablook TwentyTwo'}\n",
      "=> users  ['p', 'Candice Bowman']\n",
      "\n",
      "   users  ['Patztablook TwentyTwo', 'Matyáš Lorenc']\n",
      "   agents {'patz', 'patztablook22', 'patrik zavoral', 'Patztablook TwentyTwo'}\n",
      "=> users  ['p', 'William Fleming']\n",
      "\n",
      "   users  ['Adam Holda', 'Patztablook TwentyTwo']\n",
      "   agents {'patz', 'patztablook22', 'patrik zavoral', 'Patztablook TwentyTwo'}\n",
      "=> users  ['p', 'Angel Sanchez']\n",
      "\n",
      "   users  ['Drew Mac', 'Patztablook TwentyTwo']\n",
      "   agents {'patz', 'patztablook22', 'patrik zavoral', 'Patztablook TwentyTwo'}\n",
      "=> users  ['p', 'Megan Stark']\n",
      "\n",
      "   users  ['Drew Mac', 'Patztablook TwentyTwo']\n",
      "   agents {'Drew Mac'}\n",
      "=> users  ['p', 'John Payne']\n",
      "\n",
      "   users  ['Patztablook TwentyTwo', 'Ondřej Chwiedziuk']\n",
      "   agents {'patz', 'patztablook22', 'patrik zavoral', 'Patztablook TwentyTwo'}\n",
      "=> users  ['p', 'Kenneth Wilcox']\n",
      "\n",
      "   users  ['Patztablook TwentyTwo', 'Juraj Tkáč']\n",
      "   agents {'patz', 'patztablook22', 'patrik zavoral', 'Patztablook TwentyTwo'}\n",
      "=> users  ['p', 'Paul Herrera']\n",
      "\n",
      "   users  ['Patztablook TwentyTwo', 'Honza Škrabálek']\n",
      "   agents {'patz', 'patztablook22', 'patrik zavoral', 'Patztablook TwentyTwo'}\n",
      "=> users  ['p', 'Melanie Smith']\n",
      "\n",
      "   users  ['Patztablook TwentyTwo']\n",
      "   agents {'patz', 'patztablook22', 'patrik zavoral', 'Patztablook TwentyTwo'}\n",
      "=> users  ['p']\n",
      "\n",
      "   users  ['Patztablook TwentyTwo', 'Filip Bedoya']\n",
      "   agents {'patz', 'patztablook22', 'patrik zavoral', 'Patztablook TwentyTwo'}\n",
      "=> users  ['p', 'Brittany Jones']\n",
      "\n",
      "   users  ['Patztablook TwentyTwo', 'Alexander Terziev']\n",
      "   agents {'patz', 'patztablook22', 'patrik zavoral', 'Patztablook TwentyTwo'}\n",
      "=> users  ['p', 'Andrew Acosta']\n",
      "\n",
      "   users  ['Jaroslav Hořák', 'Patztablook TwentyTwo']\n",
      "   agents {'patz', 'patztablook22', 'patrik zavoral', 'Patztablook TwentyTwo'}\n",
      "=> users  ['p', 'Paul Fischer']\n",
      "\n",
      "   users  ['Patztablook TwentyTwo', 'Tomáš Zasadil']\n",
      "   agents {'patz', 'patztablook22', 'patrik zavoral', 'Patztablook TwentyTwo'}\n",
      "=> users  ['p', 'Brian Hill']\n",
      "\n",
      "   users  ['Petr Hošek', 'Patztablook TwentyTwo', 'Malcolm Diene', 'Alexander Terziev', 'Štěpán Chrast', 'Šimon Dutý', 'Patrik Kabrna', 'Adéla Gabesamová', 'Jakub Tichanek', 'Abudi  Shalabi', 'Adam Dvořák', 'Adam Vanĕček']\n",
      "   agents {'patz', 'patztablook22', 'patrik zavoral', 'Patztablook TwentyTwo'}\n",
      "=> users  ['Patricia Anderson', 'p', 'Gabriel Dixon', 'Mr. William Washington Jr.', 'Elizabeth Freeman', 'Justin Hall', 'Stephanie Cortez DDS', 'Ana Elliott', 'Arthur Foster', 'Gordon Snyder', 'Robin Little', 'Michael Harris']\n",
      "\n",
      "   users  ['Patztablook TwentyTwo', 'Vincent Fournier', 'Scanthning Brot']\n",
      "   agents {'patz', 'patztablook22', 'patrik zavoral', 'Patztablook TwentyTwo'}\n",
      "=> users  ['p', 'Duane Mills', 'Vicki Boyle']\n",
      "\n",
      "   users  ['Patztablook TwentyTwo', 'Vincent Fournier', 'Scanthning Brot']\n",
      "   agents {'jasaf3', 'Scanthning Brot'}\n",
      "=> users  ['p', 'Christine Riley', 'Juan Martinez']\n",
      "\n",
      "   users  ['Patztablook TwentyTwo', 'Scanthning Brot', 'Facebook User', 'Other user', 'Anthony Hani', 'Vincent Fournier']\n",
      "   agents {'patz', 'patztablook22', 'patrik zavoral', 'Patztablook TwentyTwo'}\n",
      "=> users  ['Dr. Russell Foster', 'Joseph Glover', 'p', 'Alex Horn', 'Harold Short', 'Brooke Knight']\n",
      "\n",
      "   users  ['Patztablook TwentyTwo', 'Scanthning Brot', 'Facebook User', 'Other user', 'Anthony Hani', 'Vincent Fournier']\n",
      "   agents {'jasaf3', 'Scanthning Brot'}\n",
      "=> users  ['Laura Horn', 'Linda Mccarthy', 'Michael Miller', 'p', 'Olivia Santana', 'Angela Allen']\n",
      "\n"
     ]
    }
   ],
   "source": [
    "agents = [{'Patztablook TwentyTwo', 'patztablook22', 'patrik zavoral', 'patz'},\n",
    "          {'Scanthning Brot', 'jasaf3'},\n",
    "          {'Drew Mac'}]\n",
    "\n",
    "additional = ['Mank', 'Mari', 'Jáš', 'Sběratel']\n",
    "\n",
    "def rename(chats):\n",
    "    all = [m for chat in chats for m in chat]\n",
    "    users = datasets.get_users(all) + additional\n",
    "\n",
    "    result = []\n",
    "    for chat in chats:\n",
    "        users = datasets.get_users(chat)\n",
    "        for aa in agents:\n",
    "            relevant = len(aa.intersection(users)) > 0\n",
    "            if not relevant: continue\n",
    "            mapper = datasets.make_name_mapper(users, fixed={agent: 'p' for agent in aa})\n",
    "            result.append([datasets.change_names(m, mapper) for m in chat])\n",
    "            print('  ', 'users ', users)\n",
    "            print('  ', 'agents', aa)\n",
    "            print('=>', 'users ', datasets.get_users(result[-1]))\n",
    "            print()\n",
    "            \n",
    "    return result\n",
    "\n",
    "renamed_chats = rename(original_chats)"
   ]
  },
  {
   "cell_type": "code",
   "execution_count": 10,
   "id": "5523ff30-8252-4eef-98c6-e68ec68288cc",
   "metadata": {},
   "outputs": [
    {
     "name": "stderr",
     "output_type": "stream",
     "text": [
      "\n",
      "KeyboardInterrupt\n",
      "\n"
     ]
    }
   ],
   "source": [
    "def censor(message):\n",
    "    def c(tag, pattern, replacer=None):\n",
    "        nonlocal message\n",
    "        message = datasets.censor(message, pattern, replacer=None, tag=tag)\n",
    "\n",
    "    def blacklist(pattern):\n",
    "        nonlocal message\n",
    "        message = datasets.censor(message, fr'(?s).*{pattern}.*', replacer=None, tag=pattern)\n",
    "\n",
    "    c('email', r'\\b[A-Za-z0-9._%+-]+@[A-Za-z0-9.-]+\\.[A-Z|a-z]{2,}\\b')\n",
    "    c('url',   r'\\b[A-Za-z0-9._%+-]+@[A-Za-z0-9.-]+\\.[A-Z|a-z]{2,}\\b|ftp:\\/\\/[A-Za-z0-9._%+-]+:[A-Za-z0-9._%+-]+@[A-Za-z0-9.-]+\\.[A-Z|a-z]{2,}\\b')\n",
    "    c('url',   r'http[s]?://(?:[a-zA-Z]|[0-9]|[$-_@.&#+~]|[!*\\\\(\\\\),]|(?:%[0-9a-fA-F][0-9a-fA-F]))+')\n",
    "    c('bank',  r'(\\d{1,6}-)?\\d{1,10}/\\d{4}')\n",
    "    c('phone', r'\\+?\\d[\\d -]{8,}\\d')\n",
    "    c('address', ['Třešňová', '914'])\n",
    "    c('birthday', ['23 dec', 'dec 23', 'december 23', '23 december', '23.', '23/'])\n",
    "\n",
    "    blacklist('satisfied with your genes')\n",
    "    blacklist('satisfied with ur genes')\n",
    "    blacklist('se svymi geny')\n",
    "    blacklist('se svými geny')\n",
    "    blacklist('popsal by ses')\n",
    "    blacklist('would you describe urself')\n",
    "    blacklist('left the group.')\n",
    "    blacklist('changed the group photo.')\n",
    "    blacklist('created the group.')\n",
    "    blacklist('started a call')\n",
    "    blacklist('the call ended')\n",
    "    blacklist('joined the call')\n",
    "    \n",
    "    return message\n",
    "\n",
    "censored_chats = llmap(censor, renamed_chats[:])"
   ]
  },
  {
   "cell_type": "code",
   "execution_count": null,
   "id": "aafc5be0-8f1e-4b52-aa14-1bbfc5df498b",
   "metadata": {},
   "outputs": [],
   "source": [
    "i = range(len(censored_chats))\n",
    "i = 3\n",
    "if isinstance(i, int): i = [i]\n",
    "for j in i:\n",
    "    datasets.view_excerpt(censored_chats[j], \n",
    "                          # where=lambda m: 'would you describe urself' in m.body\n",
    "                          where=lambda m: m.issues\n",
    "                          # where=lambda m: 'group' in m.body\n",
    "                         )"
   ]
  },
  {
   "cell_type": "code",
   "execution_count": null,
   "id": "bc78fb5e-87d9-49dc-aa62-09367816ac96",
   "metadata": {},
   "outputs": [],
   "source": [
    "def censorship_info(chats):\n",
    "    all = [m for chat in chats for m in chat]\n",
    "    censorships = []\n",
    "    for m in all:\n",
    "        for issue in m.issues:\n",
    "            if issue.type == 'censor': censorships.append(issue.data['tag'])\n",
    "\n",
    "    counter = collections.Counter(censorships)\n",
    "    print(\"Censorship rate:\\n\" + f\"{round(len(censorships) / len(all), 3):.3f}\")\n",
    "    print()\n",
    "    print(\"Censorship tags:\\n\" + ', '.join([f\"{tag}: {round(100*count/counter.total(), 2)}%\" for tag, count in counter.most_common(20)]))\n",
    "\n",
    "censorship_info(censored_chats)"
   ]
  },
  {
   "cell_type": "code",
   "execution_count": 39,
   "id": "734dd2d9-24fe-4bda-b6cf-210f5bcb8aec",
   "metadata": {},
   "outputs": [
    {
     "name": "stdout",
     "output_type": "stream",
     "text": [
      "eta 10 s\n",
      "eta 58 s\n",
      "eta 28 s\n",
      "eta 14 s\n"
     ]
    }
   ],
   "source": [
    "agents = ['p']\n",
    "\n",
    "def enhance_actions(a):\n",
    "    a = datasets.add_control_actions(a, agents=agents, duration_limit=300, pause_limit=90, count_limit=7, idle_rate=1)\n",
    "    a = datasets.mask_actions(a, lambda i: i.user not in agents)\n",
    "    a = datasets.mask_actions(a, lambda i: i.type == 'attachment')\n",
    "    return a\n",
    "\n",
    "actions = lmap(datasets.chat_to_actions, censored_chats)\n",
    "actions = lmap(enhance_actions, actions)"
   ]
  },
  {
   "cell_type": "code",
   "execution_count": 42,
   "id": "7092a4b4-0fde-4bb8-9ae3-21732782d1f5",
   "metadata": {},
   "outputs": [
    {
     "name": "stdout",
     "output_type": "stream",
     "text": [
      "Total actions        1064757\n",
      "Agent actions        651609\n",
      "\n",
      "Agent action types   message: 55%, idle: 34%, reaction: 6%, attachment: 4%\n",
      "\n",
      "Agent messages details:\n",
      "  Length/message     mean: 33.9, quantiles 10-50-90: 3.0 21.0 96.0\n",
      "  Languages          en: 71%, cs: 16%, None: 7%, sk: 4%, de: 2%, ru: 0%\n"
     ]
    }
   ],
   "source": [
    "def info(actions):\n",
    "    agents = ['p']\n",
    "    all = [a for aa in actions for a in aa]\n",
    "    agent = lfilter(lambda a: a.user in agents, all)\n",
    "    msg = lfilter(lambda a: a.type == 'message', agent)\n",
    "    react = lfilter(lambda a: a.type == 'reaction', agent)\n",
    "    sample = np.random.choice(msg, size=1000)\n",
    "    \n",
    "    lengths = [len(m.data['body']) for m in msg if len(m.data['body']) != 0]\n",
    "    languages = collections.Counter(datasets.get_languages(datasets.actions_to_chat(sample), languages=['en', 'cs', 'sk', 'ru', 'de'], threshold=0))\n",
    "    agent_types = collections.Counter([a.type for a in agent])\n",
    "    \n",
    "    print(\"Total actions       \", len(all))\n",
    "    print(\"Agent actions       \", len(agent))\n",
    "    print()\n",
    "    print(\"Agent action types  \", ', '.join([f\"{t}: {round(100 * count/agent_types.total())}%\" for t, count in agent_types.most_common(len(agent_types))]))\n",
    "    print()\n",
    "    print(\"Agent messages details:\")\n",
    "    print(\"  Length/message    \", f\"mean: {np.mean(lengths):.1f}, quantiles 10-50-90: {np.quantile(lengths, 0.10)} {np.quantile(lengths, 0.50)} {np.quantile(lengths, 0.95)}\")\n",
    "    print(\"  Languages         \", ', '.join([f\"{l}: {round(f/languages.total()*100)}%\" for l,f in languages.most_common()]))\n",
    "    # print(\"Users           \", ', '.join([f\"{u}: {round(f*100)}%\" for u,f in sorted(users.items(), key=lambda i: -i[1])]))\n",
    "    \n",
    "\n",
    "info(actions)"
   ]
  },
  {
   "cell_type": "code",
   "execution_count": 89,
   "id": "48d6fa9b-177c-42a8-8aae-8a775dc5860e",
   "metadata": {},
   "outputs": [
    {
     "data": {
      "text/html": [
       "<pre style=\"color: grey; white-space: pre; width: 100%\"><span style=\"color: white\"><|message|>reiterating it with ur inner voice?<|endofaction|></pre>"
      ],
      "text/plain": [
       "<IPython.core.display.HTML object>"
      ]
     },
     "metadata": {},
     "output_type": "display_data"
    },
    {
     "data": {
      "text/html": [
       "<pre style=\"color: grey; white-space: pre; width: 100%\"><span style=\"color: white\"><|message|>just gazing at it?<|endofaction|></pre>"
      ],
      "text/plain": [
       "<IPython.core.display.HTML object>"
      ]
     },
     "metadata": {},
     "output_type": "display_data"
    },
    {
     "data": {
      "text/html": [
       "<pre style=\"color: grey; white-space: pre; width: 100%\"><span style=\"color: white\"><|message|>making up story?<|endofaction|><|endoftext|></pre>"
      ],
      "text/plain": [
       "<IPython.core.display.HTML object>"
      ]
     },
     "metadata": {},
     "output_type": "display_data"
    },
    {
     "data": {
      "text/html": [
       "<pre style=\"color: grey; white-space: pre; width: 100%\">Dana Anderson<|goes|><|message|>I would try to remember 6625 (w my inner voice) and then 662571 ...<|endofaction|></pre>"
      ],
      "text/plain": [
       "<IPython.core.display.HTML object>"
      ]
     },
     "metadata": {},
     "output_type": "display_data"
    },
    {
     "data": {
      "text/html": [
       "<pre style=\"color: grey; white-space: pre; width: 100%\"><span style=\"color: white\">p<|goes|><|message|>gotcha<|endofaction|></pre>"
      ],
      "text/plain": [
       "<IPython.core.display.HTML object>"
      ]
     },
     "metadata": {},
     "output_type": "display_data"
    },
    {
     "data": {
      "text/html": [
       "<pre style=\"color: grey; white-space: pre; width: 100%\"><span style=\"color: white\"><|message|>ty<|endofaction|><|endoftext|></pre>"
      ],
      "text/plain": [
       "<IPython.core.display.HTML object>"
      ]
     },
     "metadata": {},
     "output_type": "display_data"
    },
    {
     "data": {
      "text/html": [
       "<pre style=\"color: grey; white-space: pre; width: 100%\"><span style=\"color: white\">p<|goes|><|message|>Do i portray myself or have you ever regarded me to be a gay?<|endofaction|><|endoftext|></pre>"
      ],
      "text/plain": [
       "<IPython.core.display.HTML object>"
      ]
     },
     "metadata": {},
     "output_type": "display_data"
    },
    {
     "data": {
      "text/html": [
       "<pre style=\"color: grey; white-space: pre; width: 100%\">Dana Anderson<|goes|><|message|>Not really<|endofaction|></pre>"
      ],
      "text/plain": [
       "<IPython.core.display.HTML object>"
      ]
     },
     "metadata": {},
     "output_type": "display_data"
    },
    {
     "data": {
      "text/html": [
       "<pre style=\"color: grey; white-space: pre; width: 100%\"><span style=\"color: white\">p<|goes|><|message|>thanks<|endofaction|><|endoftext|></pre>"
      ],
      "text/plain": [
       "<IPython.core.display.HTML object>"
      ]
     },
     "metadata": {},
     "output_type": "display_data"
    },
    {
     "data": {
      "text/html": [
       "<pre style=\"color: grey; white-space: pre; width: 100%\"><span style=\"color: white\">p<|goes|><|message|></span>would you describe urself as...\n",
       "overall physically healthy?\n",
       "overall mentally healthy (no jokez)?\n",
       "intelligent (fluid... i.e. not knowledge, but cognition, i.e. solving etc.)?\n",
       "highly curious?\n",
       "extravert?\n",
       "creative?\n",
       "versatile considering e.g. hobbies?\n",
       "having a leading virtue which you nourish the most?\n",
       "knowing what the fuck do yo wanna do with your life?<span style=\"color: white\"><|endofaction|><|endoftext|></pre>"
      ],
      "text/plain": [
       "<IPython.core.display.HTML object>"
      ]
     },
     "metadata": {},
     "output_type": "display_data"
    },
    {
     "data": {
      "text/html": [
       "<pre style=\"color: grey; white-space: pre; width: 100%\"><span style=\"color: white\">p<|goes|><|message|></span>are you satisfied with ur genes? (0: no; 10: yes)<span style=\"color: white\"><|endofaction|></pre>"
      ],
      "text/plain": [
       "<IPython.core.display.HTML object>"
      ]
     },
     "metadata": {},
     "output_type": "display_data"
    },
    {
     "data": {
      "text/html": [
       "<pre style=\"color: grey; white-space: pre; width: 100%\"><|attachment|>74480704_447091032678501_434738303393071104_n_447090999345171.jpg<|endofaction|><|endoftext|></pre>"
      ],
      "text/plain": [
       "<IPython.core.display.HTML object>"
      ]
     },
     "metadata": {},
     "output_type": "display_data"
    },
    {
     "data": {
      "text/html": [
       "<pre style=\"color: grey; white-space: pre; width: 100%\">Dana Anderson<|goes|><|message|>6-7<|endofaction|></pre>"
      ],
      "text/plain": [
       "<IPython.core.display.HTML object>"
      ]
     },
     "metadata": {},
     "output_type": "display_data"
    },
    {
     "data": {
      "text/html": [
       "<pre style=\"color: grey; white-space: pre; width: 100%\"><span style=\"color: white\">p<|goes|><|idle|><|endofaction|><|endoftext|></pre>"
      ],
      "text/plain": [
       "<IPython.core.display.HTML object>"
      ]
     },
     "metadata": {},
     "output_type": "display_data"
    },
    {
     "data": {
      "text/html": [
       "<pre style=\"color: grey; white-space: pre; width: 100%\">Dana Anderson<|goes|><|message|>Will be the next question how am I satisfied w my 🍆? 😃<|endofaction|></pre>"
      ],
      "text/plain": [
       "<IPython.core.display.HTML object>"
      ]
     },
     "metadata": {},
     "output_type": "display_data"
    },
    {
     "data": {
      "text/html": [
       "<pre style=\"color: grey; white-space: pre; width: 100%\"><span style=\"color: white\">p<|goes|><|message|>yes<|endofaction|><|endoftext|></pre>"
      ],
      "text/plain": [
       "<IPython.core.display.HTML object>"
      ]
     },
     "metadata": {},
     "output_type": "display_data"
    },
    {
     "data": {
      "text/html": [
       "<pre style=\"color: grey; white-space: pre; width: 100%\"><span style=\"color: white\">p<|goes|><|message|>yes.<|endofaction|><|endoftext|></pre>"
      ],
      "text/plain": [
       "<IPython.core.display.HTML object>"
      ]
     },
     "metadata": {},
     "output_type": "display_data"
    },
    {
     "data": {
      "text/html": [
       "<pre style=\"color: grey; white-space: pre; width: 100%\"><span style=\"color: white\">p<|goes|><|message|>how fast does ur facial hair grow?<|endofaction|><|endoftext|></pre>"
      ],
      "text/plain": [
       "<IPython.core.display.HTML object>"
      ]
     },
     "metadata": {},
     "output_type": "display_data"
    },
    {
     "data": {
      "text/html": [
       "<pre style=\"color: grey; white-space: pre; width: 100%\"><span style=\"color: white\">p<|goes|><|message|>ru der?<|endofaction|><|endoftext|></pre>"
      ],
      "text/plain": [
       "<IPython.core.display.HTML object>"
      ]
     },
     "metadata": {},
     "output_type": "display_data"
    },
    {
     "data": {
      "text/html": [
       "<pre style=\"color: grey; white-space: pre; width: 100%\">Dana Anderson<|goes|><|message|>Ru der?<|endofaction|></pre>"
      ],
      "text/plain": [
       "<IPython.core.display.HTML object>"
      ]
     },
     "metadata": {},
     "output_type": "display_data"
    },
    {
     "data": {
      "text/html": [
       "<pre style=\"color: grey; white-space: pre; width: 100%\"><span style=\"color: white\">p<|goes|><|idle|><|endofaction|><|endoftext|></pre>"
      ],
      "text/plain": [
       "<IPython.core.display.HTML object>"
      ]
     },
     "metadata": {},
     "output_type": "display_data"
    },
    {
     "data": {
      "text/html": [
       "<pre style=\"color: grey; white-space: pre; width: 100%\">Dana Anderson<|goes|><|message|>And my facial hair grow slowly 👉🏻<|endofaction|></pre>"
      ],
      "text/plain": [
       "<IPython.core.display.HTML object>"
      ]
     },
     "metadata": {},
     "output_type": "display_data"
    },
    {
     "data": {
      "text/html": [
       "<pre style=\"color: grey; white-space: pre; width: 100%\"><span style=\"color: white\">p<|goes|><|idle|><|endofaction|><|endoftext|></pre>"
      ],
      "text/plain": [
       "<IPython.core.display.HTML object>"
      ]
     },
     "metadata": {},
     "output_type": "display_data"
    },
    {
     "data": {
      "text/html": [
       "<pre style=\"color: grey; white-space: pre; width: 100%\">Dana Anderson<|goes|><|attachment|>83494120_3009554842397111_9073943780960239616_n_3009554799063782.jpg<|endofaction|></pre>"
      ],
      "text/plain": [
       "<IPython.core.display.HTML object>"
      ]
     },
     "metadata": {},
     "output_type": "display_data"
    },
    {
     "data": {
      "text/html": [
       "<pre style=\"color: grey; white-space: pre; width: 100%\"><span style=\"color: white\">p<|goes|><|reaction|>😍<|endofaction|><|endoftext|></pre>"
      ],
      "text/plain": [
       "<IPython.core.display.HTML object>"
      ]
     },
     "metadata": {},
     "output_type": "display_data"
    },
    {
     "data": {
      "text/html": [
       "<pre style=\"color: grey; white-space: pre; width: 100%\">Dana Anderson<|goes|><|message|>Xoxo<|endofaction|></pre>"
      ],
      "text/plain": [
       "<IPython.core.display.HTML object>"
      ]
     },
     "metadata": {},
     "output_type": "display_data"
    },
    {
     "data": {
      "text/html": [
       "<pre style=\"color: grey; white-space: pre; width: 100%\"><span style=\"color: white\">p<|goes|><|message|>kdy a kde mate zitra sraz:<|endofaction|></pre>"
      ],
      "text/plain": [
       "<IPython.core.display.HTML object>"
      ]
     },
     "metadata": {},
     "output_type": "display_data"
    },
    {
     "data": {
      "text/html": [
       "<pre style=\"color: grey; white-space: pre; width: 100%\"><span style=\"color: white\"><|message|>?*<|endofaction|><|endoftext|></pre>"
      ],
      "text/plain": [
       "<IPython.core.display.HTML object>"
      ]
     },
     "metadata": {},
     "output_type": "display_data"
    },
    {
     "data": {
      "text/html": [
       "<pre style=\"color: grey; white-space: pre; width: 100%\">Dana Anderson<|goes|><|message|>My jdem ještě na tu přednášku do školy<|endofaction|></pre>"
      ],
      "text/plain": [
       "<IPython.core.display.HTML object>"
      ]
     },
     "metadata": {},
     "output_type": "display_data"
    },
    {
     "data": {
      "text/html": [
       "<pre style=\"color: grey; white-space: pre; width: 100%\"><span style=\"color: white\">p<|goes|><|message|>ik<|endofaction|><|endoftext|></pre>"
      ],
      "text/plain": [
       "<IPython.core.display.HTML object>"
      ]
     },
     "metadata": {},
     "output_type": "display_data"
    },
    {
     "data": {
      "text/html": [
       "<pre style=\"color: grey; white-space: pre; width: 100%\"><span style=\"color: white\">p<|goes|><|message|>a kdy tam planujete byt cca<|endofaction|><|endoftext|></pre>"
      ],
      "text/plain": [
       "<IPython.core.display.HTML object>"
      ]
     },
     "metadata": {},
     "output_type": "display_data"
    },
    {
     "data": {
      "text/html": [
       "<pre style=\"color: grey; white-space: pre; width: 100%\">Dana Anderson<|goes|><|message|>Nwm<|endofaction|></pre>"
      ],
      "text/plain": [
       "<IPython.core.display.HTML object>"
      ]
     },
     "metadata": {},
     "output_type": "display_data"
    },
    {
     "data": {
      "text/html": [
       "<pre style=\"color: grey; white-space: pre; width: 100%\"><span style=\"color: white\">p<|goes|><|message|>a na kterou jdete?<|endofaction|><|endoftext|></pre>"
      ],
      "text/plain": [
       "<IPython.core.display.HTML object>"
      ]
     },
     "metadata": {},
     "output_type": "display_data"
    },
    {
     "data": {
      "text/html": [
       "<pre style=\"color: grey; white-space: pre; width: 100%\">Dana Anderson<|goes|><|message|>Fel<|endofaction|></pre>"
      ],
      "text/plain": [
       "<IPython.core.display.HTML object>"
      ]
     },
     "metadata": {},
     "output_type": "display_data"
    },
    {
     "data": {
      "text/html": [
       "<pre style=\"color: grey; white-space: pre; width: 100%\"><span style=\"color: white\">p<|goes|><|message|>...<|endofaction|></pre>"
      ],
      "text/plain": [
       "<IPython.core.display.HTML object>"
      ]
     },
     "metadata": {},
     "output_type": "display_data"
    },
    {
     "data": {
      "text/html": [
       "<pre style=\"color: grey; white-space: pre; width: 100%\"><span style=\"color: white\"><|message|>jsou 2 imho<|endofaction|></pre>"
      ],
      "text/plain": [
       "<IPython.core.display.HTML object>"
      ]
     },
     "metadata": {},
     "output_type": "display_data"
    },
    {
     "data": {
      "text/html": [
       "<pre style=\"color: grey; white-space: pre; width: 100%\"><span style=\"color: white\"><|message|>karlak a dejvice<|endofaction|><|endoftext|></pre>"
      ],
      "text/plain": [
       "<IPython.core.display.HTML object>"
      ]
     },
     "metadata": {},
     "output_type": "display_data"
    },
    {
     "data": {
      "text/html": [
       "<pre style=\"color: grey; white-space: pre; width: 100%\">Dana Anderson<|goes|><|message|>Karlak<|endofaction|></pre>"
      ],
      "text/plain": [
       "<IPython.core.display.HTML object>"
      ]
     },
     "metadata": {},
     "output_type": "display_data"
    },
    {
     "data": {
      "text/html": [
       "<pre style=\"color: grey; white-space: pre; width: 100%\"><span style=\"color: white\">p<|goes|><|message|>ok<|endofaction|><|endoftext|></pre>"
      ],
      "text/plain": [
       "<IPython.core.display.HTML object>"
      ]
     },
     "metadata": {},
     "output_type": "display_data"
    },
    {
     "data": {
      "text/html": [
       "<pre style=\"color: grey; white-space: pre; width: 100%\">Dana Anderson<|goes|><|message|>Sup<|endofaction|></pre>"
      ],
      "text/plain": [
       "<IPython.core.display.HTML object>"
      ]
     },
     "metadata": {},
     "output_type": "display_data"
    },
    {
     "data": {
      "text/html": [
       "<pre style=\"color: grey; white-space: pre; width: 100%\"><span style=\"color: white\">p<|goes|><|idle|><|endofaction|><|endoftext|></pre>"
      ],
      "text/plain": [
       "<IPython.core.display.HTML object>"
      ]
     },
     "metadata": {},
     "output_type": "display_data"
    },
    {
     "data": {
      "text/html": [
       "<pre style=\"color: grey; white-space: pre; width: 100%\">Dana Anderson<|goes|><|message|>hele jaká fce je ten graf amplitudyna frekvenci<|endofaction|></pre>"
      ],
      "text/plain": [
       "<IPython.core.display.HTML object>"
      ]
     },
     "metadata": {},
     "output_type": "display_data"
    },
    {
     "data": {
      "text/html": [
       "<pre style=\"color: grey; white-space: pre; width: 100%\"><span style=\"color: white\">p<|goes|><|idle|><|endofaction|><|endoftext|></pre>"
      ],
      "text/plain": [
       "<IPython.core.display.HTML object>"
      ]
     },
     "metadata": {},
     "output_type": "display_data"
    },
    {
     "data": {
      "text/html": [
       "<pre style=\"color: grey; white-space: pre; width: 100%\">Dana Anderson<|goes|><|message|>?<|endofaction|></pre>"
      ],
      "text/plain": [
       "<IPython.core.display.HTML object>"
      ]
     },
     "metadata": {},
     "output_type": "display_data"
    },
    {
     "data": {
      "text/html": [
       "<pre style=\"color: grey; white-space: pre; width: 100%\"><span style=\"color: white\">p<|goes|><|message|>Im = Um / Z, kde Z je impedance (ta odmocnina), kde je promennou (uhlova) frekvence a vse ostatni jsou parametry<|endofaction|></pre>"
      ],
      "text/plain": [
       "<IPython.core.display.HTML object>"
      ]
     },
     "metadata": {},
     "output_type": "display_data"
    }
   ],
   "source": [
    "i = np.random.choice(len(actions))\n",
    "a = actions[i]\n",
    "j = np.random.choice(len(a))\n",
    "a = a[j:j+45]\n",
    "# datasets.simulate(a, sleep=0.1)\n",
    "\n",
    "for i in a:\n",
    "    s, m = datasets.action_to_string(i, return_mask=True)\n",
    "    datasets.view_masked(s, m)"
   ]
  },
  {
   "cell_type": "code",
   "execution_count": 90,
   "id": "eee3f286-2fef-41ef-9113-009b302fe1ff",
   "metadata": {},
   "outputs": [],
   "source": [
    "actions_path = '../data/actions.pkl'\n",
    "# pickle good enough, only around 50 MB\n",
    "\n",
    "import pickle\n",
    "with open(actions_path, 'wb') as f:\n",
    "    pickle.dump(actions, f)"
   ]
  }
 ],
 "metadata": {
  "kernelspec": {
   "display_name": "Python 3 (ipykernel)",
   "language": "python",
   "name": "python3"
  },
  "language_info": {
   "codemirror_mode": {
    "name": "ipython",
    "version": 3
   },
   "file_extension": ".py",
   "mimetype": "text/x-python",
   "name": "python",
   "nbconvert_exporter": "python",
   "pygments_lexer": "ipython3",
   "version": "3.12.2"
  }
 },
 "nbformat": 4,
 "nbformat_minor": 5
}
