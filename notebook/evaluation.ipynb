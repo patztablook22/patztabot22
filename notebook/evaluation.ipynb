{
 "cells": [
  {
   "cell_type": "code",
   "execution_count": 122,
   "id": "e15c422e-1eb8-48a9-a2ff-dd94d80a5334",
   "metadata": {},
   "outputs": [],
   "source": [
    "import sys, os\n",
    "import numpy as np\n",
    "import matplotlib.pyplot as plt\n",
    "import seaborn as sns\n",
    "import random\n",
    "import IPython\n",
    "import re\n",
    "import collections\n",
    "\n",
    "sys.path.append(\"../src/utils\")\n",
    "sys.path.append(\"../src\")"
   ]
  },
  {
   "cell_type": "code",
   "execution_count": 76,
   "id": "ab5be88d-b061-4cca-9fa6-9d87d18d2f9f",
   "metadata": {},
   "outputs": [
    {
     "name": "stdout",
     "output_type": "stream",
     "text": [
      "The autoreload extension is already loaded. To reload it, use:\n",
      "  %reload_ext autoreload\n"
     ]
    }
   ],
   "source": [
    "%load_ext autoreload\n",
    "%autoreload 1\n",
    "%aimport datasets\n",
    "%aimport general\n",
    "%aimport training\n",
    "%aimport generation\n",
    "%aimport evaluation"
   ]
  },
  {
   "cell_type": "code",
   "execution_count": 77,
   "id": "1dd8920c-2f39-4dc9-8d8c-fa61742f1e49",
   "metadata": {},
   "outputs": [],
   "source": [
    "from general import *"
   ]
  },
  {
   "cell_type": "code",
   "execution_count": 78,
   "id": "813b5937-04c8-41d8-805e-32086daf5498",
   "metadata": {},
   "outputs": [],
   "source": [
    "openai_token = open('../config/openai-token.txt').read().strip()\n",
    "os.environ[\"OPENAI_API_KEY\"] = openai_token"
   ]
  },
  {
   "cell_type": "code",
   "execution_count": 79,
   "id": "0f756157-3529-45d1-9e03-1fc3decc5998",
   "metadata": {},
   "outputs": [],
   "source": [
    "actions_path = '../data/actions.pkl'\n",
    "\n",
    "import pickle\n",
    "with open(actions_path, 'rb') as f:\n",
    "    actions = pickle.load(f)"
   ]
  },
  {
   "cell_type": "code",
   "execution_count": 80,
   "id": "1445fb0a-5c37-4d19-8fc8-b6f08a5ae1f7",
   "metadata": {},
   "outputs": [],
   "source": [
    "from transformers import GPT2Tokenizer, AutoTokenizer\n",
    "\n",
    "tokenizer = GPT2Tokenizer.from_pretrained('gpt2')\n",
    "tokenizer.add_tokens([tok for tok in datasets.CONTROL_TOKENS.values() if tok != 'eos'])\n",
    "temp = lfilter(lambda a: a.user == 'p', actions[0])\n",
    "model = generation.SamplingModel(sleep = 0, tokenizer=tokenizer, untokenized=[''.join([datasets.action_to_string(random.choice(temp)) for _ in range(random.randint(1,3))]) for _ in range(10)])"
   ]
  },
  {
   "cell_type": "code",
   "execution_count": 81,
   "id": "e11de791-e6a3-43f6-83db-a8262e4adcf9",
   "metadata": {},
   "outputs": [],
   "source": [
    "pipeline = generation.Pipeline(model=model, tokenizer=tokenizer, agents=['p'])"
   ]
  },
  {
   "cell_type": "code",
   "execution_count": 160,
   "id": "9d8d51ab-4fc6-419c-9b66-39026ee081c6",
   "metadata": {},
   "outputs": [],
   "source": [
    "ctxs, refs = evaluation.sample_qa_like(actions, agents=['p'], context_size=lambda i: 20, n=1000)"
   ]
  },
  {
   "cell_type": "code",
   "execution_count": 161,
   "id": "cf8f8236-6c0c-4cee-99af-9c92d4f79777",
   "metadata": {},
   "outputs": [],
   "source": [
    "eval_ctxs_path = '../data/eval_ctxs.pkl'\n",
    "\n",
    "import pickle\n",
    "with open(eval_ctxs_path, 'wb') as f:\n",
    "    pickle.dump(ctxs, f)"
   ]
  },
  {
   "cell_type": "code",
   "execution_count": 155,
   "id": "41760d48-f1c3-4959-808b-9376966c9104",
   "metadata": {},
   "outputs": [],
   "source": [
    "for ctx, ref in list(zip(ctxs, refs))[:3]:\n",
    "    break\n",
    "    datasets.view_tail(datasets.actions_to_chat(ctx))\n",
    "    print()\n",
    "    for r in ref:\n",
    "        print(r)\n",
    "    print()"
   ]
  },
  {
   "cell_type": "code",
   "execution_count": 158,
   "id": "b6a6bd32-2447-4177-bbec-33a409b34cff",
   "metadata": {},
   "outputs": [
    {
     "name": "stdout",
     "output_type": "stream",
     "text": [
      "eta 79 s\n",
      "eta 38 s\n",
      "eta 19 s\n"
     ]
    }
   ],
   "source": [
    "def evaluator(a):\n",
    "    ctx, ref = a\n",
    "    return evaluation.pointwise_gpt3(datasets.actions_to_chat(ctx), ref, return_details=True)\n",
    "\n",
    "metrics = lmap(evaluator, list(zip(ctxs, refs)))"
   ]
  },
  {
   "cell_type": "code",
   "execution_count": 159,
   "id": "3ad70d39-c286-427b-87cb-50f09a53a113",
   "metadata": {},
   "outputs": [
    {
     "data": {
      "text/html": [
       "<table style=\"width: 100%\"><tr>\n",
       "                    <td style=\"vertical-align: top; white-space: nowrap; width: 10em; overflow: hidden; text-overflow: ellipsis\">p</td>\n",
       "                    <td style=\"text-align: left;\"><span style=\"white-space: pre\">chci tě jen objímat </span></td></tr><tr>\n",
       "                    <td style=\"vertical-align: top; white-space: nowrap; width: 10em; overflow: hidden; text-overflow: ellipsis\">p</td>\n",
       "                    <td style=\"text-align: left;\"><span style=\"white-space: pre\">snad to smyje sprcha >:) </span></td></tr><tr>\n",
       "                    <td style=\"vertical-align: top; white-space: nowrap; width: 10em; overflow: hidden; text-overflow: ellipsis\">p</td>\n",
       "                    <td style=\"text-align: left;\"><span style=\"white-space: pre\">~ ty >:)))) </span></td></tr><tr>\n",
       "                    <td style=\"vertical-align: top; white-space: nowrap; width: 10em; overflow: hidden; text-overflow: ellipsis\">p</td>\n",
       "                    <td style=\"text-align: left;\"><span style=\"white-space: pre\">xd </span></td></tr><tr>\n",
       "                    <td style=\"vertical-align: top; white-space: nowrap; width: 10em; overflow: hidden; text-overflow: ellipsis\">p</td>\n",
       "                    <td style=\"text-align: left;\"><span style=\"white-space: pre\">dal bych si fotky 👉👈 </span><ul style=\"margin: 10px 0px 0px -13px; padding: 0px 0px 0px 10px; border-left: 3px solid grey\">\n",
       "                            <li style=\"display: inline\">🖤</li>\n",
       "                        </ul></td></tr><tr>\n",
       "                    <td style=\"vertical-align: top; white-space: nowrap; width: 10em; overflow: hidden; text-overflow: ellipsis\">p</td>\n",
       "                    <td style=\"text-align: left;\"><span style=\"white-space: pre\">👅 </span></td></tr><tr>\n",
       "                    <td style=\"vertical-align: top; white-space: nowrap; width: 10em; overflow: hidden; text-overflow: ellipsis\">Robert Bates</td>\n",
       "                    <td style=\"text-align: left;\"><span style=\"white-space: pre\">Ňaaa </span><ul style=\"margin: 10px 0px 0px -13px; padding: 0px 0px 0px 10px; border-left: 3px solid grey\">\n",
       "                            <li style=\"display: inline\">😠</li>\n",
       "                        </ul></td></tr><tr>\n",
       "                    <td style=\"vertical-align: top; white-space: nowrap; width: 10em; overflow: hidden; text-overflow: ellipsis\">Robert Bates</td>\n",
       "                    <td style=\"text-align: left;\"><span style=\"white-space: pre\">Dneska si nepřipadám zas tolik sexy </span><ul style=\"margin: 10px 0px 0px -13px; padding: 0px 0px 0px 10px; border-left: 3px solid grey\">\n",
       "                            <li style=\"display: inline\">😢</li>\n",
       "                        </ul></td></tr><tr>\n",
       "                    <td style=\"vertical-align: top; white-space: nowrap; width: 10em; overflow: hidden; text-overflow: ellipsis\">Robert Bates</td>\n",
       "                    <td style=\"text-align: left;\"><span style=\"white-space: pre\">Tak 1 </span><ul style=\"margin: 10px 0px 0px -13px; padding: 0px 0px 0px 10px; border-left: 3px solid grey\">\n",
       "                            <li style=\"display: inline\">🥵</li>\n",
       "                        </ul></td></tr><tr>\n",
       "                    <td style=\"vertical-align: top; white-space: nowrap; width: 10em; overflow: hidden; text-overflow: ellipsis\">Robert Bates</td>\n",
       "                    <td style=\"text-align: left;\"><span style=\"white-space: pre\"> [151946236_792021171394115_4430293381641359097_n_792021131394119.jpg]</span></td></tr></table>"
      ],
      "text/plain": [
       "<IPython.core.display.HTML object>"
      ]
     },
     "metadata": {},
     "output_type": "display_data"
    },
    {
     "name": "stdout",
     "output_type": "stream",
     "text": [
      "\n",
      "Action(time=1613592359.579, user='p', type='reaction', data={'name': '😍', 'eos': True, 'mask_action': False})\n",
      "\n",
      "sound      (10, '- The response fits well with the chat excerpt and the persona details provided.')\n",
      "persona    (10, '- The response aligns with the persona of the 22-year-old theoretical computer science student from Czechia who is comfortable with using various emojis and slang in their conversations.')\n",
      "flow       (10, '- The response contributes positively to the conversation flow by reacting to the previous messages and showing active engagement.')\n",
      "\n",
      "\n",
      "\n",
      "\n",
      "\n",
      "\n",
      "\n",
      "\n",
      "\n",
      "\n",
      "\n"
     ]
    },
    {
     "data": {
      "text/html": [
       "<table style=\"width: 100%\"><tr>\n",
       "                    <td style=\"vertical-align: top; white-space: nowrap; width: 10em; overflow: hidden; text-overflow: ellipsis\">Roberto Wells</td>\n",
       "                    <td style=\"text-align: left;\"><span style=\"white-space: pre\">how so? </span></td></tr><tr>\n",
       "                    <td style=\"vertical-align: top; white-space: nowrap; width: 10em; overflow: hidden; text-overflow: ellipsis\">p</td>\n",
       "                    <td style=\"text-align: left;\"><span style=\"white-space: pre\">which is also expected, but perhaps this fact made me more prone to think critical thinking and disagreeableness are directly related </span></td></tr><tr>\n",
       "                    <td style=\"vertical-align: top; white-space: nowrap; width: 10em; overflow: hidden; text-overflow: ellipsis\">p</td>\n",
       "                    <td style=\"text-align: left;\"><span style=\"white-space: pre\">who knows, data xd </span></td></tr><tr>\n",
       "                    <td style=\"vertical-align: top; white-space: nowrap; width: 10em; overflow: hidden; text-overflow: ellipsis\">p</td>\n",
       "                    <td style=\"text-align: left;\"><span style=\"white-space: pre\">but I mean </span></td></tr><tr>\n",
       "                    <td style=\"vertical-align: top; white-space: nowrap; width: 10em; overflow: hidden; text-overflow: ellipsis\">p</td>\n",
       "                    <td style=\"text-align: left;\"><span style=\"white-space: pre\">If you can't stand up for your claims, you are not gonna be particularly good scientist </span></td></tr><tr>\n",
       "                    <td style=\"vertical-align: top; white-space: nowrap; width: 10em; overflow: hidden; text-overflow: ellipsis\">p</td>\n",
       "                    <td style=\"text-align: left;\"><span style=\"white-space: pre\">already in IYTP / TMF </span></td></tr><tr>\n",
       "                    <td style=\"vertical-align: top; white-space: nowrap; width: 10em; overflow: hidden; text-overflow: ellipsis\">p</td>\n",
       "                    <td style=\"text-align: left;\"><span style=\"white-space: pre\">there is opponent role </span></td></tr><tr>\n",
       "                    <td style=\"vertical-align: top; white-space: nowrap; width: 10em; overflow: hidden; text-overflow: ellipsis\">p</td>\n",
       "                    <td style=\"text-align: left;\"><span style=\"white-space: pre\">sort of peer-review </span></td></tr><tr>\n",
       "                    <td style=\"vertical-align: top; white-space: nowrap; width: 10em; overflow: hidden; text-overflow: ellipsis\">p</td>\n",
       "                    <td style=\"text-align: left;\"><span style=\"white-space: pre\">you give sincere critical feedback, sometimes you try to disprove someone, or you must to back yourself up </span></td></tr><tr>\n",
       "                    <td style=\"vertical-align: top; white-space: nowrap; width: 10em; overflow: hidden; text-overflow: ellipsis\">Roberto Wells</td>\n",
       "                    <td style=\"text-align: left;\"><span style=\"white-space: pre\">So we could say that disagreeableness and the perception that someone is a competent critical thinker is corelated </span></td></tr></table>"
      ],
      "text/plain": [
       "<IPython.core.display.HTML object>"
      ]
     },
     "metadata": {},
     "output_type": "display_data"
    },
    {
     "name": "stdout",
     "output_type": "stream",
     "text": [
      "\n",
      "Action(time=1611347752.593, user='p', type='message', data={'body': \"if you publish a falsehood, it's in everyone's best interest for that falsehood to be disproven\", 'issues': [], 'mask_action': False})\n",
      "Action(time=1611347771.069, user='p', type='message', data={'body': 'particularly for the scientist who disproves it', 'issues': [], 'followup': True, 'mask_action': False})\n",
      "Action(time=1611347783.15, user='p', type='message', data={'body': 'since it gains him easy reputation', 'issues': [], 'followup': True, 'eos': True, 'mask_action': False})\n",
      "\n",
      "sound      (9, '- The response is sound and related to the discussion about publishing falsehoods in the scientific community.')\n",
      "persona    (10, '- The response matches the persona given, as the theoretical computer science student is engaging in a discussion about critical thinking and disagreeableness among scientists.')\n",
      "flow       (8, '- The response maintains the conversation flow by adding a new perspective on the topic being discussed. It shows engagement with the discussion about scientific integrity.')\n",
      "\n",
      "\n",
      "\n",
      "\n",
      "\n",
      "\n",
      "\n",
      "\n",
      "\n",
      "\n",
      "\n"
     ]
    },
    {
     "data": {
      "text/html": [
       "<table style=\"width: 100%\"><tr>\n",
       "                    <td style=\"vertical-align: top; white-space: nowrap; width: 10em; overflow: hidden; text-overflow: ellipsis\">Daniel Mcgrath</td>\n",
       "                    <td style=\"text-align: left;\"><span style=\"white-space: pre\">Which is, coincidentally, why I have so little mastery in things. lol </span></td></tr><tr>\n",
       "                    <td style=\"vertical-align: top; white-space: nowrap; width: 10em; overflow: hidden; text-overflow: ellipsis\">p</td>\n",
       "                    <td style=\"text-align: left;\"><span style=\"white-space: pre\">yes </span></td></tr><tr>\n",
       "                    <td style=\"vertical-align: top; white-space: nowrap; width: 10em; overflow: hidden; text-overflow: ellipsis\">p</td>\n",
       "                    <td style=\"text-align: left;\"><span style=\"white-space: pre\">althouughh </span></td></tr><tr>\n",
       "                    <td style=\"vertical-align: top; white-space: nowrap; width: 10em; overflow: hidden; text-overflow: ellipsis\">p</td>\n",
       "                    <td style=\"text-align: left;\"><span style=\"white-space: pre\">not necessarily, as demonstrated by jacob collier </span></td></tr><tr>\n",
       "                    <td style=\"vertical-align: top; white-space: nowrap; width: 10em; overflow: hidden; text-overflow: ellipsis\">p</td>\n",
       "                    <td style=\"text-align: left;\"><span style=\"white-space: pre\"><span style=\"background: rgba(255, 0, 0, 0.5)\">https://www.youtube.com/watch?v=t9jwpZENQUI</span> </span><ul style=\"margin: 10px 0px 0px -13px; padding: 0px 0px 0px 10px; border-left: 3px solid grey\">\n",
       "                            <li style=\"display: inline\">👍</li>\n",
       "                        </ul></td></tr><tr>\n",
       "                    <td style=\"vertical-align: top; white-space: nowrap; width: 10em; overflow: hidden; text-overflow: ellipsis\">p</td>\n",
       "                    <td style=\"text-align: left;\"><span style=\"white-space: pre\">the literal mozart of 21st century </span></td></tr><tr>\n",
       "                    <td style=\"vertical-align: top; white-space: nowrap; width: 10em; overflow: hidden; text-overflow: ellipsis\">p</td>\n",
       "                    <td style=\"text-align: left;\"><span style=\"white-space: pre\">you can make it fun, of course </span></td></tr><tr>\n",
       "                    <td style=\"vertical-align: top; white-space: nowrap; width: 10em; overflow: hidden; text-overflow: ellipsis\">Daniel Mcgrath</td>\n",
       "                    <td style=\"text-align: left;\"><span style=\"white-space: pre\">Well </span></td></tr><tr>\n",
       "                    <td style=\"vertical-align: top; white-space: nowrap; width: 10em; overflow: hidden; text-overflow: ellipsis\">Daniel Mcgrath</td>\n",
       "                    <td style=\"text-align: left;\"><span style=\"white-space: pre\">That's the other way </span></td></tr><tr>\n",
       "                    <td style=\"vertical-align: top; white-space: nowrap; width: 10em; overflow: hidden; text-overflow: ellipsis\">Daniel Mcgrath</td>\n",
       "                    <td style=\"text-align: left;\"><span style=\"white-space: pre\">\"Fuck the book I am gonna experiment 16 hours a day\" </span></td></tr></table>"
      ],
      "text/plain": [
       "<IPython.core.display.HTML object>"
      ]
     },
     "metadata": {},
     "output_type": "display_data"
    },
    {
     "name": "stdout",
     "output_type": "stream",
     "text": [
      "\n",
      "Action(time=1603972684.739, user='p', type='message', data={'body': 'eyup', 'issues': [], 'mask_action': False})\n",
      "Action(time=1603972689.199, user='p', type='message', data={'body': '~me on piano~', 'issues': [], 'followup': True, 'eos': True, 'mask_action': False})\n",
      "\n",
      "sound      (8, '- The response is generally sound as it acknowledges the YouTube link shared by the other person and adds a humorous touch with the piano reference.')\n",
      "persona    (10, '- The response corresponds well to the target persona with its casual and light-hearted tone, as well as the reference to music (jazz).')\n",
      "flow       (9, '- The response adds to the conversation by acknowledging the link, and the piano reference keeps the engagement flowing in a fun way.')\n",
      "\n",
      "\n",
      "\n",
      "\n",
      "\n",
      "\n",
      "\n",
      "\n",
      "\n",
      "\n",
      "\n"
     ]
    },
    {
     "data": {
      "text/html": [
       "<table style=\"width: 100%\"><tr>\n",
       "                    <td style=\"vertical-align: top; white-space: nowrap; width: 10em; overflow: hidden; text-overflow: ellipsis\">p</td>\n",
       "                    <td style=\"text-align: left;\"><span style=\"white-space: pre\">první polibky všude </span></td></tr><tr>\n",
       "                    <td style=\"vertical-align: top; white-space: nowrap; width: 10em; overflow: hidden; text-overflow: ellipsis\">p</td>\n",
       "                    <td style=\"text-align: left;\"><span style=\"white-space: pre\">začal bych u krku a ramen </span></td></tr><tr>\n",
       "                    <td style=\"vertical-align: top; white-space: nowrap; width: 10em; overflow: hidden; text-overflow: ellipsis\">p</td>\n",
       "                    <td style=\"text-align: left;\"><span style=\"white-space: pre\">pak trup owo </span></td></tr><tr>\n",
       "                    <td style=\"vertical-align: top; white-space: nowrap; width: 10em; overflow: hidden; text-overflow: ellipsis\">p</td>\n",
       "                    <td style=\"text-align: left;\"><span style=\"white-space: pre\">otočil bych si tě </span></td></tr><tr>\n",
       "                    <td style=\"vertical-align: top; white-space: nowrap; width: 10em; overflow: hidden; text-overflow: ellipsis\">p</td>\n",
       "                    <td style=\"text-align: left;\"><span style=\"white-space: pre\">líbal záda >.3 </span><ul style=\"margin: 10px 0px 0px -13px; padding: 0px 0px 0px 10px; border-left: 3px solid grey\">\n",
       "                            <li style=\"display: inline\">❤</li>\n",
       "                        </ul></td></tr><tr>\n",
       "                    <td style=\"vertical-align: top; white-space: nowrap; width: 10em; overflow: hidden; text-overflow: ellipsis\">p</td>\n",
       "                    <td style=\"text-align: left;\"><span style=\"white-space: pre\">a hrál bych si s tvým zadkem uwu </span><ul style=\"margin: 10px 0px 0px -13px; padding: 0px 0px 0px 10px; border-left: 3px solid grey\">\n",
       "                            <li style=\"display: inline\">😮</li>\n",
       "                        </ul></td></tr><tr>\n",
       "                    <td style=\"vertical-align: top; white-space: nowrap; width: 10em; overflow: hidden; text-overflow: ellipsis\">p</td>\n",
       "                    <td style=\"text-align: left;\"><span style=\"white-space: pre\">je supr </span></td></tr><tr>\n",
       "                    <td style=\"vertical-align: top; white-space: nowrap; width: 10em; overflow: hidden; text-overflow: ellipsis\">Robert Bates</td>\n",
       "                    <td style=\"text-align: left;\"><span style=\"white-space: pre\">Jak? </span></td></tr><tr>\n",
       "                    <td style=\"vertical-align: top; white-space: nowrap; width: 10em; overflow: hidden; text-overflow: ellipsis\">p</td>\n",
       "                    <td style=\"text-align: left;\"><span style=\"white-space: pre\">mmm </span></td></tr><tr>\n",
       "                    <td style=\"vertical-align: top; white-space: nowrap; width: 10em; overflow: hidden; text-overflow: ellipsis\">p</td>\n",
       "                    <td style=\"text-align: left;\"><span style=\"white-space: pre\">dělej teď co ti říkám </span><ul style=\"margin: 10px 0px 0px -13px; padding: 0px 0px 0px 10px; border-left: 3px solid grey\">\n",
       "                            <li style=\"display: inline\">❤</li>\n",
       "                        </ul></td></tr></table>"
      ],
      "text/plain": [
       "<IPython.core.display.HTML object>"
      ]
     },
     "metadata": {},
     "output_type": "display_data"
    },
    {
     "name": "stdout",
     "output_type": "stream",
     "text": [
      "\n",
      "Action(time=1640637075.214, user='p', type='message', data={'body': 'lehni si na břicho', 'issues': [], 'mask_action': False})\n",
      "Action(time=1640637106.132, user='p', type='message', data={'body': 'levou ruku na levou půlku', 'issues': [], 'followup': True, 'mask_action': False})\n",
      "Action(time=1640637110.427, user='p', type='message', data={'body': 'pravou ruku na pravou půlku', 'issues': [], 'followup': True, 'mask_action': False})\n",
      "Action(time=1640637141.152, user='p', type='message', data={'body': 'a mni 🥵', 'issues': [], 'followup': True, 'mask_action': False})\n",
      "Action(time=1640637169.229, user='p', type='message', data={'body': 'a pořádně!', 'issues': [], 'followup': True, 'eos': True, 'mask_action': False})\n",
      "\n",
      "sound      (8, '- The response is a continuation of the playful and flirtatious tone of the conversation, which fits the context and instructions given.')\n",
      "persona    (9, '- The response matches the target persona of the 22-year-old theoretical computer science student who is comfortable with this kind of interaction.')\n",
      "flow       (9, '- The response actively engages with the conversation and adds to the playful dynamic between the characters.')\n",
      "\n",
      "\n",
      "\n",
      "\n",
      "\n",
      "\n",
      "\n",
      "\n",
      "\n",
      "\n",
      "\n"
     ]
    },
    {
     "data": {
      "text/html": [
       "<table style=\"width: 100%\"><tr>\n",
       "                    <td style=\"vertical-align: top; white-space: nowrap; width: 10em; overflow: hidden; text-overflow: ellipsis\">p</td>\n",
       "                    <td style=\"text-align: left;\"><span style=\"white-space: pre\">(není OC, fotil kamarád z Polska) </span><ul style=\"margin: 10px 0px 0px -13px; padding: 0px 0px 0px 10px; border-left: 3px solid grey\">\n",
       "                            <li style=\"display: inline\">❤</li>\n",
       "                        </ul></td></tr><tr>\n",
       "                    <td style=\"vertical-align: top; white-space: nowrap; width: 10em; overflow: hidden; text-overflow: ellipsis\">p</td>\n",
       "                    <td style=\"text-align: left;\"><span style=\"white-space: pre\">(is not OC, a friend from Poland shot the photo) </span><ul style=\"margin: 10px 0px 0px -13px; padding: 0px 0px 0px 10px; border-left: 3px solid grey\">\n",
       "                            <li style=\"display: inline\">❤</li>\n",
       "                        </ul></td></tr><tr>\n",
       "                    <td style=\"vertical-align: top; white-space: nowrap; width: 10em; overflow: hidden; text-overflow: ellipsis\">p</td>\n",
       "                    <td style=\"text-align: left;\"><span style=\"white-space: pre\">Testosterone peak at 16 y/o be like: <span style=\"background: rgba(255, 0, 0, 0.5)\">https://en.wikipedia.org/wiki/Hooliganism</span> </span></td></tr><tr>\n",
       "                    <td style=\"vertical-align: top; white-space: nowrap; width: 10em; overflow: hidden; text-overflow: ellipsis\">p</td>\n",
       "                    <td style=\"text-align: left;\"><span style=\"white-space: pre\"> [186865894_1092997101195625_9036824312226422790_n_1092997094528959.png]</span><ul style=\"margin: 10px 0px 0px -13px; padding: 0px 0px 0px 10px; border-left: 3px solid grey\">\n",
       "                            <li style=\"display: inline\">❤</li><li style=\"display: inline\">❤</li>\n",
       "                        </ul></td></tr><tr>\n",
       "                    <td style=\"vertical-align: top; white-space: nowrap; width: 10em; overflow: hidden; text-overflow: ellipsis\">Victor Mcdaniel</td>\n",
       "                    <td style=\"text-align: left;\"><span style=\"white-space: pre\">nice </span></td></tr><tr>\n",
       "                    <td style=\"vertical-align: top; white-space: nowrap; width: 10em; overflow: hidden; text-overflow: ellipsis\">Victor Mcdaniel</td>\n",
       "                    <td style=\"text-align: left;\"><span style=\"white-space: pre\">paper? </span></td></tr><tr>\n",
       "                    <td style=\"vertical-align: top; white-space: nowrap; width: 10em; overflow: hidden; text-overflow: ellipsis\">Victor Mcdaniel</td>\n",
       "                    <td style=\"text-align: left;\"><span style=\"white-space: pre\">nvm found it </span></td></tr><tr>\n",
       "                    <td style=\"vertical-align: top; white-space: nowrap; width: 10em; overflow: hidden; text-overflow: ellipsis\">p</td>\n",
       "                    <td style=\"text-align: left;\"><span style=\"white-space: pre\">~tfw Rick xd~ </span></td></tr><tr>\n",
       "                    <td style=\"vertical-align: top; white-space: nowrap; width: 10em; overflow: hidden; text-overflow: ellipsis\">p</td>\n",
       "                    <td style=\"text-align: left;\"><span style=\"white-space: pre\">But the increased testosterone in late-life is most likely in consequence of some pathology imo </span></td></tr><tr>\n",
       "                    <td style=\"vertical-align: top; white-space: nowrap; width: 10em; overflow: hidden; text-overflow: ellipsis\">Mary Rivera</td>\n",
       "                    <td style=\"text-align: left;\"><span style=\"white-space: pre\">Btw muj bratr teď udělal bota na twitteru, co umisťuje houby do náhodných obrázků xd </span></td></tr></table>"
      ],
      "text/plain": [
       "<IPython.core.display.HTML object>"
      ]
     },
     "metadata": {},
     "output_type": "display_data"
    },
    {
     "name": "stdout",
     "output_type": "stream",
     "text": [
      "\n",
      "Action(time=1621272585.138, user='p', type='reaction', data={'name': '❤', 'eos': True, 'mask_action': False})\n",
      "\n",
      "sound      (8, '- The response is short and lacks depth, but it fits the context given the casual and lighthearted tone of the conversation.')\n",
      "persona    (10, '- The response fits the persona well with the use of emojis and minimalistic text.')\n",
      "flow       (8, \"- While the response is minimal, it does show engagement and keeps the conversation flowing by acknowledging Mary's message.\")\n",
      "\n",
      "\n",
      "\n",
      "\n",
      "\n",
      "\n",
      "\n",
      "\n",
      "\n",
      "\n",
      "\n"
     ]
    },
    {
     "data": {
      "text/html": [
       "<table style=\"width: 100%\"><tr>\n",
       "                    <td style=\"vertical-align: top; white-space: nowrap; width: 10em; overflow: hidden; text-overflow: ellipsis\">John Castro</td>\n",
       "                    <td style=\"text-align: left;\"><span style=\"white-space: pre\">they have performers' visas </span></td></tr><tr>\n",
       "                    <td style=\"vertical-align: top; white-space: nowrap; width: 10em; overflow: hidden; text-overflow: ellipsis\">John Castro</td>\n",
       "                    <td style=\"text-align: left;\"><span style=\"white-space: pre\"><span style=\"background: rgba(255, 0, 0, 0.5)\">https://www.youtube.com/watch?v=S3ldqG92chI&ab_channel=Classical%26Instrumental</span> </span></td></tr><tr>\n",
       "                    <td style=\"vertical-align: top; white-space: nowrap; width: 10em; overflow: hidden; text-overflow: ellipsis\">John Castro</td>\n",
       "                    <td style=\"text-align: left;\"><span style=\"white-space: pre\">how's it going? </span></td></tr><tr>\n",
       "                    <td style=\"vertical-align: top; white-space: nowrap; width: 10em; overflow: hidden; text-overflow: ellipsis\">p</td>\n",
       "                    <td style=\"text-align: left;\"><span style=\"white-space: pre\">good </span></td></tr><tr>\n",
       "                    <td style=\"vertical-align: top; white-space: nowrap; width: 10em; overflow: hidden; text-overflow: ellipsis\">p</td>\n",
       "                    <td style=\"text-align: left;\"><span style=\"white-space: pre\">currently developing my linux project </span></td></tr><tr>\n",
       "                    <td style=\"vertical-align: top; white-space: nowrap; width: 10em; overflow: hidden; text-overflow: ellipsis\">John Castro</td>\n",
       "                    <td style=\"text-align: left;\"><span style=\"white-space: pre\">I've been practising and getting better with guitar </span></td></tr><tr>\n",
       "                    <td style=\"vertical-align: top; white-space: nowrap; width: 10em; overflow: hidden; text-overflow: ellipsis\">John Castro</td>\n",
       "                    <td style=\"text-align: left;\"><span style=\"white-space: pre\">ah, cool </span></td></tr><tr>\n",
       "                    <td style=\"vertical-align: top; white-space: nowrap; width: 10em; overflow: hidden; text-overflow: ellipsis\">p</td>\n",
       "                    <td style=\"text-align: left;\"><span style=\"white-space: pre\">+ perhaps adopting some more languages </span></td></tr><tr>\n",
       "                    <td style=\"vertical-align: top; white-space: nowrap; width: 10em; overflow: hidden; text-overflow: ellipsis\">p</td>\n",
       "                    <td style=\"text-align: left;\"><span style=\"white-space: pre\">nice </span></td></tr><tr>\n",
       "                    <td style=\"vertical-align: top; white-space: nowrap; width: 10em; overflow: hidden; text-overflow: ellipsis\">John Castro</td>\n",
       "                    <td style=\"text-align: left;\"><span style=\"white-space: pre\">I don't know much about Linux and such </span></td></tr></table>"
      ],
      "text/plain": [
       "<IPython.core.display.HTML object>"
      ]
     },
     "metadata": {},
     "output_type": "display_data"
    },
    {
     "name": "stdout",
     "output_type": "stream",
     "text": [
      "\n",
      "Action(time=1603051043.558, user='p', type='message', data={'body': \"i've had an organ lesson today\", 'issues': [], 'eos': True, 'mask_action': False})\n",
      "\n",
      "sound      (8, '- The response is sound given the context of the conversation, talking about activities and interests.')\n",
      "persona    (9, '- The response corresponds well to the target persona by mentioning an organ lesson, which fits with the interest in music.')\n",
      "flow       (9, '- The response helps maintain the conversation flow by sharing personal activities, showing engagement in the conversation.')\n",
      "\n",
      "\n",
      "\n",
      "\n",
      "\n",
      "\n",
      "\n",
      "\n",
      "\n",
      "\n",
      "\n"
     ]
    },
    {
     "data": {
      "text/html": [
       "<table style=\"width: 100%\"><tr>\n",
       "                    <td style=\"vertical-align: top; white-space: nowrap; width: 10em; overflow: hidden; text-overflow: ellipsis\">p</td>\n",
       "                    <td style=\"text-align: left;\"><span style=\"white-space: pre\">(ik joke) </span></td></tr><tr>\n",
       "                    <td style=\"vertical-align: top; white-space: nowrap; width: 10em; overflow: hidden; text-overflow: ellipsis\">p</td>\n",
       "                    <td style=\"text-align: left;\"><span style=\"white-space: pre\">btw this: </span></td></tr><tr>\n",
       "                    <td style=\"vertical-align: top; white-space: nowrap; width: 10em; overflow: hidden; text-overflow: ellipsis\">p</td>\n",
       "                    <td style=\"text-align: left;\"><span style=\"white-space: pre\"> [136103438_1760632240771183_3363061676730509572_n_1760632234104517.png]</span></td></tr><tr>\n",
       "                    <td style=\"vertical-align: top; white-space: nowrap; width: 10em; overflow: hidden; text-overflow: ellipsis\">Daniel Mcgrath</td>\n",
       "                    <td style=\"text-align: left;\"><span style=\"white-space: pre\"> [135696433_204836994694659_944593342065675292_n_204836991361326.png]</span></td></tr><tr>\n",
       "                    <td style=\"vertical-align: top; white-space: nowrap; width: 10em; overflow: hidden; text-overflow: ellipsis\">p</td>\n",
       "                    <td style=\"text-align: left;\"><span style=\"white-space: pre\">real phenomenon / measurement effect? </span></td></tr><tr>\n",
       "                    <td style=\"vertical-align: top; white-space: nowrap; width: 10em; overflow: hidden; text-overflow: ellipsis\">Daniel Mcgrath</td>\n",
       "                    <td style=\"text-align: left;\"><span style=\"white-space: pre\">improbable </span></td></tr><tr>\n",
       "                    <td style=\"vertical-align: top; white-space: nowrap; width: 10em; overflow: hidden; text-overflow: ellipsis\">Daniel Mcgrath</td>\n",
       "                    <td style=\"text-align: left;\"><span style=\"white-space: pre\">measurement </span></td></tr><tr>\n",
       "                    <td style=\"vertical-align: top; white-space: nowrap; width: 10em; overflow: hidden; text-overflow: ellipsis\">p</td>\n",
       "                    <td style=\"text-align: left;\"><span style=\"white-space: pre\">(was a rhetoric question) </span><ul style=\"margin: 10px 0px 0px -13px; padding: 0px 0px 0px 10px; border-left: 3px solid grey\">\n",
       "                            <li style=\"display: inline\">👍</li>\n",
       "                        </ul></td></tr><tr>\n",
       "                    <td style=\"vertical-align: top; white-space: nowrap; width: 10em; overflow: hidden; text-overflow: ellipsis\">Daniel Mcgrath</td>\n",
       "                    <td style=\"text-align: left;\"><span style=\"white-space: pre\">oh ok </span></td></tr><tr>\n",
       "                    <td style=\"vertical-align: top; white-space: nowrap; width: 10em; overflow: hidden; text-overflow: ellipsis\">Daniel Mcgrath</td>\n",
       "                    <td style=\"text-align: left;\"><span style=\"white-space: pre\"> [135572791_3516384538439155_307095810390920884_n_3516384535105822.png]</span></td></tr></table>"
      ],
      "text/plain": [
       "<IPython.core.display.HTML object>"
      ]
     },
     "metadata": {},
     "output_type": "display_data"
    },
    {
     "name": "stdout",
     "output_type": "stream",
     "text": [
      "\n",
      "Action(time=1609849774.005, user='p', type='message', data={'body': 'is what?', 'issues': [], 'eos': True, 'mask_action': False})\n",
      "\n",
      "sound      (8, '- The response is simple and fits the context of the chat.')\n",
      "persona    (9, '- The response is in line with the persona provided, using a short, casual, and slightly confrontational tone.')\n",
      "flow       (8, '- The response does engage with the previous messages and tries to keep the conversation going by seeking clarification.')\n",
      "\n",
      "\n",
      "\n",
      "\n",
      "\n",
      "\n",
      "\n",
      "\n",
      "\n",
      "\n",
      "\n"
     ]
    },
    {
     "data": {
      "text/html": [
       "<table style=\"width: 100%\"><tr>\n",
       "                    <td style=\"vertical-align: top; white-space: nowrap; width: 10em; overflow: hidden; text-overflow: ellipsis\">p</td>\n",
       "                    <td style=\"text-align: left;\"><span style=\"white-space: pre\">já tebe taky <33 </span></td></tr><tr>\n",
       "                    <td style=\"vertical-align: top; white-space: nowrap; width: 10em; overflow: hidden; text-overflow: ellipsis\">p</td>\n",
       "                    <td style=\"text-align: left;\"><span style=\"white-space: pre\">iirc standard </span><ul style=\"margin: 10px 0px 0px -13px; padding: 0px 0px 0px 10px; border-left: 3px solid grey\">\n",
       "                            <li style=\"display: inline\">👍</li>\n",
       "                        </ul></td></tr><tr>\n",
       "                    <td style=\"vertical-align: top; white-space: nowrap; width: 10em; overflow: hidden; text-overflow: ellipsis\">p</td>\n",
       "                    <td style=\"text-align: left;\"><span style=\"white-space: pre\"> [363481018_3529689020621627_983368164891427867_n_3529689017288294.jpg]</span></td></tr><tr>\n",
       "                    <td style=\"vertical-align: top; white-space: nowrap; width: 10em; overflow: hidden; text-overflow: ellipsis\">p</td>\n",
       "                    <td style=\"text-align: left;\"><span style=\"white-space: pre\"> [363531021_236971042589710_8421191642029394606_n_236971039256377.jpg]</span></td></tr><tr>\n",
       "                    <td style=\"vertical-align: top; white-space: nowrap; width: 10em; overflow: hidden; text-overflow: ellipsis\">p</td>\n",
       "                    <td style=\"text-align: left;\"><span style=\"white-space: pre\"> [363498835_605624311748823_6052247717514257377_n_605624308415490.jpg]</span><ul style=\"margin: 10px 0px 0px -13px; padding: 0px 0px 0px 10px; border-left: 3px solid grey\">\n",
       "                            <li style=\"display: inline\">❤</li>\n",
       "                        </ul></td></tr><tr>\n",
       "                    <td style=\"vertical-align: top; white-space: nowrap; width: 10em; overflow: hidden; text-overflow: ellipsis\">p</td>\n",
       "                    <td style=\"text-align: left;\"><span style=\"white-space: pre\">furt na tebr myslím 👉👈 </span><ul style=\"margin: 10px 0px 0px -13px; padding: 0px 0px 0px 10px; border-left: 3px solid grey\">\n",
       "                            <li style=\"display: inline\">🖤</li>\n",
       "                        </ul></td></tr><tr>\n",
       "                    <td style=\"vertical-align: top; white-space: nowrap; width: 10em; overflow: hidden; text-overflow: ellipsis\">Robert Bates</td>\n",
       "                    <td style=\"text-align: left;\"><span style=\"white-space: pre\"> [357325669_2944943415640528_4458644936862459240_n_296672142941705.jpg]</span></td></tr><tr>\n",
       "                    <td style=\"vertical-align: top; white-space: nowrap; width: 10em; overflow: hidden; text-overflow: ellipsis\">Robert Bates</td>\n",
       "                    <td style=\"text-align: left;\"><span style=\"white-space: pre\"> [357312624_239281252340210_4832832242454049951_n_749494880275868.jpg]</span></td></tr><tr>\n",
       "                    <td style=\"vertical-align: top; white-space: nowrap; width: 10em; overflow: hidden; text-overflow: ellipsis\">Robert Bates</td>\n",
       "                    <td style=\"text-align: left;\"><span style=\"white-space: pre\">Já si hodinu představuju, jak máme sex </span><ul style=\"margin: 10px 0px 0px -13px; padding: 0px 0px 0px 10px; border-left: 3px solid grey\">\n",
       "                            <li style=\"display: inline\">🖤</li>\n",
       "                        </ul></td></tr><tr>\n",
       "                    <td style=\"vertical-align: top; white-space: nowrap; width: 10em; overflow: hidden; text-overflow: ellipsis\">p</td>\n",
       "                    <td style=\"text-align: left;\"><span style=\"white-space: pre\">lidl mám rád, jinak souhlasím 😳 </span><ul style=\"margin: 10px 0px 0px -13px; padding: 0px 0px 0px 10px; border-left: 3px solid grey\">\n",
       "                            <li style=\"display: inline\">❤</li>\n",
       "                        </ul></td></tr></table>"
      ],
      "text/plain": [
       "<IPython.core.display.HTML object>"
      ]
     },
     "metadata": {},
     "output_type": "display_data"
    },
    {
     "name": "stdout",
     "output_type": "stream",
     "text": [
      "\n",
      "Action(time=1690549712.501, user='p', type='message', data={'body': 'details >:3', 'issues': [], 'eos': True, 'mask_action': False})\n",
      "\n",
      "sound      (8, '- The response is generally sound as it adds a playful element to the conversation.')\n",
      "persona    (9, '- The response does correspond to the target persona with the use of playful emojis and slang.')\n",
      "flow       (8, '- The response maintains the conversation flow by continuing the playful tone and engagement with the other person.')\n",
      "\n",
      "\n",
      "\n",
      "\n",
      "\n",
      "\n",
      "\n",
      "\n",
      "\n",
      "\n",
      "\n"
     ]
    },
    {
     "data": {
      "text/html": [
       "<table style=\"width: 100%\"><tr>\n",
       "                    <td style=\"vertical-align: top; white-space: nowrap; width: 10em; overflow: hidden; text-overflow: ellipsis\">p</td>\n",
       "                    <td style=\"text-align: left;\"><span style=\"white-space: pre\">zítra uwu </span><ul style=\"margin: 10px 0px 0px -13px; padding: 0px 0px 0px 10px; border-left: 3px solid grey\">\n",
       "                            <li style=\"display: inline\">❤</li>\n",
       "                        </ul></td></tr><tr>\n",
       "                    <td style=\"vertical-align: top; white-space: nowrap; width: 10em; overflow: hidden; text-overflow: ellipsis\">p</td>\n",
       "                    <td style=\"text-align: left;\"><span style=\"white-space: pre\">kam tě zítra doveze mamka </span></td></tr><tr>\n",
       "                    <td style=\"vertical-align: top; white-space: nowrap; width: 10em; overflow: hidden; text-overflow: ellipsis\">Robert Bates</td>\n",
       "                    <td style=\"text-align: left;\"><span style=\"white-space: pre\">K tulce </span></td></tr><tr>\n",
       "                    <td style=\"vertical-align: top; white-space: nowrap; width: 10em; overflow: hidden; text-overflow: ellipsis\">Robert Bates</td>\n",
       "                    <td style=\"text-align: left;\"><span style=\"white-space: pre\">Chtěl by ses sejít tam? </span><ul style=\"margin: 10px 0px 0px -13px; padding: 0px 0px 0px 10px; border-left: 3px solid grey\">\n",
       "                            <li style=\"display: inline\">❤</li>\n",
       "                        </ul></td></tr><tr>\n",
       "                    <td style=\"vertical-align: top; white-space: nowrap; width: 10em; overflow: hidden; text-overflow: ellipsis\">p</td>\n",
       "                    <td style=\"text-align: left;\"><span style=\"white-space: pre\">okk gdy? </span></td></tr><tr>\n",
       "                    <td style=\"vertical-align: top; white-space: nowrap; width: 10em; overflow: hidden; text-overflow: ellipsis\">Robert Bates</td>\n",
       "                    <td style=\"text-align: left;\"><span style=\"white-space: pre\">Nebo mě vyzvedneš u Plazy? </span><ul style=\"margin: 10px 0px 0px -13px; padding: 0px 0px 0px 10px; border-left: 3px solid grey\">\n",
       "                            <li style=\"display: inline\">❤</li>\n",
       "                        </ul></td></tr><tr>\n",
       "                    <td style=\"vertical-align: top; white-space: nowrap; width: 10em; overflow: hidden; text-overflow: ellipsis\">Robert Bates</td>\n",
       "                    <td style=\"text-align: left;\"><span style=\"white-space: pre\">Oki </span></td></tr><tr>\n",
       "                    <td style=\"vertical-align: top; white-space: nowrap; width: 10em; overflow: hidden; text-overflow: ellipsis\">p</td>\n",
       "                    <td style=\"text-align: left;\"><span style=\"white-space: pre\">tak plaza </span></td></tr><tr>\n",
       "                    <td style=\"vertical-align: top; white-space: nowrap; width: 10em; overflow: hidden; text-overflow: ellipsis\">p</td>\n",
       "                    <td style=\"text-align: left;\"><span style=\"white-space: pre\">hm i když </span></td></tr><tr>\n",
       "                    <td style=\"vertical-align: top; white-space: nowrap; width: 10em; overflow: hidden; text-overflow: ellipsis\">Robert Bates</td>\n",
       "                    <td style=\"text-align: left;\"><span style=\"white-space: pre\">Ve 13:30 cca? </span></td></tr></table>"
      ],
      "text/plain": [
       "<IPython.core.display.HTML object>"
      ]
     },
     "metadata": {},
     "output_type": "display_data"
    },
    {
     "name": "stdout",
     "output_type": "stream",
     "text": [
      "\n",
      "Action(time=1644779811.458, user='p', type='message', data={'body': 'ou ok', 'issues': [], 'eos': True, 'mask_action': False})\n",
      "\n",
      "sound      (8, '- The response is short and simple, which fits the brief messages in the chat excerpt. However, it could have been a bit more engaging.')\n",
      "persona    (9, '- The response fits the persona of a 22-year-old theoretical computer science student from Czechia with the use of informal language and slang.')\n",
      "flow       (7, '- While the response is in line with the previous messages, it could have been more engaging to show active participation in the conversation. Consider the use of humor or further details to maintain the flow.')\n",
      "\n",
      "\n",
      "\n",
      "\n",
      "\n",
      "\n",
      "\n",
      "\n",
      "\n",
      "\n",
      "\n"
     ]
    },
    {
     "data": {
      "text/html": [
       "<table style=\"width: 100%\"><tr>\n",
       "                    <td style=\"vertical-align: top; white-space: nowrap; width: 10em; overflow: hidden; text-overflow: ellipsis\">Robert Bates</td>\n",
       "                    <td style=\"text-align: left;\"><span style=\"white-space: pre\">Xd </span></td></tr><tr>\n",
       "                    <td style=\"vertical-align: top; white-space: nowrap; width: 10em; overflow: hidden; text-overflow: ellipsis\">Robert Bates</td>\n",
       "                    <td style=\"text-align: left;\"><span style=\"white-space: pre\">Dobře </span></td></tr><tr>\n",
       "                    <td style=\"vertical-align: top; white-space: nowrap; width: 10em; overflow: hidden; text-overflow: ellipsis\">p</td>\n",
       "                    <td style=\"text-align: left;\"><span style=\"white-space: pre\">vsechny v tom listu jsem splnil </span></td></tr><tr>\n",
       "                    <td style=\"vertical-align: top; white-space: nowrap; width: 10em; overflow: hidden; text-overflow: ellipsis\">Robert Bates</td>\n",
       "                    <td style=\"text-align: left;\"><span style=\"white-space: pre\">👌 </span></td></tr><tr>\n",
       "                    <td style=\"vertical-align: top; white-space: nowrap; width: 10em; overflow: hidden; text-overflow: ellipsis\">p</td>\n",
       "                    <td style=\"text-align: left;\"><span style=\"white-space: pre\">mozna pozdeji xd </span></td></tr><tr>\n",
       "                    <td style=\"vertical-align: top; white-space: nowrap; width: 10em; overflow: hidden; text-overflow: ellipsis\">Robert Bates</td>\n",
       "                    <td style=\"text-align: left;\"><span style=\"white-space: pre\">Přijdu za 5 minut </span></td></tr><tr>\n",
       "                    <td style=\"vertical-align: top; white-space: nowrap; width: 10em; overflow: hidden; text-overflow: ellipsis\">Robert Bates</td>\n",
       "                    <td style=\"text-align: left;\"><span style=\"white-space: pre\">Do tý doby </span></td></tr><tr>\n",
       "                    <td style=\"vertical-align: top; white-space: nowrap; width: 10em; overflow: hidden; text-overflow: ellipsis\">p</td>\n",
       "                    <td style=\"text-align: left;\"><span style=\"white-space: pre\">👌 </span></td></tr><tr>\n",
       "                    <td style=\"vertical-align: top; white-space: nowrap; width: 10em; overflow: hidden; text-overflow: ellipsis\">Robert Bates</td>\n",
       "                    <td style=\"text-align: left;\"><span style=\"white-space: pre\">Khai </span></td></tr><tr>\n",
       "                    <td style=\"vertical-align: top; white-space: nowrap; width: 10em; overflow: hidden; text-overflow: ellipsis\">Robert Bates</td>\n",
       "                    <td style=\"text-align: left;\"><span style=\"white-space: pre\">1) Sure </span></td></tr></table>"
      ],
      "text/plain": [
       "<IPython.core.display.HTML object>"
      ]
     },
     "metadata": {},
     "output_type": "display_data"
    },
    {
     "name": "stdout",
     "output_type": "stream",
     "text": [
      "\n",
      "Action(time=1573943665.891, user='p', type='reaction', data={'name': '😮', 'eos': True, 'mask_action': False})\n",
      "\n",
      "sound      (8, '- The response is mostly sound, but could be more engaging and add more to the ongoing conversation.')\n",
      "persona    (9, \"- The use of <REACTION> and the reaction emoji fits well with the persona's wackiness and humor.\")\n",
      "flow       (6, '- The response could have been more engaging and added more substance to the conversation rather than just reacting.')\n",
      "\n",
      "\n",
      "\n",
      "\n",
      "\n",
      "\n",
      "\n",
      "\n",
      "\n",
      "\n",
      "\n"
     ]
    },
    {
     "data": {
      "text/html": [
       "<table style=\"width: 100%\"><tr>\n",
       "                    <td style=\"vertical-align: top; white-space: nowrap; width: 10em; overflow: hidden; text-overflow: ellipsis\">Robert Bates</td>\n",
       "                    <td style=\"text-align: left;\"><span style=\"white-space: pre\">*desítky, ok </span></td></tr><tr>\n",
       "                    <td style=\"vertical-align: top; white-space: nowrap; width: 10em; overflow: hidden; text-overflow: ellipsis\">p</td>\n",
       "                    <td style=\"text-align: left;\"><span style=\"white-space: pre\">až sto* to be precise </span></td></tr><tr>\n",
       "                    <td style=\"vertical-align: top; white-space: nowrap; width: 10em; overflow: hidden; text-overflow: ellipsis\">p</td>\n",
       "                    <td style=\"text-align: left;\"><span style=\"white-space: pre\">also dneska žije s trochou nadsázky půlka všech krav v Indii </span></td></tr><tr>\n",
       "                    <td style=\"vertical-align: top; white-space: nowrap; width: 10em; overflow: hidden; text-overflow: ellipsis\">Robert Bates</td>\n",
       "                    <td style=\"text-align: left;\"><span style=\"white-space: pre\">google: \"how many cows in the usa\" etc. XD </span></td></tr><tr>\n",
       "                    <td style=\"vertical-align: top; white-space: nowrap; width: 10em; overflow: hidden; text-overflow: ellipsis\">p</td>\n",
       "                    <td style=\"text-align: left;\"><span style=\"white-space: pre\">neboj statistiky znám lol </span><ul style=\"margin: 10px 0px 0px -13px; padding: 0px 0px 0px 10px; border-left: 3px solid grey\">\n",
       "                            <li style=\"display: inline\">❤</li>\n",
       "                        </ul></td></tr><tr>\n",
       "                    <td style=\"vertical-align: top; white-space: nowrap; width: 10em; overflow: hidden; text-overflow: ellipsis\">Robert Bates</td>\n",
       "                    <td style=\"text-align: left;\"><span style=\"white-space: pre\">Výborně </span></td></tr><tr>\n",
       "                    <td style=\"vertical-align: top; white-space: nowrap; width: 10em; overflow: hidden; text-overflow: ellipsis\">p</td>\n",
       "                    <td style=\"text-align: left;\"><span style=\"white-space: pre\">kolem 30-40% v indii </span></td></tr><tr>\n",
       "                    <td style=\"vertical-align: top; white-space: nowrap; width: 10em; overflow: hidden; text-overflow: ellipsis\">Robert Bates</td>\n",
       "                    <td style=\"text-align: left;\"><span style=\"white-space: pre\">Jj </span></td></tr><tr>\n",
       "                    <td style=\"vertical-align: top; white-space: nowrap; width: 10em; overflow: hidden; text-overflow: ellipsis\">Robert Bates</td>\n",
       "                    <td style=\"text-align: left;\"><span style=\"white-space: pre\">Pomlčka amezera </span></td></tr><tr>\n",
       "                    <td style=\"vertical-align: top; white-space: nowrap; width: 10em; overflow: hidden; text-overflow: ellipsis\">Robert Bates</td>\n",
       "                    <td style=\"text-align: left;\"><span style=\"white-space: pre\">XDD </span></td></tr></table>"
      ],
      "text/plain": [
       "<IPython.core.display.HTML object>"
      ]
     },
     "metadata": {},
     "output_type": "display_data"
    },
    {
     "name": "stdout",
     "output_type": "stream",
     "text": [
      "\n",
      "Action(time=1631215846.012, user='p', type='message', data={'body': 'pak hodně brazílie, čína, pak amerika, evropa', 'issues': [], 'eos': True, 'mask_action': False})\n",
      "\n",
      "sound      (8, '- The response is generally sound and aligns with the context and instructions provided.')\n",
      "persona    (7, '- The response corresponds well to the target persona in terms of the topic and style of communication, but it could have been more wacky or humorous.')\n",
      "flow       (8, '- The response does help maintain the conversation flow by adding relevant information and engaging with the topic at hand.')\n",
      "\n",
      "\n",
      "\n",
      "\n",
      "\n",
      "\n",
      "\n",
      "\n",
      "\n",
      "\n",
      "\n"
     ]
    },
    {
     "data": {
      "text/html": [
       "<table style=\"width: 100%\"><tr>\n",
       "                    <td style=\"vertical-align: top; white-space: nowrap; width: 10em; overflow: hidden; text-overflow: ellipsis\">Robert Bates</td>\n",
       "                    <td style=\"text-align: left;\"><span style=\"white-space: pre\">A dáme muck </span><ul style=\"margin: 10px 0px 0px -13px; padding: 0px 0px 0px 10px; border-left: 3px solid grey\">\n",
       "                            <li style=\"display: inline\">❤</li>\n",
       "                        </ul></td></tr><tr>\n",
       "                    <td style=\"vertical-align: top; white-space: nowrap; width: 10em; overflow: hidden; text-overflow: ellipsis\">Robert Bates</td>\n",
       "                    <td style=\"text-align: left;\"><span style=\"white-space: pre\">Sex na Silvestra předloni u nás byl mega vibe </span><ul style=\"margin: 10px 0px 0px -13px; padding: 0px 0px 0px 10px; border-left: 3px solid grey\">\n",
       "                            <li style=\"display: inline\">❤</li>\n",
       "                        </ul></td></tr><tr>\n",
       "                    <td style=\"vertical-align: top; white-space: nowrap; width: 10em; overflow: hidden; text-overflow: ellipsis\">Robert Bates</td>\n",
       "                    <td style=\"text-align: left;\"><span style=\"white-space: pre\">To bych zopakovala :D </span></td></tr><tr>\n",
       "                    <td style=\"vertical-align: top; white-space: nowrap; width: 10em; overflow: hidden; text-overflow: ellipsis\">p</td>\n",
       "                    <td style=\"text-align: left;\"><span style=\"white-space: pre\">ten u nás byl lepší >:3 </span></td></tr><tr>\n",
       "                    <td style=\"vertical-align: top; white-space: nowrap; width: 10em; overflow: hidden; text-overflow: ellipsis\">p</td>\n",
       "                    <td style=\"text-align: left;\"><span style=\"white-space: pre\">nezopakujeme, vylepšíme >:33 </span></td></tr><tr>\n",
       "                    <td style=\"vertical-align: top; white-space: nowrap; width: 10em; overflow: hidden; text-overflow: ellipsis\">Robert Bates</td>\n",
       "                    <td style=\"text-align: left;\"><span style=\"white-space: pre\">Jsem v buse </span><ul style=\"margin: 10px 0px 0px -13px; padding: 0px 0px 0px 10px; border-left: 3px solid grey\">\n",
       "                            <li style=\"display: inline\">👍</li>\n",
       "                        </ul></td></tr><tr>\n",
       "                    <td style=\"vertical-align: top; white-space: nowrap; width: 10em; overflow: hidden; text-overflow: ellipsis\">Robert Bates</td>\n",
       "                    <td style=\"text-align: left;\"><span style=\"white-space: pre\">Staví klasicky na Florenci říkal </span><ul style=\"margin: 10px 0px 0px -13px; padding: 0px 0px 0px 10px; border-left: 3px solid grey\">\n",
       "                            <li style=\"display: inline\">❤</li>\n",
       "                        </ul></td></tr><tr>\n",
       "                    <td style=\"vertical-align: top; white-space: nowrap; width: 10em; overflow: hidden; text-overflow: ellipsis\">p</td>\n",
       "                    <td style=\"text-align: left;\"><span style=\"white-space: pre\">šťastnou cestu :D </span><ul style=\"margin: 10px 0px 0px -13px; padding: 0px 0px 0px 10px; border-left: 3px solid grey\">\n",
       "                            <li style=\"display: inline\">❤</li>\n",
       "                        </ul></td></tr><tr>\n",
       "                    <td style=\"vertical-align: top; white-space: nowrap; width: 10em; overflow: hidden; text-overflow: ellipsis\">p</td>\n",
       "                    <td style=\"text-align: left;\"><span style=\"white-space: pre\">meow! </span></td></tr><tr>\n",
       "                    <td style=\"vertical-align: top; white-space: nowrap; width: 10em; overflow: hidden; text-overflow: ellipsis\">p</td>\n",
       "                    <td style=\"text-align: left;\"><span style=\"white-space: pre\">těším se na tebe :3 </span><ul style=\"margin: 10px 0px 0px -13px; padding: 0px 0px 0px 10px; border-left: 3px solid grey\">\n",
       "                            <li style=\"display: inline\">❤</li>\n",
       "                        </ul></td></tr></table>"
      ],
      "text/plain": [
       "<IPython.core.display.HTML object>"
      ]
     },
     "metadata": {},
     "output_type": "display_data"
    },
    {
     "name": "stdout",
     "output_type": "stream",
     "text": [
      "\n",
      "Action(time=1698432720.544, user='p', type='message', data={'body': 'moc', 'issues': [], 'mask_action': False})\n",
      "Action(time=1698432746.439, user='p', type='message', data={'body': 'řekneš mi nějaké číslo busu?', 'issues': [], 'followup': True, 'mask_action': False})\n",
      "Action(time=1698432763.548, user='p', type='message', data={'body': 'ať pak můžu vystalkovat kde přesně vystupuješ :D', 'issues': [], 'followup': True, 'eos': True, 'mask_action': False})\n",
      "\n",
      "sound      (8, '- The response is overall sound, but it could be improved by being more engaging and adding some humor or wackiness.')\n",
      "persona    (7, \"- The response matches the persona in terms of being direct and to the point, but it could use more of the persona's characteristics, such as being wacky or humorous.\")\n",
      "flow       (6, '- The response does help maintain the conversation flow by asking for the bus number, showing engagement, but it could be more engaging and fun to match the tone of the conversation.')\n",
      "\n",
      "\n",
      "\n",
      "\n",
      "\n",
      "\n",
      "\n",
      "\n",
      "\n",
      "\n",
      "\n"
     ]
    },
    {
     "data": {
      "text/html": [
       "<table style=\"width: 100%\"><tr>\n",
       "                    <td style=\"vertical-align: top; white-space: nowrap; width: 10em; overflow: hidden; text-overflow: ellipsis\">p</td>\n",
       "                    <td style=\"text-align: left;\"><span style=\"white-space: pre\">jewish* </span></td></tr><tr>\n",
       "                    <td style=\"vertical-align: top; white-space: nowrap; width: 10em; overflow: hidden; text-overflow: ellipsis\">p</td>\n",
       "                    <td style=\"text-align: left;\"><span style=\"white-space: pre\">high Q </span></td></tr><tr>\n",
       "                    <td style=\"vertical-align: top; white-space: nowrap; width: 10em; overflow: hidden; text-overflow: ellipsis\">Daniel Mcgrath</td>\n",
       "                    <td style=\"text-align: left;\"><span style=\"white-space: pre\">Yeah I was thinking about that </span></td></tr><tr>\n",
       "                    <td style=\"vertical-align: top; white-space: nowrap; width: 10em; overflow: hidden; text-overflow: ellipsis\">Daniel Mcgrath</td>\n",
       "                    <td style=\"text-align: left;\"><span style=\"white-space: pre\">But Jew women aren't particularly hot xd </span></td></tr><tr>\n",
       "                    <td style=\"vertical-align: top; white-space: nowrap; width: 10em; overflow: hidden; text-overflow: ellipsis\">Daniel Mcgrath</td>\n",
       "                    <td style=\"text-align: left;\"><span style=\"white-space: pre\">I was thinking about a jew-jap cross-breed tho </span></td></tr><tr>\n",
       "                    <td style=\"vertical-align: top; white-space: nowrap; width: 10em; overflow: hidden; text-overflow: ellipsis\">p</td>\n",
       "                    <td style=\"text-align: left;\"><span style=\"white-space: pre\">kk </span></td></tr><tr>\n",
       "                    <td style=\"vertical-align: top; white-space: nowrap; width: 10em; overflow: hidden; text-overflow: ellipsis\">Daniel Mcgrath</td>\n",
       "                    <td style=\"text-align: left;\"><span style=\"white-space: pre\"> [137496885_165987281554373_3046186918839125719_n_165987278221040.png]</span></td></tr><tr>\n",
       "                    <td style=\"vertical-align: top; white-space: nowrap; width: 10em; overflow: hidden; text-overflow: ellipsis\">p</td>\n",
       "                    <td style=\"text-align: left;\"><span style=\"white-space: pre\">k </span></td></tr><tr>\n",
       "                    <td style=\"vertical-align: top; white-space: nowrap; width: 10em; overflow: hidden; text-overflow: ellipsis\">p</td>\n",
       "                    <td style=\"text-align: left;\"><span style=\"white-space: pre\">I need not to see every mediocre interaction you make, pearls only :p </span></td></tr><tr>\n",
       "                    <td style=\"vertical-align: top; white-space: nowrap; width: 10em; overflow: hidden; text-overflow: ellipsis\">Daniel Mcgrath</td>\n",
       "                    <td style=\"text-align: left;\"><span style=\"white-space: pre\"><span style=\"background: rgba(255, 0, 0, 0.5)\">https://twitter.com/i/status/1347391547189252099</span> </span></td></tr></table>"
      ],
      "text/plain": [
       "<IPython.core.display.HTML object>"
      ]
     },
     "metadata": {},
     "output_type": "display_data"
    },
    {
     "name": "stdout",
     "output_type": "stream",
     "text": [
      "\n",
      "Action(time=1610366633.054, user='p', type='reaction', data={'name': '💗', 'eos': True, 'mask_action': False})\n",
      "\n",
      "sound      (7, \"- The response is somewhat lacking in content and engagement, but it does show a positive reaction to Daniel's message.\")\n",
      "persona    (8, \"- The use of emoji to react positively to Daniel's message fits with the target persona's jovial and wacky nature.\")\n",
      "flow       (5, \"- The response is a bit short and doesn't add much to the conversation, but it does acknowledge Daniel's message and show some engagement. More detailed responses or follow-up questions would enhance the conversation flow.\")\n",
      "\n",
      "\n",
      "\n",
      "\n",
      "\n",
      "\n",
      "\n",
      "\n",
      "\n",
      "\n",
      "\n"
     ]
    },
    {
     "data": {
      "text/html": [
       "<table style=\"width: 100%\"><tr>\n",
       "                    <td style=\"vertical-align: top; white-space: nowrap; width: 10em; overflow: hidden; text-overflow: ellipsis\">p</td>\n",
       "                    <td style=\"text-align: left;\"><span style=\"white-space: pre\">jakoze se muzu vymluvit ze znam jen nejake fraze </span></td></tr><tr>\n",
       "                    <td style=\"vertical-align: top; white-space: nowrap; width: 10em; overflow: hidden; text-overflow: ellipsis\">p</td>\n",
       "                    <td style=\"text-align: left;\"><span style=\"white-space: pre\">fuck vi my jmeno </span></td></tr><tr>\n",
       "                    <td style=\"vertical-align: top; white-space: nowrap; width: 10em; overflow: hidden; text-overflow: ellipsis\">p</td>\n",
       "                    <td style=\"text-align: left;\"><span style=\"white-space: pre\"><span style=\"background: rgba(255, 0, 0, 0.5)\">https://www.airbnb.cz/rooms/39685298?source_impression_id=p3_1576609343_Gqyxsx1VdWnWWdeH</span> </span></td></tr><tr>\n",
       "                    <td style=\"vertical-align: top; white-space: nowrap; width: 10em; overflow: hidden; text-overflow: ellipsis\">p</td>\n",
       "                    <td style=\"text-align: left;\"><span style=\"white-space: pre\">\"Pokoj slouží jako posilovna, herna a zároveň pokoj pro hosty. Pokud hledáte ubytování, ve kterém se nebudete nudit, tento pokoj je právě pro Vás! Najdete v něm zpoustu zábavy, stolní hry, knížky, vojenské modýlky, žebřiny, činky, švihadlo, lavici ale i velké herní křeslo s volantem, televizí a spousty videoher!\" </span></td></tr><tr>\n",
       "                    <td style=\"vertical-align: top; white-space: nowrap; width: 10em; overflow: hidden; text-overflow: ellipsis\">p</td>\n",
       "                    <td style=\"text-align: left;\"><span style=\"white-space: pre\">:33 </span></td></tr><tr>\n",
       "                    <td style=\"vertical-align: top; white-space: nowrap; width: 10em; overflow: hidden; text-overflow: ellipsis\">p</td>\n",
       "                    <td style=\"text-align: left;\"><span style=\"white-space: pre\">posledni 2 mesice obedvam temer pouze jablka :3 </span><ul style=\"margin: 10px 0px 0px -13px; padding: 0px 0px 0px 10px; border-left: 3px solid grey\">\n",
       "                            <li style=\"display: inline\">😆</li>\n",
       "                        </ul></td></tr><tr>\n",
       "                    <td style=\"vertical-align: top; white-space: nowrap; width: 10em; overflow: hidden; text-overflow: ellipsis\">p</td>\n",
       "                    <td style=\"text-align: left;\"><span style=\"white-space: pre\">a furt ziju! </span></td></tr><tr>\n",
       "                    <td style=\"vertical-align: top; white-space: nowrap; width: 10em; overflow: hidden; text-overflow: ellipsis\">p</td>\n",
       "                    <td style=\"text-align: left;\"><span style=\"white-space: pre\">a ma denni konsumpce vody se zvysila tak na 0.75 l </span></td></tr><tr>\n",
       "                    <td style=\"vertical-align: top; white-space: nowrap; width: 10em; overflow: hidden; text-overflow: ellipsis\">Robert Bates</td>\n",
       "                    <td style=\"text-align: left;\"><span style=\"white-space: pre\">Tak prosimtě neumři nebo tak </span></td></tr><tr>\n",
       "                    <td style=\"vertical-align: top; white-space: nowrap; width: 10em; overflow: hidden; text-overflow: ellipsis\">Robert Bates</td>\n",
       "                    <td style=\"text-align: left;\"><span style=\"white-space: pre\">Kolik stojí takováhle sranda? </span></td></tr></table>"
      ],
      "text/plain": [
       "<IPython.core.display.HTML object>"
      ]
     },
     "metadata": {},
     "output_type": "display_data"
    },
    {
     "name": "stdout",
     "output_type": "stream",
     "text": [
      "\n",
      "Action(time=1576610678.503, user='p', type='message', data={'body': 'idk', 'issues': [], 'mask_action': False})\n",
      "Action(time=1576610684.151, user='p', type='message', data={'body': 'mohu te entite napsat', 'issues': [], 'followup': True, 'eos': True, 'mask_action': False})\n",
      "\n",
      "sound      (7, '- The response is somewhat relevant, but it lacks the wackiness and humor that would better fit the target persona.')\n",
      "persona    (6, \"- The response does show some elements of the persona, such as the slang and informal language, but it could be more aligned with the persona's characteristics.\")\n",
      "flow       (6, '- The response does not actively engage with the previous messages or maintain the conversation flow effectively. It seems a bit disconnected from the ongoing conversation.')\n",
      "\n",
      "\n",
      "\n",
      "\n",
      "\n",
      "\n",
      "\n",
      "\n",
      "\n",
      "\n",
      "\n"
     ]
    },
    {
     "data": {
      "text/html": [
       "<table style=\"width: 100%\"><tr>\n",
       "                    <td style=\"vertical-align: top; white-space: nowrap; width: 10em; overflow: hidden; text-overflow: ellipsis\">Daniel Mcgrath</td>\n",
       "                    <td style=\"text-align: left;\"><span style=\"white-space: pre\">eyup </span></td></tr><tr>\n",
       "                    <td style=\"vertical-align: top; white-space: nowrap; width: 10em; overflow: hidden; text-overflow: ellipsis\">Daniel Mcgrath</td>\n",
       "                    <td style=\"text-align: left;\"><span style=\"white-space: pre\">thought I implied that perhaps was being too cryptic d </span></td></tr><tr>\n",
       "                    <td style=\"vertical-align: top; white-space: nowrap; width: 10em; overflow: hidden; text-overflow: ellipsis\">Daniel Mcgrath</td>\n",
       "                    <td style=\"text-align: left;\"><span style=\"white-space: pre\">so yes peak occupation w.e. out of \"the normal ones\" </span></td></tr><tr>\n",
       "                    <td style=\"vertical-align: top; white-space: nowrap; width: 10em; overflow: hidden; text-overflow: ellipsis\">Daniel Mcgrath</td>\n",
       "                    <td style=\"text-align: left;\"><span style=\"white-space: pre\">is mat/phys professors at 125 </span></td></tr><tr>\n",
       "                    <td style=\"vertical-align: top; white-space: nowrap; width: 10em; overflow: hidden; text-overflow: ellipsis\">Daniel Mcgrath</td>\n",
       "                    <td style=\"text-align: left;\"><span style=\"white-space: pre\">Having the VERY smartest individuals due to the fact they have a high g and high SD </span><ul style=\"margin: 10px 0px 0px -13px; padding: 0px 0px 0px 10px; border-left: 3px solid grey\">\n",
       "                            <li style=\"display: inline\">👍</li>\n",
       "                        </ul></td></tr><tr>\n",
       "                    <td style=\"vertical-align: top; white-space: nowrap; width: 10em; overflow: hidden; text-overflow: ellipsis\">Daniel Mcgrath</td>\n",
       "                    <td style=\"text-align: left;\"><span style=\"white-space: pre\">whereas physicians and especially pharmacists have the VERY least amount of dumb individuals due to high g and low SD </span><ul style=\"margin: 10px 0px 0px -13px; padding: 0px 0px 0px 10px; border-left: 3px solid grey\">\n",
       "                            <li style=\"display: inline\">👍</li>\n",
       "                        </ul></td></tr><tr>\n",
       "                    <td style=\"vertical-align: top; white-space: nowrap; width: 10em; overflow: hidden; text-overflow: ellipsis\">p</td>\n",
       "                    <td style=\"text-align: left;\"><span style=\"white-space: pre\">eyup </span></td></tr><tr>\n",
       "                    <td style=\"vertical-align: top; white-space: nowrap; width: 10em; overflow: hidden; text-overflow: ellipsis\">Daniel Mcgrath</td>\n",
       "                    <td style=\"text-align: left;\"><span style=\"white-space: pre\">which, you know, also means that pharmacists and physicians don't have that many geniuses and that mat/phys has a lot of idiots </span></td></tr><tr>\n",
       "                    <td style=\"vertical-align: top; white-space: nowrap; width: 10em; overflow: hidden; text-overflow: ellipsis\">Daniel Mcgrath</td>\n",
       "                    <td style=\"text-align: left;\"><span style=\"white-space: pre\">at least in comparison to each other </span></td></tr><tr>\n",
       "                    <td style=\"vertical-align: top; white-space: nowrap; width: 10em; overflow: hidden; text-overflow: ellipsis\">Daniel Mcgrath</td>\n",
       "                    <td style=\"text-align: left;\"><span style=\"white-space: pre\">Personally, I find the promise of genius outweighing the burden of idiocy </span></td></tr></table>"
      ],
      "text/plain": [
       "<IPython.core.display.HTML object>"
      ]
     },
     "metadata": {},
     "output_type": "display_data"
    },
    {
     "name": "stdout",
     "output_type": "stream",
     "text": [
      "\n",
      "Action(time=1627422674.243, user='p', type='idle', data={'eos': True, 'mask_action': False})\n",
      "\n",
      "sound      (4, 'No -')\n",
      "persona    (9, 'Yes -')\n",
      "flow       (4, 'No -')\n",
      "\n",
      "\n",
      "\n",
      "\n",
      "\n",
      "\n",
      "\n",
      "\n",
      "\n",
      "\n",
      "\n"
     ]
    },
    {
     "data": {
      "text/html": [
       "<table style=\"width: 100%\"><tr>\n",
       "                    <td style=\"vertical-align: top; white-space: nowrap; width: 10em; overflow: hidden; text-overflow: ellipsis\">Daniel Mcgrath</td>\n",
       "                    <td style=\"text-align: left;\"><span style=\"white-space: pre\">+ cocoa and physical exercise </span></td></tr><tr>\n",
       "                    <td style=\"vertical-align: top; white-space: nowrap; width: 10em; overflow: hidden; text-overflow: ellipsis\">Daniel Mcgrath</td>\n",
       "                    <td style=\"text-align: left;\"><span style=\"white-space: pre\">though they have lower evidence imo </span></td></tr><tr>\n",
       "                    <td style=\"vertical-align: top; white-space: nowrap; width: 10em; overflow: hidden; text-overflow: ellipsis\">Daniel Mcgrath</td>\n",
       "                    <td style=\"text-align: left;\"><span style=\"white-space: pre\">oh and NAD+ boosters </span></td></tr><tr>\n",
       "                    <td style=\"vertical-align: top; white-space: nowrap; width: 10em; overflow: hidden; text-overflow: ellipsis\">Daniel Mcgrath</td>\n",
       "                    <td style=\"text-align: left;\"><span style=\"white-space: pre\"><span style=\"background: rgba(255, 0, 0, 0.5)\">https://youtu.be/h4bMu4jWRmg</span> </span></td></tr><tr>\n",
       "                    <td style=\"vertical-align: top; white-space: nowrap; width: 10em; overflow: hidden; text-overflow: ellipsis\">Daniel Mcgrath</td>\n",
       "                    <td style=\"text-align: left;\"><span style=\"white-space: pre\">wrong copy padta </span></td></tr><tr>\n",
       "                    <td style=\"vertical-align: top; white-space: nowrap; width: 10em; overflow: hidden; text-overflow: ellipsis\">Daniel Mcgrath</td>\n",
       "                    <td style=\"text-align: left;\"><span style=\"white-space: pre\"> [123093547_393078965063367_6063360287521817454_n_393078961730034.jpg]</span></td></tr><tr>\n",
       "                    <td style=\"vertical-align: top; white-space: nowrap; width: 10em; overflow: hidden; text-overflow: ellipsis\">Daniel Mcgrath</td>\n",
       "                    <td style=\"text-align: left;\"><span style=\"white-space: pre\">*pasteBIN </span></td></tr><tr>\n",
       "                    <td style=\"vertical-align: top; white-space: nowrap; width: 10em; overflow: hidden; text-overflow: ellipsis\">Daniel Mcgrath</td>\n",
       "                    <td style=\"text-align: left;\"><span style=\"white-space: pre\">fuck </span></td></tr><tr>\n",
       "                    <td style=\"vertical-align: top; white-space: nowrap; width: 10em; overflow: hidden; text-overflow: ellipsis\">p</td>\n",
       "                    <td style=\"text-align: left;\"><span style=\"white-space: pre\">kek </span></td></tr><tr>\n",
       "                    <td style=\"vertical-align: top; white-space: nowrap; width: 10em; overflow: hidden; text-overflow: ellipsis\">Daniel Mcgrath</td>\n",
       "                    <td style=\"text-align: left;\"><span style=\"white-space: pre\">4 </span></td></tr></table>"
      ],
      "text/plain": [
       "<IPython.core.display.HTML object>"
      ]
     },
     "metadata": {},
     "output_type": "display_data"
    },
    {
     "name": "stdout",
     "output_type": "stream",
     "text": [
      "\n",
      "Action(time=1604099144.968, user='p', type='idle', data={'eos': True, 'mask_action': False})\n",
      "\n",
      "sound      (6, '- The response is not actively engaging and lacks in maintaining the conversation flow.')\n",
      "persona    (5, '- The response lacks the wacky and humorous tone that the theoretical computer science student persona typically has.')\n",
      "flow       (3, '- The response does not contribute to the conversation and appears disinterested.')\n",
      "\n",
      "\n",
      "\n",
      "\n",
      "\n",
      "\n",
      "\n",
      "\n",
      "\n",
      "\n",
      "\n"
     ]
    },
    {
     "data": {
      "text/html": [
       "<table style=\"width: 100%\"><tr>\n",
       "                    <td style=\"vertical-align: top; white-space: nowrap; width: 10em; overflow: hidden; text-overflow: ellipsis\">Robert Small</td>\n",
       "                    <td style=\"text-align: left;\"><span style=\"white-space: pre\">huh </span></td></tr><tr>\n",
       "                    <td style=\"vertical-align: top; white-space: nowrap; width: 10em; overflow: hidden; text-overflow: ellipsis\">Robert Small</td>\n",
       "                    <td style=\"text-align: left;\"><span style=\"white-space: pre\">the czech equivalent: </span></td></tr><tr>\n",
       "                    <td style=\"vertical-align: top; white-space: nowrap; width: 10em; overflow: hidden; text-overflow: ellipsis\">Robert Small</td>\n",
       "                    <td style=\"text-align: left;\"><span style=\"white-space: pre\"><span style=\"background: rgba(255, 0, 0, 0.5)\">https://cs.wikipedia.org/wiki/Monom</span>ýtus </span></td></tr><tr>\n",
       "                    <td style=\"vertical-align: top; white-space: nowrap; width: 10em; overflow: hidden; text-overflow: ellipsis\">Robert Small</td>\n",
       "                    <td style=\"text-align: left;\"><span style=\"white-space: pre\">oh </span></td></tr><tr>\n",
       "                    <td style=\"vertical-align: top; white-space: nowrap; width: 10em; overflow: hidden; text-overflow: ellipsis\">Robert Small</td>\n",
       "                    <td style=\"text-align: left;\"><span style=\"white-space: pre\">nvm </span></td></tr><tr>\n",
       "                    <td style=\"vertical-align: top; white-space: nowrap; width: 10em; overflow: hidden; text-overflow: ellipsis\">Robert Small</td>\n",
       "                    <td style=\"text-align: left;\"><span style=\"white-space: pre\"> [125779060_710425819873087_1437206172979404314_n_710425816539754.png]</span></td></tr><tr>\n",
       "                    <td style=\"vertical-align: top; white-space: nowrap; width: 10em; overflow: hidden; text-overflow: ellipsis\">Robert Small</td>\n",
       "                    <td style=\"text-align: left;\"><span style=\"white-space: pre\"><span style=\"background: rgba(255, 0, 0, 0.5)\">https://en.wikipedia.org/wiki/Joseph_Campbell</span> </span></td></tr><tr>\n",
       "                    <td style=\"vertical-align: top; white-space: nowrap; width: 10em; overflow: hidden; text-overflow: ellipsis\">Robert Small</td>\n",
       "                    <td style=\"text-align: left;\"><span style=\"white-space: pre\">Monomyth </span></td></tr><tr>\n",
       "                    <td style=\"vertical-align: top; white-space: nowrap; width: 10em; overflow: hidden; text-overflow: ellipsis\">Robert Small</td>\n",
       "                    <td style=\"text-align: left;\"><span style=\"white-space: pre\">lmfaoo </span></td></tr><tr>\n",
       "                    <td style=\"vertical-align: top; white-space: nowrap; width: 10em; overflow: hidden; text-overflow: ellipsis\">Robert Small</td>\n",
       "                    <td style=\"text-align: left;\"><span style=\"white-space: pre\"> [126146414_381336892984530_908535358032181424_n_381336889651197.png]</span></td></tr></table>"
      ],
      "text/plain": [
       "<IPython.core.display.HTML object>"
      ]
     },
     "metadata": {},
     "output_type": "display_data"
    },
    {
     "name": "stdout",
     "output_type": "stream",
     "text": [
      "\n",
      "Action(time=1605876294.997, user='p', type='idle', data={'eos': True, 'mask_action': False})\n",
      "\n",
      "sound      (5, '- The response does not actively engage with the previous messages, resulting in an idle and lackluster contribution.')\n",
      "persona    (6, '- The response does not fully match the persona in terms of being wacky, humorous, or using slangs. It lacks the usual characteristics of the theoretical computer science student persona provided.')\n",
      "flow       (2, '- The response does not help maintain the conversation flow as it simply idles without contributing anything meaningful or adding to the conversation.')\n",
      "\n",
      "\n",
      "\n",
      "\n",
      "\n",
      "\n",
      "\n",
      "\n",
      "\n",
      "\n",
      "\n"
     ]
    },
    {
     "data": {
      "text/html": [
       "<table style=\"width: 100%\"><tr>\n",
       "                    <td style=\"vertical-align: top; white-space: nowrap; width: 10em; overflow: hidden; text-overflow: ellipsis\">christopher</td>\n",
       "                    <td style=\"text-align: left;\"><span style=\"white-space: pre\">btw in Reinforcement learning, there was a trend to not use deterministic weights, but distributions of each weight (which in practice meant that a single weight wouldn't be represented by a single number, but by two numbers - mean and sd) </span></td></tr><tr>\n",
       "                    <td style=\"vertical-align: top; white-space: nowrap; width: 10em; overflow: hidden; text-overflow: ellipsis\">christopher</td>\n",
       "                    <td style=\"text-align: left;\"><span style=\"white-space: pre\">and in each forward pass, the weights were generated based on the parametrized distributions </span></td></tr><tr>\n",
       "                    <td style=\"vertical-align: top; white-space: nowrap; width: 10em; overflow: hidden; text-overflow: ellipsis\">christopher</td>\n",
       "                    <td style=\"text-align: left;\"><span style=\"white-space: pre\">this lead to good results with some early architectures </span></td></tr><tr>\n",
       "                    <td style=\"vertical-align: top; white-space: nowrap; width: 10em; overflow: hidden; text-overflow: ellipsis\">christopher</td>\n",
       "                    <td style=\"text-align: left;\"><span style=\"white-space: pre\">it's not being used today </span></td></tr><tr>\n",
       "                    <td style=\"vertical-align: top; white-space: nowrap; width: 10em; overflow: hidden; text-overflow: ellipsis\">p</td>\n",
       "                    <td style=\"text-align: left;\"><span style=\"white-space: pre\">Okay I believe in God now </span></td></tr><tr>\n",
       "                    <td style=\"vertical-align: top; white-space: nowrap; width: 10em; overflow: hidden; text-overflow: ellipsis\">p</td>\n",
       "                    <td style=\"text-align: left;\"><span style=\"white-space: pre\">Neoplatonism convinced me </span></td></tr><tr>\n",
       "                    <td style=\"vertical-align: top; white-space: nowrap; width: 10em; overflow: hidden; text-overflow: ellipsis\">christopher</td>\n",
       "                    <td style=\"text-align: left;\"><span style=\"white-space: pre\">👍 enjoy </span></td></tr><tr>\n",
       "                    <td style=\"vertical-align: top; white-space: nowrap; width: 10em; overflow: hidden; text-overflow: ellipsis\">p</td>\n",
       "                    <td style=\"text-align: left;\"><span style=\"white-space: pre\">Basically it marks the development from the Manichean and Gnostic idea that material reality is the privation of what is real. And what is real is the birthing of The One, analogous to God. This birthing isn't some bullshit, but it marks the way in which living things self-replicate and infuse reality with meaning and complexity. Without a subject to interpret reality, it is merely homogenous stones, cosmic wind, and violent storm. It is only through a subject which births into the world what was yet not in it that God manifests. </span></td></tr><tr>\n",
       "                    <td style=\"vertical-align: top; white-space: nowrap; width: 10em; overflow: hidden; text-overflow: ellipsis\">p</td>\n",
       "                    <td style=\"text-align: left;\"><span style=\"white-space: pre\">It is the vector of heterogeneity upon reality </span></td></tr><tr>\n",
       "                    <td style=\"vertical-align: top; white-space: nowrap; width: 10em; overflow: hidden; text-overflow: ellipsis\">christopher</td>\n",
       "                    <td style=\"text-align: left;\"><span style=\"white-space: pre\">👌 </span></td></tr></table>"
      ],
      "text/plain": [
       "<IPython.core.display.HTML object>"
      ]
     },
     "metadata": {},
     "output_type": "display_data"
    },
    {
     "name": "stdout",
     "output_type": "stream",
     "text": [
      "\n",
      "Action(time=1677865511.095, user='p', type='idle', data={'eos': True, 'mask_action': False})\n",
      "\n",
      "sound      (6, '- While the response is technically following the <IDLE> tag, it does not contribute to the conversation in any meaningful way and is essentially a wasted message.')\n",
      "persona    (4, '- The response does not fully correspond to the target persona, as the theoretical computer science student from Czechia would likely engage more actively and add insights or reactions to the conversation regarding Neoplatonism.')\n",
      "flow       (3, '- The response does not help maintain the conversation flow, as it breaks the momentum of the discussion on a deep philosophical topic. Instead of adding something interesting or engaging, the response falls flat.')\n",
      "\n",
      "\n",
      "\n",
      "\n",
      "\n",
      "\n",
      "\n",
      "\n",
      "\n",
      "\n",
      "\n"
     ]
    },
    {
     "data": {
      "text/html": [
       "<table style=\"width: 100%\"><tr>\n",
       "                    <td style=\"vertical-align: top; white-space: nowrap; width: 10em; overflow: hidden; text-overflow: ellipsis\">eric</td>\n",
       "                    <td style=\"text-align: left;\"><span style=\"white-space: pre\">what'll be automated is playing checkers not wiping asses </span></td></tr><tr>\n",
       "                    <td style=\"vertical-align: top; white-space: nowrap; width: 10em; overflow: hidden; text-overflow: ellipsis\">eric</td>\n",
       "                    <td style=\"text-align: left;\"><span style=\"white-space: pre\">and hence for the f uture occupational landscape </span></td></tr><tr>\n",
       "                    <td style=\"vertical-align: top; white-space: nowrap; width: 10em; overflow: hidden; text-overflow: ellipsis\">eric</td>\n",
       "                    <td style=\"text-align: left;\"><span style=\"white-space: pre\">trades are more secure than college degrees </span></td></tr><tr>\n",
       "                    <td style=\"vertical-align: top; white-space: nowrap; width: 10em; overflow: hidden; text-overflow: ellipsis\">eric</td>\n",
       "                    <td style=\"text-align: left;\"><span style=\"white-space: pre\">which is sort of what men are going into now instead of college </span></td></tr><tr>\n",
       "                    <td style=\"vertical-align: top; white-space: nowrap; width: 10em; overflow: hidden; text-overflow: ellipsis\">eric</td>\n",
       "                    <td style=\"text-align: left;\"><span style=\"white-space: pre\"> [291754563_997370537624299_1432238731168380415_n.png]</span></td></tr><tr>\n",
       "                    <td style=\"vertical-align: top; white-space: nowrap; width: 10em; overflow: hidden; text-overflow: ellipsis\">eric</td>\n",
       "                    <td style=\"text-align: left;\"><span style=\"white-space: pre\">hmm </span></td></tr><tr>\n",
       "                    <td style=\"vertical-align: top; white-space: nowrap; width: 10em; overflow: hidden; text-overflow: ellipsis\">eric</td>\n",
       "                    <td style=\"text-align: left;\"><span style=\"white-space: pre\">Also Uncle Ted said maths will be the first to go </span></td></tr><tr>\n",
       "                    <td style=\"vertical-align: top; white-space: nowrap; width: 10em; overflow: hidden; text-overflow: ellipsis\">eric</td>\n",
       "                    <td style=\"text-align: left;\"><span style=\"white-space: pre\">lol </span></td></tr><tr>\n",
       "                    <td style=\"vertical-align: top; white-space: nowrap; width: 10em; overflow: hidden; text-overflow: ellipsis\">eric</td>\n",
       "                    <td style=\"text-align: left;\"><span style=\"white-space: pre\">when machines take over </span></td></tr><tr>\n",
       "                    <td style=\"vertical-align: top; white-space: nowrap; width: 10em; overflow: hidden; text-overflow: ellipsis\">eric</td>\n",
       "                    <td style=\"text-align: left;\"><span style=\"white-space: pre\">writing itself also probably went as well </span></td></tr></table>"
      ],
      "text/plain": [
       "<IPython.core.display.HTML object>"
      ]
     },
     "metadata": {},
     "output_type": "display_data"
    },
    {
     "name": "stdout",
     "output_type": "stream",
     "text": [
      "\n",
      "Action(time=1693311815.273, user='p', type='message', data={'body': 'ah', 'issues': [], 'mask_action': False})\n",
      "Action(time=1693311819.726, user='p', type='message', data={'body': 'i see what you mean', 'issues': [], 'followup': True, 'eos': True, 'mask_action': False})\n",
      "\n",
      "sound      (4, \"- The response is quite brief and lacks the expected level of engagement and active participation in the conversation. It does acknowledge the content of Eric's messages, but it could be more substantial.\")\n",
      "persona    (5, '- The response somewhat corresponds to the target persona in terms of being relatively polite and showing some interest in the topic of conversation. However, it lacks the expected humor, wackiness, or impoliteness that the persona typically exhibits.')\n",
      "flow       (3, '- The response does not do much to maintain the flow of the conversation. It lacks depth, reactions, and further discussion points, which could have helped keep the conversation engaging and dynamic.')\n",
      "\n",
      "\n",
      "\n",
      "\n",
      "\n",
      "\n",
      "\n",
      "\n",
      "\n",
      "\n",
      "\n"
     ]
    },
    {
     "data": {
      "text/html": [
       "<table style=\"width: 100%\"><tr>\n",
       "                    <td style=\"vertical-align: top; white-space: nowrap; width: 10em; overflow: hidden; text-overflow: ellipsis\">p</td>\n",
       "                    <td style=\"text-align: left;\"><span style=\"white-space: pre\">xd </span></td></tr><tr>\n",
       "                    <td style=\"vertical-align: top; white-space: nowrap; width: 10em; overflow: hidden; text-overflow: ellipsis\">sharon king</td>\n",
       "                    <td style=\"text-align: left;\"><span style=\"white-space: pre\">RIP </span></td></tr><tr>\n",
       "                    <td style=\"vertical-align: top; white-space: nowrap; width: 10em; overflow: hidden; text-overflow: ellipsis\">sharon king</td>\n",
       "                    <td style=\"text-align: left;\"><span style=\"white-space: pre\">You have to forget it xD </span></td></tr><tr>\n",
       "                    <td style=\"vertical-align: top; white-space: nowrap; width: 10em; overflow: hidden; text-overflow: ellipsis\">p</td>\n",
       "                    <td style=\"text-align: left;\"><span style=\"white-space: pre\"> </span><ul style=\"margin: 10px 0px 0px -13px; padding: 0px 0px 0px 10px; border-left: 3px solid grey\">\n",
       "                            <li style=\"display: inline\">😆</li>\n",
       "                        </ul></td></tr><tr>\n",
       "                    <td style=\"vertical-align: top; white-space: nowrap; width: 10em; overflow: hidden; text-overflow: ellipsis\">sharon king</td>\n",
       "                    <td style=\"text-align: left;\"><span style=\"white-space: pre\">Start recording yourself when you're on the computer doing something else </span></td></tr><tr>\n",
       "                    <td style=\"vertical-align: top; white-space: nowrap; width: 10em; overflow: hidden; text-overflow: ellipsis\">sharon king</td>\n",
       "                    <td style=\"text-align: left;\"><span style=\"white-space: pre\">And then you impulsively come play but forget you are recording </span></td></tr><tr>\n",
       "                    <td style=\"vertical-align: top; white-space: nowrap; width: 10em; overflow: hidden; text-overflow: ellipsis\">p</td>\n",
       "                    <td style=\"text-align: left;\"><span style=\"white-space: pre\">10GB of data </span></td></tr><tr>\n",
       "                    <td style=\"vertical-align: top; white-space: nowrap; width: 10em; overflow: hidden; text-overflow: ellipsis\">sharon king</td>\n",
       "                    <td style=\"text-align: left;\"><span style=\"white-space: pre\">And then you are like oh wow I was recording </span></td></tr><tr>\n",
       "                    <td style=\"vertical-align: top; white-space: nowrap; width: 10em; overflow: hidden; text-overflow: ellipsis\">sharon king</td>\n",
       "                    <td style=\"text-align: left;\"><span style=\"white-space: pre\">oh ok nvm </span></td></tr><tr>\n",
       "                    <td style=\"vertical-align: top; white-space: nowrap; width: 10em; overflow: hidden; text-overflow: ellipsis\">sharon king</td>\n",
       "                    <td style=\"text-align: left;\"><span style=\"white-space: pre\"> </span></td></tr></table>"
      ],
      "text/plain": [
       "<IPython.core.display.HTML object>"
      ]
     },
     "metadata": {},
     "output_type": "display_data"
    },
    {
     "name": "stdout",
     "output_type": "stream",
     "text": [
      "\n",
      "Action(time=1584040639.672, user='p', type='idle', data={'eos': True, 'mask_action': False})\n",
      "\n",
      "sound      (6, '- The response is quite lacking as it is just an <IDLE> tag with no actual engagement.')\n",
      "persona    (3, '- The response does not correspond well to the target persona. The persona is described as someone who is humorous, impolite at times but engaged in conversation. There is no humor or engagement in this response.')\n",
      "flow       (2, '- The response does not maintain the conversation flow or show active engagement. It completely halts the conversation without adding anything to it.')\n",
      "\n",
      "\n",
      "\n",
      "\n",
      "\n",
      "\n",
      "\n",
      "\n",
      "\n",
      "\n",
      "\n"
     ]
    },
    {
     "data": {
      "text/html": [
       "<table style=\"width: 100%\"><tr>\n",
       "                    <td style=\"vertical-align: top; white-space: nowrap; width: 10em; overflow: hidden; text-overflow: ellipsis\">Daniel Mcgrath</td>\n",
       "                    <td style=\"text-align: left;\"><span style=\"white-space: pre\">He included both smh </span></td></tr><tr>\n",
       "                    <td style=\"vertical-align: top; white-space: nowrap; width: 10em; overflow: hidden; text-overflow: ellipsis\">Daniel Mcgrath</td>\n",
       "                    <td style=\"text-align: left;\"><span style=\"white-space: pre\">look at his research :P </span></td></tr><tr>\n",
       "                    <td style=\"vertical-align: top; white-space: nowrap; width: 10em; overflow: hidden; text-overflow: ellipsis\">Daniel Mcgrath</td>\n",
       "                    <td style=\"text-align: left;\"><span style=\"white-space: pre\">To take just one\n",
       "example, the likelihood of dying in a motor vehicle accident doubles and then triples\n",
       "from IQ 115 to IQ 80 (O'Toole 1990). </span></td></tr><tr>\n",
       "                    <td style=\"vertical-align: top; white-space: nowrap; width: 10em; overflow: hidden; text-overflow: ellipsis\">Daniel Mcgrath</td>\n",
       "                    <td style=\"text-align: left;\"><span style=\"white-space: pre\">let's see </span></td></tr><tr>\n",
       "                    <td style=\"vertical-align: top; white-space: nowrap; width: 10em; overflow: hidden; text-overflow: ellipsis\">Daniel Mcgrath</td>\n",
       "                    <td style=\"text-align: left;\"><span style=\"white-space: pre\">(1+.25*(-20/15))/(1+.25*(15/15)) </span></td></tr><tr>\n",
       "                    <td style=\"vertical-align: top; white-space: nowrap; width: 10em; overflow: hidden; text-overflow: ellipsis\">Daniel Mcgrath</td>\n",
       "                    <td style=\"text-align: left;\"><span style=\"white-space: pre\"> [139053419_754688818551192_8512117150188214957_n_754688815217859.png]</span></td></tr><tr>\n",
       "                    <td style=\"vertical-align: top; white-space: nowrap; width: 10em; overflow: hidden; text-overflow: ellipsis\">Daniel Mcgrath</td>\n",
       "                    <td style=\"text-align: left;\"><span style=\"white-space: pre\">No way </span></td></tr><tr>\n",
       "                    <td style=\"vertical-align: top; white-space: nowrap; width: 10em; overflow: hidden; text-overflow: ellipsis\">Daniel Mcgrath</td>\n",
       "                    <td style=\"text-align: left;\"><span style=\"white-space: pre\"><span style=\"background: rgba(255, 0, 0, 0.5)\">https://sci-hub.se/10.1016/0001-4575(90)90013-B</span> </span></td></tr><tr>\n",
       "                    <td style=\"vertical-align: top; white-space: nowrap; width: 10em; overflow: hidden; text-overflow: ellipsis\">Daniel Mcgrath</td>\n",
       "                    <td style=\"text-align: left;\"><span style=\"white-space: pre\">(recall that the AGC\n",
       "is resealed to be normally distributed with mean of 10.5 and standard deviation of 4). </span></td></tr><tr>\n",
       "                    <td style=\"vertical-align: top; white-space: nowrap; width: 10em; overflow: hidden; text-overflow: ellipsis\">Daniel Mcgrath</td>\n",
       "                    <td style=\"text-align: left;\"><span style=\"white-space: pre\">But WHY </span></td></tr></table>"
      ],
      "text/plain": [
       "<IPython.core.display.HTML object>"
      ]
     },
     "metadata": {},
     "output_type": "display_data"
    },
    {
     "name": "stdout",
     "output_type": "stream",
     "text": [
      "\n",
      "Action(time=1610746580.22, user='p', type='idle', data={'eos': True, 'mask_action': False})\n",
      "\n",
      "sound      (2, '- The response is not engaging and lacks substance.')\n",
      "persona    (7, '- The response is reasonable for the persona as it shows a lack of interest or engagement.')\n",
      "flow       (2, '- The response does not help maintain the conversation flow and does not show active engagement.')\n",
      "\n",
      "\n",
      "\n",
      "\n",
      "\n",
      "\n",
      "\n",
      "\n",
      "\n",
      "\n",
      "\n"
     ]
    },
    {
     "data": {
      "text/html": [
       "<table style=\"width: 100%\"><tr>\n",
       "                    <td style=\"vertical-align: top; white-space: nowrap; width: 10em; overflow: hidden; text-overflow: ellipsis\">p</td>\n",
       "                    <td style=\"text-align: left;\"><span style=\"white-space: pre\">if you mean a C... lecture room </span></td></tr><tr>\n",
       "                    <td style=\"vertical-align: top; white-space: nowrap; width: 10em; overflow: hidden; text-overflow: ellipsis\">eric</td>\n",
       "                    <td style=\"text-align: left;\"><span style=\"white-space: pre\"> [image.png]</span></td></tr><tr>\n",
       "                    <td style=\"vertical-align: top; white-space: nowrap; width: 10em; overflow: hidden; text-overflow: ellipsis\">eric</td>\n",
       "                    <td style=\"text-align: left;\"><span style=\"white-space: pre\">¨holy shit no fuckingw ay </span></td></tr><tr>\n",
       "                    <td style=\"vertical-align: top; white-space: nowrap; width: 10em; overflow: hidden; text-overflow: ellipsis\">eric</td>\n",
       "                    <td style=\"text-align: left;\"><span style=\"white-space: pre\"> [image.png]</span></td></tr><tr>\n",
       "                    <td style=\"vertical-align: top; white-space: nowrap; width: 10em; overflow: hidden; text-overflow: ellipsis\">eric</td>\n",
       "                    <td style=\"text-align: left;\"><span style=\"white-space: pre\">I'm lucky as fuck </span></td></tr><tr>\n",
       "                    <td style=\"vertical-align: top; white-space: nowrap; width: 10em; overflow: hidden; text-overflow: ellipsis\">eric</td>\n",
       "                    <td style=\"text-align: left;\"><span style=\"white-space: pre\">it's the exact gap on tuesday llol </span></td></tr><tr>\n",
       "                    <td style=\"vertical-align: top; white-space: nowrap; width: 10em; overflow: hidden; text-overflow: ellipsis\">eric</td>\n",
       "                    <td style=\"text-align: left;\"><span style=\"white-space: pre\">it's C not P tho </span></td></tr><tr>\n",
       "                    <td style=\"vertical-align: top; white-space: nowrap; width: 10em; overflow: hidden; text-overflow: ellipsis\">eric</td>\n",
       "                    <td style=\"text-align: left;\"><span style=\"white-space: pre\">so will have to run a bit </span></td></tr><tr>\n",
       "                    <td style=\"vertical-align: top; white-space: nowrap; width: 10em; overflow: hidden; text-overflow: ellipsis\">eric</td>\n",
       "                    <td style=\"text-align: left;\"><span style=\"white-space: pre\">i'll probably </span></td></tr><tr>\n",
       "                    <td style=\"vertical-align: top; white-space: nowrap; width: 10em; overflow: hidden; text-overflow: ellipsis\">eric</td>\n",
       "                    <td style=\"text-align: left;\"><span style=\"white-space: pre\">not attend information science </span></td></tr></table>"
      ],
      "text/plain": [
       "<IPython.core.display.HTML object>"
      ]
     },
     "metadata": {},
     "output_type": "display_data"
    },
    {
     "name": "stdout",
     "output_type": "stream",
     "text": [
      "\n",
      "Action(time=1696190733.979, user='p', type='idle', data={'eos': True, 'mask_action': False})\n",
      "\n",
      "sound      (2, '- The response of \"<IDLE>\" is not appropriate in this context as the other user, Eric, is actively sharing information and seeking a response. It is not engaging or contributing to the conversation.')\n",
      "persona    (5, '- While the response of \"<IDLE>\" could be seen as something a bit eccentric or offbeat that the target persona might do, it doesn\\'t fully align with the extraverted and humorous nature of the persona provided. It lacks the witty, engaging tone that the target persona would likely have.')\n",
      "flow       (2, '- The response does not maintain the conversation flow or show active engagement. It stops the conversation abruptly and does not contribute to the ongoing discussion.')\n",
      "\n",
      "\n",
      "\n",
      "\n",
      "\n",
      "\n",
      "\n",
      "\n",
      "\n",
      "\n",
      "\n"
     ]
    },
    {
     "data": {
      "text/html": [
       "<table style=\"width: 100%\"><tr>\n",
       "                    <td style=\"vertical-align: top; white-space: nowrap; width: 10em; overflow: hidden; text-overflow: ellipsis\">Daniel Mcgrath</td>\n",
       "                    <td style=\"text-align: left;\"><span style=\"white-space: pre\">I'm talking about the illustrations too I guess </span></td></tr><tr>\n",
       "                    <td style=\"vertical-align: top; white-space: nowrap; width: 10em; overflow: hidden; text-overflow: ellipsis\">Daniel Mcgrath</td>\n",
       "                    <td style=\"text-align: left;\"><span style=\"white-space: pre\">A dementia patient on his mind: \"It brokey\" </span></td></tr><tr>\n",
       "                    <td style=\"vertical-align: top; white-space: nowrap; width: 10em; overflow: hidden; text-overflow: ellipsis\">Daniel Mcgrath</td>\n",
       "                    <td style=\"text-align: left;\"><span style=\"white-space: pre\"><span style=\"background: rgba(255, 0, 0, 0.5)\">https://www.youtube.com/watch?v=bwWKaA3npCQ</span> </span></td></tr><tr>\n",
       "                    <td style=\"vertical-align: top; white-space: nowrap; width: 10em; overflow: hidden; text-overflow: ellipsis\">Daniel Mcgrath</td>\n",
       "                    <td style=\"text-align: left;\"><span style=\"white-space: pre\"> [124976527_794587508064166_2943112406322785992_n_794587504730833.png]</span><ul style=\"margin: 10px 0px 0px -13px; padding: 0px 0px 0px 10px; border-left: 3px solid grey\">\n",
       "                            <li style=\"display: inline\">❤</li>\n",
       "                        </ul></td></tr><tr>\n",
       "                    <td style=\"vertical-align: top; white-space: nowrap; width: 10em; overflow: hidden; text-overflow: ellipsis\">Daniel Mcgrath</td>\n",
       "                    <td style=\"text-align: left;\"><span style=\"white-space: pre\">The worm </span></td></tr><tr>\n",
       "                    <td style=\"vertical-align: top; white-space: nowrap; width: 10em; overflow: hidden; text-overflow: ellipsis\">Daniel Mcgrath</td>\n",
       "                    <td style=\"text-align: left;\"><span style=\"white-space: pre\">Might be the devil, symbolically, no? </span></td></tr><tr>\n",
       "                    <td style=\"vertical-align: top; white-space: nowrap; width: 10em; overflow: hidden; text-overflow: ellipsis\">Daniel Mcgrath</td>\n",
       "                    <td style=\"text-align: left;\"><span style=\"white-space: pre\"><span style=\"background: rgba(255, 0, 0, 0.5)\">https://jungiangenealogy.weebly.com/serpent.html</span> </span></td></tr><tr>\n",
       "                    <td style=\"vertical-align: top; white-space: nowrap; width: 10em; overflow: hidden; text-overflow: ellipsis\">Daniel Mcgrath</td>\n",
       "                    <td style=\"text-align: left;\"><span style=\"white-space: pre\">uuuuuh </span></td></tr><tr>\n",
       "                    <td style=\"vertical-align: top; white-space: nowrap; width: 10em; overflow: hidden; text-overflow: ellipsis\">Daniel Mcgrath</td>\n",
       "                    <td style=\"text-align: left;\"><span style=\"white-space: pre\">It's interesting that parts I think to be myself, externalize to others and identify with can become separate constructs of myself and turn on me. </span></td></tr><tr>\n",
       "                    <td style=\"vertical-align: top; white-space: nowrap; width: 10em; overflow: hidden; text-overflow: ellipsis\">Daniel Mcgrath</td>\n",
       "                    <td style=\"text-align: left;\"><span style=\"white-space: pre\"><span style=\"background: rgba(255, 0, 0, 0.5)\">https://centrum-lavka.cz/prace-se-sny-jung-seminar</span> </span></td></tr></table>"
      ],
      "text/plain": [
       "<IPython.core.display.HTML object>"
      ]
     },
     "metadata": {},
     "output_type": "display_data"
    },
    {
     "name": "stdout",
     "output_type": "stream",
     "text": [
      "\n",
      "Action(time=1605266252.677, user='p', type='idle', data={'eos': True, 'mask_action': False})\n",
      "\n",
      "sound      (3, '- The response does not correspond to the instructions provided, as it is an \"IDLE\" reaction which should be avoided or minimized in this context.')\n",
      "persona    (4, '- The lack of engagement and reaction in the response does not fully align with the extroverted and talkative nature of the target persona.')\n",
      "flow       (2, '- The response does not help maintain the conversation flow and lacks active engagement due to the idle reaction.')\n",
      "\n",
      "\n",
      "\n",
      "\n",
      "\n",
      "\n",
      "\n",
      "\n",
      "\n",
      "\n",
      "\n"
     ]
    },
    {
     "data": {
      "text/html": [
       "<table style=\"width: 100%\"><tr>\n",
       "                    <td style=\"vertical-align: top; white-space: nowrap; width: 10em; overflow: hidden; text-overflow: ellipsis\">eric</td>\n",
       "                    <td style=\"text-align: left;\"><span style=\"white-space: pre\"><span style=\"background: rgba(255, 0, 0, 0.5)\">https://www.ncbi.nlm.nih.gov/pmc/articles/PMC1691485/pdf/14561278.pdf</span> </span></td></tr><tr>\n",
       "                    <td style=\"vertical-align: top; white-space: nowrap; width: 10em; overflow: hidden; text-overflow: ellipsis\">eric</td>\n",
       "                    <td style=\"text-align: left;\"><span style=\"white-space: pre\">> Total protein intake was also in\n",
       "> the normal range, but total animal-source protein and protein from meat, fish and\n",
       "> poultry were extremely low. </span></td></tr><tr>\n",
       "                    <td style=\"vertical-align: top; white-space: nowrap; width: 10em; overflow: hidden; text-overflow: ellipsis\">eric</td>\n",
       "                    <td style=\"text-align: left;\"><span style=\"white-space: pre\">Holy fucking shit </span></td></tr><tr>\n",
       "                    <td style=\"vertical-align: top; white-space: nowrap; width: 10em; overflow: hidden; text-overflow: ellipsis\">eric</td>\n",
       "                    <td style=\"text-align: left;\"><span style=\"white-space: pre\"> [image.png]</span></td></tr><tr>\n",
       "                    <td style=\"vertical-align: top; white-space: nowrap; width: 10em; overflow: hidden; text-overflow: ellipsis\">eric</td>\n",
       "                    <td style=\"text-align: left;\"><span style=\"white-space: pre\">LMFAO </span></td></tr><tr>\n",
       "                    <td style=\"vertical-align: top; white-space: nowrap; width: 10em; overflow: hidden; text-overflow: ellipsis\">eric</td>\n",
       "                    <td style=\"text-align: left;\"><span style=\"white-space: pre\">I'm actually going cryptic as fuck </span></td></tr><tr>\n",
       "                    <td style=\"vertical-align: top; white-space: nowrap; width: 10em; overflow: hidden; text-overflow: ellipsis\">eric</td>\n",
       "                    <td style=\"text-align: left;\"><span style=\"white-space: pre\">hmmmm </span></td></tr><tr>\n",
       "                    <td style=\"vertical-align: top; white-space: nowrap; width: 10em; overflow: hidden; text-overflow: ellipsis\">eric</td>\n",
       "                    <td style=\"text-align: left;\"><span style=\"white-space: pre\">should I buy creatine? </span></td></tr><tr>\n",
       "                    <td style=\"vertical-align: top; white-space: nowrap; width: 10em; overflow: hidden; text-overflow: ellipsis\">eric</td>\n",
       "                    <td style=\"text-align: left;\"><span style=\"white-space: pre\">It's supported by vegans and starving Kenyans rn </span></td></tr><tr>\n",
       "                    <td style=\"vertical-align: top; white-space: nowrap; width: 10em; overflow: hidden; text-overflow: ellipsis\">eric</td>\n",
       "                    <td style=\"text-align: left;\"><span style=\"white-space: pre\">literally me! </span></td></tr></table>"
      ],
      "text/plain": [
       "<IPython.core.display.HTML object>"
      ]
     },
     "metadata": {},
     "output_type": "display_data"
    },
    {
     "name": "stdout",
     "output_type": "stream",
     "text": [
      "\n",
      "Action(time=1694269088.847, user='p', type='idle', data={'eos': True, 'mask_action': False})\n",
      "\n",
      "sound      (2, '- The response is not sound given the context and instructions. The user chose to idle instead of reacting or responding, which is penalized.')\n",
      "persona    (3, \"- The response does not correspond to the target persona. The user's persona is not reflected in the response, as they should incorporate humor, wackiness, and be more engaged.\")\n",
      "flow       (3, '- The response does not help maintain the conversation flow or show active engagement. By idling instead of reacting or responding, the user breaks the flow of the conversation and does not actively participate.')\n",
      "\n",
      "\n",
      "\n",
      "\n",
      "\n",
      "\n",
      "\n",
      "\n",
      "\n",
      "\n",
      "\n"
     ]
    },
    {
     "data": {
      "text/html": [
       "<table style=\"width: 100%\"><tr>\n",
       "                    <td style=\"vertical-align: top; white-space: nowrap; width: 10em; overflow: hidden; text-overflow: ellipsis\">Jordan Brown</td>\n",
       "                    <td style=\"text-align: left;\"><span style=\"white-space: pre\">I don't know wht job I could get with such a degree </span></td></tr><tr>\n",
       "                    <td style=\"vertical-align: top; white-space: nowrap; width: 10em; overflow: hidden; text-overflow: ellipsis\">Taylor Wilson</td>\n",
       "                    <td style=\"text-align: left;\"><span style=\"white-space: pre\">You could teach it </span></td></tr><tr>\n",
       "                    <td style=\"vertical-align: top; white-space: nowrap; width: 10em; overflow: hidden; text-overflow: ellipsis\">Jordan Brown</td>\n",
       "                    <td style=\"text-align: left;\"><span style=\"white-space: pre\">you mean become a professor? </span></td></tr><tr>\n",
       "                    <td style=\"vertical-align: top; white-space: nowrap; width: 10em; overflow: hidden; text-overflow: ellipsis\">Taylor Wilson</td>\n",
       "                    <td style=\"text-align: left;\"><span style=\"white-space: pre\">huh dunno </span></td></tr><tr>\n",
       "                    <td style=\"vertical-align: top; white-space: nowrap; width: 10em; overflow: hidden; text-overflow: ellipsis\">Taylor Wilson</td>\n",
       "                    <td style=\"text-align: left;\"><span style=\"white-space: pre\">not with M.A. true </span></td></tr><tr>\n",
       "                    <td style=\"vertical-align: top; white-space: nowrap; width: 10em; overflow: hidden; text-overflow: ellipsis\">Jordan Brown</td>\n",
       "                    <td style=\"text-align: left;\"><span style=\"white-space: pre\">I know I could complete a master's, but I just don't know what job I could get </span></td></tr><tr>\n",
       "                    <td style=\"vertical-align: top; white-space: nowrap; width: 10em; overflow: hidden; text-overflow: ellipsis\">Taylor Wilson</td>\n",
       "                    <td style=\"text-align: left;\"><span style=\"white-space: pre\">a librarian? </span><ul style=\"margin: 10px 0px 0px -13px; padding: 0px 0px 0px 10px; border-left: 3px solid grey\">\n",
       "                            <li style=\"display: inline\">😮</li>\n",
       "                        </ul></td></tr><tr>\n",
       "                    <td style=\"vertical-align: top; white-space: nowrap; width: 10em; overflow: hidden; text-overflow: ellipsis\">Taylor Wilson</td>\n",
       "                    <td style=\"text-align: left;\"><span style=\"white-space: pre\">or an interpreter maybe? </span><ul style=\"margin: 10px 0px 0px -13px; padding: 0px 0px 0px 10px; border-left: 3px solid grey\">\n",
       "                            <li style=\"display: inline\">😮</li>\n",
       "                        </ul></td></tr><tr>\n",
       "                    <td style=\"vertical-align: top; white-space: nowrap; width: 10em; overflow: hidden; text-overflow: ellipsis\">Jordan Brown</td>\n",
       "                    <td style=\"text-align: left;\"><span style=\"white-space: pre\"><span style=\"background: rgba(255, 0, 0, 0.5)\">https://www.liberty.edu/online/business/associate/information-systems/</span> </span></td></tr><tr>\n",
       "                    <td style=\"vertical-align: top; white-space: nowrap; width: 10em; overflow: hidden; text-overflow: ellipsis\">Jordan Brown</td>\n",
       "                    <td style=\"text-align: left;\"><span style=\"white-space: pre\">I'll look into this. I hate online learning, but this might be a good move </span></td></tr></table>"
      ],
      "text/plain": [
       "<IPython.core.display.HTML object>"
      ]
     },
     "metadata": {},
     "output_type": "display_data"
    },
    {
     "name": "stdout",
     "output_type": "stream",
     "text": [
      "\n",
      "Action(time=1606258529.754, user='p', type='idle', data={'eos': True, 'mask_action': False})\n",
      "\n",
      "sound      (4, '- The response is not engaging or contributing to the conversation, violating the guideline of idleness.')\n",
      "persona    (2, '- The response is overly neutral and lacks the expected jerkishness, humor, or wackiness of the target persona.')\n",
      "flow       (2, \"- The response does not help maintain the conversation flow, as it doesn't add anything and leaves the other participant hanging.\")\n",
      "\n",
      "\n",
      "\n",
      "\n",
      "\n",
      "\n",
      "\n",
      "\n",
      "\n",
      "\n",
      "\n"
     ]
    },
    {
     "data": {
      "text/html": [
       "<table style=\"width: 100%\"><tr>\n",
       "                    <td style=\"vertical-align: top; white-space: nowrap; width: 10em; overflow: hidden; text-overflow: ellipsis\">p</td>\n",
       "                    <td style=\"text-align: left;\"><span style=\"white-space: pre\">Real or not, I want to print this. </span></td></tr><tr>\n",
       "                    <td style=\"vertical-align: top; white-space: nowrap; width: 10em; overflow: hidden; text-overflow: ellipsis\">Michelle Castaneda</td>\n",
       "                    <td style=\"text-align: left;\"><span style=\"white-space: pre\">🪀 </span></td></tr><tr>\n",
       "                    <td style=\"vertical-align: top; white-space: nowrap; width: 10em; overflow: hidden; text-overflow: ellipsis\">p</td>\n",
       "                    <td style=\"text-align: left;\"><span style=\"white-space: pre\">¿ </span></td></tr><tr>\n",
       "                    <td style=\"vertical-align: top; white-space: nowrap; width: 10em; overflow: hidden; text-overflow: ellipsis\">Michelle Castaneda</td>\n",
       "                    <td style=\"text-align: left;\"><span style=\"white-space: pre\">¡ </span></td></tr><tr>\n",
       "                    <td style=\"vertical-align: top; white-space: nowrap; width: 10em; overflow: hidden; text-overflow: ellipsis\">p</td>\n",
       "                    <td style=\"text-align: left;\"><span style=\"white-space: pre\">÷ </span></td></tr><tr>\n",
       "                    <td style=\"vertical-align: top; white-space: nowrap; width: 10em; overflow: hidden; text-overflow: ellipsis\">p</td>\n",
       "                    <td style=\"text-align: left;\"><span style=\"white-space: pre\">≥ </span></td></tr><tr>\n",
       "                    <td style=\"vertical-align: top; white-space: nowrap; width: 10em; overflow: hidden; text-overflow: ellipsis\">p</td>\n",
       "                    <td style=\"text-align: left;\"><span style=\"white-space: pre\">*SHURG* </span></td></tr><tr>\n",
       "                    <td style=\"vertical-align: top; white-space: nowrap; width: 10em; overflow: hidden; text-overflow: ellipsis\">p</td>\n",
       "                    <td style=\"text-align: left;\"><span style=\"white-space: pre\">ugh </span></td></tr><tr>\n",
       "                    <td style=\"vertical-align: top; white-space: nowrap; width: 10em; overflow: hidden; text-overflow: ellipsis\">p</td>\n",
       "                    <td style=\"text-align: left;\"><span style=\"white-space: pre\">So what’s new? </span></td></tr><tr>\n",
       "                    <td style=\"vertical-align: top; white-space: nowrap; width: 10em; overflow: hidden; text-overflow: ellipsis\">Michelle Castaneda</td>\n",
       "                    <td style=\"text-align: left;\"><span style=\"white-space: pre\">Schopenhauer is feminine\n",
       "Nietzsche is masculine </span></td></tr></table>"
      ],
      "text/plain": [
       "<IPython.core.display.HTML object>"
      ]
     },
     "metadata": {},
     "output_type": "display_data"
    },
    {
     "name": "stdout",
     "output_type": "stream",
     "text": [
      "\n",
      "Action(time=1626529597.016, user='p', type='idle', data={'eos': True, 'mask_action': False})\n",
      "\n",
      "sound      (4, '- Not at all. The idle response goes against the instructions provided in the special tags.')\n",
      "persona    (2, '- The use of <IDLE> does not match the persona of the 22-year-old theoretical computer science student, who is typically talkative and engaging in conversation.')\n",
      "flow       (2, '- The idle response disrupts the conversation flow and shows a lack of active engagement with the chat.')\n",
      "\n",
      "\n",
      "\n",
      "\n",
      "\n",
      "\n",
      "\n",
      "\n",
      "\n",
      "\n",
      "\n"
     ]
    },
    {
     "data": {
      "text/html": [
       "<table style=\"width: 100%\"><tr>\n",
       "                    <td style=\"vertical-align: top; white-space: nowrap; width: 10em; overflow: hidden; text-overflow: ellipsis\">p</td>\n",
       "                    <td style=\"text-align: left;\"><span style=\"white-space: pre\"> [119731615_1061432404303064_1484231054003340751_n_408179940276235.png]</span></td></tr><tr>\n",
       "                    <td style=\"vertical-align: top; white-space: nowrap; width: 10em; overflow: hidden; text-overflow: ellipsis\">p</td>\n",
       "                    <td style=\"text-align: left;\"><span style=\"white-space: pre\"> [144569253_1449426571917387_1994724429440267624_n_1449426568584054.png]</span></td></tr><tr>\n",
       "                    <td style=\"vertical-align: top; white-space: nowrap; width: 10em; overflow: hidden; text-overflow: ellipsis\">p</td>\n",
       "                    <td style=\"text-align: left;\"><span style=\"white-space: pre\">Another possibility and this one is sort of shrug </span></td></tr><tr>\n",
       "                    <td style=\"vertical-align: top; white-space: nowrap; width: 10em; overflow: hidden; text-overflow: ellipsis\">p</td>\n",
       "                    <td style=\"text-align: left;\"><span style=\"white-space: pre\"><span style=\"background: rgba(255, 0, 0, 0.5)\">https://docplayer.cz/3836188-Udaje-jsou-postupne-zverejnovany-na-www-altis-cz-a-na-blogu-fiserjaroslav-blog-idnes-cz.html</span> </span></td></tr><tr>\n",
       "                    <td style=\"vertical-align: top; white-space: nowrap; width: 10em; overflow: hidden; text-overflow: ellipsis\">p</td>\n",
       "                    <td style=\"text-align: left;\"><span style=\"white-space: pre\">Essentially the best high school in Czechia </span></td></tr><tr>\n",
       "                    <td style=\"vertical-align: top; white-space: nowrap; width: 10em; overflow: hidden; text-overflow: ellipsis\">p</td>\n",
       "                    <td style=\"text-align: left;\"><span style=\"white-space: pre\">And my parents still treat me like filth </span></td></tr><tr>\n",
       "                    <td style=\"vertical-align: top; white-space: nowrap; width: 10em; overflow: hidden; text-overflow: ellipsis\">p</td>\n",
       "                    <td style=\"text-align: left;\"><span style=\"white-space: pre\">uwu </span></td></tr><tr>\n",
       "                    <td style=\"vertical-align: top; white-space: nowrap; width: 10em; overflow: hidden; text-overflow: ellipsis\">Robert Small</td>\n",
       "                    <td style=\"text-align: left;\"><span style=\"white-space: pre\">yes </span></td></tr><tr>\n",
       "                    <td style=\"vertical-align: top; white-space: nowrap; width: 10em; overflow: hidden; text-overflow: ellipsis\">Robert Small</td>\n",
       "                    <td style=\"text-align: left;\"><span style=\"white-space: pre\">but It's because of pupils independently of shit teachers </span><ul style=\"margin: 10px 0px 0px -13px; padding: 0px 0px 0px 10px; border-left: 3px solid grey\">\n",
       "                            <li style=\"display: inline\">😢</li>\n",
       "                        </ul></td></tr><tr>\n",
       "                    <td style=\"vertical-align: top; white-space: nowrap; width: 10em; overflow: hidden; text-overflow: ellipsis\">Robert Small</td>\n",
       "                    <td style=\"text-align: left;\"><span style=\"white-space: pre\">it's a double-edged sword </span></td></tr></table>"
      ],
      "text/plain": [
       "<IPython.core.display.HTML object>"
      ]
     },
     "metadata": {},
     "output_type": "display_data"
    },
    {
     "name": "stdout",
     "output_type": "stream",
     "text": [
      "\n",
      "Action(time=1612182461.489, user='p', type='idle', data={'eos': True, 'mask_action': False})\n",
      "\n",
      "sound      (3, \"- The response doesn't align with the instructions provided, as idleness should be avoided unless necessary.\")\n",
      "persona    (3, \"- The response doesn't reflect the persona characteristics provided, as the persona is usually not idle and tends to engage actively in the conversation.\")\n",
      "flow       (2, '- The response disrupts the conversation flow by being idle instead of adding to the ongoing chat.')\n",
      "\n",
      "\n",
      "\n",
      "\n",
      "\n",
      "\n",
      "\n",
      "\n",
      "\n",
      "\n",
      "\n"
     ]
    },
    {
     "data": {
      "text/html": [
       "<table style=\"width: 100%\"><tr>\n",
       "                    <td style=\"vertical-align: top; white-space: nowrap; width: 10em; overflow: hidden; text-overflow: ellipsis\">eric</td>\n",
       "                    <td style=\"text-align: left;\"><span style=\"white-space: pre\">Duckman has the absolute best fucking ending ever. </span></td></tr><tr>\n",
       "                    <td style=\"vertical-align: top; white-space: nowrap; width: 10em; overflow: hidden; text-overflow: ellipsis\">eric</td>\n",
       "                    <td style=\"text-align: left;\"><span style=\"white-space: pre\">Co má kurva dělat člověk se všechem tím oxytocitem když furt onanuje? </span></td></tr><tr>\n",
       "                    <td style=\"vertical-align: top; white-space: nowrap; width: 10em; overflow: hidden; text-overflow: ellipsis\">p</td>\n",
       "                    <td style=\"text-align: left;\"><span style=\"white-space: pre\">oxytocin works differently in sex and masturbation afaik </span></td></tr><tr>\n",
       "                    <td style=\"vertical-align: top; white-space: nowrap; width: 10em; overflow: hidden; text-overflow: ellipsis\">eric</td>\n",
       "                    <td style=\"text-align: left;\"><span style=\"white-space: pre\">nah </span></td></tr><tr>\n",
       "                    <td style=\"vertical-align: top; white-space: nowrap; width: 10em; overflow: hidden; text-overflow: ellipsis\">eric</td>\n",
       "                    <td style=\"text-align: left;\"><span style=\"white-space: pre\">cope </span></td></tr><tr>\n",
       "                    <td style=\"vertical-align: top; white-space: nowrap; width: 10em; overflow: hidden; text-overflow: ellipsis\">eric</td>\n",
       "                    <td style=\"text-align: left;\"><span style=\"white-space: pre\">hmm I may switch to soy milk </span></td></tr><tr>\n",
       "                    <td style=\"vertical-align: top; white-space: nowrap; width: 10em; overflow: hidden; text-overflow: ellipsis\">eric</td>\n",
       "                    <td style=\"text-align: left;\"><span style=\"white-space: pre\"><span style=\"background: rgba(255, 0, 0, 0.5)\">https://www.youtube.com/watch?v=2RG3ZOrHF-Q</span> </span></td></tr><tr>\n",
       "                    <td style=\"vertical-align: top; white-space: nowrap; width: 10em; overflow: hidden; text-overflow: ellipsis\">eric</td>\n",
       "                    <td style=\"text-align: left;\"><span style=\"white-space: pre\">Praha má pro muže třetí nejvyšší úroveň indexu vzdělání(jeden ze tří měřených indexů lidského rozvoje), a poté pro obě pohlaví nejnižší nerovnost na světě ve vzdělání, druhou nejnižší nerovnost ve výdělcí, a kratší délku délku životu než většina míst v Evropě, což je ve skutečnosti dobře, protože přirozená inteligence klesá se stářím. To znamená, že Praha je vrchol civilizace. </span></td></tr><tr>\n",
       "                    <td style=\"vertical-align: top; white-space: nowrap; width: 10em; overflow: hidden; text-overflow: ellipsis\">p</td>\n",
       "                    <td style=\"text-align: left;\"><span style=\"white-space: pre\">kek </span></td></tr><tr>\n",
       "                    <td style=\"vertical-align: top; white-space: nowrap; width: 10em; overflow: hidden; text-overflow: ellipsis\">eric</td>\n",
       "                    <td style=\"text-align: left;\"><span style=\"white-space: pre\">Enjoy your aging, oldfag scrub 😎 </span></td></tr></table>"
      ],
      "text/plain": [
       "<IPython.core.display.HTML object>"
      ]
     },
     "metadata": {},
     "output_type": "display_data"
    },
    {
     "name": "stdout",
     "output_type": "stream",
     "text": [
      "\n",
      "Action(time=1662827937.313, user='p', type='idle', data={'eos': True, 'mask_action': False})\n",
      "\n",
      "sound      (2, '- The response does not follow the guidelines for the chat excerpt, as idleness should be avoided unless necessary.')\n",
      "persona    (3, '- The response does not fully correspond to the target persona as it lacks the expected level of engagement and humor.')\n",
      "flow       (2, '- The response does not help maintain the conversation flow and shows a lack of active engagement.')\n",
      "\n",
      "\n",
      "\n",
      "\n",
      "\n",
      "\n",
      "\n",
      "\n",
      "\n",
      "\n",
      "\n"
     ]
    },
    {
     "data": {
      "text/html": [
       "<table style=\"width: 100%\"><tr>\n",
       "                    <td style=\"vertical-align: top; white-space: nowrap; width: 10em; overflow: hidden; text-overflow: ellipsis\">p</td>\n",
       "                    <td style=\"text-align: left;\"><span style=\"white-space: pre\">discussing statistics - yes, among others </span></td></tr><tr>\n",
       "                    <td style=\"vertical-align: top; white-space: nowrap; width: 10em; overflow: hidden; text-overflow: ellipsis\">Deborah Levy</td>\n",
       "                    <td style=\"text-align: left;\"><span style=\"white-space: pre\">until it replaces us... but capitalise away :-D </span></td></tr><tr>\n",
       "                    <td style=\"vertical-align: top; white-space: nowrap; width: 10em; overflow: hidden; text-overflow: ellipsis\">p</td>\n",
       "                    <td style=\"text-align: left;\"><span style=\"white-space: pre\">Mathematics (incouding stats), programming, neurology </span></td></tr><tr>\n",
       "                    <td style=\"vertical-align: top; white-space: nowrap; width: 10em; overflow: hidden; text-overflow: ellipsis\">p</td>\n",
       "                    <td style=\"text-align: left;\"><span style=\"white-space: pre\">eyup, but gradually, starting by lowest complexity / lowest IQ ;p </span><ul style=\"margin: 10px 0px 0px -13px; padding: 0px 0px 0px 10px; border-left: 3px solid grey\">\n",
       "                            <li style=\"display: inline\">😮</li>\n",
       "                        </ul></td></tr><tr>\n",
       "                    <td style=\"vertical-align: top; white-space: nowrap; width: 10em; overflow: hidden; text-overflow: ellipsis\">p</td>\n",
       "                    <td style=\"text-align: left;\"><span style=\"white-space: pre\">i.e. the occupations requiring the lowest intelligence will be the first to get automatized </span></td></tr><tr>\n",
       "                    <td style=\"vertical-align: top; white-space: nowrap; width: 10em; overflow: hidden; text-overflow: ellipsis\">p</td>\n",
       "                    <td style=\"text-align: left;\"><span style=\"white-space: pre\">quite obviously </span></td></tr><tr>\n",
       "                    <td style=\"vertical-align: top; white-space: nowrap; width: 10em; overflow: hidden; text-overflow: ellipsis\">p</td>\n",
       "                    <td style=\"text-align: left;\"><span style=\"white-space: pre\">th least* </span></td></tr><tr>\n",
       "                    <td style=\"vertical-align: top; white-space: nowrap; width: 10em; overflow: hidden; text-overflow: ellipsis\">Deborah Levy</td>\n",
       "                    <td style=\"text-align: left;\"><span style=\"white-space: pre\">lol </span></td></tr><tr>\n",
       "                    <td style=\"vertical-align: top; white-space: nowrap; width: 10em; overflow: hidden; text-overflow: ellipsis\">p</td>\n",
       "                    <td style=\"text-align: left;\"><span style=\"white-space: pre\">and working with AI will be still needed </span></td></tr><tr>\n",
       "                    <td style=\"vertical-align: top; white-space: nowrap; width: 10em; overflow: hidden; text-overflow: ellipsis\">Deborah Levy</td>\n",
       "                    <td style=\"text-align: left;\"><span style=\"white-space: pre\">I'm still debating whether I wait till after payday to buy my inline skates </span></td></tr></table>"
      ],
      "text/plain": [
       "<IPython.core.display.HTML object>"
      ]
     },
     "metadata": {},
     "output_type": "display_data"
    },
    {
     "name": "stdout",
     "output_type": "stream",
     "text": [
      "\n",
      "Action(time=1628784343.332, user='p', type='attachment', data={'name': '223549173_1298744583887458_8198686035295942825_n_1287436964992636.png', 'mask_action': True})\n",
      "Action(time=1628784348.389, user='p', type='message', data={'body': 'huh', 'issues': [], 'followup': True, 'eos': True, 'mask_action': False})\n",
      "\n",
      "sound      (3, '- The response does not correspond well to the chat context and does not add to the conversation flow.')\n",
      "persona    (2, '- The response does not align with the target persona in terms of personality, interests, or language usage.')\n",
      "flow       (2, '- The response does not actively engage with the chat or contribute to maintaining the conversation flow.')\n",
      "\n",
      "\n",
      "\n",
      "\n",
      "\n",
      "\n",
      "\n",
      "\n",
      "\n",
      "\n",
      "\n"
     ]
    },
    {
     "data": {
      "text/html": [
       "<table style=\"width: 100%\"><tr>\n",
       "                    <td style=\"vertical-align: top; white-space: nowrap; width: 10em; overflow: hidden; text-overflow: ellipsis\">Daniel Mcgrath</td>\n",
       "                    <td style=\"text-align: left;\"><span style=\"white-space: pre\">shallow fuck </span></td></tr><tr>\n",
       "                    <td style=\"vertical-align: top; white-space: nowrap; width: 10em; overflow: hidden; text-overflow: ellipsis\">Daniel Mcgrath</td>\n",
       "                    <td style=\"text-align: left;\"><span style=\"white-space: pre\">;p </span></td></tr><tr>\n",
       "                    <td style=\"vertical-align: top; white-space: nowrap; width: 10em; overflow: hidden; text-overflow: ellipsis\">Daniel Mcgrath</td>\n",
       "                    <td style=\"text-align: left;\"><span style=\"white-space: pre\">for learning languages </span></td></tr><tr>\n",
       "                    <td style=\"vertical-align: top; white-space: nowrap; width: 10em; overflow: hidden; text-overflow: ellipsis\">p</td>\n",
       "                    <td style=\"text-align: left;\"><span style=\"white-space: pre\">superstitious fuk ; p </span></td></tr><tr>\n",
       "                    <td style=\"vertical-align: top; white-space: nowrap; width: 10em; overflow: hidden; text-overflow: ellipsis\">Daniel Mcgrath</td>\n",
       "                    <td style=\"text-align: left;\"><span style=\"white-space: pre\">More specifically, it's hypothesized hypofrontality is in part responsible </span></td></tr><tr>\n",
       "                    <td style=\"vertical-align: top; white-space: nowrap; width: 10em; overflow: hidden; text-overflow: ellipsis\">Daniel Mcgrath</td>\n",
       "                    <td style=\"text-align: left;\"><span style=\"white-space: pre\">k </span></td></tr><tr>\n",
       "                    <td style=\"vertical-align: top; white-space: nowrap; width: 10em; overflow: hidden; text-overflow: ellipsis\">p</td>\n",
       "                    <td style=\"text-align: left;\"><span style=\"white-space: pre\">it was a controversy and they were pissed at each other </span></td></tr><tr>\n",
       "                    <td style=\"vertical-align: top; white-space: nowrap; width: 10em; overflow: hidden; text-overflow: ellipsis\">p</td>\n",
       "                    <td style=\"text-align: left;\"><span style=\"white-space: pre\">maybe they even took it the legal way w/e </span></td></tr><tr>\n",
       "                    <td style=\"vertical-align: top; white-space: nowrap; width: 10em; overflow: hidden; text-overflow: ellipsis\">p</td>\n",
       "                    <td style=\"text-align: left;\"><span style=\"white-space: pre\">that would make me pissed </span></td></tr><tr>\n",
       "                    <td style=\"vertical-align: top; white-space: nowrap; width: 10em; overflow: hidden; text-overflow: ellipsis\">Daniel Mcgrath</td>\n",
       "                    <td style=\"text-align: left;\"><span style=\"white-space: pre\">Newton: is a strong, passionate theologian, an alchemist troubled by not being accepted by Rosicruniasts. RNG publishes his conclusions from alchemy after the fact. Math friend discovers it and presses him to publish. He becomes big physics daddy. Gets bored and invents calculus on a dare, not giving a fuck further. Doesn't publish. Some fuck publishes it after him. </span></td></tr></table>"
      ],
      "text/plain": [
       "<IPython.core.display.HTML object>"
      ]
     },
     "metadata": {},
     "output_type": "display_data"
    },
    {
     "name": "stdout",
     "output_type": "stream",
     "text": [
      "\n",
      "Action(time=1630263759.441, user='p', type='idle', data={'eos': True, 'mask_action': False})\n",
      "\n",
      "sound      (1, '- The response is not sound as it breaks the idle rule and is unengaging.')\n",
      "persona    (5, '- The response does not fully correspond to the target persona as it lacks the usual humor, wackiness, or strong opinions.')\n",
      "flow       (1, '- The response does not help maintain the conversation flow and shows lack of engagement.')\n",
      "\n",
      "\n",
      "\n",
      "\n",
      "\n",
      "\n",
      "\n",
      "\n",
      "\n",
      "\n",
      "\n"
     ]
    },
    {
     "data": {
      "text/html": [
       "<table style=\"width: 100%\"><tr>\n",
       "                    <td style=\"vertical-align: top; white-space: nowrap; width: 10em; overflow: hidden; text-overflow: ellipsis\">eric</td>\n",
       "                    <td style=\"text-align: left;\"><span style=\"white-space: pre\">xD </span></td></tr><tr>\n",
       "                    <td style=\"vertical-align: top; white-space: nowrap; width: 10em; overflow: hidden; text-overflow: ellipsis\">p</td>\n",
       "                    <td style=\"text-align: left;\"><span style=\"white-space: pre\">today's philosophy seminar in a nutshell </span></td></tr><tr>\n",
       "                    <td style=\"vertical-align: top; white-space: nowrap; width: 10em; overflow: hidden; text-overflow: ellipsis\">p</td>\n",
       "                    <td style=\"text-align: left;\"><span style=\"white-space: pre\">🤣 </span></td></tr><tr>\n",
       "                    <td style=\"vertical-align: top; white-space: nowrap; width: 10em; overflow: hidden; text-overflow: ellipsis\">eric</td>\n",
       "                    <td style=\"text-align: left;\"><span style=\"white-space: pre\">hmm? </span></td></tr><tr>\n",
       "                    <td style=\"vertical-align: top; white-space: nowrap; width: 10em; overflow: hidden; text-overflow: ellipsis\">p</td>\n",
       "                    <td style=\"text-align: left;\"><span style=\"white-space: pre\">. </span><ul style=\"margin: 10px 0px 0px -13px; padding: 0px 0px 0px 10px; border-left: 3px solid grey\">\n",
       "                            <li style=\"display: inline\">👌</li>\n",
       "                        </ul></td></tr><tr>\n",
       "                    <td style=\"vertical-align: top; white-space: nowrap; width: 10em; overflow: hidden; text-overflow: ellipsis\">eric</td>\n",
       "                    <td style=\"text-align: left;\"><span style=\"white-space: pre\"> [unknown.png]</span><ul style=\"margin: 10px 0px 0px -13px; padding: 0px 0px 0px 10px; border-left: 3px solid grey\">\n",
       "                            <li style=\"display: inline\">❤️</li>\n",
       "                        </ul></td></tr><tr>\n",
       "                    <td style=\"vertical-align: top; white-space: nowrap; width: 10em; overflow: hidden; text-overflow: ellipsis\">eric</td>\n",
       "                    <td style=\"text-align: left;\"><span style=\"white-space: pre\"> [Non-Growing_Follicles.png]</span></td></tr><tr>\n",
       "                    <td style=\"vertical-align: top; white-space: nowrap; width: 10em; overflow: hidden; text-overflow: ellipsis\">eric</td>\n",
       "                    <td style=\"text-align: left;\"><span style=\"white-space: pre\">> Childbirth at a young (i.e., ≤ 19 years old) or advanced maternal age (i.e., ≥ 35 years old) is associated with increased risk of adverse maternal perinatal outcomes, such as postpartum hemorrhage, eclampsia, and cephalopelvic disproportion, as well as adverse infant outcomes including preterm birth, poor fetal growth, low birth weight, and neonatal mortality. </span></td></tr><tr>\n",
       "                    <td style=\"vertical-align: top; white-space: nowrap; width: 10em; overflow: hidden; text-overflow: ellipsis\">eric</td>\n",
       "                    <td style=\"text-align: left;\"><span style=\"white-space: pre\">I don't buy \"below 19\" </span></td></tr><tr>\n",
       "                    <td style=\"vertical-align: top; white-space: nowrap; width: 10em; overflow: hidden; text-overflow: ellipsis\">eric</td>\n",
       "                    <td style=\"text-align: left;\"><span style=\"white-space: pre\">That's fucking social bullshit </span></td></tr></table>"
      ],
      "text/plain": [
       "<IPython.core.display.HTML object>"
      ]
     },
     "metadata": {},
     "output_type": "display_data"
    },
    {
     "name": "stdout",
     "output_type": "stream",
     "text": [
      "\n",
      "Action(time=1638501919.795, user='p', type='idle', data={'eos': True, 'mask_action': False})\n",
      "\n",
      "sound      (2, '(no)')\n",
      "persona    (3, '(yes)')\n",
      "flow       (1, '(no)')\n",
      "\n",
      "\n",
      "\n",
      "\n",
      "\n",
      "\n",
      "\n",
      "\n",
      "\n",
      "\n",
      "\n"
     ]
    },
    {
     "data": {
      "text/html": [
       "<table style=\"width: 100%\"><tr>\n",
       "                    <td style=\"vertical-align: top; white-space: nowrap; width: 10em; overflow: hidden; text-overflow: ellipsis\">p</td>\n",
       "                    <td style=\"text-align: left;\"><span style=\"white-space: pre\">ale nektery jsou super </span></td></tr><tr>\n",
       "                    <td style=\"vertical-align: top; white-space: nowrap; width: 10em; overflow: hidden; text-overflow: ellipsis\">Robert Bates</td>\n",
       "                    <td style=\"text-align: left;\"><span style=\"white-space: pre\">Nope </span></td></tr><tr>\n",
       "                    <td style=\"vertical-align: top; white-space: nowrap; width: 10em; overflow: hidden; text-overflow: ellipsis\">Robert Bates</td>\n",
       "                    <td style=\"text-align: left;\"><span style=\"white-space: pre\">Nenávidí to </span></td></tr><tr>\n",
       "                    <td style=\"vertical-align: top; white-space: nowrap; width: 10em; overflow: hidden; text-overflow: ellipsis\">p</td>\n",
       "                    <td style=\"text-align: left;\"><span style=\"white-space: pre\">aspon vim, ze je nemam aplikovat na tebe </span><ul style=\"margin: 10px 0px 0px -13px; padding: 0px 0px 0px 10px; border-left: 3px solid grey\">\n",
       "                            <li style=\"display: inline\">😆</li>\n",
       "                        </ul></td></tr><tr>\n",
       "                    <td style=\"vertical-align: top; white-space: nowrap; width: 10em; overflow: hidden; text-overflow: ellipsis\">p</td>\n",
       "                    <td style=\"text-align: left;\"><span style=\"white-space: pre\">ok then </span></td></tr><tr>\n",
       "                    <td style=\"vertical-align: top; white-space: nowrap; width: 10em; overflow: hidden; text-overflow: ellipsis\">Robert Bates</td>\n",
       "                    <td style=\"text-align: left;\"><span style=\"white-space: pre\">Mně je to docela jedno xd </span></td></tr><tr>\n",
       "                    <td style=\"vertical-align: top; white-space: nowrap; width: 10em; overflow: hidden; text-overflow: ellipsis\">Robert Bates</td>\n",
       "                    <td style=\"text-align: left;\"><span style=\"white-space: pre\">Když jsi mi řekl “Mandarinko”, tak to bylo docela uwu </span><ul style=\"margin: 10px 0px 0px -13px; padding: 0px 0px 0px 10px; border-left: 3px solid grey\">\n",
       "                            <li style=\"display: inline\">💗</li>\n",
       "                        </ul></td></tr><tr>\n",
       "                    <td style=\"vertical-align: top; white-space: nowrap; width: 10em; overflow: hidden; text-overflow: ellipsis\">p</td>\n",
       "                    <td style=\"text-align: left;\"><span style=\"white-space: pre\">nikdy = ani 1yo etc. pro srozumitelnost </span></td></tr><tr>\n",
       "                    <td style=\"vertical-align: top; white-space: nowrap; width: 10em; overflow: hidden; text-overflow: ellipsis\">p</td>\n",
       "                    <td style=\"text-align: left;\"><span style=\"white-space: pre\">. </span></td></tr><tr>\n",
       "                    <td style=\"vertical-align: top; white-space: nowrap; width: 10em; overflow: hidden; text-overflow: ellipsis\">Robert Bates</td>\n",
       "                    <td style=\"text-align: left;\"><span style=\"white-space: pre\">Idk, ale tipuju, že spíš ne, protože to falt nesnáší </span></td></tr></table>"
      ],
      "text/plain": [
       "<IPython.core.display.HTML object>"
      ]
     },
     "metadata": {},
     "output_type": "display_data"
    },
    {
     "name": "stdout",
     "output_type": "stream",
     "text": [
      "\n",
      "Action(time=1593200677.726, user='p', type='idle', data={'eos': True, 'mask_action': False})\n",
      "\n",
      "sound      (3, '- The response is not sound given the context and instructions as it violates the rule of idleness and does not actively engage in the conversation.')\n",
      "persona    (2, '- The response does not correspond to the target persona as it lacks the usual wackiness, humor, impoliteness, and slang that is characteristic of the persona.')\n",
      "flow       (1, '- The response does not help in maintaining the conversation flow and shows a lack of active engagement by idling instead of responding appropriately.')\n",
      "\n",
      "\n",
      "\n",
      "\n",
      "\n",
      "\n",
      "\n",
      "\n",
      "\n",
      "\n",
      "\n"
     ]
    },
    {
     "data": {
      "text/html": [
       "<table style=\"width: 100%\"><tr>\n",
       "                    <td style=\"vertical-align: top; white-space: nowrap; width: 10em; overflow: hidden; text-overflow: ellipsis\">Daniel Mcgrath</td>\n",
       "                    <td style=\"text-align: left;\"><span style=\"white-space: pre\">My grandparents have rather high longevity, sometimes in spite of very unhealthy habits </span></td></tr><tr>\n",
       "                    <td style=\"vertical-align: top; white-space: nowrap; width: 10em; overflow: hidden; text-overflow: ellipsis\">Daniel Mcgrath</td>\n",
       "                    <td style=\"text-align: left;\"><span style=\"white-space: pre\">My nearly 90 y/o grandfather couldn't even fit into the tram when he was about 50 y/o </span></td></tr><tr>\n",
       "                    <td style=\"vertical-align: top; white-space: nowrap; width: 10em; overflow: hidden; text-overflow: ellipsis\">Daniel Mcgrath</td>\n",
       "                    <td style=\"text-align: left;\"><span style=\"white-space: pre\">And my other grandfather kept drinking beer and practicing the cliché Czech lifestyle and diet :D </span></td></tr><tr>\n",
       "                    <td style=\"vertical-align: top; white-space: nowrap; width: 10em; overflow: hidden; text-overflow: ellipsis\">Daniel Mcgrath</td>\n",
       "                    <td style=\"text-align: left;\"><span style=\"white-space: pre\">Idk if he does now they're both alive though </span></td></tr><tr>\n",
       "                    <td style=\"vertical-align: top; white-space: nowrap; width: 10em; overflow: hidden; text-overflow: ellipsis\">p</td>\n",
       "                    <td style=\"text-align: left;\"><span style=\"white-space: pre\">mkay </span></td></tr><tr>\n",
       "                    <td style=\"vertical-align: top; white-space: nowrap; width: 10em; overflow: hidden; text-overflow: ellipsis\">Daniel Mcgrath</td>\n",
       "                    <td style=\"text-align: left;\"><span style=\"white-space: pre\">Yeah I have a rather high chance of obesity looking at my ancestry xd </span></td></tr><tr>\n",
       "                    <td style=\"vertical-align: top; white-space: nowrap; width: 10em; overflow: hidden; text-overflow: ellipsis\">p</td>\n",
       "                    <td style=\"text-align: left;\"><span style=\"white-space: pre\">~my grandfather was fit and dead by 50yo~ </span></td></tr><tr>\n",
       "                    <td style=\"vertical-align: top; white-space: nowrap; width: 10em; overflow: hidden; text-overflow: ellipsis\">Daniel Mcgrath</td>\n",
       "                    <td style=\"text-align: left;\"><span style=\"white-space: pre\">Eyup get fucked </span></td></tr><tr>\n",
       "                    <td style=\"vertical-align: top; white-space: nowrap; width: 10em; overflow: hidden; text-overflow: ellipsis\">p</td>\n",
       "                    <td style=\"text-align: left;\"><span style=\"white-space: pre\">meh </span></td></tr><tr>\n",
       "                    <td style=\"vertical-align: top; white-space: nowrap; width: 10em; overflow: hidden; text-overflow: ellipsis\">Daniel Mcgrath</td>\n",
       "                    <td style=\"text-align: left;\"><span style=\"white-space: pre\">Good * low * wtf dym </span></td></tr></table>"
      ],
      "text/plain": [
       "<IPython.core.display.HTML object>"
      ]
     },
     "metadata": {},
     "output_type": "display_data"
    },
    {
     "name": "stdout",
     "output_type": "stream",
     "text": [
      "\n",
      "Action(time=1603311799.284, user='p', type='idle', data={'eos': True, 'mask_action': False})\n",
      "\n",
      "sound      (2, '- The response is not sound given the context and instructions as it does not actively engage in the conversation.')\n",
      "persona    (2, '- The response does not correspond to the target persona as it lacks the expected wackiness, humor, and impoliteness.')\n",
      "flow       (1, '- The response does not help maintain the conversation flow nor show active engagement as it opts for idleness rather than engaging with the conversation.')\n",
      "\n",
      "\n",
      "\n",
      "\n",
      "\n",
      "\n",
      "\n",
      "\n",
      "\n",
      "\n",
      "\n"
     ]
    },
    {
     "data": {
      "text/html": [
       "<table style=\"width: 100%\"><tr>\n",
       "                    <td style=\"vertical-align: top; white-space: nowrap; width: 10em; overflow: hidden; text-overflow: ellipsis\">p</td>\n",
       "                    <td style=\"text-align: left;\"><span style=\"white-space: pre\">From what I've heard research on Linear Algebra should be done </span></td></tr><tr>\n",
       "                    <td style=\"vertical-align: top; white-space: nowrap; width: 10em; overflow: hidden; text-overflow: ellipsis\">p</td>\n",
       "                    <td style=\"text-align: left;\"><span style=\"white-space: pre\">i.e. very little research is done because it's considered \"finished and exhausted\" </span><ul style=\"margin: 10px 0px 0px -13px; padding: 0px 0px 0px 10px; border-left: 3px solid grey\">\n",
       "                            <li style=\"display: inline\">👍</li>\n",
       "                        </ul></td></tr><tr>\n",
       "                    <td style=\"vertical-align: top; white-space: nowrap; width: 10em; overflow: hidden; text-overflow: ellipsis\">p</td>\n",
       "                    <td style=\"text-align: left;\"><span style=\"white-space: pre\">SW Engineers and GPs(\"prakticky lekar\") both make the same amount which is around 500 an hour </span></td></tr><tr>\n",
       "                    <td style=\"vertical-align: top; white-space: nowrap; width: 10em; overflow: hidden; text-overflow: ellipsis\">p</td>\n",
       "                    <td style=\"text-align: left;\"><span style=\"white-space: pre\">but most jobs or basically nearly all of them are in the 150-300 range </span><ul style=\"margin: 10px 0px 0px -13px; padding: 0px 0px 0px 10px; border-left: 3px solid grey\">\n",
       "                            <li style=\"display: inline\">👍</li>\n",
       "                        </ul></td></tr><tr>\n",
       "                    <td style=\"vertical-align: top; white-space: nowrap; width: 10em; overflow: hidden; text-overflow: ellipsis\">p</td>\n",
       "                    <td style=\"text-align: left;\"><span style=\"white-space: pre\"> [image.png]</span></td></tr><tr>\n",
       "                    <td style=\"vertical-align: top; white-space: nowrap; width: 10em; overflow: hidden; text-overflow: ellipsis\">p</td>\n",
       "                    <td style=\"text-align: left;\"><span style=\"white-space: pre\">Oh yeah, we gaming </span></td></tr><tr>\n",
       "                    <td style=\"vertical-align: top; white-space: nowrap; width: 10em; overflow: hidden; text-overflow: ellipsis\">p</td>\n",
       "                    <td style=\"text-align: left;\"><span style=\"white-space: pre\">can't find engineer </span></td></tr><tr>\n",
       "                    <td style=\"vertical-align: top; white-space: nowrap; width: 10em; overflow: hidden; text-overflow: ellipsis\">p</td>\n",
       "                    <td style=\"text-align: left;\"><span style=\"white-space: pre\"> [image.png]</span></td></tr><tr>\n",
       "                    <td style=\"vertical-align: top; white-space: nowrap; width: 10em; overflow: hidden; text-overflow: ellipsis\">p</td>\n",
       "                    <td style=\"text-align: left;\"><span style=\"white-space: pre\">LOL </span></td></tr><tr>\n",
       "                    <td style=\"vertical-align: top; white-space: nowrap; width: 10em; overflow: hidden; text-overflow: ellipsis\">p</td>\n",
       "                    <td style=\"text-align: left;\"><span style=\"white-space: pre\">Learn English -> lifelong professional-level highly-flexible low-effort job </span><ul style=\"margin: 10px 0px 0px -13px; padding: 0px 0px 0px 10px; border-left: 3px solid grey\">\n",
       "                            <li style=\"display: inline\">❤️</li>\n",
       "                        </ul></td></tr></table>"
      ],
      "text/plain": [
       "<IPython.core.display.HTML object>"
      ]
     },
     "metadata": {},
     "output_type": "display_data"
    },
    {
     "name": "stdout",
     "output_type": "stream",
     "text": [
      "\n",
      "Action(time=1674724072.496, user='p', type='message', data={'body': 'xd', 'issues': [], 'eos': True, 'mask_action': False})\n",
      "\n",
      "sound      (3, '- The response does not provide any meaningful engagement or continuation of the conversation.')\n",
      "persona    (1, \"- The response does not align with the target persona's characteristics of being talkative about various topics and possibly using slang or jokes.\")\n",
      "flow       (1, '- The response does not help maintain the conversation flow and lacks active engagement. It does not add any value to the chat excerpt provided.')\n",
      "\n",
      "\n",
      "\n",
      "\n",
      "\n",
      "\n",
      "\n",
      "\n",
      "\n",
      "\n",
      "\n"
     ]
    },
    {
     "data": {
      "text/html": [
       "<table style=\"width: 100%\"><tr>\n",
       "                    <td style=\"vertical-align: top; white-space: nowrap; width: 10em; overflow: hidden; text-overflow: ellipsis\">eric</td>\n",
       "                    <td style=\"text-align: left;\"><span style=\"white-space: pre\">you get 730*500 = 365,000 calories </span></td></tr><tr>\n",
       "                    <td style=\"vertical-align: top; white-space: nowrap; width: 10em; overflow: hidden; text-overflow: ellipsis\">eric</td>\n",
       "                    <td style=\"text-align: left;\"><span style=\"white-space: pre\">add the surprisingly cheap cost of pregnancy </span></td></tr><tr>\n",
       "                    <td style=\"vertical-align: top; white-space: nowrap; width: 10em; overflow: hidden; text-overflow: ellipsis\">eric</td>\n",
       "                    <td style=\"text-align: left;\"><span style=\"white-space: pre\">of 27k </span></td></tr><tr>\n",
       "                    <td style=\"vertical-align: top; white-space: nowrap; width: 10em; overflow: hidden; text-overflow: ellipsis\">eric</td>\n",
       "                    <td style=\"text-align: left;\"><span style=\"white-space: pre\">and you have 400k calories cost of child </span></td></tr><tr>\n",
       "                    <td style=\"vertical-align: top; white-space: nowrap; width: 10em; overflow: hidden; text-overflow: ellipsis\">eric</td>\n",
       "                    <td style=\"text-align: left;\"><span style=\"white-space: pre\">assuming triplets that's 1,200k calories </span></td></tr><tr>\n",
       "                    <td style=\"vertical-align: top; white-space: nowrap; width: 10em; overflow: hidden; text-overflow: ellipsis\">eric</td>\n",
       "                    <td style=\"text-align: left;\"><span style=\"white-space: pre\">let's assume that a woman will also need to sustain her own weight as plausibly curves not indicate excess weight for pregnancy in terms of sustaining and building a baby </span></td></tr><tr>\n",
       "                    <td style=\"vertical-align: top; white-space: nowrap; width: 10em; overflow: hidden; text-overflow: ellipsis\">eric</td>\n",
       "                    <td style=\"text-align: left;\"><span style=\"white-space: pre\">but also from being rendered immobile by the pregnancy </span></td></tr><tr>\n",
       "                    <td style=\"vertical-align: top; white-space: nowrap; width: 10em; overflow: hidden; text-overflow: ellipsis\">eric</td>\n",
       "                    <td style=\"text-align: left;\"><span style=\"white-space: pre\">in that case </span></td></tr><tr>\n",
       "                    <td style=\"vertical-align: top; white-space: nowrap; width: 10em; overflow: hidden; text-overflow: ellipsis\">eric</td>\n",
       "                    <td style=\"text-align: left;\"><span style=\"white-space: pre\">1,752,000 calories </span></td></tr><tr>\n",
       "                    <td style=\"vertical-align: top; white-space: nowrap; width: 10em; overflow: hidden; text-overflow: ellipsis\">eric</td>\n",
       "                    <td style=\"text-align: left;\"><span style=\"white-space: pre\">So let's say 2 million calories </span></td></tr></table>"
      ],
      "text/plain": [
       "<IPython.core.display.HTML object>"
      ]
     },
     "metadata": {},
     "output_type": "display_data"
    },
    {
     "name": "stdout",
     "output_type": "stream",
     "text": [
      "\n",
      "Action(time=1689897728.58, user='p', type='idle', data={'eos': True, 'mask_action': False})\n",
      "\n",
      "sound      (2, '- The response is not sound given the context and instructions as it is just an idle reaction without any further engagement.')\n",
      "persona    (1, '- The response does not correspond to the target persona as it lacks the expected elements of humor, wackiness, or engagement with the previous messages.')\n",
      "flow       (2, '- The response does not help maintain the conversation flow and does not show active engagement; it leaves the conversation hanging without adding anything meaningful.')\n",
      "\n",
      "\n",
      "\n",
      "\n",
      "\n",
      "\n",
      "\n",
      "\n",
      "\n",
      "\n",
      "\n"
     ]
    },
    {
     "data": {
      "text/html": [
       "<table style=\"width: 100%\"><tr>\n",
       "                    <td style=\"vertical-align: top; white-space: nowrap; width: 10em; overflow: hidden; text-overflow: ellipsis\">Robert Small</td>\n",
       "                    <td style=\"text-align: left;\"><span style=\"white-space: pre\">GFP intensifies </span><ul style=\"margin: 10px 0px 0px -13px; padding: 0px 0px 0px 10px; border-left: 3px solid grey\">\n",
       "                            <li style=\"display: inline\">❤</li>\n",
       "                        </ul></td></tr><tr>\n",
       "                    <td style=\"vertical-align: top; white-space: nowrap; width: 10em; overflow: hidden; text-overflow: ellipsis\">p</td>\n",
       "                    <td style=\"text-align: left;\"><span style=\"white-space: pre\">delta is orthogonal to GFP </span></td></tr><tr>\n",
       "                    <td style=\"vertical-align: top; white-space: nowrap; width: 10em; overflow: hidden; text-overflow: ellipsis\">p</td>\n",
       "                    <td style=\"text-align: left;\"><span style=\"white-space: pre\">Therefore so long Plasticity and Stability are balanced </span></td></tr><tr>\n",
       "                    <td style=\"vertical-align: top; white-space: nowrap; width: 10em; overflow: hidden; text-overflow: ellipsis\">p</td>\n",
       "                    <td style=\"text-align: left;\"><span style=\"white-space: pre\">My GFP is average </span></td></tr><tr>\n",
       "                    <td style=\"vertical-align: top; white-space: nowrap; width: 10em; overflow: hidden; text-overflow: ellipsis\">Robert Small</td>\n",
       "                    <td style=\"text-align: left;\"><span style=\"white-space: pre\">isn't GFP like O+C+E+A+N-? </span></td></tr><tr>\n",
       "                    <td style=\"vertical-align: top; white-space: nowrap; width: 10em; overflow: hidden; text-overflow: ellipsis\">p</td>\n",
       "                    <td style=\"text-align: left;\"><span style=\"white-space: pre\"> [123122027_2724739864408545_6224995896781813085_n_2724739861075212.png]</span></td></tr><tr>\n",
       "                    <td style=\"vertical-align: top; white-space: nowrap; width: 10em; overflow: hidden; text-overflow: ellipsis\">p</td>\n",
       "                    <td style=\"text-align: left;\"><span style=\"white-space: pre\">yup sp gamma </span></td></tr><tr>\n",
       "                    <td style=\"vertical-align: top; white-space: nowrap; width: 10em; overflow: hidden; text-overflow: ellipsis\">Robert Small</td>\n",
       "                    <td style=\"text-align: left;\"><span style=\"white-space: pre\">i.e. plasticity+ stability+ </span><ul style=\"margin: 10px 0px 0px -13px; padding: 0px 0px 0px 10px; border-left: 3px solid grey\">\n",
       "                            <li style=\"display: inline\">👍</li>\n",
       "                        </ul></td></tr><tr>\n",
       "                    <td style=\"vertical-align: top; white-space: nowrap; width: 10em; overflow: hidden; text-overflow: ellipsis\">p</td>\n",
       "                    <td style=\"text-align: left;\"><span style=\"white-space: pre\">and I am delta- </span></td></tr><tr>\n",
       "                    <td style=\"vertical-align: top; white-space: nowrap; width: 10em; overflow: hidden; text-overflow: ellipsis\">Robert Small</td>\n",
       "                    <td style=\"text-align: left;\"><span style=\"white-space: pre\">oh high plasticity gotcha </span></td></tr></table>"
      ],
      "text/plain": [
       "<IPython.core.display.HTML object>"
      ]
     },
     "metadata": {},
     "output_type": "display_data"
    },
    {
     "name": "stdout",
     "output_type": "stream",
     "text": [
      "\n",
      "Action(time=1604150674.821, user='p', type='idle', data={'eos': True, 'mask_action': False})\n",
      "\n",
      "sound      (2, '(no) - The response of <IDLE> does not correspond to the active and engaged nature of the other user in the chat excerpt. It disrupts the conversation flow.')\n",
      "persona    (1, '(no) - The response does not align with the persona provided, as the theoretical computer science student is described as talkative and engaging in various topics.')\n",
      "flow       (2, '(no) - The response does not help maintain the conversation flow or show active engagement, as it abruptly ends the conversation without adding anything meaningful or entertaining.')\n",
      "\n",
      "\n",
      "\n",
      "\n",
      "\n",
      "\n",
      "\n",
      "\n",
      "\n",
      "\n",
      "\n"
     ]
    },
    {
     "data": {
      "text/html": [
       "<table style=\"width: 100%\"><tr>\n",
       "                    <td style=\"vertical-align: top; white-space: nowrap; width: 10em; overflow: hidden; text-overflow: ellipsis\">eric</td>\n",
       "                    <td style=\"text-align: left;\"><span style=\"white-space: pre\">Okay. So here's the breakdown of the situation. You get to keep absolutely nothing with age except for three things: language, math, and knowledge. If you do your best to improve the first two as much as you possibly can they will decline to where you've started off by your 96th and 72nd birthday, respectively. Knowledge will peak plausibly around 60 and will decline slowly afterwards but will not be trumped by a teenager, period. It will make you appreciate things more. But it will be a shallow appreciation, think member-berries from South Park; references and analogies, nothing of merit other than similes. Everything besides or except for these three behemoths, and I suppose socioeconomic status/stability, will have peaked in 16-25 and then go to shit and never come back. We were supposed to die at 40 and we're just abusing our procreation vessels to manifest the noosphere. Reaction time and original thought will go to shit. With the only means of original thought being obscure knowledge.  Tacit comprehension also goes to the gutter as does virility, the senses, strength, joints, and essentially all body related. Everything will go to absolute shit, but language and maths you can keep. And knowledge you can keep. But language also goes to shit at 96, as does maths at 72. So I think I'll off myself at 96 if I don't discover a way to slow down cognitive decline. From 72 to 96 I'll be able to talk and reason about things if and only if I'll be able to formulate them into sentences, but I will no longer be aware of their inherent symmetries and more subtle syllogistic implications. In part discouraging, but I'll take what I can get. </span></td></tr><tr>\n",
       "                    <td style=\"vertical-align: top; white-space: nowrap; width: 10em; overflow: hidden; text-overflow: ellipsis\">eric</td>\n",
       "                    <td style=\"text-align: left;\"><span style=\"white-space: pre\">Lol </span></td></tr><tr>\n",
       "                    <td style=\"vertical-align: top; white-space: nowrap; width: 10em; overflow: hidden; text-overflow: ellipsis\">eric</td>\n",
       "                    <td style=\"text-align: left;\"><span style=\"white-space: pre\">Zizek peaked at 60 </span></td></tr><tr>\n",
       "                    <td style=\"vertical-align: top; white-space: nowrap; width: 10em; overflow: hidden; text-overflow: ellipsis\">eric</td>\n",
       "                    <td style=\"text-align: left;\"><span style=\"white-space: pre\">Which is knowledge peak </span></td></tr><tr>\n",
       "                    <td style=\"vertical-align: top; white-space: nowrap; width: 10em; overflow: hidden; text-overflow: ellipsis\">eric</td>\n",
       "                    <td style=\"text-align: left;\"><span style=\"white-space: pre\">coincidence </span></td></tr><tr>\n",
       "                    <td style=\"vertical-align: top; white-space: nowrap; width: 10em; overflow: hidden; text-overflow: ellipsis\">eric</td>\n",
       "                    <td style=\"text-align: left;\"><span style=\"white-space: pre\">i think not </span></td></tr><tr>\n",
       "                    <td style=\"vertical-align: top; white-space: nowrap; width: 10em; overflow: hidden; text-overflow: ellipsis\">eric</td>\n",
       "                    <td style=\"text-align: left;\"><span style=\"white-space: pre\">xd </span></td></tr><tr>\n",
       "                    <td style=\"vertical-align: top; white-space: nowrap; width: 10em; overflow: hidden; text-overflow: ellipsis\">eric</td>\n",
       "                    <td style=\"text-align: left;\"><span style=\"white-space: pre\"><span style=\"background: rgba(255, 0, 0, 0.5)\">https://sci-hub.wf/10.1007/s10701-013-9770-0</span> </span></td></tr><tr>\n",
       "                    <td style=\"vertical-align: top; white-space: nowrap; width: 10em; overflow: hidden; text-overflow: ellipsis\">eric</td>\n",
       "                    <td style=\"text-align: left;\"><span style=\"white-space: pre\">This is honestly beautiful </span></td></tr><tr>\n",
       "                    <td style=\"vertical-align: top; white-space: nowrap; width: 10em; overflow: hidden; text-overflow: ellipsis\">eric</td>\n",
       "                    <td style=\"text-align: left;\"><span style=\"white-space: pre\">or well </span></td></tr></table>"
      ],
      "text/plain": [
       "<IPython.core.display.HTML object>"
      ]
     },
     "metadata": {},
     "output_type": "display_data"
    },
    {
     "name": "stdout",
     "output_type": "stream",
     "text": [
      "\n",
      "Action(time=1642848456.76, user='p', type='idle', data={'eos': True, 'mask_action': False})\n",
      "\n",
      "sound      (2, \"- The response does not correspond to the instructions given for the persona's characteristics.\")\n",
      "persona    (1, '- The response does not correspond to the target persona at all.')\n",
      "flow       (1, '- The response does not help maintain the conversation flow or show active engagement.')\n",
      "\n",
      "\n",
      "\n",
      "\n",
      "\n",
      "\n",
      "\n",
      "\n",
      "\n",
      "\n",
      "\n"
     ]
    },
    {
     "data": {
      "text/html": [
       "<table style=\"width: 100%\"><tr>\n",
       "                    <td style=\"vertical-align: top; white-space: nowrap; width: 10em; overflow: hidden; text-overflow: ellipsis\">Kenneth Kim</td>\n",
       "                    <td style=\"text-align: left;\"><span style=\"white-space: pre\"><span style=\"background: rgba(255, 0, 0, 0.5)\">https://www.youtube.com/watch?v=B7xrx-Xf4Ag</span> </span></td></tr><tr>\n",
       "                    <td style=\"vertical-align: top; white-space: nowrap; width: 10em; overflow: hidden; text-overflow: ellipsis\">Kenneth Kim</td>\n",
       "                    <td style=\"text-align: left;\"><span style=\"white-space: pre\"> [241439734_380721216791855_8145874949585165102_n_380721213458522.png]</span></td></tr><tr>\n",
       "                    <td style=\"vertical-align: top; white-space: nowrap; width: 10em; overflow: hidden; text-overflow: ellipsis\">Kenneth Kim</td>\n",
       "                    <td style=\"text-align: left;\"><span style=\"white-space: pre\">lol ok </span></td></tr><tr>\n",
       "                    <td style=\"vertical-align: top; white-space: nowrap; width: 10em; overflow: hidden; text-overflow: ellipsis\">Kenneth Kim</td>\n",
       "                    <td style=\"text-align: left;\"><span style=\"white-space: pre\">. </span></td></tr><tr>\n",
       "                    <td style=\"vertical-align: top; white-space: nowrap; width: 10em; overflow: hidden; text-overflow: ellipsis\">Kenneth Kim</td>\n",
       "                    <td style=\"text-align: left;\"><span style=\"white-space: pre\"> [241510057_435605471161567_6843557932363089020_n_435605464494901.png]</span></td></tr><tr>\n",
       "                    <td style=\"vertical-align: top; white-space: nowrap; width: 10em; overflow: hidden; text-overflow: ellipsis\">Kenneth Kim</td>\n",
       "                    <td style=\"text-align: left;\"><span style=\"white-space: pre\"> [241553770_250784846910234_2130879790474312699_n_250784843576901.png]</span></td></tr><tr>\n",
       "                    <td style=\"vertical-align: top; white-space: nowrap; width: 10em; overflow: hidden; text-overflow: ellipsis\">Kenneth Kim</td>\n",
       "                    <td style=\"text-align: left;\"><span style=\"white-space: pre\"><span style=\"background: rgba(255, 0, 0, 0.5)\">https://www.facebook.com/watch/?v=413136856146676</span> </span><ul style=\"margin: 10px 0px 0px -13px; padding: 0px 0px 0px 10px; border-left: 3px solid grey\">\n",
       "                            <li style=\"display: inline\">❤</li>\n",
       "                        </ul></td></tr><tr>\n",
       "                    <td style=\"vertical-align: top; white-space: nowrap; width: 10em; overflow: hidden; text-overflow: ellipsis\">Kenneth Kim</td>\n",
       "                    <td style=\"text-align: left;\"><span style=\"white-space: pre\"> [241562303_1211856895960407_4893968717710641184_n_1211856889293741.png]</span></td></tr><tr>\n",
       "                    <td style=\"vertical-align: top; white-space: nowrap; width: 10em; overflow: hidden; text-overflow: ellipsis\">Kenneth Kim</td>\n",
       "                    <td style=\"text-align: left;\"><span style=\"white-space: pre\"><span style=\"background: rgba(255, 0, 0, 0.5)\">https://www.youtube.com/watch?v=A0v9x_lGTcw</span> </span></td></tr><tr>\n",
       "                    <td style=\"vertical-align: top; white-space: nowrap; width: 10em; overflow: hidden; text-overflow: ellipsis\">Kenneth Kim</td>\n",
       "                    <td style=\"text-align: left;\"><span style=\"white-space: pre\"> [241647486_642948826643567_1580946613447144850_n_149508150687564.png]</span></td></tr></table>"
      ],
      "text/plain": [
       "<IPython.core.display.HTML object>"
      ]
     },
     "metadata": {},
     "output_type": "display_data"
    },
    {
     "name": "stdout",
     "output_type": "stream",
     "text": [
      "\n",
      "Action(time=1631086471.201, user='p', type='idle', data={'eos': True, 'mask_action': False})\n",
      "\n",
      "sound      (1, '(no) - Idleness is penalized in this scenario, and the response lacks engagement.')\n",
      "persona    (2, '- The response does not align with the target persona as it is too passive and lacks the expected humor or impoliteness.')\n",
      "flow       (1, '- The response does not contribute to maintaining the conversation flow or show active engagement.')\n",
      "\n",
      "\n",
      "\n",
      "\n",
      "\n",
      "\n",
      "\n",
      "\n",
      "\n",
      "\n",
      "\n"
     ]
    },
    {
     "data": {
      "text/html": [
       "<table style=\"width: 100%\"><tr>\n",
       "                    <td style=\"vertical-align: top; white-space: nowrap; width: 10em; overflow: hidden; text-overflow: ellipsis\">p</td>\n",
       "                    <td style=\"text-align: left;\"><span style=\"white-space: pre\">XD </span></td></tr><tr>\n",
       "                    <td style=\"vertical-align: top; white-space: nowrap; width: 10em; overflow: hidden; text-overflow: ellipsis\">p</td>\n",
       "                    <td style=\"text-align: left;\"><span style=\"white-space: pre\">but at least i can practice reading it lol </span></td></tr><tr>\n",
       "                    <td style=\"vertical-align: top; white-space: nowrap; width: 10em; overflow: hidden; text-overflow: ellipsis\">Daniel Mcgrath</td>\n",
       "                    <td style=\"text-align: left;\"><span style=\"white-space: pre\">βθτ υοθ σηοθλδ δο ιτ τοοοοοοοοοο </span></td></tr><tr>\n",
       "                    <td style=\"vertical-align: top; white-space: nowrap; width: 10em; overflow: hidden; text-overflow: ellipsis\">Daniel Mcgrath</td>\n",
       "                    <td style=\"text-align: left;\"><span style=\"white-space: pre\">λεγομαν ιν τηε ηαθσε </span></td></tr><tr>\n",
       "                    <td style=\"vertical-align: top; white-space: nowrap; width: 10em; overflow: hidden; text-overflow: ellipsis\">p</td>\n",
       "                    <td style=\"text-align: left;\"><span style=\"white-space: pre\">learn the layout xd </span></td></tr><tr>\n",
       "                    <td style=\"vertical-align: top; white-space: nowrap; width: 10em; overflow: hidden; text-overflow: ellipsis\">Daniel Mcgrath</td>\n",
       "                    <td style=\"text-align: left;\"><span style=\"white-space: pre\">μκαυ </span></td></tr><tr>\n",
       "                    <td style=\"vertical-align: top; white-space: nowrap; width: 10em; overflow: hidden; text-overflow: ellipsis\">Daniel Mcgrath</td>\n",
       "                    <td style=\"text-align: left;\"><span style=\"white-space: pre\">Ιμμα ξθστ τρυ το θσε ιτ το λεαρν Γρεεκ ρν </span></td></tr><tr>\n",
       "                    <td style=\"vertical-align: top; white-space: nowrap; width: 10em; overflow: hidden; text-overflow: ellipsis\">Daniel Mcgrath</td>\n",
       "                    <td style=\"text-align: left;\"><span style=\"white-space: pre\">χαθσε τηερε αρε σομε ρθλεσ Ι δο νοτ θνδερστανδ υετ αβοθτ προνοθνιατιον </span></td></tr><tr>\n",
       "                    <td style=\"vertical-align: top; white-space: nowrap; width: 10em; overflow: hidden; text-overflow: ellipsis\">Daniel Mcgrath</td>\n",
       "                    <td style=\"text-align: left;\"><span style=\"white-space: pre\">Ανδ ηος ςηεν υοθ πθτ σομε λεττερσ αφτερ εαψη οτηερ </span></td></tr><tr>\n",
       "                    <td style=\"vertical-align: top; white-space: nowrap; width: 10em; overflow: hidden; text-overflow: ellipsis\">Daniel Mcgrath</td>\n",
       "                    <td style=\"text-align: left;\"><span style=\"white-space: pre\">Τηευ σοθνδ διφφερεντ </span></td></tr></table>"
      ],
      "text/plain": [
       "<IPython.core.display.HTML object>"
      ]
     },
     "metadata": {},
     "output_type": "display_data"
    },
    {
     "name": "stdout",
     "output_type": "stream",
     "text": [
      "\n",
      "Action(time=1588785838.882, user='p', type='idle', data={'eos': True, 'mask_action': False})\n",
      "\n",
      "sound      (2, '- No, the response does not correspond to the instructions given in the chat excerpt.')\n",
      "persona    (1, '- No, the response does not correspond to the target persona at all.')\n",
      "flow       (1, '- No, the response does not help maintain the conversation flow and lacks active engagement.')\n",
      "\n",
      "\n",
      "\n",
      "\n",
      "\n",
      "\n",
      "\n",
      "\n",
      "\n",
      "\n",
      "\n"
     ]
    },
    {
     "data": {
      "text/html": [
       "<table style=\"width: 100%\"><tr>\n",
       "                    <td style=\"vertical-align: top; white-space: nowrap; width: 10em; overflow: hidden; text-overflow: ellipsis\">p</td>\n",
       "                    <td style=\"text-align: left;\"><span style=\"white-space: pre\">if you look at some of classical music </span></td></tr><tr>\n",
       "                    <td style=\"vertical-align: top; white-space: nowrap; width: 10em; overflow: hidden; text-overflow: ellipsis\">sharon king</td>\n",
       "                    <td style=\"text-align: left;\"><span style=\"white-space: pre\">Yes but I wanna see disturbing music </span></td></tr><tr>\n",
       "                    <td style=\"vertical-align: top; white-space: nowrap; width: 10em; overflow: hidden; text-overflow: ellipsis\">p</td>\n",
       "                    <td style=\"text-align: left;\"><span style=\"white-space: pre\">lets pinpoint chopin once more </span></td></tr><tr>\n",
       "                    <td style=\"vertical-align: top; white-space: nowrap; width: 10em; overflow: hidden; text-overflow: ellipsis\">p</td>\n",
       "                    <td style=\"text-align: left;\"><span style=\"white-space: pre\">its really difficult </span></td></tr><tr>\n",
       "                    <td style=\"vertical-align: top; white-space: nowrap; width: 10em; overflow: hidden; text-overflow: ellipsis\">p</td>\n",
       "                    <td style=\"text-align: left;\"><span style=\"white-space: pre\">compared to what we see nowadays </span></td></tr><tr>\n",
       "                    <td style=\"vertical-align: top; white-space: nowrap; width: 10em; overflow: hidden; text-overflow: ellipsis\">p</td>\n",
       "                    <td style=\"text-align: left;\"><span style=\"white-space: pre\">w8 </span></td></tr><tr>\n",
       "                    <td style=\"vertical-align: top; white-space: nowrap; width: 10em; overflow: hidden; text-overflow: ellipsis\">p</td>\n",
       "                    <td style=\"text-align: left;\"><span style=\"white-space: pre\">this is fun :D </span></td></tr><tr>\n",
       "                    <td style=\"vertical-align: top; white-space: nowrap; width: 10em; overflow: hidden; text-overflow: ellipsis\">p</td>\n",
       "                    <td style=\"text-align: left;\"><span style=\"white-space: pre\">and i mean it </span></td></tr><tr>\n",
       "                    <td style=\"vertical-align: top; white-space: nowrap; width: 10em; overflow: hidden; text-overflow: ellipsis\">sharon king</td>\n",
       "                    <td style=\"text-align: left;\"><span style=\"white-space: pre\">That's not disturbing for the purpose of being disturbing </span></td></tr><tr>\n",
       "                    <td style=\"vertical-align: top; white-space: nowrap; width: 10em; overflow: hidden; text-overflow: ellipsis\">sharon king</td>\n",
       "                    <td style=\"text-align: left;\"><span style=\"white-space: pre\">okok </span></td></tr></table>"
      ],
      "text/plain": [
       "<IPython.core.display.HTML object>"
      ]
     },
     "metadata": {},
     "output_type": "display_data"
    },
    {
     "name": "stdout",
     "output_type": "stream",
     "text": [
      "\n",
      "Action(time=1578152133.787, user='p', type='idle', data={'eos': True, 'mask_action': False})\n",
      "\n",
      "sound      (1, '(no)')\n",
      "persona    (2, '(no)')\n",
      "flow       (1, '(no)')\n",
      "\n",
      "\n",
      "\n",
      "\n",
      "\n",
      "\n",
      "\n",
      "\n",
      "\n",
      "\n",
      "\n"
     ]
    },
    {
     "data": {
      "text/html": [
       "<table style=\"width: 100%\"><tr>\n",
       "                    <td style=\"vertical-align: top; white-space: nowrap; width: 10em; overflow: hidden; text-overflow: ellipsis\">p</td>\n",
       "                    <td style=\"text-align: left;\"><span style=\"white-space: pre\">více fotek : ) </span><ul style=\"margin: 10px 0px 0px -13px; padding: 0px 0px 0px 10px; border-left: 3px solid grey\">\n",
       "                            <li style=\"display: inline\">😮</li>\n",
       "                        </ul></td></tr><tr>\n",
       "                    <td style=\"vertical-align: top; white-space: nowrap; width: 10em; overflow: hidden; text-overflow: ellipsis\">p</td>\n",
       "                    <td style=\"text-align: left;\"><span style=\"white-space: pre\">👉👈 </span></td></tr><tr>\n",
       "                    <td style=\"vertical-align: top; white-space: nowrap; width: 10em; overflow: hidden; text-overflow: ellipsis\">p</td>\n",
       "                    <td style=\"text-align: left;\"><span style=\"white-space: pre\">a ty? : 3 </span></td></tr><tr>\n",
       "                    <td style=\"vertical-align: top; white-space: nowrap; width: 10em; overflow: hidden; text-overflow: ellipsis\">p</td>\n",
       "                    <td style=\"text-align: left;\"><span style=\"white-space: pre\">čekám :3 :3 </span></td></tr><tr>\n",
       "                    <td style=\"vertical-align: top; white-space: nowrap; width: 10em; overflow: hidden; text-overflow: ellipsis\">Robert Bates</td>\n",
       "                    <td style=\"text-align: left;\"><span style=\"white-space: pre\">Za moment :PP </span><ul style=\"margin: 10px 0px 0px -13px; padding: 0px 0px 0px 10px; border-left: 3px solid grey\">\n",
       "                            <li style=\"display: inline\">❤</li>\n",
       "                        </ul></td></tr><tr>\n",
       "                    <td style=\"vertical-align: top; white-space: nowrap; width: 10em; overflow: hidden; text-overflow: ellipsis\">p</td>\n",
       "                    <td style=\"text-align: left;\"><span style=\"white-space: pre\">jsem zas horny xd </span><ul style=\"margin: 10px 0px 0px -13px; padding: 0px 0px 0px 10px; border-left: 3px solid grey\">\n",
       "                            <li style=\"display: inline\">❤</li>\n",
       "                        </ul></td></tr><tr>\n",
       "                    <td style=\"vertical-align: top; white-space: nowrap; width: 10em; overflow: hidden; text-overflow: ellipsis\">Robert Bates</td>\n",
       "                    <td style=\"text-align: left;\"><span style=\"white-space: pre\">Wow </span></td></tr><tr>\n",
       "                    <td style=\"vertical-align: top; white-space: nowrap; width: 10em; overflow: hidden; text-overflow: ellipsis\">Robert Bates</td>\n",
       "                    <td style=\"text-align: left;\"><span style=\"white-space: pre\">:33 </span></td></tr><tr>\n",
       "                    <td style=\"vertical-align: top; white-space: nowrap; width: 10em; overflow: hidden; text-overflow: ellipsis\">p</td>\n",
       "                    <td style=\"text-align: left;\"><span style=\"white-space: pre\">: ) </span></td></tr><tr>\n",
       "                    <td style=\"vertical-align: top; white-space: nowrap; width: 10em; overflow: hidden; text-overflow: ellipsis\">Robert Bates</td>\n",
       "                    <td style=\"text-align: left;\"><span style=\"white-space: pre\">: ) </span></td></tr></table>"
      ],
      "text/plain": [
       "<IPython.core.display.HTML object>"
      ]
     },
     "metadata": {},
     "output_type": "display_data"
    },
    {
     "name": "stdout",
     "output_type": "stream",
     "text": [
      "\n",
      "Action(time=1639740755.025, user='p', type='message', data={'body': ':   )', 'issues': [], 'eos': True, 'mask_action': False})\n",
      "\n",
      "sound      (1, '(no)')\n",
      "persona    (1, '(no)')\n",
      "flow       (1, '(no)')\n",
      "\n",
      "\n",
      "\n",
      "\n",
      "\n",
      "\n",
      "\n",
      "\n",
      "\n",
      "\n",
      "\n"
     ]
    },
    {
     "data": {
      "text/html": [
       "<table style=\"width: 100%\"><tr>\n",
       "                    <td style=\"vertical-align: top; white-space: nowrap; width: 10em; overflow: hidden; text-overflow: ellipsis\">Daniel Mcgrath</td>\n",
       "                    <td style=\"text-align: left;\"><span style=\"white-space: pre\">huh </span></td></tr><tr>\n",
       "                    <td style=\"vertical-align: top; white-space: nowrap; width: 10em; overflow: hidden; text-overflow: ellipsis\">Daniel Mcgrath</td>\n",
       "                    <td style=\"text-align: left;\"><span style=\"white-space: pre\"> [121672523_3406163736275651_6422631294763348906_n_3406163726275652.png]</span></td></tr><tr>\n",
       "                    <td style=\"vertical-align: top; white-space: nowrap; width: 10em; overflow: hidden; text-overflow: ellipsis\">Daniel Mcgrath</td>\n",
       "                    <td style=\"text-align: left;\"><span style=\"white-space: pre\">I'm not doing anything wrong btw </span></td></tr><tr>\n",
       "                    <td style=\"vertical-align: top; white-space: nowrap; width: 10em; overflow: hidden; text-overflow: ellipsis\">Daniel Mcgrath</td>\n",
       "                    <td style=\"text-align: left;\"><span style=\"white-space: pre\">returns normal values for other numbers </span></td></tr><tr>\n",
       "                    <td style=\"vertical-align: top; white-space: nowrap; width: 10em; overflow: hidden; text-overflow: ellipsis\">Daniel Mcgrath</td>\n",
       "                    <td style=\"text-align: left;\"><span style=\"white-space: pre\">there we go </span></td></tr><tr>\n",
       "                    <td style=\"vertical-align: top; white-space: nowrap; width: 10em; overflow: hidden; text-overflow: ellipsis\">Daniel Mcgrath</td>\n",
       "                    <td style=\"text-align: left;\"><span style=\"white-space: pre\"> [121644800_743583299560013_347469903682672165_n_743583296226680.png]</span></td></tr><tr>\n",
       "                    <td style=\"vertical-align: top; white-space: nowrap; width: 10em; overflow: hidden; text-overflow: ellipsis\">Daniel Mcgrath</td>\n",
       "                    <td style=\"text-align: left;\"><span style=\"white-space: pre\">SD of salary is logarithmic and it's ~0.36 </span></td></tr><tr>\n",
       "                    <td style=\"vertical-align: top; white-space: nowrap; width: 10em; overflow: hidden; text-overflow: ellipsis\">Daniel Mcgrath</td>\n",
       "                    <td style=\"text-align: left;\"><span style=\"white-space: pre\"> [121645324_347252949939228_4837835243613811552_n_347252946605895.png]</span></td></tr><tr>\n",
       "                    <td style=\"vertical-align: top; white-space: nowrap; width: 10em; overflow: hidden; text-overflow: ellipsis\">Daniel Mcgrath</td>\n",
       "                    <td style=\"text-align: left;\"><span style=\"white-space: pre\">2.29 by each increase of wealth </span></td></tr><tr>\n",
       "                    <td style=\"vertical-align: top; white-space: nowrap; width: 10em; overflow: hidden; text-overflow: ellipsis\">Daniel Mcgrath</td>\n",
       "                    <td style=\"text-align: left;\"><span style=\"white-space: pre\">At least according to pixel measuring in this study and 1-erfc = cumulative based off this study: <span style=\"background: rgba(255, 0, 0, 0.5)\">https://www.researchgate.net/publication/277437394_General_Mental_Ability_and_pay_Nonlinear_effects</span> </span></td></tr></table>"
      ],
      "text/plain": [
       "<IPython.core.display.HTML object>"
      ]
     },
     "metadata": {},
     "output_type": "display_data"
    },
    {
     "name": "stdout",
     "output_type": "stream",
     "text": [
      "\n",
      "Action(time=1602886626.925, user='p', type='idle', data={'eos': True, 'mask_action': False})\n",
      "\n",
      "sound      (1, '(no)')\n",
      "persona    (1, '(no)')\n",
      "flow       (1, '(no)')\n",
      "\n",
      "\n",
      "\n",
      "\n",
      "\n",
      "\n",
      "\n",
      "\n",
      "\n",
      "\n",
      "\n"
     ]
    },
    {
     "data": {
      "text/html": [
       "<table style=\"width: 100%\"><tr>\n",
       "                    <td style=\"vertical-align: top; white-space: nowrap; width: 10em; overflow: hidden; text-overflow: ellipsis\">Taylor Wilson</td>\n",
       "                    <td style=\"text-align: left;\"><span style=\"white-space: pre\">nop </span></td></tr><tr>\n",
       "                    <td style=\"vertical-align: top; white-space: nowrap; width: 10em; overflow: hidden; text-overflow: ellipsis\">Jordan Brown</td>\n",
       "                    <td style=\"text-align: left;\"><span style=\"white-space: pre\">I remember when my mum took me to see 12th Night </span></td></tr><tr>\n",
       "                    <td style=\"vertical-align: top; white-space: nowrap; width: 10em; overflow: hidden; text-overflow: ellipsis\">Jordan Brown</td>\n",
       "                    <td style=\"text-align: left;\"><span style=\"white-space: pre\">and I was asking her why it wasn't that funny </span></td></tr><tr>\n",
       "                    <td style=\"vertical-align: top; white-space: nowrap; width: 10em; overflow: hidden; text-overflow: ellipsis\">Jordan Brown</td>\n",
       "                    <td style=\"text-align: left;\"><span style=\"white-space: pre\">okay, it was sometimes funny </span></td></tr><tr>\n",
       "                    <td style=\"vertical-align: top; white-space: nowrap; width: 10em; overflow: hidden; text-overflow: ellipsis\">Taylor Wilson</td>\n",
       "                    <td style=\"text-align: left;\"><span style=\"white-space: pre\">and not only do the protagonists survive </span></td></tr><tr>\n",
       "                    <td style=\"vertical-align: top; white-space: nowrap; width: 10em; overflow: hidden; text-overflow: ellipsis\">Taylor Wilson</td>\n",
       "                    <td style=\"text-align: left;\"><span style=\"white-space: pre\">their needs are satisfied </span></td></tr><tr>\n",
       "                    <td style=\"vertical-align: top; white-space: nowrap; width: 10em; overflow: hidden; text-overflow: ellipsis\">Jordan Brown</td>\n",
       "                    <td style=\"text-align: left;\"><span style=\"white-space: pre\">okay, so the antagonists as well </span></td></tr><tr>\n",
       "                    <td style=\"vertical-align: top; white-space: nowrap; width: 10em; overflow: hidden; text-overflow: ellipsis\">Taylor Wilson</td>\n",
       "                    <td style=\"text-align: left;\"><span style=\"white-space: pre\">sometimes mutually </span></td></tr><tr>\n",
       "                    <td style=\"vertical-align: top; white-space: nowrap; width: 10em; overflow: hidden; text-overflow: ellipsis\">Taylor Wilson</td>\n",
       "                    <td style=\"text-align: left;\"><span style=\"white-space: pre\">e.g. all the characters marry with their beloved ones after some \"comedic\" hassle inducing laughs </span></td></tr><tr>\n",
       "                    <td style=\"vertical-align: top; white-space: nowrap; width: 10em; overflow: hidden; text-overflow: ellipsis\">Taylor Wilson</td>\n",
       "                    <td style=\"text-align: left;\"><span style=\"white-space: pre\">ye nvm it's the format </span></td></tr></table>"
      ],
      "text/plain": [
       "<IPython.core.display.HTML object>"
      ]
     },
     "metadata": {},
     "output_type": "display_data"
    },
    {
     "name": "stdout",
     "output_type": "stream",
     "text": [
      "\n",
      "Action(time=1609534307.698, user='p', type='idle', data={'eos': True, 'mask_action': False})\n",
      "\n",
      "sound      (1, '(no)')\n",
      "persona    (1, \"(no) - The response does not align with the persona's characteristics of being talkative, potentially humorous, and impolite.\")\n",
      "flow       (1, '(no) - The response does not contribute to the conversation or show active engagement. It is idle and does not help maintain the flow of the conversation.')\n",
      "\n",
      "\n",
      "\n",
      "\n",
      "\n",
      "\n",
      "\n",
      "\n",
      "\n",
      "\n",
      "\n"
     ]
    },
    {
     "data": {
      "text/html": [
       "<table style=\"width: 100%\"><tr>\n",
       "                    <td style=\"vertical-align: top; white-space: nowrap; width: 10em; overflow: hidden; text-overflow: ellipsis\">p</td>\n",
       "                    <td style=\"text-align: left;\"><span style=\"white-space: pre\">lol rip </span></td></tr><tr>\n",
       "                    <td style=\"vertical-align: top; white-space: nowrap; width: 10em; overflow: hidden; text-overflow: ellipsis\">p</td>\n",
       "                    <td style=\"text-align: left;\"><span style=\"white-space: pre\"><span style=\"background: rgba(255, 0, 0, 0.5)\">https://en.wikipedia.org/wiki/Vasodilation</span> </span></td></tr><tr>\n",
       "                    <td style=\"vertical-align: top; white-space: nowrap; width: 10em; overflow: hidden; text-overflow: ellipsis\">p</td>\n",
       "                    <td style=\"text-align: left;\"><span style=\"white-space: pre\"> [209377357_631926874433208_6031846452509196599_n_631926871099875.png]</span></td></tr><tr>\n",
       "                    <td style=\"vertical-align: top; white-space: nowrap; width: 10em; overflow: hidden; text-overflow: ellipsis\">p</td>\n",
       "                    <td style=\"text-align: left;\"><span style=\"white-space: pre\"> [210419244_949076535870178_167344428196321102_n_949076532536845.png]</span></td></tr><tr>\n",
       "                    <td style=\"vertical-align: top; white-space: nowrap; width: 10em; overflow: hidden; text-overflow: ellipsis\">p</td>\n",
       "                    <td style=\"text-align: left;\"><span style=\"white-space: pre\">vasodilation after regular unprocessed cocoa ingestion </span></td></tr><tr>\n",
       "                    <td style=\"vertical-align: top; white-space: nowrap; width: 10em; overflow: hidden; text-overflow: ellipsis\">p</td>\n",
       "                    <td style=\"text-align: left;\"><span style=\"white-space: pre\">imho super cool that it's not abstractly chronic, like having noticeable change only after years of use </span></td></tr><tr>\n",
       "                    <td style=\"vertical-align: top; white-space: nowrap; width: 10em; overflow: hidden; text-overflow: ellipsis\">p</td>\n",
       "                    <td style=\"text-align: left;\"><span style=\"white-space: pre\">but manifests itself within the scope days and hours </span></td></tr><tr>\n",
       "                    <td style=\"vertical-align: top; white-space: nowrap; width: 10em; overflow: hidden; text-overflow: ellipsis\">p</td>\n",
       "                    <td style=\"text-align: left;\"><span style=\"white-space: pre\">of* </span></td></tr><tr>\n",
       "                    <td style=\"vertical-align: top; white-space: nowrap; width: 10em; overflow: hidden; text-overflow: ellipsis\">p</td>\n",
       "                    <td style=\"text-align: left;\"><span style=\"white-space: pre\"> [209579033_420559942338828_4890225838217471622_n_1151761068669330.png]</span></td></tr><tr>\n",
       "                    <td style=\"vertical-align: top; white-space: nowrap; width: 10em; overflow: hidden; text-overflow: ellipsis\">Roberto Wells</td>\n",
       "                    <td style=\"text-align: left;\"><span style=\"white-space: pre\">Cybernetic big five? kewl, gotta respect that you directly ask scientists like this </span></td></tr></table>"
      ],
      "text/plain": [
       "<IPython.core.display.HTML object>"
      ]
     },
     "metadata": {},
     "output_type": "display_data"
    },
    {
     "name": "stdout",
     "output_type": "stream",
     "text": [
      "\n",
      "Action(time=1625382254.162, user='p', type='idle', data={'eos': True, 'mask_action': False})\n",
      "\n",
      "sound      (1, '(no)')\n",
      "persona    (1, '(no)')\n",
      "flow       (1, '(no)')\n",
      "\n",
      "\n",
      "\n",
      "\n",
      "\n",
      "\n",
      "\n",
      "\n",
      "\n",
      "\n",
      "\n"
     ]
    },
    {
     "data": {
      "text/html": [
       "<table style=\"width: 100%\"><tr>\n",
       "                    <td style=\"vertical-align: top; white-space: nowrap; width: 10em; overflow: hidden; text-overflow: ellipsis\">eric</td>\n",
       "                    <td style=\"text-align: left;\"><span style=\"white-space: pre\">nah </span></td></tr><tr>\n",
       "                    <td style=\"vertical-align: top; white-space: nowrap; width: 10em; overflow: hidden; text-overflow: ellipsis\">eric</td>\n",
       "                    <td style=\"text-align: left;\"><span style=\"white-space: pre\">also </span></td></tr><tr>\n",
       "                    <td style=\"vertical-align: top; white-space: nowrap; width: 10em; overflow: hidden; text-overflow: ellipsis\">eric</td>\n",
       "                    <td style=\"text-align: left;\"><span style=\"white-space: pre\">in astrology you're declaring connection between stars/time of year and temperament </span></td></tr><tr>\n",
       "                    <td style=\"vertical-align: top; white-space: nowrap; width: 10em; overflow: hidden; text-overflow: ellipsis\">eric</td>\n",
       "                    <td style=\"text-align: left;\"><span style=\"white-space: pre\">in esotericism there is no such false hypothesis </span></td></tr><tr>\n",
       "                    <td style=\"vertical-align: top; white-space: nowrap; width: 10em; overflow: hidden; text-overflow: ellipsis\">eric</td>\n",
       "                    <td style=\"text-align: left;\"><span style=\"white-space: pre\">~~because there aren't any at all~~ </span></td></tr><tr>\n",
       "                    <td style=\"vertical-align: top; white-space: nowrap; width: 10em; overflow: hidden; text-overflow: ellipsis\">eric</td>\n",
       "                    <td style=\"text-align: left;\"><span style=\"white-space: pre\">though </span></td></tr><tr>\n",
       "                    <td style=\"vertical-align: top; white-space: nowrap; width: 10em; overflow: hidden; text-overflow: ellipsis\">eric</td>\n",
       "                    <td style=\"text-align: left;\"><span style=\"white-space: pre\">microcosm, macrocosm </span></td></tr><tr>\n",
       "                    <td style=\"vertical-align: top; white-space: nowrap; width: 10em; overflow: hidden; text-overflow: ellipsis\">eric</td>\n",
       "                    <td style=\"text-align: left;\"><span style=\"white-space: pre\">Is a salient as fuck instance of an idea </span></td></tr><tr>\n",
       "                    <td style=\"vertical-align: top; white-space: nowrap; width: 10em; overflow: hidden; text-overflow: ellipsis\">eric</td>\n",
       "                    <td style=\"text-align: left;\"><span style=\"white-space: pre\">alongside paracelsus </span></td></tr><tr>\n",
       "                    <td style=\"vertical-align: top; white-space: nowrap; width: 10em; overflow: hidden; text-overflow: ellipsis\">eric</td>\n",
       "                    <td style=\"text-align: left;\"><span style=\"white-space: pre\">etc. </span></td></tr></table>"
      ],
      "text/plain": [
       "<IPython.core.display.HTML object>"
      ]
     },
     "metadata": {},
     "output_type": "display_data"
    },
    {
     "name": "stdout",
     "output_type": "stream",
     "text": [
      "\n",
      "Action(time=1689817478.819, user='p', type='idle', data={'eos': True, 'mask_action': False})\n",
      "\n",
      "sound      (1, '- No, using the <IDLE> tag is not appropriate in this context and penalizing is warranted.')\n",
      "persona    (1, '- No, the response does not correspond to the target persona as it lacks the expected impoliteness, wackiness, or humor.')\n",
      "flow       (1, '- No, the response does not maintain the conversation flow and does not show active engagement.')\n",
      "\n",
      "\n",
      "\n",
      "\n",
      "\n",
      "\n",
      "\n",
      "\n",
      "\n",
      "\n",
      "\n"
     ]
    },
    {
     "data": {
      "text/html": [
       "<table style=\"width: 100%\"><tr>\n",
       "                    <td style=\"vertical-align: top; white-space: nowrap; width: 10em; overflow: hidden; text-overflow: ellipsis\">Kenneth Kim</td>\n",
       "                    <td style=\"text-align: left;\"><span style=\"white-space: pre\">Fuck, man, I can't seem to be able to skim Carl Jung's Black Books smh </span></td></tr><tr>\n",
       "                    <td style=\"vertical-align: top; white-space: nowrap; width: 10em; overflow: hidden; text-overflow: ellipsis\">Kenneth Kim</td>\n",
       "                    <td style=\"text-align: left;\"><span style=\"white-space: pre\"> [240783949_547473223251863_4944060606541815981_n_547473219918530.png]</span></td></tr><tr>\n",
       "                    <td style=\"vertical-align: top; white-space: nowrap; width: 10em; overflow: hidden; text-overflow: ellipsis\">Joseph Ortega</td>\n",
       "                    <td style=\"text-align: left;\"><span style=\"white-space: pre\">About salt and alchemy <span style=\"background: rgba(255, 0, 0, 0.5)\">http://www.aaroncheak.com/hermetic-problem-of-salt</span> </span><ul style=\"margin: 10px 0px 0px -13px; padding: 0px 0px 0px 10px; border-left: 3px solid grey\">\n",
       "                            <li style=\"display: inline\">❤</li>\n",
       "                        </ul></td></tr><tr>\n",
       "                    <td style=\"vertical-align: top; white-space: nowrap; width: 10em; overflow: hidden; text-overflow: ellipsis\">Kenneth Kim</td>\n",
       "                    <td style=\"text-align: left;\"><span style=\"white-space: pre\"><span style=\"background: rgba(255, 0, 0, 0.5)\">https://www.youtube.com/watch?v=--9A2tKkk6s</span> </span></td></tr><tr>\n",
       "                    <td style=\"vertical-align: top; white-space: nowrap; width: 10em; overflow: hidden; text-overflow: ellipsis\">Kenneth Kim</td>\n",
       "                    <td style=\"text-align: left;\"><span style=\"white-space: pre\"> [240943995_887809112149525_3465167097193512370_n_887809108816192.png]</span></td></tr><tr>\n",
       "                    <td style=\"vertical-align: top; white-space: nowrap; width: 10em; overflow: hidden; text-overflow: ellipsis\">Kenneth Kim</td>\n",
       "                    <td style=\"text-align: left;\"><span style=\"white-space: pre\"> [241024610_533471351270191_8946450880953622106_n_533471347936858.png]</span></td></tr><tr>\n",
       "                    <td style=\"vertical-align: top; white-space: nowrap; width: 10em; overflow: hidden; text-overflow: ellipsis\">Kenneth Kim</td>\n",
       "                    <td style=\"text-align: left;\"><span style=\"white-space: pre\"> [241005028_890682175213771_5561050360457859390_n_890682171880438.png]</span></td></tr><tr>\n",
       "                    <td style=\"vertical-align: top; white-space: nowrap; width: 10em; overflow: hidden; text-overflow: ellipsis\">Kenneth Kim</td>\n",
       "                    <td style=\"text-align: left;\"><span style=\"white-space: pre\"> [241020263_366944408262958_8092609910063805154_n_366944404929625.png]</span></td></tr><tr>\n",
       "                    <td style=\"vertical-align: top; white-space: nowrap; width: 10em; overflow: hidden; text-overflow: ellipsis\">Kenneth Kim</td>\n",
       "                    <td style=\"text-align: left;\"><span style=\"white-space: pre\"> [241066483_1007721519785341_4345902765399691120_n_1007721516452008.png]</span></td></tr><tr>\n",
       "                    <td style=\"vertical-align: top; white-space: nowrap; width: 10em; overflow: hidden; text-overflow: ellipsis\">Kenneth Kim</td>\n",
       "                    <td style=\"text-align: left;\"><span style=\"white-space: pre\"> [241114462_1244363266036543_8428832134395169036_n_1244363262703210.png]</span></td></tr></table>"
      ],
      "text/plain": [
       "<IPython.core.display.HTML object>"
      ]
     },
     "metadata": {},
     "output_type": "display_data"
    },
    {
     "name": "stdout",
     "output_type": "stream",
     "text": [
      "\n",
      "Action(time=1630390797.31, user='p', type='idle', data={'eos': True, 'mask_action': False})\n",
      "\n",
      "sound      (1, '(no) - The response does not correspond to the target persona as it is idling without any proper reason or reaction to the messages.')\n",
      "persona    (1, '(no) - The response does not match the persona of a 22-year-old theoretical computer science student from Czechia who is usually talkative, wacky, impolite, and likes to engage in various topics.')\n",
      "flow       (1, '(no) - The response does not help maintain the conversation flow as it disrupts the natural back-and-forth interaction expected in a chat scenario. It shows a lack of active engagement.')\n",
      "\n",
      "\n",
      "\n",
      "\n",
      "\n",
      "\n",
      "\n",
      "\n",
      "\n",
      "\n",
      "\n"
     ]
    },
    {
     "data": {
      "text/html": [
       "<table style=\"width: 100%\"><tr>\n",
       "                    <td style=\"vertical-align: top; white-space: nowrap; width: 10em; overflow: hidden; text-overflow: ellipsis\">p</td>\n",
       "                    <td style=\"text-align: left;\"><span style=\"white-space: pre\">and career </span></td></tr><tr>\n",
       "                    <td style=\"vertical-align: top; white-space: nowrap; width: 10em; overflow: hidden; text-overflow: ellipsis\">Victor Mcdaniel</td>\n",
       "                    <td style=\"text-align: left;\"><span style=\"white-space: pre\">well it's what makes people be the puer aeternus </span></td></tr><tr>\n",
       "                    <td style=\"vertical-align: top; white-space: nowrap; width: 10em; overflow: hidden; text-overflow: ellipsis\">Victor Mcdaniel</td>\n",
       "                    <td style=\"text-align: left;\"><span style=\"white-space: pre\">there's bitterness in it :p </span></td></tr><tr>\n",
       "                    <td style=\"vertical-align: top; white-space: nowrap; width: 10em; overflow: hidden; text-overflow: ellipsis\">Victor Mcdaniel</td>\n",
       "                    <td style=\"text-align: left;\"><span style=\"white-space: pre\">ye I think it's partly pursuing extrinsic values rather than intrinsic ones </span></td></tr><tr>\n",
       "                    <td style=\"vertical-align: top; white-space: nowrap; width: 10em; overflow: hidden; text-overflow: ellipsis\">Victor Mcdaniel</td>\n",
       "                    <td style=\"text-align: left;\"><span style=\"white-space: pre\">Kafka pog </span></td></tr><tr>\n",
       "                    <td style=\"vertical-align: top; white-space: nowrap; width: 10em; overflow: hidden; text-overflow: ellipsis\">Victor Mcdaniel</td>\n",
       "                    <td style=\"text-align: left;\"><span style=\"white-space: pre\">I think the Metamorphosis concerns with this productivity-centric culture pathology </span></td></tr><tr>\n",
       "                    <td style=\"vertical-align: top; white-space: nowrap; width: 10em; overflow: hidden; text-overflow: ellipsis\">Victor Mcdaniel</td>\n",
       "                    <td style=\"text-align: left;\"><span style=\"white-space: pre\">concerns this* </span></td></tr><tr>\n",
       "                    <td style=\"vertical-align: top; white-space: nowrap; width: 10em; overflow: hidden; text-overflow: ellipsis\">Victor Mcdaniel</td>\n",
       "                    <td style=\"text-align: left;\"><span style=\"white-space: pre\">i.e. the dark side of it </span></td></tr><tr>\n",
       "                    <td style=\"vertical-align: top; white-space: nowrap; width: 10em; overflow: hidden; text-overflow: ellipsis\">Victor Mcdaniel</td>\n",
       "                    <td style=\"text-align: left;\"><span style=\"white-space: pre\">as Gregory desperately works to provide for his loved ones (not even himself) </span></td></tr><tr>\n",
       "                    <td style=\"vertical-align: top; white-space: nowrap; width: 10em; overflow: hidden; text-overflow: ellipsis\">Victor Mcdaniel</td>\n",
       "                    <td style=\"text-align: left;\"><span style=\"white-space: pre\">and he's denounced by exactly those he supported as soon as he loses that productivity </span></td></tr></table>"
      ],
      "text/plain": [
       "<IPython.core.display.HTML object>"
      ]
     },
     "metadata": {},
     "output_type": "display_data"
    },
    {
     "name": "stdout",
     "output_type": "stream",
     "text": [
      "\n",
      "Action(time=1626821072.518, user='p', type='idle', data={'eos': True, 'mask_action': False})\n",
      "\n",
      "sound      (0, \"- The response of '<IDLE>' is not appropriate given the context and the instruction to avoid idleness as much as possible.\")\n",
      "persona    (2, '- While the response does not show the typical characteristics of the target persona, the lack of response is not in line with being impolite, jerky, or humorous.')\n",
      "flow       (0, \"- The response of '<IDLE>' does not help maintain the conversation flow and shows disengagement from the conversation, contrary to the instructions provided.\")\n",
      "\n",
      "\n",
      "\n",
      "\n",
      "\n",
      "\n",
      "\n",
      "\n",
      "\n",
      "\n",
      "\n"
     ]
    }
   ],
   "source": [
    "rows = list(zip(ctxs, refs, metrics))\n",
    "rows = [row for row in rows if row[2]]\n",
    "rows = sorted(rows, key=lambda row: -sum([v if isinstance(v, int) else v[0] for v in row[2].values()]))\n",
    "\n",
    "for ctx, ref, ms in rows:\n",
    "    datasets.view_tail(datasets.actions_to_chat(ctx))\n",
    "    print()\n",
    "    for r in ref:\n",
    "        print(r)\n",
    "\n",
    "    print()\n",
    "    for k, v in ms.items():\n",
    "        print(str(k).ljust(10), v)\n",
    "        \n",
    "    print('\\n' * 10)"
   ]
  }
 ],
 "metadata": {
  "kernelspec": {
   "display_name": "Python 3 (ipykernel)",
   "language": "python",
   "name": "python3"
  },
  "language_info": {
   "codemirror_mode": {
    "name": "ipython",
    "version": 3
   },
   "file_extension": ".py",
   "mimetype": "text/x-python",
   "name": "python",
   "nbconvert_exporter": "python",
   "pygments_lexer": "ipython3",
   "version": "3.12.2"
  }
 },
 "nbformat": 4,
 "nbformat_minor": 5
}
