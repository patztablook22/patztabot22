{
 "cells": [
  {
   "cell_type": "code",
   "execution_count": 88,
   "id": "7c4ce498-3ba0-45a3-b6bd-726032fee1ea",
   "metadata": {},
   "outputs": [],
   "source": [
    "from transformers import TextDataset, GPT2Tokenizer\n",
    "from torch.utils.data import Dataset\n",
    "import os\n",
    "import numpy as np\n",
    "import torch"
   ]
  },
  {
   "cell_type": "code",
   "execution_count": 39,
   "id": "ed9f46fd-8d8c-44e1-9723-5594196fe705",
   "metadata": {},
   "outputs": [
    {
     "data": {
      "text/plain": [
       "5"
      ]
     },
     "execution_count": 39,
     "metadata": {},
     "output_type": "execute_result"
    }
   ],
   "source": [
    "tokenizer = GPT2Tokenizer.from_pretrained('gpt2')\n",
    "special_tokens = {\n",
    "    'conversation_start': '[CSTART]',\n",
    "    'conversation_end': '[CEND]',\n",
    "    'message_start': '[MSTART]',\n",
    "    'message_end': '[MEND]',\n",
    "    'writes': '[WRITES]',\n",
    "}\n",
    "tokenizer.add_special_tokens({\"additional_special_tokens\": list(special_tokens.values())})"
   ]
  },
  {
   "cell_type": "code",
   "execution_count": 42,
   "id": "8f7dc6df-7043-43d0-a64a-2d0d69cb6a3c",
   "metadata": {},
   "outputs": [],
   "source": [
    "text_file = \"../data/train.txt\""
   ]
  },
  {
   "cell_type": "code",
   "execution_count": 99,
   "id": "6c794701-316b-471e-a664-b648c57a3393",
   "metadata": {},
   "outputs": [],
   "source": [
    "import sys\n",
    "import importlib\n",
    "sys.path.insert(0, '../src/')"
   ]
  },
  {
   "cell_type": "code",
   "execution_count": 103,
   "id": "0a5a7a82-b176-4740-af0c-5eb6e9192ac9",
   "metadata": {},
   "outputs": [],
   "source": [
    "import chatbot.dataset.messenger\n",
    "importlib.reload(chatbot.dataset.messenger)\n",
    "\n",
    "ds = chatbot.dataset.messenger.MessengerDataset(text_file, tokenizer, 128, ['patz'],special_tokens)"
   ]
  },
  {
   "cell_type": "code",
   "execution_count": 111,
   "id": "f7b939ae-9fe5-46cb-b1e3-31ea33363e1c",
   "metadata": {},
   "outputs": [
    {
     "data": {
      "text/plain": [
       "(tensor([50259, 24778, 22586, 39423, 50261,    40,   716,  5137,   617,  2456,\n",
       "           284,   340, 50260, 50259, 24778, 22586, 39423, 50261,  4360,  3863,\n",
       "           356,   714,   477,  1234,   340,  1978,   351,   617,  1180, 12834,\n",
       "         50260, 50259, 24778, 22586, 39423, 50261,  2395,   824,    30, 50260,\n",
       "         50259,  8071,    89, 50261,   320,  2048, 11029, 50260, 50259, 24778,\n",
       "         22586, 39423, 50261,   482, 50260, 50259,  8071,    89, 50261, 25991,\n",
       "           618,  1312,  7765,   510, 50260, 50259,  8071,    89, 50261,    70,\n",
       "           320,  1326,   362,  2250,  2124,    67, 50260, 50259, 24778, 22586,\n",
       "         39423, 50261,   533,   356,  1683,  4988, 21693,    30, 50260, 50259,\n",
       "         24778, 22586, 39423, 50261, 47288, 50260, 50259,  8071,    89, 50261,\n",
       "           271,   340, 38952, 16464,    30, 50260, 50259, 24778, 22586, 39423,\n",
       "         50261,   388,    11,   340,  6584,   470,   307, 38952, 50260, 50259,\n",
       "          8071,    89, 50261,  1662,   262,  8296,    11,   262]),\n",
       " tensor([ -100,  -100,  -100,  -100,  -100,  -100,  -100,  -100,  -100,  -100,\n",
       "          -100,  -100,  -100,  -100,  -100,  -100,  -100,  -100,  -100,  -100,\n",
       "          -100,  -100,  -100,  -100,  -100,  -100,  -100,  -100,  -100,  -100,\n",
       "          -100,  -100,  -100,  -100,  -100,  -100,  -100,  -100,  -100,  -100,\n",
       "         50259,  8071,    89, 50261,   320,  2048, 11029,  -100,  -100,  -100,\n",
       "          -100,  -100,  -100,  -100,  -100, 50259,  8071,    89, 50261, 25991,\n",
       "           618,  1312,  7765,   510,  -100, 50259,  8071,    89, 50261,    70,\n",
       "           320,  1326,   362,  2250,  2124,    67,  -100,  -100,  -100,  -100,\n",
       "          -100,  -100,  -100,  -100,  -100,  -100,  -100,  -100,  -100,  -100,\n",
       "          -100,  -100,  -100,  -100,  -100,  -100, 50259,  8071,    89, 50261,\n",
       "           271,   340, 38952, 16464,    30,  -100,  -100,  -100,  -100,  -100,\n",
       "          -100,  -100,  -100,  -100,  -100,  -100,  -100,  -100,  -100, 50259,\n",
       "          8071,    89, 50261,  1662,   262,  8296,    11,   262]))"
      ]
     },
     "execution_count": 111,
     "metadata": {},
     "output_type": "execute_result"
    }
   ],
   "source": [
    "ds[104]"
   ]
  }
 ],
 "metadata": {
  "kernelspec": {
   "display_name": "Python 3",
   "language": "python",
   "name": "python3"
  },
  "language_info": {
   "codemirror_mode": {
    "name": "ipython",
    "version": 3
   },
   "file_extension": ".py",
   "mimetype": "text/x-python",
   "name": "python",
   "nbconvert_exporter": "python",
   "pygments_lexer": "ipython3",
   "version": "3.11.4"
  }
 },
 "nbformat": 4,
 "nbformat_minor": 5
}
