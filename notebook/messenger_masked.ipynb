{
 "cells": [
  {
   "cell_type": "code",
   "execution_count": 1,
   "id": "7c4ce498-3ba0-45a3-b6bd-726032fee1ea",
   "metadata": {},
   "outputs": [
    {
     "name": "stderr",
     "output_type": "stream",
     "text": [
      "2023-08-28 12:42:57.884569: I tensorflow/tsl/cuda/cudart_stub.cc:28] Could not find cuda drivers on your machine, GPU will not be used.\n",
      "2023-08-28 12:42:58.199157: I tensorflow/tsl/cuda/cudart_stub.cc:28] Could not find cuda drivers on your machine, GPU will not be used.\n",
      "2023-08-28 12:42:58.201187: I tensorflow/core/platform/cpu_feature_guard.cc:182] This TensorFlow binary is optimized to use available CPU instructions in performance-critical operations.\n",
      "To enable the following instructions: AVX2 FMA, in other operations, rebuild TensorFlow with the appropriate compiler flags.\n",
      "2023-08-28 12:43:00.896756: W tensorflow/compiler/tf2tensorrt/utils/py_utils.cc:38] TF-TRT Warning: Could not find TensorRT\n"
     ]
    }
   ],
   "source": [
    "from transformers import TextDataset, GPT2Tokenizer\n",
    "from torch.utils.data import Dataset\n",
    "import os\n",
    "import numpy as np\n",
    "import torch"
   ]
  },
  {
   "cell_type": "code",
   "execution_count": 2,
   "id": "ed9f46fd-8d8c-44e1-9723-5594196fe705",
   "metadata": {},
   "outputs": [
    {
     "data": {
      "text/plain": [
       "5"
      ]
     },
     "execution_count": 2,
     "metadata": {},
     "output_type": "execute_result"
    }
   ],
   "source": [
    "tokenizer = GPT2Tokenizer.from_pretrained('gpt2')\n",
    "special_tokens = {\n",
    "    'conversation_start': '[CSTART]',\n",
    "    'conversation_end': '[CEND]',\n",
    "    'message_start': '[MSTART]',\n",
    "    'message_end': '[MEND]',\n",
    "    'writes': '[WRITES]',\n",
    "}\n",
    "tokenizer.add_special_tokens({\"additional_special_tokens\": list(special_tokens.values())})"
   ]
  },
  {
   "cell_type": "code",
   "execution_count": 3,
   "id": "8f7dc6df-7043-43d0-a64a-2d0d69cb6a3c",
   "metadata": {},
   "outputs": [],
   "source": [
    "text_file = \"../data/val.txt\""
   ]
  },
  {
   "cell_type": "code",
   "execution_count": 4,
   "id": "6c794701-316b-471e-a664-b648c57a3393",
   "metadata": {},
   "outputs": [],
   "source": [
    "import sys\n",
    "import importlib\n",
    "sys.path.insert(0, '../src/')"
   ]
  },
  {
   "cell_type": "code",
   "execution_count": 18,
   "id": "0a5a7a82-b176-4740-af0c-5eb6e9192ac9",
   "metadata": {},
   "outputs": [],
   "source": [
    "import chatbot.dataset.messenger\n",
    "importlib.reload(chatbot.dataset.messenger)\n",
    "\n",
    "ds = chatbot.dataset.messenger.MessengerDataset(text_file, tokenizer, lambda i: np.random.choice([32, 48, 64, 96, 96, 128, 128, 192, 256, 512, 1024]), ['patz'],special_tokens)"
   ]
  },
  {
   "cell_type": "code",
   "execution_count": 20,
   "id": "f7b939ae-9fe5-46cb-b1e3-31ea33363e1c",
   "metadata": {},
   "outputs": [
    {
     "name": "stdout",
     "output_type": "stream",
     "text": [
      "32\n",
      "96\n",
      "128\n",
      "128\n",
      "256\n",
      "1024\n",
      "64\n",
      "192\n",
      "96\n",
      "48\n",
      "96\n",
      "64\n",
      "1024\n",
      "1024\n",
      "192\n",
      "192\n",
      "128\n",
      "64\n",
      "128\n",
      "512\n",
      "128\n",
      "512\n",
      "128\n",
      "1024\n",
      "96\n",
      "256\n",
      "48\n",
      "48\n",
      "32\n",
      "96\n",
      "128\n",
      "96\n",
      "128\n",
      "192\n",
      "128\n",
      "96\n",
      "48\n",
      "96\n",
      "1024\n",
      "256\n",
      "96\n",
      "128\n",
      "128\n",
      "128\n",
      "192\n",
      "48\n",
      "512\n",
      "192\n",
      "512\n",
      "48\n",
      "192\n",
      "192\n",
      "96\n",
      "192\n",
      "128\n",
      "128\n",
      "96\n",
      "192\n",
      "256\n",
      "64\n",
      "96\n",
      "96\n",
      "1024\n",
      "48\n",
      "1024\n",
      "128\n",
      "128\n",
      "128\n",
      "192\n",
      "48\n",
      "64\n",
      "48\n",
      "64\n",
      "96\n",
      "96\n",
      "256\n",
      "48\n",
      "96\n",
      "48\n",
      "32\n",
      "512\n",
      "192\n",
      "256\n",
      "64\n",
      "64\n",
      "32\n",
      "192\n",
      "96\n",
      "48\n",
      "96\n",
      "96\n",
      "96\n",
      "128\n",
      "96\n",
      "96\n",
      "512\n",
      "32\n",
      "48\n",
      "96\n",
      "64\n"
     ]
    }
   ],
   "source": [
    "for i in range(100):\n",
    "    print(len(ds[i]['input_ids']))"
   ]
  }
 ],
 "metadata": {
  "kernelspec": {
   "display_name": "Python 3",
   "language": "python",
   "name": "python3"
  },
  "language_info": {
   "codemirror_mode": {
    "name": "ipython",
    "version": 3
   },
   "file_extension": ".py",
   "mimetype": "text/x-python",
   "name": "python",
   "nbconvert_exporter": "python",
   "pygments_lexer": "ipython3",
   "version": "3.11.4"
  }
 },
 "nbformat": 4,
 "nbformat_minor": 5
}
