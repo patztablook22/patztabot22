{
 "cells": [
  {
   "cell_type": "code",
   "execution_count": 2,
   "id": "bb462f6f-6b3b-412e-9a15-e62ffb51659c",
   "metadata": {},
   "outputs": [],
   "source": [
    "import torch\n",
    "from transformers import GPT2Tokenizer, GPT2LMHeadModel, TextDataset, DataCollatorForLanguageModeling, TrainingArguments, Trainer"
   ]
  },
  {
   "cell_type": "code",
   "execution_count": 3,
   "id": "87f45864-a640-496d-8cec-cb6e5fa5ac9f",
   "metadata": {},
   "outputs": [],
   "source": [
    "train_path = '../data/train.txt'\n",
    "val_path = '../data/val.txt'"
   ]
  },
  {
   "cell_type": "code",
   "execution_count": 15,
   "id": "d565c554-4355-4dac-891f-5673364bcab2",
   "metadata": {},
   "outputs": [
    {
     "data": {
      "text/plain": [
       "5"
      ]
     },
     "execution_count": 15,
     "metadata": {},
     "output_type": "execute_result"
    }
   ],
   "source": [
    "special_tokens = {\n",
    "    'conversation_start': '[CSTART]',\n",
    "    'conversation_end': '[CEND]',\n",
    "    'message_start': '[MSTART]',\n",
    "    'message_end': '[MEND]',\n",
    "    'writes': '[WRITES]',\n",
    "}\n",
    "\n",
    "tokenizer = GPT2Tokenizer.from_pretrained('gpt2-medium')\n",
    "tokenizer.pad_token = tokenizer.eos_token\n",
    "tokenizer.add_special_tokens({'additional_special_tokens': list(special_tokens.values())})"
   ]
  },
  {
   "cell_type": "code",
   "execution_count": 11,
   "id": "54b15ac2-ebc6-4edf-afad-b7eea4d1c120",
   "metadata": {},
   "outputs": [],
   "source": [
    "block_size=128"
   ]
  },
  {
   "cell_type": "code",
   "execution_count": 12,
   "id": "37795c4b-8528-4fb2-8057-a293df115606",
   "metadata": {},
   "outputs": [
    {
     "name": "stderr",
     "output_type": "stream",
     "text": [
      "/home/patz/.local/lib/python3.11/site-packages/transformers/data/datasets/language_modeling.py:53: FutureWarning: This dataset will be removed from the library soon, preprocessing should be handled with the 🤗 Datasets library. You can have a look at this example script for pointers: https://github.com/huggingface/transformers/blob/main/examples/pytorch/language-modeling/run_mlm.py\n",
      "  warnings.warn(\n"
     ]
    }
   ],
   "source": [
    "train_dataset = TextDataset(tokenizer=tokenizer,\n",
    "                            file_path=train_path,\n",
    "                            block_size=block_size)\n",
    "val_dataset = TextDataset(tokenizer=tokenizer,\n",
    "                          file_path=val_path,\n",
    "                          block_size=block_size)"
   ]
  },
  {
   "cell_type": "code",
   "execution_count": 13,
   "id": "65641ea5-ac40-4c62-a854-d7da76f4de2e",
   "metadata": {},
   "outputs": [],
   "source": [
    "data_collator = DataCollatorForLanguageModeling(tokenizer=tokenizer, mlm=False)"
   ]
  },
  {
   "cell_type": "code",
   "execution_count": 14,
   "id": "6dc085f5-dfe3-4196-9050-3e4a20053d46",
   "metadata": {},
   "outputs": [
    {
     "data": {
      "application/vnd.jupyter.widget-view+json": {
       "model_id": "1d68b2e04d86428fbc3a26ae9ea72909",
       "version_major": 2,
       "version_minor": 0
      },
      "text/plain": [
       "Downloading (…)\"pytorch_model.bin\";:   0%|          | 0.00/1.52G [00:00<?, ?B/s]"
      ]
     },
     "metadata": {},
     "output_type": "display_data"
    },
    {
     "name": "stderr",
     "output_type": "stream",
     "text": [
      "\n",
      "KeyboardInterrupt\n",
      "\n"
     ]
    }
   ],
   "source": [
    "model = GPT2LMHeadModel.from_pretrained(\"gpt2-medium\")\n",
    "model.resize_token_embeddings(len(tokenizer))"
   ]
  },
  {
   "cell_type": "code",
   "execution_count": null,
   "id": "ab4721f7-d983-4c16-a69f-6ca952c636c8",
   "metadata": {},
   "outputs": [],
   "source": [
    "# Define the training arguments\n",
    "training_args = TrainingArguments(\n",
    "    output_dir=\"./results\",\n",
    "    overwrite_output_dir=True,\n",
    "    num_train_epochs=1,\n",
    "    per_device_train_batch_size=32,\n",
    "    per_device_eval_batch_size=64,\n",
    "    eval_steps=10,\n",
    "    save_steps=10,\n",
    "    warmup_steps=10\n",
    ")"
   ]
  }
 ],
 "metadata": {
  "kernelspec": {
   "display_name": "Python 3",
   "language": "python",
   "name": "python3"
  },
  "language_info": {
   "codemirror_mode": {
    "name": "ipython",
    "version": 3
   },
   "file_extension": ".py",
   "mimetype": "text/x-python",
   "name": "python",
   "nbconvert_exporter": "python",
   "pygments_lexer": "ipython3",
   "version": "3.11.4"
  }
 },
 "nbformat": 4,
 "nbformat_minor": 5
}
