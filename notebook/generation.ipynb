{
 "cells": [
  {
   "cell_type": "code",
   "execution_count": 1,
   "id": "9bcb61ae-e3dd-4f94-afda-e267220f8cf2",
   "metadata": {},
   "outputs": [],
   "source": [
    "import sys, os\n",
    "import numpy as np\n",
    "import matplotlib.pyplot as plt\n",
    "import seaborn as sns\n",
    "import random\n",
    "import IPython\n",
    "\n",
    "sys.path.append(\"../src/utils\")\n",
    "sys.path.append(\"../src\")"
   ]
  },
  {
   "cell_type": "code",
   "execution_count": 2,
   "id": "24671830-53e5-4d43-9e32-d586049176fb",
   "metadata": {},
   "outputs": [],
   "source": [
    "%load_ext autoreload\n",
    "%autoreload 1\n",
    "%aimport datasets\n",
    "%aimport general\n",
    "%aimport training\n",
    "%aimport generation"
   ]
  },
  {
   "cell_type": "code",
   "execution_count": 3,
   "id": "c41fd981-9b5f-4daa-9cc0-f748a0840c75",
   "metadata": {},
   "outputs": [],
   "source": [
    "from general import *"
   ]
  },
  {
   "cell_type": "code",
   "execution_count": 50,
   "id": "11eb79ab-954d-4684-bc81-1c624a05dcba",
   "metadata": {},
   "outputs": [],
   "source": [
    "facebook_paths = ['../data/social/facebook2/']\n",
    "\n",
    "def load_all(loader, dir):\n",
    "    buff = []\n",
    "    if not os.path.isdir(dir): return buff\n",
    "    for i in os.listdir(dir):\n",
    "        buff.append(loader(dir + i))\n",
    "    return buff\n",
    "        \n",
    "\n",
    "chats = []\n",
    "\n",
    "for fb in facebook_paths:\n",
    "    chats += load_all(datasets.load_messenger, fb + 'messages/inbox/')\n",
    "    \n",
    "original_chats = chats\n",
    "\n",
    "def to_template(chat):\n",
    "    buff = []\n",
    "    for msg in chat:\n",
    "        buff.append({'user': msg.user,\n",
    "                     'time': msg.time,\n",
    "                     'content': msg.body})\n",
    "    return buff\n",
    "\n",
    "template_chats = lmap(to_template, original_chats)"
   ]
  },
  {
   "cell_type": "code",
   "execution_count": 53,
   "id": "54bcfbd8-001a-4362-9008-78a8ceae3574",
   "metadata": {},
   "outputs": [
    {
     "data": {
      "text/plain": [
       "\"Vojta Polena<|goes|>Hej\\nPatztablook TwentyTwo<|goes|>cheers\\nPatztablook TwentyTwo<|goes|>You can now call each other and see information such as Active Status and when you've read messages.\\nVojta Polena<|goes|>Chtěl jsi tady udělat nějakou skupinu?\\nPatztablook TwentyTwo<|goes|>jj\\nPatztablook TwentyTwo<|goes|>večer si k tomu sednu\\nPatztablook TwentyTwo<|goes|>+ ještě čekám na víťu\\nVojta Polena<|goes|>okok\\nVojta Polena<|goes|>Hele asi bych tu konverzaci okolo toho výletu přesunul do pm\\nVojta Polen\""
      ]
     },
     "execution_count": 53,
     "metadata": {},
     "output_type": "execute_result"
    }
   ],
   "source": [
    "from transformers import GPT2Tokenizer, AutoTokenizer\n",
    "\n",
    "tokenizer = GPT2Tokenizer.from_pretrained('gpt2')\n",
    "tokenizer.add_tokens([tok for tok in datasets.CONTROL_TOKENS.values() if tok != 'eos'])\n",
    "\n",
    "chat_template = open(\"../src/utils/chat_template.jinja\").read()\n",
    "tokenizer.chat_template = chat_template\n",
    "tokenizer.apply_chat_template(template_chats[0], tokenize=False)[:500]"
   ]
  },
  {
   "cell_type": "code",
   "execution_count": 5,
   "id": "5a882622-dff1-4415-bb71-25723e722631",
   "metadata": {},
   "outputs": [],
   "source": [
    "actions_path = '../data/actions.pkl'\n",
    "\n",
    "import pickle\n",
    "with open(actions_path, 'rb') as f:\n",
    "    actions = pickle.load(f)"
   ]
  },
  {
   "cell_type": "code",
   "execution_count": 6,
   "id": "84b30354-c443-4037-b0a8-a749d173f941",
   "metadata": {},
   "outputs": [],
   "source": [
    "untokenized = lmap(datasets.action_to_string, lfilter(lambda a: a.user == 'p', actions[0]))\n",
    "model = generation.SamplingModel(tokenizer=tokenizer, untokenized=untokenized)"
   ]
  },
  {
   "cell_type": "code",
   "execution_count": 7,
   "id": "cc0182da-d8ab-4ee1-acef-4ae79b8cf19e",
   "metadata": {},
   "outputs": [
    {
     "data": {
      "text/plain": [
       "[[1, 2, 3, 79, 50257, 50260, 50258]]"
      ]
     },
     "execution_count": 7,
     "metadata": {},
     "output_type": "execute_result"
    }
   ],
   "source": [
    "model.generate([[1,2,3]])"
   ]
  },
  {
   "cell_type": "code",
   "execution_count": 66,
   "id": "7e8cfefe-8adc-459b-ad57-e5c6188490c4",
   "metadata": {},
   "outputs": [
    {
     "name": "stdout",
     "output_type": "stream",
     "text": [
      "Action(time=0, user='', type='message', data={'followup': True, 'body': 'p'})\n",
      "Action(time=0, user='', type='message', data={'followup': True, 'body': 'p <|goes|>'})\n",
      "Action(time=0, user='', type='message', data={'followup': True, 'body': 'p <|goes|> <|typing|>'})\n",
      "Action(time=0, user='', type='message', data={'followup': True, 'body': 'p <|goes|> <|typing|>'})\n",
      "Action(time=0, user='', type='idle', data={'followup': True})\n"
     ]
    }
   ],
   "source": [
    "pipeline = generation.Pipeline(model=model, tokenizer=tokenizer)\n",
    "\n",
    "for action in pipeline([datasets.Message(user='juzr', time=0, body='hello there')]):\n",
    "    print(action)"
   ]
  }
 ],
 "metadata": {
  "kernelspec": {
   "display_name": "Python 3 (ipykernel)",
   "language": "python",
   "name": "python3"
  },
  "language_info": {
   "codemirror_mode": {
    "name": "ipython",
    "version": 3
   },
   "file_extension": ".py",
   "mimetype": "text/x-python",
   "name": "python",
   "nbconvert_exporter": "python",
   "pygments_lexer": "ipython3",
   "version": "3.12.2"
  }
 },
 "nbformat": 4,
 "nbformat_minor": 5
}
