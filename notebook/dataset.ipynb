{
 "cells": [
  {
   "cell_type": "code",
   "execution_count": 169,
   "id": "dc596781-0000-45a8-beff-2d4a70a4f26c",
   "metadata": {},
   "outputs": [],
   "source": [
    "import sys, os\n",
    "import importlib\n",
    "import numpy as np\n",
    "sys.path.insert(0, '../src/')"
   ]
  },
  {
   "cell_type": "code",
   "execution_count": 170,
   "id": "b9804c1b-2b92-4624-b9e5-97522fe84628",
   "metadata": {},
   "outputs": [],
   "source": [
    "special_tokens = {\n",
    "    'conversation_start': '[CSTART]',\n",
    "    'conversation_end': '[CEND]',\n",
    "    'message_start': '[MSTART]',\n",
    "    'breakpoint': '[BREAK]',\n",
    "    'message_end': '[MEND]',\n",
    "    'writes': '[WRITES]',\n",
    "    'avoid': '[AVOID]',\n",
    "}"
   ]
  },
  {
   "cell_type": "code",
   "execution_count": 171,
   "id": "ade84c7d-d7c8-4278-8381-b2734d335122",
   "metadata": {},
   "outputs": [],
   "source": [
    "import dataset\n",
    "importlib.reload(dataset)\n",
    "\n",
    "s = dataset.load_simulated_conversations('../data/simulated_conversations')"
   ]
  },
  {
   "cell_type": "code",
   "execution_count": 172,
   "id": "d0d43c15-f9d1-4081-8fa1-7723a517b2db",
   "metadata": {},
   "outputs": [
    {
     "data": {
      "text/plain": [
       "79"
      ]
     },
     "execution_count": 172,
     "metadata": {},
     "output_type": "execute_result"
    }
   ],
   "source": [
    "import dataset\n",
    "importlib.reload(dataset)\n",
    "\n",
    "m = dataset.load_messenger_conversations('/home/patz/Heap/messages/')\n",
    "m = [dataset.rename_conversation_user(c, 'Patztablook TwentyTwo', 'you') for c in m]\n",
    "len(m)"
   ]
  },
  {
   "cell_type": "code",
   "execution_count": 173,
   "id": "4efdce96-4ac7-4ec2-a7d0-aa8aac9447a8",
   "metadata": {},
   "outputs": [],
   "source": [
    "importlib.reload(dataset)\n",
    "\n",
    "url_pattern = r'http[s]?://(?:[a-zA-Z]|[0-9]|[$-_@.&+]|[!*\\(\\),]|(?:%[0-9a-fA-F][0-9a-fA-F]))+'\n",
    "m1 = [dataset.mark_avoid(c, url_pattern, special_tokens) for c in m]\n",
    "s1 = [dataset.mark_avoid(c, url_pattern, special_tokens) for c in s]"
   ]
  },
  {
   "cell_type": "code",
   "execution_count": 174,
   "id": "c8842e7c-1271-4fc5-9b24-8435afb40b08",
   "metadata": {},
   "outputs": [],
   "source": [
    "importlib.reload(dataset)\n",
    "\n",
    "def message_filter(content):\n",
    "    if content is None: return True\n",
    "    content = content.strip()\n",
    "    blacklist = ['ə', 'ɥ', 'ʇ', 'ʎ', 'ɹ', 'ƃ',\n",
    "                'se svymi geny? 0=ne', 'are you satisfied with ur genes?', 'would you describe urself as',\n",
    "                'nyom']\n",
    "    for b in blacklist:\n",
    "        if b in content: return False\n",
    "    if content in ['.', '*'] : return False # probably a reference to a previous message\n",
    "    # fixing previous a previous message (probably a typo):\n",
    "    if content[0] == '*' and content[1] != ' ' and len(content.split(' ')) <= 2 and content.count('*') == 1: return False\n",
    "    if content[-1] == '*' and content[-2] != ' ' and len(content.split(' ')) <= 2 and content.count('*') == 1: return False\n",
    "    return True\n",
    "\n",
    "m2 = [dataset.filter_messages_by_content(c, message_filter) for c in m1]"
   ]
  },
  {
   "cell_type": "code",
   "execution_count": 175,
   "id": "c829e880-34a4-4581-a9a5-26f9a5cabec3",
   "metadata": {},
   "outputs": [
    {
     "name": "stdout",
     "output_type": "stream",
     "text": [
      "49\n",
      "Scanthning Brot puɐ Vincent Fournier {'you', 'Scanthning Brot', 'Vincent Fournier'} 7\n",
      "Pendulum Swing {'Sigismund Häggkvist', 'you', 'Robin Stringer', 'Martin McNickle', 'Rawen Dorfin'} 15750\n",
      "Amélie Novotná {'you', 'Amélie Novotná'} 156\n",
      "Martin McNickle {'you', 'Martin McNickle'} 6\n",
      "Ondřej Smolík {'you', 'Ondřej Smolík'} 176\n",
      "Alexander Terziev {'you', 'Alexander Terziev'} 4433\n",
      "Manka Roblíková {'you', 'Manka Roblíková'} 745\n",
      "Matouš Pikous {'you', 'Matouš Pikous'} 35\n",
      "Jan Zasadil {'Jan Zasadil', 'you'} 38947\n",
      "Katie Alzbeta Brown {'you', 'Katie Alzbeta Brown'} 102\n",
      "Jan Vaniš {'Jan Vaniš', 'you'} 407\n",
      "Katie Alzbeta Brown puɐ Karel Loula {'Karel Loula', 'you', 'Katie Alzbeta Brown'} 183\n",
      "Filip Kastl {'you', 'Filip Kastl'} 6845\n",
      "The only magician capable of a craft left his stove on {'you', 'Scanthning Brot'} 407\n",
      "RJ {'Jakub Tichanek', 'Alexander Terziev', 'you', 'Adam Dvořák', 'Adam Vanĕček', 'Petr Hošek', 'Šimon Dutý', 'Patrik Kabrna', 'Adéla Gabesamová', 'Abudi  Shalabi', 'Štěpán Chrast', 'Malcolm Diene'} 283\n",
      "Martina Zavoralová {'you', 'Martina Zavoralová'} 88\n",
      "Scanthning Brot {'you', 'Scanthning Brot'} 91926\n",
      "Ondřej Kunc {'you', 'Ondřej Kunc'} 21\n",
      "Divnověci {'Jakub Tichanek', 'Pomat 794', 'Anthony Hani', 'Sběratel Banánů', 'Vojta Větrovec', 'David Kaňovský', 'you', 'Jiří Podaný', 'Amélie Novotná', 'Jonas Kutil', 'Štěpán Chrast', 'Kryštof Tahal', 'Matěj Splavec', 'Scanthning Brot'} 3775\n",
      "Michal Zavoral {'Michal Zavoral', 'you'} 500\n",
      "Sběratel Banánů {'you', 'Sběratel Banánů'} 72094\n",
      "you {'you'} 172\n",
      "Roman Mikoláš {'you', 'Roman Mikoláš'} 3142\n",
      "Malcolm Diene {'you', 'Malcolm Diene'} 3018\n",
      "π Klub A Ostatní {'Jan Zasadil', 'Jenda Nykrýn', 'Roman Mikoláš', 'Daníček Pondělíček', 'Ondřej Kunc', 'Štěpán Hanzálek', 'Pája Holman', 'Vašek Belza', 'Kretus El Pablbo', 'Veronika Musílková', 'Přiznání EMka', 'Alexander Terziev', 'Vašík Blackie Fencl', 'Marek Honsnejman', 'Adam Kobes', 'Soňa Feskova', 'Jocka Vidovičová', 'Lukáš Nedbálek', 'Filip Jakub', 'Tomáš Zobal', 'Adam Dvořák', 'Dominik Švarc', 'Jaromír Kadlčík', 'Fanda Mlejnský', 'Jiří Hermann', 'Marťa Starýchfojtů', 'Petr Čaboun', 'Klára Grinerová', 'you', 'Tea Samouk', 'Klára Homolková', 'Lucie Marečková', 'Adéla Karolína Žáčková', 'Matěj Renc'} 4691\n",
      "Jaroslav Žukov {'you', 'Jaroslav Žukov'} 3364\n",
      "The Contrarian Typologists {'ɹəsՈ ʞooqəɔɐℲ', 'you', 'Anthony Hani', 'Scanthning Brot'} 876\n",
      "Robin Stringer {'you', 'Robin Stringer'} 210\n",
      "Jiří Hermann {'Jiří Hermann', 'you'} 3\n",
      "Malcolm Diene puɐ Scanthning Brot {'Malcolm Diene', 'Scanthning Brot'} 5\n",
      " {'you'} 14844\n",
      "Bolavá noha {'Jocka Vidovičová', 'Aneta Vejmělková', 'Lukáš Nedbálek', 'Vojta Větrovec', 'Jan Zasadil', 'you', 'Tea Samouk', 'Anetka Nguyenova', 'Petr Prajzler', 'Fanda Mlejnský', 'Ondra Marek', 'Marťa Starýchfojtů', 'Malcolm Diene'} 189\n",
      "Začátky big brain akademie {'Martin Vrba', 'Jindřiška Holová', 'Jan Kladníček', 'Honza Pitra', 'Karin Moníková', 'Lukáš Vaňura', 'Natálka Adamcová', 'Jiří Podaný', 'ɹəsՈ ʞooqəɔɐℲ', 'Antonín Skal', 'Sběratel Banánů', 'Filip Jirků', 'Dan Kolář', 'Martin Coufal', 'Martin Hruška', 'Stanislav Abrt', 'Jan Pokorný', 'Tomáš Brodský', 'Dominika Eklová', 'Kája Havlová', 'Pomat 794', 'Petr Mácha', 'Denis Vanin', 'Thu Huyền Trần', 'Katie Mikšovská', 'Daniela Běhounková', 'Václav Jaroš', 'Lucinka Pokorka', 'Justýna Nováková'} 506\n",
      "Hana Zemanová {'you', 'Hana Zemanová'} 17\n",
      "Vinicius Natan {'you', 'Vinicius Natan'} 69\n",
      "Michal Zavoral puɐ Jan Zasadil ,Martin Vrba {'Martin Vrba', 'Jan Zasadil', 'Michal Zavoral'} 3\n",
      "Lukáš Nedbálek {'you', 'Lukáš Nedbálek'} 65\n",
      "WCₙ₊₁ {'you', 'Sběratel Banánů'} 271\n",
      "Jakub Tichanek {'Jakub Tichanek', 'you'} 142\n",
      "sɹəɥʇo 2 puɐ Jaroslav Žukov ,Mikuláš Vanoušek ,Daniel Knut Pernet {'Jaroslav Žukov', 'Mikuláš Vanoušek', 'Joe Osborne', 'Jáchym Rauš', 'Daniel Knut Pernet'} 8\n",
      "Daniel Mahdal {'Daniel Mahdal', 'you'} 88\n",
      "Štěpán Hanzálek {'you', 'Štěpán Hanzálek'} 67\n",
      "Lenka Hýřová {'you', 'Lenka Hýřová'} 1897\n",
      "Martin Kratochvíl {'Martin Kratochvíl', 'you'} 1\n",
      "Dominik Švarc {'you', 'Dominik Švarc'} 2\n",
      "Cor Seon {'ɹəsՈ ʞooqəɔɐℲ', 'Libor Krejcir', 'Sběratel Banánů', 'Jan Kotrč', 'Filip Zoula', 'Patrik Kabrna', 'Vincent Fournier', 'Štěpán Chrast'} 529\n",
      "SleepIsALie {'Anthony Hani', 'you', 'Jiří Bugel', 'Scanthning Brot', 'Matěj Splavec', 'Jirka Bugel'} 37\n",
      "Vašek Belza {'you', 'Vašek Belza'} 3\n",
      "Matěj Renc {'you', 'Matěj Renc'} 5\n",
      "Martin Vrba {'Martin Vrba', 'you'} 2170\n",
      "Rezi Cibiková {'Rezi Cibiková', 'you'} 140\n",
      "Daníček Pondělíček {'you', 'Daníček Pondělíček'} 86\n",
      "Pot-pourri set() 225\n",
      "Vojta Větrovec {'you', 'Vojta Větrovec'} 664\n",
      "Marťa Starýchfojtů {'you', 'Marťa Starýchfojtů'} 3\n",
      "Martin McNickle {'you', 'Martin McNickle'} 694\n",
      "Fanda Mlejnský {'you', 'Fanda Mlejnský'} 78\n",
      "Adam Dvořák {'you', 'Adam Dvořák'} 64\n",
      "Pomat 794 {'you', 'Pomat 794'} 351\n",
      "Jirka Vrba {'you', 'Jirka Vrba'} 439\n",
      "Grúpa {'you', 'Adam Kobes', 'Roman Mikoláš'} 12\n",
      "Adam Kobes {'you', 'Adam Kobes'} 85\n",
      "Dwayne Remseldorf {'you', 'Dwayne Remseldorf'} 4\n",
      "Jenda Nykrýn {'you', 'Jenda Nykrýn'} 4\n",
      "Petr Čaboun {'you', 'Petr Čaboun'} 3\n",
      "Sebastian Duarte {'Sebastian Duarte', 'you'} 34\n",
      "Sven Bernas {'Sven Bernas', 'you'} 110\n",
      "Pomat Pomat {'you', 'Pomat Pomat'} 14\n",
      "Stfu svobodna vule neexistuje, to Buh grrrrr {'Sběratel Banánů'} 2409\n",
      "Nepravidelné DnD pondělky {'Vojta Kotiš', 'you', 'Filip Kastl', 'Láďa Paur'} 64\n",
      "Jocka Vidovičová {'Jocka Vidovičová', 'you'} 2\n",
      "ɹəsՈ ʞooqəɔɐℲ {'ɹəsՈ ʞooqəɔɐℲ', 'you'} 213\n",
      "The Chaotic Path to Transcendence (Simulation 1) {'Jakub Tichanek', 'Audra Brown', 'ɹəsՈ ʞooqəɔɐℲ', 'Yin Pui Lai', 'Kaizo Sama', 'Sběratel Banánů', 'Jonathan Ogilvie', 'Jan Kotrč', 'Lamine Diene', 'Vincent Fournier', 'Malcolm Diene'} 1411\n",
      "Jiří Zavoral {'Jiří Zavoral', 'you'} 1\n",
      "Šimon Dutý {'you', 'Šimon Dutý'} 35\n",
      "David Stern {'you', 'David Stern'} 6\n",
      "Anthony Hani puɐ Scanthning Brot {'you', 'Anthony Hani', 'Scanthning Brot'} 24\n",
      "Pomat Pomat {'you', 'Pomat Pomat'} 280\n",
      "Adéla Karolína Žáčková {'you', 'Adéla Karolína Žáčková'} 284\n"
     ]
    }
   ],
   "source": [
    "m2 = list(filter(lambda c: len(c) >= 64, m2))\n",
    "print(len(m2))\n",
    "for c in m:\n",
    "    print(c.title, c.participants, len(c))"
   ]
  },
  {
   "cell_type": "code",
   "execution_count": 176,
   "id": "17faa143-d15a-45df-a9da-7e39c5abdcb8",
   "metadata": {},
   "outputs": [
    {
     "name": "stdout",
     "output_type": "stream",
     "text": [
      "49\n"
     ]
    }
   ],
   "source": [
    "val_indices = [] #[-1, -3, -13]\n",
    "train_indices = np.delete(np.arange(len(m2)), val_indices)\n",
    "\n",
    "print(len(m2))\n",
    "for i in val_indices:\n",
    "    print(m2[i].participants)"
   ]
  },
  {
   "cell_type": "code",
   "execution_count": 179,
   "id": "20618d0d-fe92-4dcf-a805-108c252d2d95",
   "metadata": {},
   "outputs": [],
   "source": [
    "import dataset\n",
    "importlib.reload(dataset)\n",
    "\n",
    "train_conversations = [m2[i] for i in train_indices] + s1\n",
    "val_conversations = [m2[i] for i in val_indices]\n",
    "\n",
    "dataset.generate_corpus('../data/train.txt', train_conversations, special_tokens, break_tollerance_s=180)\n",
    "dataset.generate_corpus('../data/val.txt', val_conversations, special_tokens, break_tollerance_s=180)"
   ]
  },
  {
   "cell_type": "code",
   "execution_count": null,
   "id": "3870224c-5a4b-4675-b905-a456535cb1a3",
   "metadata": {},
   "outputs": [],
   "source": []
  }
 ],
 "metadata": {
  "kernelspec": {
   "display_name": "Python 3",
   "language": "python",
   "name": "python3"
  },
  "language_info": {
   "codemirror_mode": {
    "name": "ipython",
    "version": 3
   },
   "file_extension": ".py",
   "mimetype": "text/x-python",
   "name": "python",
   "nbconvert_exporter": "python",
   "pygments_lexer": "ipython3",
   "version": "3.11.4"
  }
 },
 "nbformat": 4,
 "nbformat_minor": 5
}
