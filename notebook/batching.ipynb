{
 "cells": [
  {
   "cell_type": "code",
   "execution_count": 3,
   "id": "4774140d-0ae8-4e1f-b3cc-e3f86c7aadb2",
   "metadata": {},
   "outputs": [],
   "source": [
    "import sys, os\n",
    "import numpy as np\n",
    "import matplotlib.pyplot as plt\n",
    "import seaborn as sns\n",
    "import random\n",
    "import IPython\n",
    "\n",
    "sys.path.append(\"../src/utils\")\n",
    "sys.path.append(\"../src/\")"
   ]
  },
  {
   "cell_type": "code",
   "execution_count": 4,
   "id": "00e42a3c-e2e2-4e23-8bac-85eca8ed3c9a",
   "metadata": {},
   "outputs": [
    {
     "name": "stdout",
     "output_type": "stream",
     "text": [
      "The autoreload extension is already loaded. To reload it, use:\n",
      "  %reload_ext autoreload\n"
     ]
    }
   ],
   "source": [
    "%load_ext autoreload\n",
    "%autoreload 1\n",
    "%aimport datasets\n",
    "%aimport general\n",
    "%aimport training"
   ]
  },
  {
   "cell_type": "code",
   "execution_count": 5,
   "id": "dbba8b45-442e-4195-9eab-20cf24f7ab22",
   "metadata": {},
   "outputs": [],
   "source": [
    "from general import *"
   ]
  },
  {
   "cell_type": "code",
   "execution_count": 6,
   "id": "44b33f3d-d255-46eb-9de8-0c091ca60ce1",
   "metadata": {},
   "outputs": [],
   "source": [
    "tokenized_path = '../data/tokenized-gpt2.pkl'\n",
    "\n",
    "import pickle\n",
    "with open(tokenized_path, 'rb') as f:\n",
    "    tokenized = pickle.load(f)"
   ]
  },
  {
   "cell_type": "code",
   "execution_count": 7,
   "id": "11df7c25-c208-4d1a-b880-5bd4cde0be1e",
   "metadata": {},
   "outputs": [
    {
     "name": "stdout",
     "output_type": "stream",
     "text": [
      "eta 18 s\n"
     ]
    }
   ],
   "source": [
    "# variable context size does not make sense (?)\n",
    "# model predicts 1st token 2nd token ... all positions independently while attending only to prior positions\n",
    "# therefore the model practices both short and long contexts\n",
    "\n",
    "ds_train = training.MaskedDataset(tokenized, max_tokens=1024)"
   ]
  },
  {
   "cell_type": "code",
   "execution_count": 8,
   "id": "a69339aa-18ab-4f05-934d-779277c57c57",
   "metadata": {},
   "outputs": [
    {
     "data": {
      "text/plain": [
       "14103"
      ]
     },
     "execution_count": 8,
     "metadata": {},
     "output_type": "execute_result"
    }
   ],
   "source": [
    "len(ds_train)"
   ]
  },
  {
   "cell_type": "code",
   "execution_count": 9,
   "id": "1b5a45a9-0c15-435c-9452-7743b4598088",
   "metadata": {},
   "outputs": [
    {
     "data": {
      "text/plain": [
       "array([ -100,  -100,  -100, ...,  5350, 50257, 50259])"
      ]
     },
     "execution_count": 9,
     "metadata": {},
     "output_type": "execute_result"
    }
   ],
   "source": [
    "ds_train[0:3][0]['labels']"
   ]
  },
  {
   "cell_type": "code",
   "execution_count": 10,
   "id": "27d85edf-30d5-49ba-9ccf-7ac6cfd6de54",
   "metadata": {},
   "outputs": [
    {
     "name": "stdout",
     "output_type": "stream",
     "text": [
      "input_ids <class 'numpy.ndarray'> (1024,)\n",
      "attention_mask <class 'numpy.ndarray'> (1024,)\n",
      "labels <class 'numpy.ndarray'> (1024,)\n",
      "\n",
      "input_ids <class 'numpy.ndarray'> (300,)\n",
      "attention_mask <class 'numpy.ndarray'> (300,)\n",
      "labels <class 'numpy.ndarray'> (300,)\n",
      "\n",
      "input_ids <class 'numpy.ndarray'> (1024,)\n",
      "attention_mask <class 'numpy.ndarray'> (1024,)\n",
      "labels <class 'numpy.ndarray'> (1024,)\n",
      "\n",
      "input_ids <class 'numpy.ndarray'> (1024,)\n",
      "attention_mask <class 'numpy.ndarray'> (1024,)\n",
      "labels <class 'numpy.ndarray'> (1024,)\n",
      "\n",
      "input_ids <class 'numpy.ndarray'> (1024,)\n",
      "attention_mask <class 'numpy.ndarray'> (1024,)\n",
      "labels <class 'numpy.ndarray'> (1024,)\n",
      "\n"
     ]
    }
   ],
   "source": [
    "for i in ds_train[0:5]:\n",
    "    for k, v in i.items():\n",
    "        print(k, type(v), v.shape)\n",
    "    print()"
   ]
  },
  {
   "cell_type": "code",
   "execution_count": 11,
   "id": "2d3cc8de-4d85-47b2-a3f7-eda691c4e225",
   "metadata": {},
   "outputs": [
    {
     "data": {
      "text/plain": [
       "{'attention_mask': tensor([[1, 1, 1,  ..., 1, 1, 1],\n",
       "         [1, 1, 1,  ..., 0, 0, 0],\n",
       "         [1, 1, 1,  ..., 1, 1, 1]]),\n",
       " 'input_ids': tensor([[   79, 50257, 50259,  ...,  5350, 50257, 50259],\n",
       "         [   36,    68,   988,  ..., 50256, 50256, 50256],\n",
       "         [ 1000,    87,  4066,  ..., 31341,  1861, 45031]]),\n",
       " 'labels': tensor([[ -100,  -100,  -100,  ...,  5350, 50257, 50259],\n",
       "         [   36,    68,   988,  ...,  -100,  -100,  -100],\n",
       "         [ 1000,    87,  4066,  ..., 31341,  1861, 45031]])}"
      ]
     },
     "execution_count": 11,
     "metadata": {},
     "output_type": "execute_result"
    }
   ],
   "source": [
    "from transformers import DataCollatorWithPadding, DataCollatorForLanguageModeling, TrainingArguments, Trainer\n",
    "\n",
    "eos_token_id = 50256\n",
    "coll = training.DataCollator(pad_token_id=eos_token_id)\n",
    "\n",
    "coll(ds_train[0:3])"
   ]
  }
 ],
 "metadata": {
  "kernelspec": {
   "display_name": "Python 3 (ipykernel)",
   "language": "python",
   "name": "python3"
  },
  "language_info": {
   "codemirror_mode": {
    "name": "ipython",
    "version": 3
   },
   "file_extension": ".py",
   "mimetype": "text/x-python",
   "name": "python",
   "nbconvert_exporter": "python",
   "pygments_lexer": "ipython3",
   "version": "3.12.2"
  }
 },
 "nbformat": 4,
 "nbformat_minor": 5
}
