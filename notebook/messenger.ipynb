{
 "cells": [
  {
   "cell_type": "code",
   "execution_count": 25,
   "id": "dc596781-0000-45a8-beff-2d4a70a4f26c",
   "metadata": {},
   "outputs": [],
   "source": [
    "import sys\n",
    "import importlib\n",
    "import numpy as np\n",
    "sys.path.insert(0, '../src/')"
   ]
  },
  {
   "cell_type": "code",
   "execution_count": 26,
   "id": "d0d43c15-f9d1-4081-8fa1-7723a517b2db",
   "metadata": {},
   "outputs": [],
   "source": [
    "import dataset\n",
    "importlib.reload(dataset)\n",
    "\n",
    "m = dataset.load_messenger_conversations('/home/patz/Heap/messages/')"
   ]
  },
  {
   "cell_type": "code",
   "execution_count": 27,
   "id": "54b06a80-71c4-4620-a830-e452f30d6635",
   "metadata": {},
   "outputs": [],
   "source": [
    "importlib.reload(dataset)\n",
    "m = [dataset.rename_conversation_user(c, 'Patztablook TwentyTwo', 'you') for c in m]"
   ]
  },
  {
   "cell_type": "code",
   "execution_count": 28,
   "id": "c8842e7c-1271-4fc5-9b24-8435afb40b08",
   "metadata": {},
   "outputs": [],
   "source": [
    "importlib.reload(dataset)\n",
    "\n",
    "def predicate(content):\n",
    "    if content is None: return True\n",
    "    content = content.strip()\n",
    "    blacklist = ['ə', 'ɥ', 'ʇ', 'ʎ', 'ɹ', 'ƃ',\n",
    "                'se svymi geny? 0=ne',\n",
    "                'are you satisfied with ur genes?',\n",
    "                'would you describe urself as']\n",
    "    for b in blacklist:\n",
    "        if b in content: return False\n",
    "    if content in ['.', '*'] : return False # probably a reference to a previous message\n",
    "    # fixing previous a previous message (probably a typo):\n",
    "    if content[0] == '*' and content[1] != ' ' and len(content.split(' ')) <= 2 and content.count('*') == 1: return False\n",
    "    if content[-1] == '*' and content[-2] != ' ' and len(content.split(' ')) <= 2 and content.count('*') == 1: return False\n",
    "    return True\n",
    "\n",
    "m2 = [dataset.filter_messages_by_content(c, predicate) for c in m]"
   ]
  },
  {
   "cell_type": "code",
   "execution_count": 29,
   "id": "c829e880-34a4-4581-a9a5-26f9a5cabec3",
   "metadata": {},
   "outputs": [
    {
     "name": "stdout",
     "output_type": "stream",
     "text": [
      "49\n",
      "Scanthning Brot puɐ Vincent Fournier {'Scanthning Brot', 'Vincent Fournier', 'you'} 7\n",
      "Pendulum Swing {'you', 'Rawen Dorfin', 'Martin McNickle', 'Robin Stringer', 'Sigismund Häggkvist'} 15750\n",
      "Amélie Novotná {'Amélie Novotná', 'you'} 156\n",
      "Martin McNickle {'Martin McNickle', 'you'} 6\n",
      "Ondřej Smolík {'Ondřej Smolík', 'you'} 176\n",
      "Alexander Terziev {'Alexander Terziev', 'you'} 4433\n",
      "Manka Roblíková {'Manka Roblíková', 'you'} 745\n",
      "Matouš Pikous {'Matouš Pikous', 'you'} 35\n",
      "Jan Zasadil {'Jan Zasadil', 'you'} 38947\n",
      "Katie Alzbeta Brown {'Katie Alzbeta Brown', 'you'} 102\n",
      "Jan Vaniš {'Jan Vaniš', 'you'} 407\n",
      "Katie Alzbeta Brown puɐ Karel Loula {'Katie Alzbeta Brown', 'you', 'Karel Loula'} 183\n",
      "Filip Kastl {'Filip Kastl', 'you'} 6845\n",
      "The only magician capable of a craft left his stove on {'Scanthning Brot', 'you'} 407\n",
      "RJ {'Šimon Dutý', 'Abudi  Shalabi', 'you', 'Alexander Terziev', 'Patrik Kabrna', 'Adam Vanĕček', 'Malcolm Diene', 'Adam Dvořák', 'Štěpán Chrast', 'Jakub Tichanek', 'Petr Hošek', 'Adéla Gabesamová'} 283\n",
      "Martina Zavoralová {'you', 'Martina Zavoralová'} 88\n",
      "Scanthning Brot {'Scanthning Brot', 'you'} 91926\n",
      "Ondřej Kunc {'you', 'Ondřej Kunc'} 21\n",
      "Divnověci {'David Kaňovský', 'Sběratel Banánů', 'Anthony Hani', 'you', 'Jonas Kutil', 'Jiří Podaný', 'Amélie Novotná', 'Pomat 794', 'Štěpán Chrast', 'Jakub Tichanek', 'Vojta Větrovec', 'Kryštof Tahal', 'Matěj Splavec', 'Scanthning Brot'} 3775\n",
      "Michal Zavoral {'Michal Zavoral', 'you'} 500\n",
      "Sběratel Banánů {'Sběratel Banánů', 'you'} 72094\n",
      "you {'you'} 172\n",
      "Roman Mikoláš {'you', 'Roman Mikoláš'} 3142\n",
      "Malcolm Diene {'Malcolm Diene', 'you'} 3018\n",
      "π Klub A Ostatní {'Dominik Švarc', 'Klára Grinerová', 'Jenda Nykrýn', 'you', 'Kretus El Pablbo', 'Marťa Starýchfojtů', 'Adam Kobes', 'Fanda Mlejnský', 'Alexander Terziev', 'Filip Jakub', 'Adam Dvořák', 'Soňa Feskova', 'Tea Samouk', 'Jaromír Kadlčík', 'Matěj Renc', 'Jan Zasadil', 'Přiznání EMka', 'Vašek Belza', 'Jiří Hermann', 'Jocka Vidovičová', 'Lucie Marečková', 'Veronika Musílková', 'Štěpán Hanzálek', 'Roman Mikoláš', 'Lukáš Nedbálek', 'Vašík Blackie Fencl', 'Ondřej Kunc', 'Klára Homolková', 'Daníček Pondělíček', 'Marek Honsnejman', 'Pája Holman', 'Tomáš Zobal', 'Adéla Karolína Žáčková', 'Petr Čaboun'} 4691\n",
      "Jaroslav Žukov {'you', 'Jaroslav Žukov'} 3364\n",
      "The Contrarian Typologists {'Scanthning Brot', 'you', 'Anthony Hani', 'ɹəsՈ ʞooqəɔɐℲ'} 876\n",
      "Robin Stringer {'you', 'Robin Stringer'} 210\n",
      "Jiří Hermann {'Jiří Hermann', 'you'} 3\n",
      "Malcolm Diene puɐ Scanthning Brot {'Malcolm Diene', 'Scanthning Brot'} 5\n",
      " {'you'} 14844\n",
      "Bolavá noha {'Jan Zasadil', 'you', 'Petr Prajzler', 'Marťa Starýchfojtů', 'Aneta Vejmělková', 'Lukáš Nedbálek', 'Fanda Mlejnský', 'Ondra Marek', 'Malcolm Diene', 'Jocka Vidovičová', 'Anetka Nguyenova', 'Vojta Větrovec', 'Tea Samouk'} 189\n",
      "Začátky big brain akademie {'Antonín Skal', 'Denis Vanin', 'Tomáš Brodský', 'Martin Coufal', 'Jan Pokorný', 'Václav Jaroš', 'Dan Kolář', 'Kája Havlová', 'Filip Jirků', 'Sběratel Banánů', 'Dominika Eklová', 'Lucinka Pokorka', 'Martin Vrba', 'Justýna Nováková', 'Martin Hruška', 'Pomat 794', 'Jan Kladníček', 'ɹəsՈ ʞooqəɔɐℲ', 'Stanislav Abrt', 'Natálka Adamcová', 'Honza Pitra', 'Lukáš Vaňura', 'Daniela Běhounková', 'Thu Huyền Trần', 'Jiří Podaný', 'Jindřiška Holová', 'Katie Mikšovská', 'Petr Mácha', 'Karin Moníková'} 506\n",
      "Hana Zemanová {'Hana Zemanová', 'you'} 17\n",
      "Vinicius Natan {'Vinicius Natan', 'you'} 69\n",
      "Michal Zavoral puɐ Jan Zasadil ,Martin Vrba {'Jan Zasadil', 'Michal Zavoral', 'Martin Vrba'} 3\n",
      "Lukáš Nedbálek {'Lukáš Nedbálek', 'you'} 65\n",
      "WCₙ₊₁ {'Sběratel Banánů', 'you'} 271\n",
      "Jakub Tichanek {'Jakub Tichanek', 'you'} 142\n",
      "sɹəɥʇo 2 puɐ Jaroslav Žukov ,Mikuláš Vanoušek ,Daniel Knut Pernet {'Daniel Knut Pernet', 'Jáchym Rauš', 'Joe Osborne', 'Jaroslav Žukov', 'Mikuláš Vanoušek'} 8\n",
      "Daniel Mahdal {'Daniel Mahdal', 'you'} 88\n",
      "Štěpán Hanzálek {'Štěpán Hanzálek', 'you'} 67\n",
      "Lenka Hýřová {'Lenka Hýřová', 'you'} 1897\n",
      "Martin Kratochvíl {'you', 'Martin Kratochvíl'} 1\n",
      "Dominik Švarc {'Dominik Švarc', 'you'} 2\n",
      "Cor Seon {'Jan Kotrč', 'Patrik Kabrna', 'Libor Krejcir', 'Vincent Fournier', 'Štěpán Chrast', 'ɹəsՈ ʞooqəɔɐℲ', 'Sběratel Banánů', 'Filip Zoula'} 529\n",
      "SleepIsALie {'you', 'Anthony Hani', 'Jirka Bugel', 'Matěj Splavec', 'Scanthning Brot', 'Jiří Bugel'} 37\n",
      "Vašek Belza {'you', 'Vašek Belza'} 3\n",
      "Matěj Renc {'Matěj Renc', 'you'} 5\n",
      "Martin Vrba {'you', 'Martin Vrba'} 2170\n",
      "Rezi Cibiková {'Rezi Cibiková', 'you'} 140\n",
      "Daníček Pondělíček {'you', 'Daníček Pondělíček'} 86\n",
      "Pot-pourri set() 225\n",
      "Vojta Větrovec {'Vojta Větrovec', 'you'} 664\n",
      "Marťa Starýchfojtů {'you', 'Marťa Starýchfojtů'} 3\n",
      "Martin McNickle {'Martin McNickle', 'you'} 694\n",
      "Fanda Mlejnský {'Fanda Mlejnský', 'you'} 78\n",
      "Adam Dvořák {'Adam Dvořák', 'you'} 64\n",
      "Pomat 794 {'Pomat 794', 'you'} 351\n",
      "Jirka Vrba {'Jirka Vrba', 'you'} 439\n",
      "Grúpa {'Adam Kobes', 'you', 'Roman Mikoláš'} 12\n",
      "Adam Kobes {'Adam Kobes', 'you'} 85\n",
      "Dwayne Remseldorf {'you', 'Dwayne Remseldorf'} 4\n",
      "Jenda Nykrýn {'Jenda Nykrýn', 'you'} 4\n",
      "Petr Čaboun {'you', 'Petr Čaboun'} 3\n",
      "Sebastian Duarte {'Sebastian Duarte', 'you'} 34\n",
      "Sven Bernas {'you', 'Sven Bernas'} 110\n",
      "Pomat Pomat {'Pomat Pomat', 'you'} 14\n",
      "Stfu svobodna vule neexistuje, to Buh grrrrr {'Sběratel Banánů'} 2409\n",
      "Nepravidelné DnD pondělky {'Láďa Paur', 'Filip Kastl', 'Vojta Kotiš', 'you'} 64\n",
      "Jocka Vidovičová {'Jocka Vidovičová', 'you'} 2\n",
      "ɹəsՈ ʞooqəɔɐℲ {'you', 'ɹəsՈ ʞooqəɔɐℲ'} 213\n",
      "The Chaotic Path to Transcendence (Simulation 1) {'Lamine Diene', 'Yin Pui Lai', 'Jan Kotrč', 'Audra Brown', 'Jonathan Ogilvie', 'Kaizo Sama', 'Malcolm Diene', 'Vincent Fournier', 'Jakub Tichanek', 'ɹəsՈ ʞooqəɔɐℲ', 'Sběratel Banánů'} 1411\n",
      "Jiří Zavoral {'you', 'Jiří Zavoral'} 1\n",
      "Šimon Dutý {'Šimon Dutý', 'you'} 35\n",
      "David Stern {'David Stern', 'you'} 6\n",
      "Anthony Hani puɐ Scanthning Brot {'Scanthning Brot', 'you', 'Anthony Hani'} 24\n",
      "Pomat Pomat {'Pomat Pomat', 'you'} 280\n",
      "Adéla Karolína Žáčková {'Adéla Karolína Žáčková', 'you'} 284\n"
     ]
    }
   ],
   "source": [
    "m2 = list(filter(lambda c: len(c) >= 64, m2))\n",
    "print(len(m2))\n",
    "for c in m:\n",
    "    print(c.title, c.participants, len(c))"
   ]
  },
  {
   "cell_type": "code",
   "execution_count": 30,
   "id": "17faa143-d15a-45df-a9da-7e39c5abdcb8",
   "metadata": {},
   "outputs": [
    {
     "name": "stdout",
     "output_type": "stream",
     "text": [
      "49\n"
     ]
    }
   ],
   "source": [
    "val_indices = [] #[-1, -3, -13]\n",
    "train_indices = np.delete(np.arange(len(m2)), val_indices)\n",
    "\n",
    "print(len(m2))\n",
    "for i in val_indices:\n",
    "    print(m2[i].participants)"
   ]
  },
  {
   "cell_type": "code",
   "execution_count": 31,
   "id": "20618d0d-fe92-4dcf-a805-108c252d2d95",
   "metadata": {},
   "outputs": [],
   "source": [
    "import dataset\n",
    "importlib.reload(dataset)\n",
    "\n",
    "special_tokens = {\n",
    "    'conversation_start': '[CSTART]',\n",
    "    'conversation_end': '[CEND]',\n",
    "    'message_start': '[MSTART]',\n",
    "    'breakpoint': '[BREAK]',\n",
    "    'message_end': '[MEND]',\n",
    "    'writes': '[WRITES]',\n",
    "}\n",
    "\n",
    "dataset.generate_corpus('../data/train.txt', [m2[i] for i in train_indices], special_tokens, break_tollerance_s=180)\n",
    "dataset.generate_corpus('../data/val.txt', [m2[i] for i in val_indices], special_tokens, break_tollerance_s=180)"
   ]
  },
  {
   "cell_type": "code",
   "execution_count": null,
   "id": "3870224c-5a4b-4675-b905-a456535cb1a3",
   "metadata": {},
   "outputs": [],
   "source": []
  }
 ],
 "metadata": {
  "kernelspec": {
   "display_name": "Python 3",
   "language": "python",
   "name": "python3"
  },
  "language_info": {
   "codemirror_mode": {
    "name": "ipython",
    "version": 3
   },
   "file_extension": ".py",
   "mimetype": "text/x-python",
   "name": "python",
   "nbconvert_exporter": "python",
   "pygments_lexer": "ipython3",
   "version": "3.11.4"
  }
 },
 "nbformat": 4,
 "nbformat_minor": 5
}
