{
 "cells": [
  {
   "cell_type": "code",
   "execution_count": 19,
   "id": "dc596781-0000-45a8-beff-2d4a70a4f26c",
   "metadata": {},
   "outputs": [],
   "source": [
    "import sys\n",
    "import importlib\n",
    "import numpy as np\n",
    "sys.path.insert(0, '../src/')"
   ]
  },
  {
   "cell_type": "code",
   "execution_count": 20,
   "id": "d0d43c15-f9d1-4081-8fa1-7723a517b2db",
   "metadata": {},
   "outputs": [],
   "source": [
    "import dataset\n",
    "importlib.reload(dataset)\n",
    "\n",
    "m = dataset.load_messenger_conversations('/home/patz/Heap/messages/')"
   ]
  },
  {
   "cell_type": "code",
   "execution_count": 5,
   "id": "54b06a80-71c4-4620-a830-e452f30d6635",
   "metadata": {},
   "outputs": [],
   "source": [
    "importlib.reload(dataset)\n",
    "m = [dataset.rename_conversation_user(c, 'Patztablook TwentyTwo', 'you') for c in m]"
   ]
  },
  {
   "cell_type": "code",
   "execution_count": 21,
   "id": "c8842e7c-1271-4fc5-9b24-8435afb40b08",
   "metadata": {},
   "outputs": [],
   "source": [
    "importlib.reload(dataset)\n",
    "\n",
    "def predicate(content):\n",
    "    if content is None: return True\n",
    "    content = content.strip()\n",
    "    blacklist = ['ə', 'ɥ', 'ʇ', 'ʎ', 'ɹ', 'ƃ',\n",
    "                'se svymi geny? 0=ne',\n",
    "                'are you satisfied with ur genes?',\n",
    "                'would you describe urself as']\n",
    "    for b in blacklist:\n",
    "        if b in content: return False\n",
    "    if content in ['.', '*'] : return False # probably a reference to a previous message\n",
    "    # fixing previous a previous message (probably a typo):\n",
    "    if content[0] == '*' and content[1] != ' ' and len(content.split(' ')) <= 2 and content.count('*') == 1: return False\n",
    "    if content[-1] == '*' and content[-2] != ' ' and len(content.split(' ')) <= 2 and content.count('*') == 1: return False\n",
    "    return True\n",
    "\n",
    "m2 = [dataset.filter_messages_by_content(c, predicate) for c in m]"
   ]
  },
  {
   "cell_type": "code",
   "execution_count": 22,
   "id": "c829e880-34a4-4581-a9a5-26f9a5cabec3",
   "metadata": {},
   "outputs": [
    {
     "name": "stdout",
     "output_type": "stream",
     "text": [
      "49\n",
      "Scanthning Brot puɐ Vincent Fournier {'Scanthning Brot', 'Vincent Fournier', 'Patztablook TwentyTwo'} 7\n",
      "Pendulum Swing {'Rawen Dorfin', 'Martin McNickle', 'Robin Stringer', 'Patztablook TwentyTwo', 'Sigismund Häggkvist'} 15750\n",
      "Amélie Novotná {'Patztablook TwentyTwo', 'Amélie Novotná'} 156\n",
      "Martin McNickle {'Patztablook TwentyTwo', 'Martin McNickle'} 6\n",
      "Ondřej Smolík {'Patztablook TwentyTwo', 'Ondřej Smolík'} 176\n",
      "Alexander Terziev {'Patztablook TwentyTwo', 'Alexander Terziev'} 4433\n",
      "Manka Roblíková {'Patztablook TwentyTwo', 'Manka Roblíková'} 745\n",
      "Matouš Pikous {'Matouš Pikous', 'Patztablook TwentyTwo'} 35\n",
      "Jan Zasadil {'Jan Zasadil', 'Patztablook TwentyTwo'} 38947\n",
      "Katie Alzbeta Brown {'Patztablook TwentyTwo', 'Katie Alzbeta Brown'} 102\n",
      "Jan Vaniš {'Patztablook TwentyTwo', 'Jan Vaniš'} 407\n",
      "Katie Alzbeta Brown puɐ Karel Loula {'Patztablook TwentyTwo', 'Katie Alzbeta Brown', 'Karel Loula'} 183\n",
      "Filip Kastl {'Patztablook TwentyTwo', 'Filip Kastl'} 6845\n",
      "The only magician capable of a craft left his stove on {'Scanthning Brot', 'Patztablook TwentyTwo'} 407\n",
      "RJ {'Šimon Dutý', 'Abudi  Shalabi', 'Patrik Kabrna', 'Adam Vanĕček', 'Alexander Terziev', 'Malcolm Diene', 'Adam Dvořák', 'Štěpán Chrast', 'Jakub Tichanek', 'Petr Hošek', 'Adéla Gabesamová', 'Patztablook TwentyTwo'} 283\n",
      "Martina Zavoralová {'Patztablook TwentyTwo', 'Martina Zavoralová'} 88\n",
      "Scanthning Brot {'Scanthning Brot', 'Patztablook TwentyTwo'} 91926\n",
      "Ondřej Kunc {'Patztablook TwentyTwo', 'Ondřej Kunc'} 21\n",
      "Divnověci {'David Kaňovský', 'Matěj Splavec', 'Anthony Hani', 'Jonas Kutil', 'Jiří Podaný', 'Amélie Novotná', 'Pomat 794', 'Štěpán Chrast', 'Jakub Tichanek', 'Vojta Větrovec', 'Kryštof Tahal', 'Sběratel Banánů', 'Patztablook TwentyTwo', 'Scanthning Brot'} 3775\n",
      "Michal Zavoral {'Patztablook TwentyTwo', 'Michal Zavoral'} 500\n",
      "Sběratel Banánů {'Sběratel Banánů', 'Patztablook TwentyTwo'} 72094\n",
      "Patztablook TwentyTwo {'Patztablook TwentyTwo'} 172\n",
      "Roman Mikoláš {'Patztablook TwentyTwo', 'Roman Mikoláš'} 3142\n",
      "Malcolm Diene {'Malcolm Diene', 'Patztablook TwentyTwo'} 3018\n",
      "π Klub A Ostatní {'Dominik Švarc', 'Klára Grinerová', 'Jenda Nykrýn', 'Kretus El Pablbo', 'Marťa Starýchfojtů', 'Adam Kobes', 'Fanda Mlejnský', 'Alexander Terziev', 'Filip Jakub', 'Adam Dvořák', 'Soňa Feskova', 'Tea Samouk', 'Jaromír Kadlčík', 'Matěj Renc', 'Jan Zasadil', 'Přiznání EMka', 'Vašek Belza', 'Jiří Hermann', 'Jocka Vidovičová', 'Lucie Marečková', 'Štěpán Hanzálek', 'Roman Mikoláš', 'Lukáš Nedbálek', 'Vašík Blackie Fencl', 'Ondřej Kunc', 'Patztablook TwentyTwo', 'Adéla Karolína Žáčková', 'Klára Homolková', 'Daníček Pondělíček', 'Marek Honsnejman', 'Pája Holman', 'Tomáš Zobal', 'Veronika Musílková', 'Petr Čaboun'} 4691\n",
      "Jaroslav Žukov {'Patztablook TwentyTwo', 'Jaroslav Žukov'} 3364\n",
      "The Contrarian Typologists {'Scanthning Brot', 'Patztablook TwentyTwo', 'Anthony Hani', 'ɹəsՈ ʞooqəɔɐℲ'} 876\n",
      "Robin Stringer {'Patztablook TwentyTwo', 'Robin Stringer'} 210\n",
      "Jiří Hermann {'Jiří Hermann', 'Patztablook TwentyTwo'} 3\n",
      "Malcolm Diene puɐ Scanthning Brot {'Malcolm Diene', 'Scanthning Brot'} 5\n",
      " {'Patztablook TwentyTwo'} 14844\n",
      "Bolavá noha {'Jan Zasadil', 'Petr Prajzler', 'Marťa Starýchfojtů', 'Aneta Vejmělková', 'Lukáš Nedbálek', 'Fanda Mlejnský', 'Ondra Marek', 'Malcolm Diene', 'Jocka Vidovičová', 'Anetka Nguyenova', 'Vojta Větrovec', 'Tea Samouk', 'Patztablook TwentyTwo'} 189\n",
      "Začátky big brain akademie {'Antonín Skal', 'Denis Vanin', 'Tomáš Brodský', 'Martin Coufal', 'Jan Pokorný', 'Václav Jaroš', 'Dan Kolář', 'Kája Havlová', 'Petr Mácha', 'Sběratel Banánů', 'Filip Jirků', 'Dominika Eklová', 'Lucinka Pokorka', 'Martin Vrba', 'Justýna Nováková', 'Martin Hruška', 'Pomat 794', 'Jan Kladníček', 'ɹəsՈ ʞooqəɔɐℲ', 'Natálka Adamcová', 'Honza Pitra', 'Lukáš Vaňura', 'Daniela Běhounková', 'Thu Huyền Trần', 'Jiří Podaný', 'Jindřiška Holová', 'Katie Mikšovská', 'Stanislav Abrt', 'Karin Moníková'} 506\n",
      "Hana Zemanová {'Hana Zemanová', 'Patztablook TwentyTwo'} 17\n",
      "Vinicius Natan {'Vinicius Natan', 'Patztablook TwentyTwo'} 69\n",
      "Michal Zavoral puɐ Jan Zasadil ,Martin Vrba {'Jan Zasadil', 'Michal Zavoral', 'Martin Vrba'} 3\n",
      "Lukáš Nedbálek {'Lukáš Nedbálek', 'Patztablook TwentyTwo'} 65\n",
      "WCₙ₊₁ {'Sběratel Banánů', 'Patztablook TwentyTwo'} 271\n",
      "Jakub Tichanek {'Patztablook TwentyTwo', 'Jakub Tichanek'} 142\n",
      "sɹəɥʇo 2 puɐ Jaroslav Žukov ,Mikuláš Vanoušek ,Daniel Knut Pernet {'Daniel Knut Pernet', 'Joe Osborne', 'Jáchym Rauš', 'Jaroslav Žukov', 'Mikuláš Vanoušek'} 8\n",
      "Daniel Mahdal {'Daniel Mahdal', 'Patztablook TwentyTwo'} 88\n",
      "Štěpán Hanzálek {'Patztablook TwentyTwo', 'Štěpán Hanzálek'} 67\n",
      "Lenka Hýřová {'Patztablook TwentyTwo', 'Lenka Hýřová'} 1897\n",
      "Martin Kratochvíl {'Patztablook TwentyTwo', 'Martin Kratochvíl'} 1\n",
      "Dominik Švarc {'Dominik Švarc', 'Patztablook TwentyTwo'} 2\n",
      "Cor Seon {'Jan Kotrč', 'Patrik Kabrna', 'Libor Krejcir', 'Vincent Fournier', 'Štěpán Chrast', 'ɹəsՈ ʞooqəɔɐℲ', 'Sběratel Banánů', 'Filip Zoula'} 529\n",
      "SleepIsALie {'Anthony Hani', 'Jirka Bugel', 'Matěj Splavec', 'Patztablook TwentyTwo', 'Scanthning Brot', 'Jiří Bugel'} 37\n",
      "Vašek Belza {'Patztablook TwentyTwo', 'Vašek Belza'} 3\n",
      "Matěj Renc {'Matěj Renc', 'Patztablook TwentyTwo'} 5\n",
      "Martin Vrba {'Patztablook TwentyTwo', 'Martin Vrba'} 2170\n",
      "Rezi Cibiková {'Patztablook TwentyTwo', 'Rezi Cibiková'} 140\n",
      "Daníček Pondělíček {'Patztablook TwentyTwo', 'Daníček Pondělíček'} 86\n",
      "Pot-pourri set() 225\n",
      "Vojta Větrovec {'Patztablook TwentyTwo', 'Vojta Větrovec'} 664\n",
      "Marťa Starýchfojtů {'Patztablook TwentyTwo', 'Marťa Starýchfojtů'} 3\n",
      "Martin McNickle {'Patztablook TwentyTwo', 'Martin McNickle'} 694\n",
      "Fanda Mlejnský {'Fanda Mlejnský', 'Patztablook TwentyTwo'} 78\n",
      "Adam Dvořák {'Adam Dvořák', 'Patztablook TwentyTwo'} 64\n",
      "Pomat 794 {'Pomat 794', 'Patztablook TwentyTwo'} 351\n",
      "Jirka Vrba {'Patztablook TwentyTwo', 'Jirka Vrba'} 439\n",
      "Grúpa {'Adam Kobes', 'Patztablook TwentyTwo', 'Roman Mikoláš'} 12\n",
      "Adam Kobes {'Adam Kobes', 'Patztablook TwentyTwo'} 85\n",
      "Dwayne Remseldorf {'Patztablook TwentyTwo', 'Dwayne Remseldorf'} 4\n",
      "Jenda Nykrýn {'Patztablook TwentyTwo', 'Jenda Nykrýn'} 4\n",
      "Petr Čaboun {'Patztablook TwentyTwo', 'Petr Čaboun'} 3\n",
      "Sebastian Duarte {'Patztablook TwentyTwo', 'Sebastian Duarte'} 34\n",
      "Sven Bernas {'Patztablook TwentyTwo', 'Sven Bernas'} 110\n",
      "Pomat Pomat {'Patztablook TwentyTwo', 'Pomat Pomat'} 14\n",
      "Stfu svobodna vule neexistuje, to Buh grrrrr {'Sběratel Banánů'} 2409\n",
      "Nepravidelné DnD pondělky {'Vojta Kotiš', 'Filip Kastl', 'Patztablook TwentyTwo', 'Láďa Paur'} 64\n",
      "Jocka Vidovičová {'Jocka Vidovičová', 'Patztablook TwentyTwo'} 2\n",
      "ɹəsՈ ʞooqəɔɐℲ {'Patztablook TwentyTwo', 'ɹəsՈ ʞooqəɔɐℲ'} 213\n",
      "The Chaotic Path to Transcendence (Simulation 1) {'Lamine Diene', 'Yin Pui Lai', 'Jan Kotrč', 'Audra Brown', 'Jonathan Ogilvie', 'Kaizo Sama', 'Malcolm Diene', 'Vincent Fournier', 'Jakub Tichanek', 'ɹəsՈ ʞooqəɔɐℲ', 'Sběratel Banánů'} 1411\n",
      "Jiří Zavoral {'Patztablook TwentyTwo', 'Jiří Zavoral'} 1\n",
      "Šimon Dutý {'Šimon Dutý', 'Patztablook TwentyTwo'} 35\n",
      "David Stern {'David Stern', 'Patztablook TwentyTwo'} 6\n",
      "Anthony Hani puɐ Scanthning Brot {'Scanthning Brot', 'Patztablook TwentyTwo', 'Anthony Hani'} 24\n",
      "Pomat Pomat {'Patztablook TwentyTwo', 'Pomat Pomat'} 280\n",
      "Adéla Karolína Žáčková {'Patztablook TwentyTwo', 'Adéla Karolína Žáčková'} 284\n"
     ]
    }
   ],
   "source": [
    "m2 = list(filter(lambda c: len(c) >= 64, m2))\n",
    "print(len(m2))\n",
    "for c in m:\n",
    "    print(c.title, c.participants, len(c))"
   ]
  },
  {
   "cell_type": "code",
   "execution_count": 23,
   "id": "17faa143-d15a-45df-a9da-7e39c5abdcb8",
   "metadata": {},
   "outputs": [
    {
     "name": "stdout",
     "output_type": "stream",
     "text": [
      "49\n"
     ]
    }
   ],
   "source": [
    "val_indices = [] #[-1, -3, -13]\n",
    "train_indices = np.delete(np.arange(len(m2)), val_indices)\n",
    "\n",
    "print(len(m2))\n",
    "for i in val_indices:\n",
    "    print(m2[i].participants)"
   ]
  },
  {
   "cell_type": "code",
   "execution_count": 24,
   "id": "20618d0d-fe92-4dcf-a805-108c252d2d95",
   "metadata": {},
   "outputs": [],
   "source": [
    "import dataset\n",
    "importlib.reload(dataset)\n",
    "\n",
    "special_tokens = {\n",
    "    'conversation_start': '[CSTART]',\n",
    "    'conversation_end': '[CEND]',\n",
    "    'message_start': '[MSTART]',\n",
    "    'breakpoint': '[BREAK]',\n",
    "    'message_end': '[MEND]',\n",
    "    'writes': '[WRITES]',\n",
    "}\n",
    "\n",
    "dataset.generate_corpus('../data/train.txt', [m2[i] for i in train_indices], special_tokens, break_tollerance_s=180)\n",
    "dataset.generate_corpus('../data/val.txt', [m2[i] for i in val_indices], special_tokens, break_tollerance_s=180)"
   ]
  },
  {
   "cell_type": "code",
   "execution_count": null,
   "id": "3870224c-5a4b-4675-b905-a456535cb1a3",
   "metadata": {},
   "outputs": [],
   "source": []
  }
 ],
 "metadata": {
  "kernelspec": {
   "display_name": "Python 3",
   "language": "python",
   "name": "python3"
  },
  "language_info": {
   "codemirror_mode": {
    "name": "ipython",
    "version": 3
   },
   "file_extension": ".py",
   "mimetype": "text/x-python",
   "name": "python",
   "nbconvert_exporter": "python",
   "pygments_lexer": "ipython3",
   "version": "3.11.4"
  }
 },
 "nbformat": 4,
 "nbformat_minor": 5
}
