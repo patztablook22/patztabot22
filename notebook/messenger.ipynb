{
 "cells": [
  {
   "cell_type": "code",
   "execution_count": 125,
   "id": "dc596781-0000-45a8-beff-2d4a70a4f26c",
   "metadata": {},
   "outputs": [],
   "source": [
    "import sys\n",
    "import importlib\n",
    "import numpy as np\n",
    "sys.path.insert(0, '../src/')"
   ]
  },
  {
   "cell_type": "code",
   "execution_count": 126,
   "id": "d0d43c15-f9d1-4081-8fa1-7723a517b2db",
   "metadata": {},
   "outputs": [],
   "source": [
    "import chatbot.dataset.messenger\n",
    "importlib.reload(chatbot.dataset.messenger)\n",
    "\n",
    "m = chatbot.dataset.messenger.load_messenger_conversations('/home/patz/Heap/messages/')"
   ]
  },
  {
   "cell_type": "code",
   "execution_count": 127,
   "id": "54b06a80-71c4-4620-a830-e452f30d6635",
   "metadata": {},
   "outputs": [],
   "source": [
    "importlib.reload(chatbot.dataset.messenger)\n",
    "m = [chatbot.dataset.messenger.rename_conversation_user(c, 'Patztablook TwentyTwo', 'patz') for c in m]"
   ]
  },
  {
   "cell_type": "code",
   "execution_count": 128,
   "id": "c8842e7c-1271-4fc5-9b24-8435afb40b08",
   "metadata": {},
   "outputs": [],
   "source": [
    "importlib.reload(chatbot.dataset.messenger)\n",
    "\n",
    "def predicate(content):\n",
    "    if content is None: return True\n",
    "    blacklist = ['ə', 'ɥ', 'ʇ', 'ʎ', 'ɹ', 'ƃ',\n",
    "                'se svymi geny? 0=ne',\n",
    "                'are you satisfied with ur genes?']\n",
    "    for b in blacklist:\n",
    "        if b in content: return False\n",
    "    return True\n",
    "\n",
    "m2 = [chatbot.dataset.messenger.filter_messages_by_content(c, predicate) for c in m]\n",
    "m2 = [chatbot.dataset.messenger.merge_adjacent_messages(c, 300) for c in m2]"
   ]
  },
  {
   "cell_type": "code",
   "execution_count": 129,
   "id": "c829e880-34a4-4581-a9a5-26f9a5cabec3",
   "metadata": {},
   "outputs": [
    {
     "name": "stdout",
     "output_type": "stream",
     "text": [
      "43\n",
      "Scanthning Brot puɐ Vincent Fournier {'patz', 'Scanthning Brot', 'Vincent Fournier'} 7\n",
      "Pendulum Swing {'Martin McNickle', 'Sigismund Häggkvist', 'patz', 'Rawen Dorfin', 'Robin Stringer'} 15750\n",
      "Amélie Novotná {'patz', 'Amélie Novotná'} 156\n",
      "Martin McNickle {'patz', 'Martin McNickle'} 6\n",
      "Ondřej Smolík {'patz', 'Ondřej Smolík'} 176\n",
      "Alexander Terziev {'patz', 'Alexander Terziev'} 4433\n",
      "Manka Roblíková {'patz', 'Manka Roblíková'} 745\n",
      "Matouš Pikous {'Matouš Pikous', 'patz'} 35\n",
      "Jan Zasadil {'patz', 'Jan Zasadil'} 38947\n",
      "Katie Alzbeta Brown {'Katie Alzbeta Brown', 'patz'} 102\n",
      "Jan Vaniš {'patz', 'Jan Vaniš'} 407\n",
      "Katie Alzbeta Brown puɐ Karel Loula {'Katie Alzbeta Brown', 'patz', 'Karel Loula'} 183\n",
      "Filip Kastl {'patz', 'Filip Kastl'} 6845\n",
      "The only magician capable of a craft left his stove on {'patz', 'Scanthning Brot'} 407\n",
      "RJ {'Adéla Gabesamová', 'Adam Dvořák', 'Štěpán Chrast', 'patz', 'Abudi  Shalabi', 'Šimon Dutý', 'Jakub Tichanek', 'Adam Vanĕček', 'Patrik Kabrna', 'Malcolm Diene', 'Alexander Terziev', 'Petr Hošek'} 283\n",
      "Martina Zavoralová {'patz', 'Martina Zavoralová'} 88\n",
      "Scanthning Brot {'patz', 'Scanthning Brot'} 91926\n",
      "Ondřej Kunc {'patz', 'Ondřej Kunc'} 21\n",
      "Divnověci {'Scanthning Brot', 'Jiří Podaný', 'Amélie Novotná', 'Kryštof Tahal', 'David Kaňovský', 'Štěpán Chrast', 'patz', 'Matěj Splavec', 'Jakub Tichanek', 'Pomat 794', 'Sběratel Banánů', 'Anthony Hani', 'Vojta Větrovec', 'Jonas Kutil'} 3775\n",
      "Michal Zavoral {'patz', 'Michal Zavoral'} 500\n",
      "Sběratel Banánů {'patz', 'Sběratel Banánů'} 72094\n",
      "patz {'patz'} 172\n",
      "Roman Mikoláš {'Roman Mikoláš', 'patz'} 3142\n",
      "Malcolm Diene {'patz', 'Malcolm Diene'} 3018\n",
      "π Klub A Ostatní {'Veronika Musílková', 'Roman Mikoláš', 'Tomáš Zobal', 'patz', 'Adam Kobes', 'Kretus El Pablbo', 'Jaromír Kadlčík', 'Alexander Terziev', 'Fanda Mlejnský', 'Adam Dvořák', 'Petr Čaboun', 'Přiznání EMka', 'Klára Grinerová', 'Vašík Blackie Fencl', 'Daníček Pondělíček', 'Lucie Marečková', 'Marťa Starýchfojtů', 'Matěj Renc', 'Pája Holman', 'Soňa Feskova', 'Marek Honsnejman', 'Klára Homolková', 'Ondřej Kunc', 'Štěpán Hanzálek', 'Tea Samouk', 'Jocka Vidovičová', 'Jenda Nykrýn', 'Lukáš Nedbálek', 'Jan Zasadil', 'Vašek Belza', 'Jiří Hermann', 'Adéla Karolína Žáčková', 'Filip Jakub', 'Dominik Švarc'} 4691\n",
      "Jaroslav Žukov {'patz', 'Jaroslav Žukov'} 3364\n",
      "The Contrarian Typologists {'patz', 'Anthony Hani', 'Scanthning Brot', 'ɹəsՈ ʞooqəɔɐℲ'} 876\n",
      "Robin Stringer {'patz', 'Robin Stringer'} 210\n",
      "Jiří Hermann {'patz', 'Jiří Hermann'} 3\n",
      "Malcolm Diene puɐ Scanthning Brot {'Malcolm Diene', 'Scanthning Brot'} 5\n",
      " {'patz'} 14844\n",
      "Bolavá noha {'Jocka Vidovičová', 'Marťa Starýchfojtů', 'Aneta Vejmělková', 'Lukáš Nedbálek', 'Vojta Větrovec', 'Jan Zasadil', 'Ondra Marek', 'patz', 'Petr Prajzler', 'Anetka Nguyenova', 'Malcolm Diene', 'Tea Samouk', 'Fanda Mlejnský'} 189\n",
      "Začátky big brain akademie {'Filip Jirků', 'Jan Kladníček', 'Dominika Eklová', 'Petr Mácha', 'Justýna Nováková', 'Karin Moníková', 'Antonín Skal', 'Kája Havlová', 'Jan Pokorný', 'Honza Pitra', 'Lucinka Pokorka', 'Sběratel Banánů', 'Lukáš Vaňura', 'Martin Vrba', 'Jiří Podaný', 'Denis Vanin', 'Martin Hruška', 'Natálka Adamcová', 'Stanislav Abrt', 'Daniela Běhounková', 'Pomat 794', 'Václav Jaroš', 'Jindřiška Holová', 'Thu Huyền Trần', 'Dan Kolář', 'ɹəsՈ ʞooqəɔɐℲ', 'Tomáš Brodský', 'Katie Mikšovská', 'Martin Coufal'} 506\n",
      "Hana Zemanová {'patz', 'Hana Zemanová'} 17\n",
      "Vinicius Natan {'patz', 'Vinicius Natan'} 69\n",
      "Michal Zavoral puɐ Jan Zasadil ,Martin Vrba {'Martin Vrba', 'Michal Zavoral', 'Jan Zasadil'} 3\n",
      "Lukáš Nedbálek {'patz', 'Lukáš Nedbálek'} 65\n",
      "WCₙ₊₁ {'patz', 'Sběratel Banánů'} 271\n",
      "Jakub Tichanek {'patz', 'Jakub Tichanek'} 142\n",
      "sɹəɥʇo 2 puɐ Jaroslav Žukov ,Mikuláš Vanoušek ,Daniel Knut Pernet {'Mikuláš Vanoušek', 'Jaroslav Žukov', 'Jáchym Rauš', 'Daniel Knut Pernet', 'Joe Osborne'} 8\n",
      "Daniel Mahdal {'patz', 'Daniel Mahdal'} 88\n",
      "Štěpán Hanzálek {'patz', 'Štěpán Hanzálek'} 67\n",
      "Lenka Hýřová {'patz', 'Lenka Hýřová'} 1897\n",
      "Martin Kratochvíl {'patz', 'Martin Kratochvíl'} 1\n",
      "Dominik Švarc {'patz', 'Dominik Švarc'} 2\n",
      "Cor Seon {'Patrik Kabrna', 'Libor Krejcir', 'Štěpán Chrast', 'ɹəsՈ ʞooqəɔɐℲ', 'Vincent Fournier', 'Jan Kotrč', 'Filip Zoula', 'Sběratel Banánů'} 529\n",
      "SleepIsALie {'Jirka Bugel', 'Scanthning Brot', 'Jiří Bugel', 'patz', 'Matěj Splavec', 'Anthony Hani'} 37\n",
      "Vašek Belza {'patz', 'Vašek Belza'} 3\n",
      "Matěj Renc {'patz', 'Matěj Renc'} 5\n",
      "Martin Vrba {'patz', 'Martin Vrba'} 2170\n",
      "Rezi Cibiková {'patz', 'Rezi Cibiková'} 140\n",
      "Daníček Pondělíček {'patz', 'Daníček Pondělíček'} 86\n",
      "Pot-pourri set() 225\n",
      "Vojta Větrovec {'patz', 'Vojta Větrovec'} 664\n",
      "Marťa Starýchfojtů {'patz', 'Marťa Starýchfojtů'} 3\n",
      "Martin McNickle {'patz', 'Martin McNickle'} 694\n",
      "Fanda Mlejnský {'patz', 'Fanda Mlejnský'} 78\n",
      "Adam Dvořák {'patz', 'Adam Dvořák'} 64\n",
      "Pomat 794 {'Pomat 794', 'patz'} 351\n",
      "Jirka Vrba {'patz', 'Jirka Vrba'} 439\n",
      "Grúpa {'Roman Mikoláš', 'patz', 'Adam Kobes'} 12\n",
      "Adam Kobes {'patz', 'Adam Kobes'} 85\n",
      "Dwayne Remseldorf {'patz', 'Dwayne Remseldorf'} 4\n",
      "Jenda Nykrýn {'patz', 'Jenda Nykrýn'} 4\n",
      "Petr Čaboun {'patz', 'Petr Čaboun'} 3\n",
      "Sebastian Duarte {'patz', 'Sebastian Duarte'} 34\n",
      "Sven Bernas {'patz', 'Sven Bernas'} 110\n",
      "Pomat Pomat {'patz', 'Pomat Pomat'} 14\n",
      "Stfu svobodna vule neexistuje, to Buh grrrrr {'Sběratel Banánů'} 2409\n",
      "Nepravidelné DnD pondělky {'patz', 'Filip Kastl', 'Láďa Paur', 'Vojta Kotiš'} 64\n",
      "Jocka Vidovičová {'patz', 'Jocka Vidovičová'} 2\n",
      "ɹəsՈ ʞooqəɔɐℲ {'patz', 'ɹəsՈ ʞooqəɔɐℲ'} 213\n",
      "The Chaotic Path to Transcendence (Simulation 1) {'Audra Brown', 'Jonathan Ogilvie', 'Yin Pui Lai', 'Lamine Diene', 'Vincent Fournier', 'ɹəsՈ ʞooqəɔɐℲ', 'Jakub Tichanek', 'Kaizo Sama', 'Jan Kotrč', 'Sběratel Banánů', 'Malcolm Diene'} 1411\n",
      "Jiří Zavoral {'patz', 'Jiří Zavoral'} 1\n",
      "Šimon Dutý {'patz', 'Šimon Dutý'} 35\n",
      "David Stern {'patz', 'David Stern'} 6\n",
      "Anthony Hani puɐ Scanthning Brot {'patz', 'Anthony Hani', 'Scanthning Brot'} 24\n",
      "Pomat Pomat {'patz', 'Pomat Pomat'} 280\n",
      "Adéla Karolína Žáčková {'patz', 'Adéla Karolína Žáčková'} 284\n"
     ]
    }
   ],
   "source": [
    "m2 = list(filter(lambda c: len(c) >= 64, m2))\n",
    "print(len(m2))\n",
    "for c in m:\n",
    "    print(c.title, c.participants, len(c))"
   ]
  },
  {
   "cell_type": "code",
   "execution_count": 130,
   "id": "17faa143-d15a-45df-a9da-7e39c5abdcb8",
   "metadata": {},
   "outputs": [
    {
     "name": "stdout",
     "output_type": "stream",
     "text": [
      "43\n"
     ]
    }
   ],
   "source": [
    "val_indices = [] #[-1, -3, -13]\n",
    "train_indices = np.delete(np.arange(len(m2)), val_indices)\n",
    "\n",
    "print(len(m2))\n",
    "for i in val_indices:\n",
    "    print(m2[i].participants)"
   ]
  },
  {
   "cell_type": "code",
   "execution_count": 131,
   "id": "20618d0d-fe92-4dcf-a805-108c252d2d95",
   "metadata": {},
   "outputs": [],
   "source": [
    "import chatbot.dataset.messenger\n",
    "importlib.reload(chatbot.dataset.messenger)\n",
    "\n",
    "special_tokens = {\n",
    "    'conversation_start': '[CSTART]',\n",
    "    'conversation_end': '[CEND]',\n",
    "    'message_start': '[MSTART]',\n",
    "    'message_end': '[MEND]',\n",
    "    'writes': '[WRITES]',\n",
    "}\n",
    "\n",
    "chatbot.dataset.messenger.generate_corpus('../data/train.txt', [m2[i] for i in train_indices], special_tokens)\n",
    "chatbot.dataset.messenger.generate_corpus('../data/val.txt', [m2[i] for i in val_indices], special_tokens)"
   ]
  },
  {
   "cell_type": "code",
   "execution_count": null,
   "id": "3870224c-5a4b-4675-b905-a456535cb1a3",
   "metadata": {},
   "outputs": [],
   "source": []
  }
 ],
 "metadata": {
  "kernelspec": {
   "display_name": "Python 3",
   "language": "python",
   "name": "python3"
  },
  "language_info": {
   "codemirror_mode": {
    "name": "ipython",
    "version": 3
   },
   "file_extension": ".py",
   "mimetype": "text/x-python",
   "name": "python",
   "nbconvert_exporter": "python",
   "pygments_lexer": "ipython3",
   "version": "3.11.4"
  }
 },
 "nbformat": 4,
 "nbformat_minor": 5
}
