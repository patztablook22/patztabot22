{
 "cells": [
  {
   "cell_type": "code",
   "execution_count": 1,
   "id": "dc596781-0000-45a8-beff-2d4a70a4f26c",
   "metadata": {},
   "outputs": [],
   "source": [
    "import sys\n",
    "import importlib\n",
    "sys.path.insert(0, '../src/')"
   ]
  },
  {
   "cell_type": "code",
   "execution_count": 19,
   "id": "5bb0787c-ee7e-4b11-8a91-d2622811c50b",
   "metadata": {},
   "outputs": [],
   "source": [
    "import numpy as np"
   ]
  },
  {
   "cell_type": "code",
   "execution_count": 2,
   "id": "96479deb-2389-4b03-b68f-1698580356d9",
   "metadata": {},
   "outputs": [
    {
     "data": {
      "text/plain": [
       "3"
      ]
     },
     "execution_count": 2,
     "metadata": {},
     "output_type": "execute_result"
    }
   ],
   "source": [
    "from transformers import GPT2Tokenizer\n",
    "tokenizer = GPT2Tokenizer.from_pretrained('gpt2')\n",
    "tokenizer.add_special_tokens({\"additional_special_tokens\": [\"<bomsg>\", \"<momsg>\", \"<eomsg>\"]})"
   ]
  },
  {
   "cell_type": "code",
   "execution_count": 4,
   "id": "d0d43c15-f9d1-4081-8fa1-7723a517b2db",
   "metadata": {},
   "outputs": [],
   "source": [
    "import chatbot.dataset.messenger\n",
    "importlib.reload(chatbot.dataset.messenger)\n",
    "\n",
    "m = chatbot.dataset.messenger.load_conversations('/home/patz/Heap/messages/')"
   ]
  },
  {
   "cell_type": "code",
   "execution_count": 5,
   "id": "54b06a80-71c4-4620-a830-e452f30d6635",
   "metadata": {},
   "outputs": [],
   "source": [
    "for c in m:\n",
    "    c.rename('Patztablook TwentyTwo', 'patz')"
   ]
  },
  {
   "cell_type": "code",
   "execution_count": 12,
   "id": "c829e880-34a4-4581-a9a5-26f9a5cabec3",
   "metadata": {},
   "outputs": [
    {
     "name": "stdout",
     "output_type": "stream",
     "text": [
      "79\n",
      "{'patz', 'Scanthning Brot', 'Vincent Fournier'}\n",
      "{'patz', 'Rawen Dorfin', 'Sigismund Häggkvist', 'Robin Stringer', 'Martin McNickle'}\n",
      "{'patz', 'Amélie Novotná'}\n",
      "{'patz', 'Martin McNickle'}\n",
      "{'Ondřej Smolík', 'patz'}\n",
      "{'patz', 'Alexander Terziev'}\n",
      "{'Manka Roblíková', 'patz'}\n",
      "{'patz', 'Matouš Pikous'}\n",
      "{'patz', 'Jan Zasadil'}\n",
      "{'Katie Alzbeta Brown', 'patz'}\n",
      "{'patz', 'Jan Vaniš'}\n",
      "{'Karel Loula', 'patz', 'Katie Alzbeta Brown'}\n",
      "{'patz', 'Filip Kastl'}\n",
      "{'patz', 'Scanthning Brot'}\n",
      "{'patz', 'Adéla Gabesamová', 'Malcolm Diene', 'Patrik Kabrna', 'Alexander Terziev', 'Adam Vanĕček', 'Šimon Dutý', 'Jakub Tichanek', 'Petr Hošek', 'Adam Dvořák', 'Abudi  Shalabi', 'Štěpán Chrast'}\n",
      "{'patz', 'Martina Zavoralová'}\n",
      "{'patz', 'Scanthning Brot'}\n",
      "{'patz', 'Ondřej Kunc'}\n",
      "{'patz', 'Vojta Větrovec', 'Kryštof Tahal', 'Anthony Hani', 'Matěj Splavec', 'Jiří Podaný', 'Amélie Novotná', 'Scanthning Brot', 'Jakub Tichanek', 'Pomat 794', 'David Kaňovský', 'Sběratel Banánů', 'Štěpán Chrast', 'Jonas Kutil'}\n",
      "{'patz', 'Michal Zavoral'}\n",
      "{'patz', 'Sběratel Banánů'}\n",
      "{'patz'}\n",
      "{'patz', 'Roman Mikoláš'}\n",
      "{'patz', 'Malcolm Diene'}\n",
      "{'Tea Samouk', 'Klára Grinerová', 'Jan Zasadil', 'Jiří Hermann', 'Veronika Musílková', 'Daníček Pondělíček', 'Alexander Terziev', 'Roman Mikoláš', 'Adam Dvořák', 'Dominik Švarc', 'Soňa Feskova', 'Přiznání EMka', 'Marek Honsnejman', 'Jocka Vidovičová', 'Matěj Renc', 'Kretus El Pablbo', 'Jenda Nykrýn', 'Marťa Starýchfojtů', 'Klára Homolková', 'Štěpán Hanzálek', 'Fanda Mlejnský', 'Petr Čaboun', 'Adéla Karolína Žáčková', 'Adam Kobes', 'patz', 'Ondřej Kunc', 'Lucie Marečková', 'Filip Jakub', 'Lukáš Nedbálek', 'Jaromír Kadlčík', 'Vašek Belza', 'Vašík Blackie Fencl', 'Pája Holman', 'Tomáš Zobal'}\n",
      "{'patz', 'Jaroslav Žukov'}\n",
      "{'patz', 'ɹəsՈ ʞooqəɔɐℲ', 'Anthony Hani', 'Scanthning Brot'}\n",
      "{'patz', 'Robin Stringer'}\n",
      "{'patz', 'Jiří Hermann'}\n",
      "{'Scanthning Brot', 'Malcolm Diene'}\n",
      "{'patz'}\n",
      "{'patz', 'Tea Samouk', 'Vojta Větrovec', 'Petr Prajzler', 'Aneta Vejmělková', 'Malcolm Diene', 'Anetka Nguyenova', 'Lukáš Nedbálek', 'Jocka Vidovičová', 'Marťa Starýchfojtů', 'Ondra Marek', 'Jan Zasadil', 'Fanda Mlejnský'}\n",
      "{'Martin Coufal', 'Dan Kolář', 'Karin Moníková', 'Antonín Skal', 'Honza Pitra', 'Martin Hruška', 'Pomat 794', 'Jan Pokorný', 'ɹəsՈ ʞooqəɔɐℲ', 'Thu Huyền Trần', 'Lucinka Pokorka', 'Václav Jaroš', 'Martin Vrba', 'Filip Jirků', 'Daniela Běhounková', 'Stanislav Abrt', 'Katie Mikšovská', 'Jindřiška Holová', 'Denis Vanin', 'Justýna Nováková', 'Sběratel Banánů', 'Lukáš Vaňura', 'Petr Mácha', 'Kája Havlová', 'Jan Kladníček', 'Jiří Podaný', 'Tomáš Brodský', 'Dominika Eklová', 'Natálka Adamcová'}\n",
      "{'patz', 'Hana Zemanová'}\n",
      "{'patz', 'Vinicius Natan'}\n",
      "{'Jan Zasadil', 'Michal Zavoral', 'Martin Vrba'}\n",
      "{'patz', 'Lukáš Nedbálek'}\n",
      "{'patz', 'Sběratel Banánů'}\n",
      "{'patz', 'Jakub Tichanek'}\n",
      "{'Mikuláš Vanoušek', 'Jáchym Rauš', 'Daniel Knut Pernet', 'Joe Osborne', 'Jaroslav Žukov'}\n",
      "{'patz', 'Daniel Mahdal'}\n",
      "{'patz', 'Štěpán Hanzálek'}\n",
      "{'patz', 'Lenka Hýřová'}\n",
      "{'patz', 'Martin Kratochvíl'}\n",
      "{'Dominik Švarc', 'patz'}\n",
      "{'ɹəsՈ ʞooqəɔɐℲ', 'Patrik Kabrna', 'Vincent Fournier', 'Libor Krejcir', 'Filip Zoula', 'Jan Kotrč', 'Sběratel Banánů', 'Štěpán Chrast'}\n",
      "{'patz', 'Jiří Bugel', 'Jirka Bugel', 'Anthony Hani', 'Matěj Splavec', 'Scanthning Brot'}\n",
      "{'patz', 'Vašek Belza'}\n",
      "{'patz', 'Matěj Renc'}\n",
      "{'patz', 'Martin Vrba'}\n",
      "{'patz', 'Rezi Cibiková'}\n",
      "{'patz', 'Daníček Pondělíček'}\n",
      "set()\n",
      "{'patz', 'Vojta Větrovec'}\n",
      "{'patz', 'Marťa Starýchfojtů'}\n",
      "{'patz', 'Martin McNickle'}\n",
      "{'patz', 'Fanda Mlejnský'}\n",
      "{'patz', 'Adam Dvořák'}\n",
      "{'patz', 'Pomat 794'}\n",
      "{'patz', 'Jirka Vrba'}\n",
      "{'patz', 'Adam Kobes', 'Roman Mikoláš'}\n",
      "{'patz', 'Adam Kobes'}\n",
      "{'patz', 'Dwayne Remseldorf'}\n",
      "{'patz', 'Jenda Nykrýn'}\n",
      "{'patz', 'Petr Čaboun'}\n",
      "{'patz', 'Sebastian Duarte'}\n",
      "{'patz', 'Sven Bernas'}\n",
      "{'patz', 'Pomat Pomat'}\n",
      "{'Sběratel Banánů'}\n",
      "{'patz', 'Láďa Paur', 'Vojta Kotiš', 'Filip Kastl'}\n",
      "{'Jocka Vidovičová', 'patz'}\n",
      "{'patz', 'ɹəsՈ ʞooqəɔɐℲ'}\n",
      "{'ɹəsՈ ʞooqəɔɐℲ', 'Lamine Diene', 'Vincent Fournier', 'Malcolm Diene', 'Yin Pui Lai', 'Audra Brown', 'Jakub Tichanek', 'Jan Kotrč', 'Jonathan Ogilvie', 'Kaizo Sama', 'Sběratel Banánů'}\n",
      "{'patz', 'Jiří Zavoral'}\n",
      "{'Šimon Dutý', 'patz'}\n",
      "{'patz', 'David Stern'}\n",
      "{'patz', 'Scanthning Brot', 'Anthony Hani'}\n",
      "{'patz', 'Pomat Pomat'}\n",
      "{'Adéla Karolína Žáčková', 'patz'}\n"
     ]
    }
   ],
   "source": [
    "print(len(m))\n",
    "for c in m:\n",
    "    print(c.participants)"
   ]
  },
  {
   "cell_type": "code",
   "execution_count": 52,
   "id": "17faa143-d15a-45df-a9da-7e39c5abdcb8",
   "metadata": {},
   "outputs": [
    {
     "name": "stdout",
     "output_type": "stream",
     "text": [
      "79\n",
      "{'patz', 'Scanthning Brot', 'Vincent Fournier'}\n",
      "{'patz', 'Amélie Novotná'}\n",
      "{'patz', 'Alexander Terziev'}\n",
      "{'patz', 'Jan Vaniš'}\n",
      "{'patz', 'Malcolm Diene'}\n",
      "{'patz', 'ɹəsՈ ʞooqəɔɐℲ', 'Anthony Hani', 'Scanthning Brot'}\n",
      "{'Jan Zasadil', 'Michal Zavoral', 'Martin Vrba'}\n",
      "{'patz', 'Daniel Mahdal'}\n",
      "{'patz', 'Lenka Hýřová'}\n",
      "{'patz', 'Martin McNickle'}\n",
      "{'patz', 'Scanthning Brot'}\n"
     ]
    }
   ],
   "source": [
    "val_indices = [0, 2, 5, 10, 23, 26, 35, 40, 42, 55, 13]\n",
    "train_indices = np.delete(np.arange(len(m)), val_indices)\n",
    "\n",
    "print(len(m))\n",
    "for i in val_indices:\n",
    "    print(m[i].participants)"
   ]
  },
  {
   "cell_type": "code",
   "execution_count": 55,
   "id": "20618d0d-fe92-4dcf-a805-108c252d2d95",
   "metadata": {},
   "outputs": [],
   "source": [
    "import chatbot.dataset.messenger\n",
    "importlib.reload(chatbot.dataset.messenger)\n",
    "\n",
    "tokens = {\n",
    "    'conversation_start': '[CSTART]',\n",
    "    'conversation_end': '[CEND]',\n",
    "    'message_start': '[MSTART]',\n",
    "    'message_end': '[MEND]',\n",
    "    'writes': '[WRITES]',\n",
    "}\n",
    "\n",
    "chatbot.dataset.messenger.generate_corpus('../data/train.txt', [m[i] for i in train_indices], tokens)\n",
    "chatbot.dataset.messenger.generate_corpus('../data/val.txt', [m[i] for i in val_indices], tokens)"
   ]
  }
 ],
 "metadata": {
  "kernelspec": {
   "display_name": "Python 3",
   "language": "python",
   "name": "python3"
  },
  "language_info": {
   "codemirror_mode": {
    "name": "ipython",
    "version": 3
   },
   "file_extension": ".py",
   "mimetype": "text/x-python",
   "name": "python",
   "nbconvert_exporter": "python",
   "pygments_lexer": "ipython3",
   "version": "3.11.4"
  }
 },
 "nbformat": 4,
 "nbformat_minor": 5
}
