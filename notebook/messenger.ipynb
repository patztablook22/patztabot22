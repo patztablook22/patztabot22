{
 "cells": [
  {
   "cell_type": "code",
   "execution_count": 10,
   "id": "dc596781-0000-45a8-beff-2d4a70a4f26c",
   "metadata": {},
   "outputs": [],
   "source": [
    "import sys\n",
    "import importlib\n",
    "import numpy as np\n",
    "sys.path.insert(0, '../src/')"
   ]
  },
  {
   "cell_type": "code",
   "execution_count": 5,
   "id": "d0d43c15-f9d1-4081-8fa1-7723a517b2db",
   "metadata": {},
   "outputs": [],
   "source": [
    "import chatbot.dataset.messenger\n",
    "importlib.reload(chatbot.dataset.messenger)\n",
    "\n",
    "m = chatbot.dataset.messenger.load_conversations('/home/patz/Heap/messages/')"
   ]
  },
  {
   "cell_type": "code",
   "execution_count": 6,
   "id": "54b06a80-71c4-4620-a830-e452f30d6635",
   "metadata": {},
   "outputs": [],
   "source": [
    "for c in m:\n",
    "    c.rename('Patztablook TwentyTwo', 'patz')"
   ]
  },
  {
   "cell_type": "code",
   "execution_count": 7,
   "id": "c829e880-34a4-4581-a9a5-26f9a5cabec3",
   "metadata": {},
   "outputs": [
    {
     "name": "stdout",
     "output_type": "stream",
     "text": [
      "53\n",
      "{'Martin McNickle', 'Sigismund Häggkvist', 'patz', 'Rawen Dorfin', 'Robin Stringer'} 15750\n",
      "{'patz', 'Amélie Novotná'} 156\n",
      "{'patz', 'Ondřej Smolík'} 176\n",
      "{'patz', 'Alexander Terziev'} 4433\n",
      "{'patz', 'Manka Roblíková'} 745\n",
      "{'patz', 'Jan Zasadil'} 38947\n",
      "{'Katie Alzbeta Brown', 'patz'} 102\n",
      "{'patz', 'Jan Vaniš'} 407\n",
      "{'Katie Alzbeta Brown', 'patz', 'Karel Loula'} 183\n",
      "{'patz', 'Filip Kastl'} 6845\n",
      "{'patz', 'Scanthning Brot'} 407\n",
      "{'Adéla Gabesamová', 'Adam Dvořák', 'Malcolm Diene', 'Štěpán Chrast', 'patz', 'Šimon Dutý', 'Jakub Tichanek', 'Adam Vanĕček', 'Patrik Kabrna', 'Abudi  Shalabi', 'Alexander Terziev', 'Petr Hošek'} 283\n",
      "{'patz', 'Martina Zavoralová'} 88\n",
      "{'patz', 'Scanthning Brot'} 91926\n",
      "{'Scanthning Brot', 'Jiří Podaný', 'Amélie Novotná', 'Kryštof Tahal', 'Anthony Hani', 'David Kaňovský', 'Štěpán Chrast', 'patz', 'Matěj Splavec', 'Jakub Tichanek', 'Pomat 794', 'Sběratel Banánů', 'Vojta Větrovec', 'Jonas Kutil'} 3775\n",
      "{'patz', 'Michal Zavoral'} 500\n",
      "{'patz', 'Sběratel Banánů'} 72094\n",
      "{'patz'} 172\n",
      "{'Roman Mikoláš', 'patz'} 3142\n",
      "{'patz', 'Malcolm Diene'} 3018\n",
      "{'Veronika Musílková', 'Roman Mikoláš', 'Tomáš Zobal', 'patz', 'Adam Kobes', 'Kretus El Pablbo', 'Jaromír Kadlčík', 'Alexander Terziev', 'Fanda Mlejnský', 'Adam Dvořák', 'Petr Čaboun', 'Přiznání EMka', 'Klára Grinerová', 'Vašík Blackie Fencl', 'Daníček Pondělíček', 'Lucie Marečková', 'Marťa Starýchfojtů', 'Matěj Renc', 'Pája Holman', 'Soňa Feskova', 'Marek Honsnejman', 'Klára Homolková', 'Ondřej Kunc', 'Štěpán Hanzálek', 'Tea Samouk', 'Jocka Vidovičová', 'Jenda Nykrýn', 'Lukáš Nedbálek', 'Jan Zasadil', 'Vašek Belza', 'Jiří Hermann', 'Adéla Karolína Žáčková', 'Filip Jakub', 'Dominik Švarc'} 4691\n",
      "{'patz', 'Jaroslav Žukov'} 3364\n",
      "{'Scanthning Brot', 'patz', 'ɹəsՈ ʞooqəɔɐℲ', 'Anthony Hani'} 876\n",
      "{'patz', 'Robin Stringer'} 210\n",
      "{'patz'} 14844\n",
      "{'Jocka Vidovičová', 'Fanda Mlejnský', 'Aneta Vejmělková', 'Lukáš Nedbálek', 'Malcolm Diene', 'Jan Zasadil', 'Ondra Marek', 'patz', 'Petr Prajzler', 'Anetka Nguyenova', 'Vojta Větrovec', 'Tea Samouk', 'Marťa Starýchfojtů'} 189\n",
      "{'Filip Jirků', 'Dominika Eklová', 'Jan Kladníček', 'Petr Mácha', 'Justýna Nováková', 'Karin Moníková', 'Antonín Skal', 'Kája Havlová', 'Jan Pokorný', 'Honza Pitra', 'Sběratel Banánů', 'Lucinka Pokorka', 'Lukáš Vaňura', 'Martin Vrba', 'Jiří Podaný', 'Denis Vanin', 'Martin Hruška', 'Natálka Adamcová', 'Stanislav Abrt', 'Daniela Běhounková', 'Pomat 794', 'Václav Jaroš', 'Jindřiška Holová', 'Thu Huyền Trần', 'Dan Kolář', 'ɹəsՈ ʞooqəɔɐℲ', 'Tomáš Brodský', 'Katie Mikšovská', 'Martin Coufal'} 506\n",
      "{'patz', 'Vinicius Natan'} 69\n",
      "{'patz', 'Lukáš Nedbálek'} 65\n",
      "{'patz', 'Sběratel Banánů'} 271\n",
      "{'patz', 'Jakub Tichanek'} 142\n",
      "{'patz', 'Daniel Mahdal'} 88\n",
      "{'patz', 'Štěpán Hanzálek'} 67\n",
      "{'patz', 'Lenka Hýřová'} 1897\n",
      "{'Sběratel Banánů', 'Filip Zoula', 'Štěpán Chrast', 'Vincent Fournier', 'ɹəsՈ ʞooqəɔɐℲ', 'Jan Kotrč', 'Patrik Kabrna', 'Libor Krejcir'} 529\n",
      "{'patz', 'Martin Vrba'} 2170\n",
      "{'patz', 'Rezi Cibiková'} 140\n",
      "{'patz', 'Daníček Pondělíček'} 86\n",
      "set() 225\n",
      "{'patz', 'Vojta Větrovec'} 664\n",
      "{'patz', 'Martin McNickle'} 694\n",
      "{'patz', 'Fanda Mlejnský'} 78\n",
      "{'patz', 'Adam Dvořák'} 64\n",
      "{'Pomat 794', 'patz'} 351\n",
      "{'patz', 'Jirka Vrba'} 439\n",
      "{'patz', 'Adam Kobes'} 85\n",
      "{'patz', 'Sven Bernas'} 110\n",
      "{'Sběratel Banánů'} 2409\n",
      "{'Láďa Paur', 'patz', 'Filip Kastl', 'Vojta Kotiš'} 64\n",
      "{'patz', 'ɹəsՈ ʞooqəɔɐℲ'} 213\n",
      "{'Audra Brown', 'Jonathan Ogilvie', 'Yin Pui Lai', 'Lamine Diene', 'Vincent Fournier', 'ɹəsՈ ʞooqəɔɐℲ', 'Jakub Tichanek', 'Kaizo Sama', 'Jan Kotrč', 'Sběratel Banánů', 'Malcolm Diene'} 1411\n",
      "{'patz', 'Pomat Pomat'} 280\n",
      "{'patz', 'Adéla Karolína Žáčková'} 284\n"
     ]
    }
   ],
   "source": [
    "m = list(filter(lambda c: len(c) >= 64, m))\n",
    "print(len(m))\n",
    "for c in m:\n",
    "    print(c.participants, len(c))"
   ]
  },
  {
   "cell_type": "code",
   "execution_count": 11,
   "id": "17faa143-d15a-45df-a9da-7e39c5abdcb8",
   "metadata": {},
   "outputs": [
    {
     "name": "stdout",
     "output_type": "stream",
     "text": [
      "53\n",
      "{'patz', 'Adéla Karolína Žáčková'}\n",
      "{'Audra Brown', 'Jonathan Ogilvie', 'Yin Pui Lai', 'Lamine Diene', 'Vincent Fournier', 'ɹəsՈ ʞooqəɔɐℲ', 'Jakub Tichanek', 'Kaizo Sama', 'Jan Kotrč', 'Sběratel Banánů', 'Malcolm Diene'}\n",
      "{'patz', 'Sven Bernas'}\n",
      "{'patz', 'Adam Kobes'}\n",
      "{'patz', 'Jirka Vrba'}\n",
      "{'patz', 'Štěpán Hanzálek'}\n",
      "{'patz', 'Malcolm Diene'}\n"
     ]
    }
   ],
   "source": [
    "val_indices = [-1, -3, -7, -8, -9, -21, -34]\n",
    "train_indices = np.delete(np.arange(len(m)), val_indices)\n",
    "\n",
    "print(len(m))\n",
    "for i in val_indices:\n",
    "    print(m[i].participants)"
   ]
  },
  {
   "cell_type": "code",
   "execution_count": 36,
   "id": "c8842e7c-1271-4fc5-9b24-8435afb40b08",
   "metadata": {},
   "outputs": [],
   "source": [
    "import chatbot.dataset.messenger\n",
    "importlib.reload(chatbot.dataset.messenger)\n",
    "\n",
    "def predicate(content):\n",
    "    if content is None: return True\n",
    "    blacklist = ['ə', 'ɥ', 'ʇ', 'ʎ', 'ɹ', 'ƃ',\n",
    "                'se svymi geny? 0=ne',\n",
    "                'are you satisfied with ur genes?']\n",
    "    for b in blacklist:\n",
    "        if b in content: return False\n",
    "    return True\n",
    "\n",
    "m2 = [chatbot.dataset.messenger.filter_messages_by_content(c, predicate) for c in m]\n",
    "m2 = [chatbot.dataset.messenger.merge_adjacent_messages(c, 300) for c in m2]"
   ]
  },
  {
   "cell_type": "code",
   "execution_count": 37,
   "id": "20618d0d-fe92-4dcf-a805-108c252d2d95",
   "metadata": {},
   "outputs": [],
   "source": [
    "import chatbot.dataset.messenger\n",
    "importlib.reload(chatbot.dataset.messenger)\n",
    "\n",
    "special_tokens = {\n",
    "    'conversation_start': '[CSTART]',\n",
    "    'conversation_end': '[CEND]',\n",
    "    'message_start': '[MSTART]',\n",
    "    'message_end': '[MEND]',\n",
    "    'writes': '[WRITES]',\n",
    "}\n",
    "\n",
    "chatbot.dataset.messenger.generate_corpus('../data/train.txt', [m2[i] for i in train_indices], special_tokens)\n",
    "chatbot.dataset.messenger.generate_corpus('../data/val.txt', [m2[i] for i in val_indices], special_tokens)"
   ]
  },
  {
   "cell_type": "code",
   "execution_count": null,
   "id": "3870224c-5a4b-4675-b905-a456535cb1a3",
   "metadata": {},
   "outputs": [],
   "source": []
  }
 ],
 "metadata": {
  "kernelspec": {
   "display_name": "Python 3",
   "language": "python",
   "name": "python3"
  },
  "language_info": {
   "codemirror_mode": {
    "name": "ipython",
    "version": 3
   },
   "file_extension": ".py",
   "mimetype": "text/x-python",
   "name": "python",
   "nbconvert_exporter": "python",
   "pygments_lexer": "ipython3",
   "version": "3.11.4"
  }
 },
 "nbformat": 4,
 "nbformat_minor": 5
}
