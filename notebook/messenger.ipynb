{
 "cells": [
  {
   "cell_type": "code",
   "execution_count": 4,
   "id": "dc596781-0000-45a8-beff-2d4a70a4f26c",
   "metadata": {},
   "outputs": [],
   "source": [
    "import sys\n",
    "import importlib\n",
    "sys.path.insert(0, '../src/')"
   ]
  },
  {
   "cell_type": "code",
   "execution_count": 5,
   "id": "d0d43c15-f9d1-4081-8fa1-7723a517b2db",
   "metadata": {},
   "outputs": [],
   "source": [
    "import chatbot.dataset.messenger\n",
    "importlib.reload(chatbot.dataset.messenger)\n",
    "\n",
    "m = chatbot.dataset.messenger.load_conversations('/home/patz/Heap/messages/')"
   ]
  },
  {
   "cell_type": "code",
   "execution_count": 6,
   "id": "54b06a80-71c4-4620-a830-e452f30d6635",
   "metadata": {},
   "outputs": [],
   "source": [
    "for c in m:\n",
    "    c.rename('Patztablook TwentyTwo', 'patz')"
   ]
  },
  {
   "cell_type": "code",
   "execution_count": 11,
   "id": "c829e880-34a4-4581-a9a5-26f9a5cabec3",
   "metadata": {},
   "outputs": [
    {
     "name": "stdout",
     "output_type": "stream",
     "text": [
      "53\n",
      "{'Sigismund Häggkvist', 'Robin Stringer', 'patz', 'Martin McNickle', 'Rawen Dorfin'} 15750\n",
      "{'patz', 'Amélie Novotná'} 156\n",
      "{'patz', 'Ondřej Smolík'} 176\n",
      "{'patz', 'Alexander Terziev'} 4433\n",
      "{'Manka Roblíková', 'patz'} 745\n",
      "{'patz', 'Jan Zasadil'} 38947\n",
      "{'patz', 'Katie Alzbeta Brown'} 102\n",
      "{'Jan Vaniš', 'patz'} 407\n",
      "{'patz', 'Karel Loula', 'Katie Alzbeta Brown'} 183\n",
      "{'patz', 'Filip Kastl'} 6845\n",
      "{'Scanthning Brot', 'patz'} 407\n",
      "{'Malcolm Diene', 'Štěpán Chrast', 'Jakub Tichanek', 'Patrik Kabrna', 'Šimon Dutý', 'patz', 'Petr Hošek', 'Abudi  Shalabi', 'Adéla Gabesamová', 'Adam Vanĕček', 'Adam Dvořák', 'Alexander Terziev'} 283\n",
      "{'patz', 'Martina Zavoralová'} 88\n",
      "{'Scanthning Brot', 'patz'} 91926\n",
      "{'David Kaňovský', 'Anthony Hani', 'Jonas Kutil', 'Pomat 794', 'Štěpán Chrast', 'Jiří Podaný', 'Jakub Tichanek', 'Matěj Splavec', 'Amélie Novotná', 'patz', 'Vojta Větrovec', 'Kryštof Tahal', 'Sběratel Banánů', 'Scanthning Brot'} 3775\n",
      "{'Michal Zavoral', 'patz'} 500\n",
      "{'Sběratel Banánů', 'patz'} 72094\n",
      "{'patz'} 172\n",
      "{'patz', 'Roman Mikoláš'} 3142\n",
      "{'Malcolm Diene', 'patz'} 3018\n",
      "{'Tea Samouk', 'Matěj Renc', 'Adam Kobes', 'Jaromír Kadlčík', 'Dominik Švarc', 'Pája Holman', 'Vašek Belza', 'Ondřej Kunc', 'Štěpán Hanzálek', 'Přiznání EMka', 'Filip Jakub', 'Veronika Musílková', 'Klára Homolková', 'Soňa Feskova', 'Lukáš Nedbálek', 'Adéla Karolína Žáčková', 'Jocka Vidovičová', 'Jiří Hermann', 'Jan Zasadil', 'Petr Čaboun', 'Tomáš Zobal', 'Lucie Marečková', 'Adam Dvořák', 'Roman Mikoláš', 'Vašík Blackie Fencl', 'Klára Grinerová', 'Daníček Pondělíček', 'Fanda Mlejnský', 'Marťa Starýchfojtů', 'Jenda Nykrýn', 'patz', 'Kretus El Pablbo', 'Marek Honsnejman', 'Alexander Terziev'} 4691\n",
      "{'patz', 'Jaroslav Žukov'} 3364\n",
      "{'Anthony Hani', 'patz', 'ɹəsՈ ʞooqəɔɐℲ', 'Scanthning Brot'} 876\n",
      "{'patz', 'Robin Stringer'} 210\n",
      "{'patz'} 14844\n",
      "{'Jocka Vidovičová', 'Jan Zasadil', 'Petr Prajzler', 'Anetka Nguyenova', 'Tea Samouk', 'Aneta Vejmělková', 'Malcolm Diene', 'Vojta Větrovec', 'Ondra Marek', 'Marťa Starýchfojtů', 'Fanda Mlejnský', 'patz', 'Lukáš Nedbálek'} 189\n",
      "{'Petr Mácha', 'Jan Kladníček', 'Martin Vrba', 'Lukáš Vaňura', 'Justýna Nováková', 'Tomáš Brodský', 'Martin Hruška', 'Martin Coufal', 'Filip Jirků', 'Denis Vanin', 'Antonín Skal', 'Sběratel Banánů', 'Katie Mikšovská', 'Dominika Eklová', 'Kája Havlová', 'Pomat 794', 'Natálka Adamcová', 'Jiří Podaný', 'Václav Jaroš', 'Honza Pitra', 'Stanislav Abrt', 'Daniela Běhounková', 'Thu Huyền Trần', 'Jan Pokorný', 'ɹəsՈ ʞooqəɔɐℲ', 'Jindřiška Holová', 'Dan Kolář', 'Karin Moníková', 'Lucinka Pokorka'} 506\n",
      "{'patz', 'Vinicius Natan'} 69\n",
      "{'patz', 'Lukáš Nedbálek'} 65\n",
      "{'Sběratel Banánů', 'patz'} 271\n",
      "{'patz', 'Jakub Tichanek'} 142\n",
      "{'patz', 'Daniel Mahdal'} 88\n",
      "{'patz', 'Štěpán Hanzálek'} 67\n",
      "{'patz', 'Lenka Hýřová'} 1897\n",
      "{'Štěpán Chrast', 'Jan Kotrč', 'Patrik Kabrna', 'Filip Zoula', 'ɹəsՈ ʞooqəɔɐℲ', 'Libor Krejcir', 'Vincent Fournier', 'Sběratel Banánů'} 529\n",
      "{'Martin Vrba', 'patz'} 2170\n",
      "{'patz', 'Rezi Cibiková'} 140\n",
      "{'patz', 'Daníček Pondělíček'} 86\n",
      "set() 225\n",
      "{'patz', 'Vojta Větrovec'} 664\n",
      "{'patz', 'Martin McNickle'} 694\n",
      "{'Fanda Mlejnský', 'patz'} 78\n",
      "{'patz', 'Adam Dvořák'} 64\n",
      "{'patz', 'Pomat 794'} 351\n",
      "{'patz', 'Jirka Vrba'} 439\n",
      "{'Adam Kobes', 'patz'} 85\n",
      "{'Sven Bernas', 'patz'} 110\n",
      "{'Sběratel Banánů'} 2409\n",
      "{'Filip Kastl', 'Láďa Paur', 'Vojta Kotiš', 'patz'} 64\n",
      "{'patz', 'ɹəsՈ ʞooqəɔɐℲ'} 213\n",
      "{'Yin Pui Lai', 'Audra Brown', 'Lamine Diene', 'Malcolm Diene', 'Jakub Tichanek', 'Jan Kotrč', 'ɹəsՈ ʞooqəɔɐℲ', 'Vincent Fournier', 'Jonathan Ogilvie', 'Kaizo Sama', 'Sběratel Banánů'} 1411\n",
      "{'patz', 'Pomat Pomat'} 280\n",
      "{'patz', 'Adéla Karolína Žáčková'} 284\n"
     ]
    }
   ],
   "source": [
    "m = list(filter(lambda c: len(c) >= 64, m))\n",
    "print(len(m))\n",
    "for c in m:\n",
    "    print(c.participants, len(c))"
   ]
  },
  {
   "cell_type": "code",
   "execution_count": 29,
   "id": "17faa143-d15a-45df-a9da-7e39c5abdcb8",
   "metadata": {},
   "outputs": [
    {
     "name": "stdout",
     "output_type": "stream",
     "text": [
      "53\n",
      "{'patz', 'Adéla Karolína Žáčková'}\n",
      "{'Yin Pui Lai', 'Audra Brown', 'Lamine Diene', 'Malcolm Diene', 'Jakub Tichanek', 'Jan Kotrč', 'ɹəsՈ ʞooqəɔɐℲ', 'Vincent Fournier', 'Jonathan Ogilvie', 'Kaizo Sama', 'Sběratel Banánů'}\n",
      "{'Sven Bernas', 'patz'}\n",
      "{'Adam Kobes', 'patz'}\n",
      "{'patz', 'Jirka Vrba'}\n",
      "{'patz', 'Štěpán Hanzálek'}\n",
      "{'Malcolm Diene', 'patz'}\n"
     ]
    }
   ],
   "source": [
    "val_indices = [-1, -3, -7, -8, -9, -21, -34]\n",
    "train_indices = np.delete(np.arange(len(m)), val_indices)\n",
    "\n",
    "print(len(m))\n",
    "for i in val_indices:\n",
    "    print(m[i].participants)"
   ]
  },
  {
   "cell_type": "code",
   "execution_count": 31,
   "id": "20618d0d-fe92-4dcf-a805-108c252d2d95",
   "metadata": {},
   "outputs": [],
   "source": [
    "import chatbot.dataset.messenger\n",
    "importlib.reload(chatbot.dataset.messenger)\n",
    "\n",
    "special_tokens = {\n",
    "    'conversation_start': '[CSTART]',\n",
    "    'conversation_end': '[CEND]',\n",
    "    'message_start': '[MSTART]',\n",
    "    'message_end': '[MEND]',\n",
    "    'writes': '[WRITES]',\n",
    "}\n",
    "\n",
    "chatbot.dataset.messenger.generate_corpus('../data/train.txt', [m[i] for i in train_indices], special_tokens)\n",
    "chatbot.dataset.messenger.generate_corpus('../data/val.txt', [m[i] for i in val_indices], special_tokens)"
   ]
  }
 ],
 "metadata": {
  "kernelspec": {
   "display_name": "Python 3",
   "language": "python",
   "name": "python3"
  },
  "language_info": {
   "codemirror_mode": {
    "name": "ipython",
    "version": 3
   },
   "file_extension": ".py",
   "mimetype": "text/x-python",
   "name": "python",
   "nbconvert_exporter": "python",
   "pygments_lexer": "ipython3",
   "version": "3.11.4"
  }
 },
 "nbformat": 4,
 "nbformat_minor": 5
}
