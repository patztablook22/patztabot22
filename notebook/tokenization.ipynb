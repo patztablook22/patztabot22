{
 "cells": [
  {
   "cell_type": "code",
   "execution_count": 1,
   "id": "36b05408-5dc6-48fa-b0fc-43f5be1ed17f",
   "metadata": {},
   "outputs": [],
   "source": [
    "import sys, os\n",
    "import numpy as np\n",
    "import matplotlib.pyplot as plt\n",
    "import seaborn as sns\n",
    "import random\n",
    "import IPython\n",
    "\n",
    "sys.path += ['../src/', '../src/utils']"
   ]
  },
  {
   "cell_type": "code",
   "execution_count": 2,
   "id": "e2ef1a42-9abb-46e8-af62-9f2613106f16",
   "metadata": {},
   "outputs": [],
   "source": [
    "%load_ext autoreload\n",
    "%autoreload 1\n",
    "%aimport datasets\n",
    "%aimport general\n",
    "%aimport training"
   ]
  },
  {
   "cell_type": "code",
   "execution_count": 3,
   "id": "83b44a0a-eca4-42d1-8a3f-7d9907dce259",
   "metadata": {},
   "outputs": [],
   "source": [
    "from general import *"
   ]
  },
  {
   "cell_type": "code",
   "execution_count": 4,
   "id": "b6b3b4ef-f057-4230-b0fc-09303c349097",
   "metadata": {},
   "outputs": [],
   "source": [
    "actions_path = '../data/actions.pkl'\n",
    "\n",
    "import pickle\n",
    "with open(actions_path, 'rb') as f:\n",
    "    actions = pickle.load(f)"
   ]
  },
  {
   "cell_type": "code",
   "execution_count": 5,
   "id": "a23c7fff-d072-4f0e-b273-2474dbe4428a",
   "metadata": {},
   "outputs": [],
   "source": [
    "from transformers import GPT2Tokenizer, AutoTokenizer\n",
    "\n",
    "tokenizer = GPT2Tokenizer.from_pretrained('gpt2')\n",
    "# tokenizer = AutoTokenizer.from_pretrained(\"meta-llama/Llama-2-7b-hf\")\n",
    "tokenizer_name = 'gpt2'"
   ]
  },
  {
   "cell_type": "code",
   "execution_count": 6,
   "id": "8226bbb4-fa9a-4a16-ac3e-228335db73d7",
   "metadata": {},
   "outputs": [
    {
     "data": {
      "text/plain": [
       "[31373, 612, 12]"
      ]
     },
     "execution_count": 6,
     "metadata": {},
     "output_type": "execute_result"
    }
   ],
   "source": [
    "tokenizer('hello there').input_ids + [12]"
   ]
  },
  {
   "cell_type": "code",
   "execution_count": 7,
   "id": "362dca6b-e845-4be2-93be-fb383455ca3e",
   "metadata": {},
   "outputs": [
    {
     "name": "stdout",
     "output_type": "stream",
     "text": [
      "eos                  <|endoftext|>        50256\n",
      "goes                 <|goes|>             50257\n",
      "eoa                  <|endofaction|>      50258\n",
      "message              <|message|>          50259\n",
      "reaction             <|reaction|>         50260\n",
      "idle                 <|idle|>             50261\n",
      "attachment           <|attachment|>       50262\n"
     ]
    }
   ],
   "source": [
    "control_tokens = {'eos': tokenizer.eos_token} | datasets.CONTROL_TOKENS\n",
    "tokenizer.add_tokens([tok for k, tok in control_tokens.items() if k != 'eos'])\n",
    "\n",
    "for k, tok in control_tokens.items():\n",
    "    print(k.ljust(20), tok.ljust(20), tokenizer.encode(tok)[0])"
   ]
  },
  {
   "cell_type": "code",
   "execution_count": 8,
   "id": "d5cf1a17-bf24-4dd8-97de-a9cd52a8bcfb",
   "metadata": {},
   "outputs": [
    {
     "name": "stdout",
     "output_type": "stream",
     "text": [
      "[79, 50257, 50259, 9288]\n",
      "\n",
      "p\n",
      "p <|goes|>\n",
      "p <|goes|> <|message|>\n"
     ]
    }
   ],
   "source": [
    "ids = tokenizer('p<|goes|><|message|>test').input_ids\n",
    "print(ids)\n",
    "for i in range(len(ids)):\n",
    "    print(tokenizer.decode(ids[:i]))"
   ]
  },
  {
   "cell_type": "code",
   "execution_count": 20,
   "id": "62cb041a-75d9-4590-93c3-2d830e0e8dfd",
   "metadata": {},
   "outputs": [
    {
     "name": "stdout",
     "output_type": "stream",
     "text": [
      "eta 1335 s\n",
      "eta 656 s\n",
      "eta 326 s\n",
      "eta 162 s\n",
      "eta 77 s\n",
      "eta 37 s\n",
      "eta 17 s\n"
     ]
    }
   ],
   "source": [
    "tokenized = llmap(lambda a: datasets.tokenize_action(a, tokenizer, control_tokens), actions[:])"
   ]
  },
  {
   "cell_type": "code",
   "execution_count": 21,
   "id": "e70d9076-7eae-482d-9724-2cece9f739d3",
   "metadata": {},
   "outputs": [
    {
     "name": "stdout",
     "output_type": "stream",
     "text": [
      "Total tokens   14341751\n",
      "Non-masked tokens  6194936\n"
     ]
    }
   ],
   "source": [
    "def count_tokens(tokenized):\n",
    "    all = [t for tt in tokenized for t in tt]\n",
    "    total = 0\n",
    "    non_masked = 0\n",
    "    \n",
    "    for tok in all:\n",
    "        ids, mask = tok['ids'], tok['mask']\n",
    "        total += len(ids)\n",
    "        non_masked += len(ids[~mask])\n",
    "\n",
    "    print('Total tokens  ', total)\n",
    "    print('Non-masked tokens ', non_masked)\n",
    "\n",
    "count_tokens(tokenized)"
   ]
  },
  {
   "cell_type": "code",
   "execution_count": 22,
   "id": "abf06c53-cf48-4b5a-a86d-9a52b1f5bc37",
   "metadata": {},
   "outputs": [
    {
     "data": {
      "text/plain": [
       "{'ids': array([   79, 50257, 50259,  5450,  1378, 15410,   585,    13,  1130,\n",
       "           14,    21,   365,    84, 10917, 50258]),\n",
       " 'mask': array([False, False, False,  True,  True,  True,  True,  True,  True,\n",
       "         True,  True,  True,  True,  True, False])}"
      ]
     },
     "execution_count": 22,
     "metadata": {},
     "output_type": "execute_result"
    }
   ],
   "source": [
    "i = 3\n",
    "# j = np.random.choice(len(actions[i]))\n",
    "j = 32\n",
    "a = actions[i][j]\n",
    "datasets.tokenize_action(a, tokenizer)"
   ]
  },
  {
   "cell_type": "code",
   "execution_count": 31,
   "id": "a60c7b07-b342-45fd-ace2-da74c5e1086c",
   "metadata": {},
   "outputs": [
    {
     "data": {
      "text/html": [
       "<pre style=\"color: grey; white-space: pre; width: 100%\"><span style=\"color: white\"><|message|>jedu do prahy<|endofaction|><|endoftext|></pre>"
      ],
      "text/plain": [
       "<IPython.core.display.HTML object>"
      ]
     },
     "metadata": {},
     "output_type": "display_data"
    },
    {
     "data": {
      "text/html": [
       "<code>        ids 50259 73 15532 466 7201 12114 50258 50256</code>"
      ],
      "text/plain": [
       "<IPython.core.display.HTML object>"
      ]
     },
     "metadata": {},
     "output_type": "display_data"
    },
    {
     "data": {
      "text/html": [
       "<code>       mask                                          </code>"
      ],
      "text/plain": [
       "<IPython.core.display.HTML object>"
      ]
     },
     "metadata": {},
     "output_type": "display_data"
    },
    {
     "name": "stdout",
     "output_type": "stream",
     "text": [
      "\n",
      "\n",
      "\n"
     ]
    },
    {
     "data": {
      "text/html": [
       "<pre style=\"color: grey; white-space: pre; width: 100%\">jessica<|goes|><|message|>Ok<|endofaction|></pre>"
      ],
      "text/plain": [
       "<IPython.core.display.HTML object>"
      ]
     },
     "metadata": {},
     "output_type": "display_data"
    },
    {
     "data": {
      "text/html": [
       "<code>        ids 73 408 3970 50257 50259 18690 50258</code>"
      ],
      "text/plain": [
       "<IPython.core.display.HTML object>"
      ]
     },
     "metadata": {},
     "output_type": "display_data"
    },
    {
     "data": {
      "text/html": [
       "<code>       mask ^^ ^^^ ^^^^ ^^^^^ ^^^^^ ^^^^^ ^^^^^</code>"
      ],
      "text/plain": [
       "<IPython.core.display.HTML object>"
      ]
     },
     "metadata": {},
     "output_type": "display_data"
    },
    {
     "name": "stdout",
     "output_type": "stream",
     "text": [
      "\n",
      "\n",
      "\n"
     ]
    },
    {
     "data": {
      "text/html": [
       "<pre style=\"color: grey; white-space: pre; width: 100%\"><span style=\"color: white\">p<|goes|><|idle|><|endofaction|><|endoftext|></pre>"
      ],
      "text/plain": [
       "<IPython.core.display.HTML object>"
      ]
     },
     "metadata": {},
     "output_type": "display_data"
    },
    {
     "data": {
      "text/html": [
       "<code>        ids 79 50257 50261 50258 50256</code>"
      ],
      "text/plain": [
       "<IPython.core.display.HTML object>"
      ]
     },
     "metadata": {},
     "output_type": "display_data"
    },
    {
     "data": {
      "text/html": [
       "<code>       mask                           </code>"
      ],
      "text/plain": [
       "<IPython.core.display.HTML object>"
      ]
     },
     "metadata": {},
     "output_type": "display_data"
    },
    {
     "name": "stdout",
     "output_type": "stream",
     "text": [
      "\n",
      "\n",
      "\n"
     ]
    },
    {
     "data": {
      "text/html": [
       "<pre style=\"color: grey; white-space: pre; width: 100%\">jessica<|goes|><|message|>Tak to neřeš<|endofaction|></pre>"
      ],
      "text/plain": [
       "<IPython.core.display.HTML object>"
      ]
     },
     "metadata": {},
     "output_type": "display_data"
    },
    {
     "data": {
      "text/html": [
       "<code>        ids 73 408 3970 50257 50259 51 461 284 497 129 247 68 32790 50258</code>"
      ],
      "text/plain": [
       "<IPython.core.display.HTML object>"
      ]
     },
     "metadata": {},
     "output_type": "display_data"
    },
    {
     "data": {
      "text/html": [
       "<code>       mask ^^ ^^^ ^^^^ ^^^^^ ^^^^^ ^^ ^^^ ^^^ ^^^ ^^^ ^^^ ^^ ^^^^^ ^^^^^</code>"
      ],
      "text/plain": [
       "<IPython.core.display.HTML object>"
      ]
     },
     "metadata": {},
     "output_type": "display_data"
    },
    {
     "name": "stdout",
     "output_type": "stream",
     "text": [
      "\n",
      "\n",
      "\n"
     ]
    },
    {
     "data": {
      "text/html": [
       "<pre style=\"color: grey; white-space: pre; width: 100%\"><span style=\"color: white\">p<|goes|><|idle|><|endofaction|><|endoftext|></pre>"
      ],
      "text/plain": [
       "<IPython.core.display.HTML object>"
      ]
     },
     "metadata": {},
     "output_type": "display_data"
    },
    {
     "data": {
      "text/html": [
       "<code>        ids 79 50257 50261 50258 50256</code>"
      ],
      "text/plain": [
       "<IPython.core.display.HTML object>"
      ]
     },
     "metadata": {},
     "output_type": "display_data"
    },
    {
     "data": {
      "text/html": [
       "<code>       mask                           </code>"
      ],
      "text/plain": [
       "<IPython.core.display.HTML object>"
      ]
     },
     "metadata": {},
     "output_type": "display_data"
    },
    {
     "name": "stdout",
     "output_type": "stream",
     "text": [
      "\n",
      "\n",
      "\n"
     ]
    },
    {
     "data": {
      "text/html": [
       "<pre style=\"color: grey; white-space: pre; width: 100%\">jessica<|goes|><|attachment|>unknown.png<|endofaction|></pre>"
      ],
      "text/plain": [
       "<IPython.core.display.HTML object>"
      ]
     },
     "metadata": {},
     "output_type": "display_data"
    },
    {
     "data": {
      "text/html": [
       "<code>        ids 73 408 3970 50257 50262 34680 13 11134 50258</code>"
      ],
      "text/plain": [
       "<IPython.core.display.HTML object>"
      ]
     },
     "metadata": {},
     "output_type": "display_data"
    },
    {
     "data": {
      "text/html": [
       "<code>       mask ^^ ^^^ ^^^^ ^^^^^ ^^^^^ ^^^^^ ^^ ^^^^^ ^^^^^</code>"
      ],
      "text/plain": [
       "<IPython.core.display.HTML object>"
      ]
     },
     "metadata": {},
     "output_type": "display_data"
    },
    {
     "name": "stdout",
     "output_type": "stream",
     "text": [
      "\n",
      "\n",
      "\n"
     ]
    },
    {
     "data": {
      "text/html": [
       "<pre style=\"color: grey; white-space: pre; width: 100%\"><span style=\"color: white\">p<|goes|><|reaction|>❤️<|endofaction|></pre>"
      ],
      "text/plain": [
       "<IPython.core.display.HTML object>"
      ]
     },
     "metadata": {},
     "output_type": "display_data"
    },
    {
     "data": {
      "text/html": [
       "<code>        ids 79 50257 50260 32391 97 37929 50258</code>"
      ],
      "text/plain": [
       "<IPython.core.display.HTML object>"
      ]
     },
     "metadata": {},
     "output_type": "display_data"
    },
    {
     "data": {
      "text/html": [
       "<code>       mask                                    </code>"
      ],
      "text/plain": [
       "<IPython.core.display.HTML object>"
      ]
     },
     "metadata": {},
     "output_type": "display_data"
    },
    {
     "name": "stdout",
     "output_type": "stream",
     "text": [
      "\n",
      "\n",
      "\n"
     ]
    },
    {
     "data": {
      "text/html": [
       "<pre style=\"color: grey; white-space: pre; width: 100%\"><span style=\"color: white\"><|message|>ok<|endofaction|><|endoftext|></pre>"
      ],
      "text/plain": [
       "<IPython.core.display.HTML object>"
      ]
     },
     "metadata": {},
     "output_type": "display_data"
    },
    {
     "data": {
      "text/html": [
       "<code>        ids 50259 482 50258 50256</code>"
      ],
      "text/plain": [
       "<IPython.core.display.HTML object>"
      ]
     },
     "metadata": {},
     "output_type": "display_data"
    },
    {
     "data": {
      "text/html": [
       "<code>       mask                      </code>"
      ],
      "text/plain": [
       "<IPython.core.display.HTML object>"
      ]
     },
     "metadata": {},
     "output_type": "display_data"
    },
    {
     "name": "stdout",
     "output_type": "stream",
     "text": [
      "\n",
      "\n",
      "\n"
     ]
    },
    {
     "data": {
      "text/html": [
       "<pre style=\"color: grey; white-space: pre; width: 100%\">jessica<|goes|><|message|>Byl jenom takovej prank<|endofaction|></pre>"
      ],
      "text/plain": [
       "<IPython.core.display.HTML object>"
      ]
     },
     "metadata": {},
     "output_type": "display_data"
    },
    {
     "data": {
      "text/html": [
       "<code>        ids 73 408 3970 50257 50259 33 2645 474 268 296 256 461 659 73 33401 50258</code>"
      ],
      "text/plain": [
       "<IPython.core.display.HTML object>"
      ]
     },
     "metadata": {},
     "output_type": "display_data"
    },
    {
     "data": {
      "text/html": [
       "<code>       mask ^^ ^^^ ^^^^ ^^^^^ ^^^^^ ^^ ^^^^ ^^^ ^^^ ^^^ ^^^ ^^^ ^^^ ^^ ^^^^^ ^^^^^</code>"
      ],
      "text/plain": [
       "<IPython.core.display.HTML object>"
      ]
     },
     "metadata": {},
     "output_type": "display_data"
    },
    {
     "name": "stdout",
     "output_type": "stream",
     "text": [
      "\n",
      "\n",
      "\n"
     ]
    },
    {
     "data": {
      "text/html": [
       "<pre style=\"color: grey; white-space: pre; width: 100%\"><span style=\"color: white\">p<|goes|><|message|>yo<|endofaction|></pre>"
      ],
      "text/plain": [
       "<IPython.core.display.HTML object>"
      ]
     },
     "metadata": {},
     "output_type": "display_data"
    },
    {
     "data": {
      "text/html": [
       "<code>        ids 79 50257 50259 8226 50258</code>"
      ],
      "text/plain": [
       "<IPython.core.display.HTML object>"
      ]
     },
     "metadata": {},
     "output_type": "display_data"
    },
    {
     "data": {
      "text/html": [
       "<code>       mask                          </code>"
      ],
      "text/plain": [
       "<IPython.core.display.HTML object>"
      ]
     },
     "metadata": {},
     "output_type": "display_data"
    },
    {
     "name": "stdout",
     "output_type": "stream",
     "text": [
      "\n",
      "\n",
      "\n"
     ]
    },
    {
     "data": {
      "text/html": [
       "<pre style=\"color: grey; white-space: pre; width: 100%\"><span style=\"color: white\"><|message|>20.5. vecer poadame s jazzovou kapelou *mensi* koncert<|endofaction|></pre>"
      ],
      "text/plain": [
       "<IPython.core.display.HTML object>"
      ]
     },
     "metadata": {},
     "output_type": "display_data"
    },
    {
     "data": {
      "text/html": [
       "<code>        ids 50259 1238 13 20 13 1569 2189 745 324 480 264 21274 709 280 479 499 417 280 1635 45535 72 9 479 261 22583 50258</code>"
      ],
      "text/plain": [
       "<IPython.core.display.HTML object>"
      ]
     },
     "metadata": {},
     "output_type": "display_data"
    },
    {
     "data": {
      "text/html": [
       "<code>       mask                                                                                                                </code>"
      ],
      "text/plain": [
       "<IPython.core.display.HTML object>"
      ]
     },
     "metadata": {},
     "output_type": "display_data"
    },
    {
     "name": "stdout",
     "output_type": "stream",
     "text": [
      "\n",
      "\n",
      "\n"
     ]
    },
    {
     "data": {
      "text/html": [
       "<pre style=\"color: grey; white-space: pre; width: 100%\"><span style=\"color: white\"><|message|>probs na kajetance (kolej mff)<|endofaction|></pre>"
      ],
      "text/plain": [
       "<IPython.core.display.HTML object>"
      ]
     },
     "metadata": {},
     "output_type": "display_data"
    },
    {
     "data": {
      "text/html": [
       "<code>        ids 50259 1676 1443 12385 479 1228 316 590 357 74 2305 73 285 487 8 50258</code>"
      ],
      "text/plain": [
       "<IPython.core.display.HTML object>"
      ]
     },
     "metadata": {},
     "output_type": "display_data"
    },
    {
     "data": {
      "text/html": [
       "<code>       mask                                                                      </code>"
      ],
      "text/plain": [
       "<IPython.core.display.HTML object>"
      ]
     },
     "metadata": {},
     "output_type": "display_data"
    },
    {
     "name": "stdout",
     "output_type": "stream",
     "text": [
      "\n",
      "\n",
      "\n"
     ]
    },
    {
     "data": {
      "text/html": [
       "<pre style=\"color: grey; white-space: pre; width: 100%\"><span style=\"color: white\"><|message|>tak kdybys mel cas a chtelo se ti, jsi zvanej nebo whatever \\:D<|endofaction|></pre>"
      ],
      "text/plain": [
       "<IPython.core.display.HTML object>"
      ]
     },
     "metadata": {},
     "output_type": "display_data"
    },
    {
     "data": {
      "text/html": [
       "<code>        ids 50259 83 461 479 9892 48209 7758 6124 257 442 83 22126 384 46668 11 474 13396 1976 85 1531 73 497 2127 4232 3467 25 35 50258</code>"
      ],
      "text/plain": [
       "<IPython.core.display.HTML object>"
      ]
     },
     "metadata": {},
     "output_type": "display_data"
    },
    {
     "data": {
      "text/html": [
       "<code>       mask                                                                                                                             </code>"
      ],
      "text/plain": [
       "<IPython.core.display.HTML object>"
      ]
     },
     "metadata": {},
     "output_type": "display_data"
    },
    {
     "name": "stdout",
     "output_type": "stream",
     "text": [
      "\n",
      "\n",
      "\n"
     ]
    },
    {
     "data": {
      "text/html": [
       "<pre style=\"color: grey; white-space: pre; width: 100%\"><span style=\"color: white\"><|message|>neni to na dlouho<|endofaction|></pre>"
      ],
      "text/plain": [
       "<IPython.core.display.HTML object>"
      ]
     },
     "metadata": {},
     "output_type": "display_data"
    },
    {
     "data": {
      "text/html": [
       "<code>        ids 50259 38572 72 284 12385 288 75 280 8873 50258</code>"
      ],
      "text/plain": [
       "<IPython.core.display.HTML object>"
      ]
     },
     "metadata": {},
     "output_type": "display_data"
    },
    {
     "data": {
      "text/html": [
       "<code>       mask                                               </code>"
      ],
      "text/plain": [
       "<IPython.core.display.HTML object>"
      ]
     },
     "metadata": {},
     "output_type": "display_data"
    },
    {
     "name": "stdout",
     "output_type": "stream",
     "text": [
      "\n",
      "\n",
      "\n"
     ]
    },
    {
     "data": {
      "text/html": [
       "<pre style=\"color: grey; white-space: pre; width: 100%\"><span style=\"color: white\"><|message|>realne budem hrat jen nekolik skladeb<|endofaction|></pre>"
      ],
      "text/plain": [
       "<IPython.core.display.HTML object>"
      ]
     },
     "metadata": {},
     "output_type": "display_data"
    },
    {
     "data": {
      "text/html": [
       "<code>        ids 50259 5305 710 3600 368 289 10366 474 268 497 74 349 1134 1341 75 671 65 50258</code>"
      ],
      "text/plain": [
       "<IPython.core.display.HTML object>"
      ]
     },
     "metadata": {},
     "output_type": "display_data"
    },
    {
     "data": {
      "text/html": [
       "<code>       mask                                                                               </code>"
      ],
      "text/plain": [
       "<IPython.core.display.HTML object>"
      ]
     },
     "metadata": {},
     "output_type": "display_data"
    },
    {
     "name": "stdout",
     "output_type": "stream",
     "text": [
      "\n",
      "\n",
      "\n"
     ]
    },
    {
     "data": {
      "text/html": [
       "<pre style=\"color: grey; white-space: pre; width: 100%\"><span style=\"color: white\"><|message|>delka se bude pak odvijet hodne od toho, kolik budeme mit napadu v improvizacnich sekcich<|endofaction|><|endoftext|></pre>"
      ],
      "text/plain": [
       "<IPython.core.display.HTML object>"
      ]
     },
     "metadata": {},
     "output_type": "display_data"
    },
    {
     "data": {
      "text/html": [
       "<code>        ids 50259 12381 4914 384 275 2507 279 461 16298 85 2926 316 289 375 710 16298 284 8873 11 479 349 1134 3600 34755 10255 25422 324 84 410 37080 528 330 77 488 384 74 66 488 50258 50256</code>"
      ],
      "text/plain": [
       "<IPython.core.display.HTML object>"
      ]
     },
     "metadata": {},
     "output_type": "display_data"
    },
    {
     "data": {
      "text/html": [
       "<code>       mask                                                                                                                                                                                    </code>"
      ],
      "text/plain": [
       "<IPython.core.display.HTML object>"
      ]
     },
     "metadata": {},
     "output_type": "display_data"
    },
    {
     "name": "stdout",
     "output_type": "stream",
     "text": [
      "\n",
      "\n",
      "\n"
     ]
    },
    {
     "data": {
      "text/html": [
       "<pre style=\"color: grey; white-space: pre; width: 100%\"><span style=\"color: white\">p<|goes|><|message|>pak bychom mohlo na pivec treba<|endofaction|><|endoftext|></pre>"
      ],
      "text/plain": [
       "<IPython.core.display.HTML object>"
      ]
     },
     "metadata": {},
     "output_type": "display_data"
    },
    {
     "data": {
      "text/html": [
       "<code>        ids 79 50257 50259 41091 416 354 296 285 1219 5439 12385 279 425 66 2054 7012 50258 50256</code>"
      ],
      "text/plain": [
       "<IPython.core.display.HTML object>"
      ]
     },
     "metadata": {},
     "output_type": "display_data"
    },
    {
     "data": {
      "text/html": [
       "<code>       mask                                                                                      </code>"
      ],
      "text/plain": [
       "<IPython.core.display.HTML object>"
      ]
     },
     "metadata": {},
     "output_type": "display_data"
    },
    {
     "name": "stdout",
     "output_type": "stream",
     "text": [
      "\n",
      "\n",
      "\n"
     ]
    },
    {
     "data": {
      "text/html": [
       "<pre style=\"color: grey; white-space: pre; width: 100%\">jessica<|goes|><|message|>Napíšu si to do kalendáře<|endofaction|></pre>"
      ],
      "text/plain": [
       "<IPython.core.display.HTML object>"
      ]
     },
     "metadata": {},
     "output_type": "display_data"
    },
    {
     "data": {
      "text/html": [
       "<code>        ids 73 408 3970 50257 50259 49799 8836 32790 84 33721 284 466 479 282 437 6557 129 247 68 50258</code>"
      ],
      "text/plain": [
       "<IPython.core.display.HTML object>"
      ]
     },
     "metadata": {},
     "output_type": "display_data"
    },
    {
     "data": {
      "text/html": [
       "<code>       mask ^^ ^^^ ^^^^ ^^^^^ ^^^^^ ^^^^^ ^^^^ ^^^^^ ^^ ^^^^^ ^^^ ^^^ ^^^ ^^^ ^^^ ^^^^ ^^^ ^^^ ^^ ^^^^^</code>"
      ],
      "text/plain": [
       "<IPython.core.display.HTML object>"
      ]
     },
     "metadata": {},
     "output_type": "display_data"
    },
    {
     "name": "stdout",
     "output_type": "stream",
     "text": [
      "\n",
      "\n",
      "\n"
     ]
    },
    {
     "data": {
      "text/html": [
       "<pre style=\"color: grey; white-space: pre; width: 100%\"><span style=\"color: white\">p<|goes|><|idle|><|endofaction|><|endoftext|></pre>"
      ],
      "text/plain": [
       "<IPython.core.display.HTML object>"
      ]
     },
     "metadata": {},
     "output_type": "display_data"
    },
    {
     "data": {
      "text/html": [
       "<code>        ids 79 50257 50261 50258 50256</code>"
      ],
      "text/plain": [
       "<IPython.core.display.HTML object>"
      ]
     },
     "metadata": {},
     "output_type": "display_data"
    },
    {
     "data": {
      "text/html": [
       "<code>       mask                           </code>"
      ],
      "text/plain": [
       "<IPython.core.display.HTML object>"
      ]
     },
     "metadata": {},
     "output_type": "display_data"
    },
    {
     "name": "stdout",
     "output_type": "stream",
     "text": [
      "\n",
      "\n",
      "\n"
     ]
    },
    {
     "data": {
      "text/html": [
       "<pre style=\"color: grey; white-space: pre; width: 100%\">jessica<|goes|><|message|>Mám tam nějak zrovna zkoušky, ale 20. 5. bych snad měl mít čas<|endofaction|></pre>"
      ],
      "text/plain": [
       "<IPython.core.display.HTML object>"
      ]
     },
     "metadata": {},
     "output_type": "display_data"
    },
    {
     "data": {
      "text/html": [
       "<code>        ids 73 408 3970 50257 50259 44 6557 76 21885 299 128 249 73 461 1976 18657 2616 1976 74 280 32790 2584 11 31341 1160 13 642 13 416 354 3013 324 285 128 249 75 285 8836 83 34754 235 292 50258</code>"
      ],
      "text/plain": [
       "<IPython.core.display.HTML object>"
      ]
     },
     "metadata": {},
     "output_type": "display_data"
    },
    {
     "data": {
      "text/html": [
       "<code>       mask ^^ ^^^ ^^^^ ^^^^^ ^^^^^ ^^ ^^^^ ^^ ^^^^^ ^^^ ^^^ ^^^ ^^ ^^^ ^^^^ ^^^^^ ^^^^ ^^^^ ^^ ^^^ ^^^^^ ^^^^ ^^ ^^^^^ ^^^^ ^^ ^^^ ^^ ^^^ ^^^ ^^^^ ^^^ ^^^ ^^^ ^^^ ^^ ^^^ ^^^^ ^^ ^^^^^ ^^^ ^^^ ^^^^^</code>"
      ],
      "text/plain": [
       "<IPython.core.display.HTML object>"
      ]
     },
     "metadata": {},
     "output_type": "display_data"
    },
    {
     "name": "stdout",
     "output_type": "stream",
     "text": [
      "\n",
      "\n",
      "\n"
     ]
    }
   ],
   "source": [
    "i = 3\n",
    "j = np.random.choice(len(actions[i]))\n",
    "# j = 30\n",
    "for a, t in zip(actions[i][j:j+20], tokenized[i][j:j+20]):\n",
    "    s1, m1 = datasets.action_to_string(a, return_mask=True, control_tokens=control_tokens)\n",
    "    # print(s1, end='')\n",
    "    # continue\n",
    "    datasets.view_masked(s1, m1)\n",
    "    sbuf = list(map(str, t['ids']))\n",
    "    display(IPython.display.HTML(f\"\"\"<code>        ids {' '.join(sbuf)}</code>\"\"\"))\n",
    "    display(IPython.display.HTML(f\"\"\"<code>       mask {' '.join([('^'if m else ' ') * len(s) for m, s in zip(t['mask'], sbuf)])}</code>\"\"\"))\n",
    "    print('\\n'*2)"
   ]
  },
  {
   "cell_type": "code",
   "execution_count": 32,
   "id": "1a40efa3-db73-454e-88f7-f7c31924b6d7",
   "metadata": {},
   "outputs": [],
   "source": [
    "tokenized_path = f\"../data/tokenized-{tokenizer_name}.pkl\"\n",
    "\n",
    "import pickle\n",
    "with open(tokenized_path, 'wb') as f:\n",
    "    pickle.dump(tokenized, f)"
   ]
  },
  {
   "cell_type": "code",
   "execution_count": null,
   "id": "2ef2aec2-701d-41c9-9e3d-b7aa2c46d121",
   "metadata": {},
   "outputs": [],
   "source": []
  }
 ],
 "metadata": {
  "kernelspec": {
   "display_name": "Python 3 (ipykernel)",
   "language": "python",
   "name": "python3"
  },
  "language_info": {
   "codemirror_mode": {
    "name": "ipython",
    "version": 3
   },
   "file_extension": ".py",
   "mimetype": "text/x-python",
   "name": "python",
   "nbconvert_exporter": "python",
   "pygments_lexer": "ipython3",
   "version": "3.12.2"
  }
 },
 "nbformat": 4,
 "nbformat_minor": 5
}
